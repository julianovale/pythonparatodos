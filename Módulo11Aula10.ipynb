{
  "nbformat": 4,
  "nbformat_minor": 0,
  "metadata": {
    "colab": {
      "name": "Módulo11Aula10.ipynb",
      "provenance": [],
      "collapsed_sections": [],
      "authorship_tag": "ABX9TyPn9dhPpV4z+pF4RbKsDHBd",
      "include_colab_link": true
    },
    "kernelspec": {
      "name": "python3",
      "display_name": "Python 3"
    }
  },
  "cells": [
    {
      "cell_type": "markdown",
      "metadata": {
        "id": "view-in-github",
        "colab_type": "text"
      },
      "source": [
        "<a href=\"https://colab.research.google.com/github/julianovale/pythonparatodos/blob/main/M%C3%B3dulo11Aula10.ipynb\" target=\"_parent\"><img src=\"https://colab.research.google.com/assets/colab-badge.svg\" alt=\"Open In Colab\"/></a>"
      ]
    },
    {
      "cell_type": "code",
      "metadata": {
        "id": "5M-DP1n-il83"
      },
      "source": [
        "import sqlite3"
      ],
      "execution_count": 6,
      "outputs": []
    },
    {
      "cell_type": "code",
      "metadata": {
        "id": "s0oNJEfgirHX"
      },
      "source": [
        "def create_table(dbname):\r\n",
        "  conn = sqlite3.connect(dbname)\r\n",
        "  cur = conn.cursor()\r\n",
        "  cur.execute(\"CREATE TABLE IF NOT EXISTS store(item TEXT, quantity INTEGER, price REAL)\")\r\n",
        "  conn.commit()\r\n",
        "  conn.close()\r\n",
        "\r\n",
        "def view(dbname,tabname):\r\n",
        "  conn = sqlite3.connect(dbname)\r\n",
        "  cur = conn.cursor()\r\n",
        "  command = \"SELECT * FROM \"+tabname\r\n",
        "  cur.execute(command)\r\n",
        "  rows = cur.fetchall()\r\n",
        "  conn.close()\r\n",
        "  return rows\r\n",
        "\r\n",
        "def insert(dbname, tabname, item, quantity, price):\r\n",
        "  conn = sqlite3.connect(dbname)\r\n",
        "  cur = conn.cursor()\r\n",
        "  command = \"INSERT INTO \"+tabname+\" VALUES(?,?,?)\"\r\n",
        "  cur.execute(command,(item, quantity, price))\r\n",
        "  conn.commit()\r\n",
        "  conn.close()"
      ],
      "execution_count": 7,
      "outputs": []
    },
    {
      "cell_type": "code",
      "metadata": {
        "colab": {
          "base_uri": "https://localhost:8080/"
        },
        "id": "zuvJiOGrkHCt",
        "outputId": "ff72208e-ff77-4f12-9f00-e9554688f2f7"
      },
      "source": [
        "create_table(\"lite2.db\")\r\n",
        "insert(\"lite2.db\",\"store\",\"Wine Glass\", 10, 5)\r\n",
        "print(view(\"lite2.db\",\"store\"))"
      ],
      "execution_count": 8,
      "outputs": [
        {
          "output_type": "stream",
          "text": [
            "[('Wine Glass', 10, 5.0)]\n"
          ],
          "name": "stdout"
        }
      ]
    },
    {
      "cell_type": "code",
      "metadata": {
        "colab": {
          "base_uri": "https://localhost:8080/"
        },
        "id": "dulZrVDgn2SK",
        "outputId": "1188bc82-dcfa-4618-a8c2-9379caf635db"
      },
      "source": [
        "!pwd\r\n",
        "!ls"
      ],
      "execution_count": 10,
      "outputs": [
        {
          "output_type": "stream",
          "text": [
            "/content\n",
            "lite2.db  sample_data\n"
          ],
          "name": "stdout"
        }
      ]
    }
  ]
}