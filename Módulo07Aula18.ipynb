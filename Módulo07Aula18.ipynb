{
  "nbformat": 4,
  "nbformat_minor": 0,
  "metadata": {
    "colab": {
      "name": "Módulo07Aula18.ipynb",
      "provenance": [],
      "authorship_tag": "ABX9TyN39MY8ydAF0gY37v+dAzM1",
      "include_colab_link": true
    },
    "kernelspec": {
      "name": "python3",
      "display_name": "Python 3"
    }
  },
  "cells": [
    {
      "cell_type": "markdown",
      "metadata": {
        "id": "view-in-github",
        "colab_type": "text"
      },
      "source": [
        "<a href=\"https://colab.research.google.com/github/julianovale/pythonparatodos/blob/main/M%C3%B3dulo07Aula18.ipynb\" target=\"_parent\"><img src=\"https://colab.research.google.com/assets/colab-badge.svg\" alt=\"Open In Colab\"/></a>"
      ]
    },
    {
      "cell_type": "code",
      "metadata": {
        "id": "sYEPgHtm_aRh"
      },
      "source": [
        "def verif_seq(seq1,seq2):\r\n",
        "  status = True\r\n",
        "  for xi, yi in zip(seq1,seq2):\r\n",
        "    if (xi != yi):\r\n",
        "      status = False\r\n",
        "      break\r\n",
        "  return status"
      ],
      "execution_count": 1,
      "outputs": []
    },
    {
      "cell_type": "code",
      "metadata": {
        "colab": {
          "base_uri": "https://localhost:8080/"
        },
        "id": "gF14DHo1_f2Y",
        "outputId": "988175b1-a7f7-4398-c4ae-5dfb5d8babc1"
      },
      "source": [
        "s1 = ['a', 'g', 't', 'c']\r\n",
        "s2 = ['a', 'g', 't', 'c']\r\n",
        "s3 = ['a', 'g', 't', 'a']\r\n",
        "s = verif_seq(s1,s2)\r\n",
        "print(\"Seq s1 é igual a Seq s2: {0:b}\".format(s))\r\n",
        "s = verif_seq(s1,s3)\r\n",
        "print(\"Seq s1 é igual a Seq s2: {0:b}\".format(s))"
      ],
      "execution_count": 3,
      "outputs": [
        {
          "output_type": "stream",
          "text": [
            "Seq s1 é igual a Seq s2: 1\n",
            "Seq s1 é igual a Seq s2: 0\n"
          ],
          "name": "stdout"
        }
      ]
    }
  ]
}