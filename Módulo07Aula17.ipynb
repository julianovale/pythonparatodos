{
  "nbformat": 4,
  "nbformat_minor": 0,
  "metadata": {
    "colab": {
      "name": "Módulo07Aula17.ipynb",
      "provenance": [],
      "collapsed_sections": [],
      "authorship_tag": "ABX9TyN46ssCbD/A53IMPnI7LyQP",
      "include_colab_link": true
    },
    "kernelspec": {
      "name": "python3",
      "display_name": "Python 3"
    }
  },
  "cells": [
    {
      "cell_type": "markdown",
      "metadata": {
        "id": "view-in-github",
        "colab_type": "text"
      },
      "source": [
        "<a href=\"https://colab.research.google.com/github/julianovale/pythonparatodos/blob/main/M%C3%B3dulo07Aula17.ipynb\" target=\"_parent\"><img src=\"https://colab.research.google.com/assets/colab-badge.svg\" alt=\"Open In Colab\"/></a>"
      ]
    },
    {
      "cell_type": "code",
      "metadata": {
        "id": "JpjbOH_i9jUY"
      },
      "source": [
        "def ocorrencia_lista(lista1,elemen):\r\n",
        "  soma = 0\r\n",
        "  for xi in lista1:\r\n",
        "    if (elemen == xi):\r\n",
        "      soma += 1\r\n",
        "  return soma"
      ],
      "execution_count": 1,
      "outputs": []
    },
    {
      "cell_type": "code",
      "metadata": {
        "colab": {
          "base_uri": "https://localhost:8080/"
        },
        "id": "KeZuT6vX9sm4",
        "outputId": "33a8910f-f5df-4ea4-8acd-befaee090e92"
      },
      "source": [
        "l1 = ['g','t','a','c','t','g','c']\r\n",
        "e = 'a'\r\n",
        "print(l1)\r\n",
        "total = ocorrencia_lista(l1, e)\r\n",
        "print('Número de ocorrências de \\'{0:s}\\' é: {1:d}'.format(e, total))"
      ],
      "execution_count": 4,
      "outputs": [
        {
          "output_type": "stream",
          "text": [
            "['g', 't', 'a', 'c', 't', 'g', 'c']\n",
            "Número de ocorrências de 'a' é: 1\n"
          ],
          "name": "stdout"
        }
      ]
    }
  ]
}