{
  "nbformat": 4,
  "nbformat_minor": 0,
  "metadata": {
    "colab": {
      "name": "Módulo06Aula13.ipynb",
      "provenance": [],
      "collapsed_sections": [],
      "authorship_tag": "ABX9TyOtOaLvbNJy9d9MHAx6L6hN",
      "include_colab_link": true
    },
    "kernelspec": {
      "name": "python3",
      "display_name": "Python 3"
    }
  },
  "cells": [
    {
      "cell_type": "markdown",
      "metadata": {
        "id": "view-in-github",
        "colab_type": "text"
      },
      "source": [
        "<a href=\"https://colab.research.google.com/github/julianovale/pythonparatodos/blob/main/M%C3%B3dulo06Aula13.ipynb\" target=\"_parent\"><img src=\"https://colab.research.google.com/assets/colab-badge.svg\" alt=\"Open In Colab\"/></a>"
      ]
    },
    {
      "cell_type": "code",
      "metadata": {
        "colab": {
          "base_uri": "https://localhost:8080/"
        },
        "id": "A-aKRjOYXd_Z",
        "outputId": "9131b759-3121-4e4b-dc72-3dae913ad862"
      },
      "source": [
        "faturamento = {'Empresa 1': 200500, 'Empresa 2': 345600, 'Empresa 3': 645231}\r\n",
        "print('Relatório anual')\r\n",
        "for key, value in faturamento.items():\r\n",
        "  print('{0} possui faturamento de {1:.2f}'.format(key, value)) \r\n",
        "  if (value > 300000):\r\n",
        "    print('------> {0} antende critério de seleção'.format(key))"
      ],
      "execution_count": 7,
      "outputs": [
        {
          "output_type": "stream",
          "text": [
            "Relatório anual\n",
            "Empresa 1 possui faturamento de 200500.00\n",
            "Empresa 2 possui faturamento de 345600.00\n",
            "------> Empresa 2 antende critério de seleção\n",
            "Empresa 3 possui faturamento de 645231.00\n",
            "------> Empresa 3 antende critério de seleção\n"
          ],
          "name": "stdout"
        }
      ]
    }
  ]
}