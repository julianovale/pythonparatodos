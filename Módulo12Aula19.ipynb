{
  "nbformat": 4,
  "nbformat_minor": 0,
  "metadata": {
    "colab": {
      "name": "Módulo12Aula19.ipynb",
      "provenance": [],
      "collapsed_sections": [],
      "authorship_tag": "ABX9TyOtC+3/pJCTDzNSfDXA1VBM",
      "include_colab_link": true
    },
    "kernelspec": {
      "name": "python3",
      "display_name": "Python 3"
    }
  },
  "cells": [
    {
      "cell_type": "markdown",
      "metadata": {
        "id": "view-in-github",
        "colab_type": "text"
      },
      "source": [
        "<a href=\"https://colab.research.google.com/github/julianovale/pythonparatodos/blob/main/M%C3%B3dulo12Aula19.ipynb\" target=\"_parent\"><img src=\"https://colab.research.google.com/assets/colab-badge.svg\" alt=\"Open In Colab\"/></a>"
      ]
    },
    {
      "cell_type": "code",
      "metadata": {
        "id": "aNZsMkr_TGtL"
      },
      "source": [
        "import matplotlib.pyplot as plt"
      ],
      "execution_count": 1,
      "outputs": []
    },
    {
      "cell_type": "code",
      "metadata": {
        "id": "Dvb3MWVTThg6"
      },
      "source": [
        "class Ponto:\r\n",
        "  def __init__(self, x = 1.0, y = 1.0, symbol = 'o', color = 'blue'):\r\n",
        "    self.x = x\r\n",
        "    self.y = y\r\n",
        "    self.symbol = symbol\r\n",
        "    self.color = color\r\n",
        "    self.fig = plt.figure()\r\n",
        "    self.ax = plt.axes()\r\n",
        "\r\n",
        "  def desenha(self):\r\n",
        "    self.ax.plot(self.x, self.y, self.symbol, color = self.color)\r\n",
        "    self.ax.grid()\r\n",
        "    self.fig.show()"
      ],
      "execution_count": 4,
      "outputs": []
    },
    {
      "cell_type": "code",
      "metadata": {
        "colab": {
          "base_uri": "https://localhost:8080/",
          "height": 265
        },
        "id": "8SBatBVIUxFx",
        "outputId": "c252ebbb-180b-4759-c8a2-b6045d0bb82f"
      },
      "source": [
        "p = Ponto()\r\n",
        "p.desenha()\r\n"
      ],
      "execution_count": 5,
      "outputs": [
        {
          "output_type": "display_data",
          "data": {
            "image/png": "[encoded data removed]",
            "text/plain": [
              "<Figure size 432x288 with 1 Axes>"
            ]
          },
          "metadata": {
            "tags": [],
            "needs_background": "light"
          }
        }
      ]
    },
    {
      "cell_type": "code",
      "metadata": {
        "colab": {
          "base_uri": "https://localhost:8080/",
          "height": 265
        },
        "id": "uLTnYcBoVAEv",
        "outputId": "078bf13a-5503-4e50-ce42-9cae1c2ea3ec"
      },
      "source": [
        "g = Ponto(4, 8, \"*\", 'red')\r\n",
        "g.desenha()"
      ],
      "execution_count": 8,
      "outputs": [
        {
          "output_type": "display_data",
          "data": {
            "image/png": "[encoded data removed]",
            "text/plain": [
              "<Figure size 432x288 with 1 Axes>"
            ]
          },
          "metadata": {
            "tags": [],
            "needs_background": "light"
          }
        }
      ]
    }
  ]
}