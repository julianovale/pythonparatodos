{
  "nbformat": 4,
  "nbformat_minor": 0,
  "metadata": {
    "colab": {
      "name": "Módulo07Aula23.ipynb",
      "provenance": [],
      "authorship_tag": "ABX9TyN+nr4aZFJely8G7zuk3CFy",
      "include_colab_link": true
    },
    "kernelspec": {
      "name": "python3",
      "display_name": "Python 3"
    }
  },
  "cells": [
    {
      "cell_type": "markdown",
      "metadata": {
        "id": "view-in-github",
        "colab_type": "text"
      },
      "source": [
        "<a href=\"https://colab.research.google.com/github/julianovale/pythonparatodos/blob/main/M%C3%B3dulo07Aula23.ipynb\" target=\"_parent\"><img src=\"https://colab.research.google.com/assets/colab-badge.svg\" alt=\"Open In Colab\"/></a>"
      ]
    },
    {
      "cell_type": "markdown",
      "metadata": {
        "id": "7CLQ2AGBS0i_"
      },
      "source": [
        "PDF da apresentação:\r\n",
        "\r\n",
        "https://drive.google.com/file/d/1k5xfHrWnjPJJc05kB3op_05PAZpZpAfO/view\r\n"
      ]
    },
    {
      "cell_type": "code",
      "metadata": {
        "id": "pkxShMoTSvPT"
      },
      "source": [
        ""
      ],
      "execution_count": null,
      "outputs": []
    }
  ]
}