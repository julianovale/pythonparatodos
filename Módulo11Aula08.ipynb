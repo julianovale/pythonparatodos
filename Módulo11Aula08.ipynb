{
  "nbformat": 4,
  "nbformat_minor": 0,
  "metadata": {
    "colab": {
      "name": "Módulo11Aula08.ipynb",
      "provenance": [],
      "collapsed_sections": [],
      "authorship_tag": "ABX9TyM52crDLCWD9Ce5ONgqvyV/",
      "include_colab_link": true
    },
    "kernelspec": {
      "name": "python3",
      "display_name": "Python 3"
    }
  },
  "cells": [
    {
      "cell_type": "markdown",
      "metadata": {
        "id": "view-in-github",
        "colab_type": "text"
      },
      "source": [
        "<a href=\"https://colab.research.google.com/github/julianovale/pythonparatodos/blob/main/M%C3%B3dulo11Aula08.ipynb\" target=\"_parent\"><img src=\"https://colab.research.google.com/assets/colab-badge.svg\" alt=\"Open In Colab\"/></a>"
      ]
    },
    {
      "cell_type": "markdown",
      "metadata": {
        "id": "2P94VDB4hnnK"
      },
      "source": [
        "Link para o pdf:Link\r\n",
        "\r\n",
        "https://drive.google.com/file/d/1u26KnsYr768kFTtaBkzvCG4gW1cKREko/view"
      ]
    },
    {
      "cell_type": "markdown",
      "metadata": {
        "id": "8qAJpsQ1h4u9"
      },
      "source": [
        "Mini-Projeto: Organizando as operações no banco de dados\r\n",
        "Para facilitar a aplicação de certas operações como a adição, a visualização ou mesmo a eliminação de certos registros no banco de dados, pode-se organizar o código em termos de funções.\r\n",
        "\r\n",
        "A seguir será mostrado como criar as seguintes funções nas tabelas de uma base de dados:\r\n",
        "\r\n",
        "Criação de uma tabela e um banco de dados;\r\n",
        "\r\n",
        "1. Inserção de um registro em uma tabela;\r\n",
        "2. Visualização dos registros em uma tabela;\r\n",
        "3. Transformação em uma tabela de dados;\r\n",
        "4. Adição de valores através de uma tabela de dados;\r\n",
        "5. Transformação de tabela de dados para tabela de banco de dados;\r\n",
        "6. Eliminação de um registro;\r\n",
        "7. Eliminação de todos os registros;\r\n",
        "8. Eliminação da tabela de um banco de dados."
      ]
    },
    {
      "cell_type": "code",
      "metadata": {
        "id": "A_BHdqDohin3"
      },
      "source": [
        ""
      ],
      "execution_count": null,
      "outputs": []
    }
  ]
}