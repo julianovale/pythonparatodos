{
  "nbformat": 4,
  "nbformat_minor": 0,
  "metadata": {
    "colab": {
      "name": "Módulo12Aula23.ipynb",
      "provenance": [],
      "collapsed_sections": [],
      "authorship_tag": "ABX9TyM9N35Zv4Wa0ml7t0ziNh1e",
      "include_colab_link": true
    },
    "kernelspec": {
      "name": "python3",
      "display_name": "Python 3"
    }
  },
  "cells": [
    {
      "cell_type": "markdown",
      "metadata": {
        "id": "view-in-github",
        "colab_type": "text"
      },
      "source": [
        "<a href=\"https://colab.research.google.com/github/julianovale/pythonparatodos/blob/main/M%C3%B3dulo12Aula23.ipynb\" target=\"_parent\"><img src=\"https://colab.research.google.com/assets/colab-badge.svg\" alt=\"Open In Colab\"/></a>"
      ]
    },
    {
      "cell_type": "code",
      "metadata": {
        "id": "F3NFBxBTmen_"
      },
      "source": [
        "from abc import ABC, abstractmethod"
      ],
      "execution_count": 1,
      "outputs": []
    },
    {
      "cell_type": "code",
      "metadata": {
        "id": "ArxjiR7woEyb"
      },
      "source": [
        "class A(ABC): # torna a classe A abstract\r\n",
        "\r\n",
        "  def __init__(self):\r\n",
        "    pass\r\n",
        "\r\n",
        "  @abstractmethod # método abstrato\r\n",
        "  def foo(self, s):\r\n",
        "    return\r\n",
        "\r\n",
        "class B(A):\r\n",
        "  def __init__(self):\r\n",
        "    super(B, self).__init__()\r\n",
        "    pass\r\n",
        "\r\n",
        "  def foo(self):\r\n",
        "    print('Foo method in Class B')\r\n",
        "\r\n",
        "class C(B):\r\n",
        "  def bar(self):\r\n",
        "    print('Bar method in Class C')\r\n",
        "  "
      ],
      "execution_count": 2,
      "outputs": []
    },
    {
      "cell_type": "code",
      "metadata": {
        "colab": {
          "base_uri": "https://localhost:8080/"
        },
        "id": "3MnPQuCrpi7r",
        "outputId": "806f99c2-bd8c-46a6-db25-f3ef6be5c325"
      },
      "source": [
        "objB = B()\r\n",
        "objB.foo()\r\n",
        "objC = C()\r\n",
        "objC.foo()\r\n",
        "objC.bar()"
      ],
      "execution_count": 3,
      "outputs": [
        {
          "output_type": "stream",
          "text": [
            "Foo method in Class B\n",
            "Foo method in Class B\n",
            "Bar method in Class C\n"
          ],
          "name": "stdout"
        }
      ]
    },
    {
      "cell_type": "code",
      "metadata": {
        "colab": {
          "base_uri": "https://localhost:8080/"
        },
        "id": "6UoUPuTh1Lbs",
        "outputId": "a7b5706c-01d5-412b-c357-7bf2b7cba2ee"
      },
      "source": [
        "lista = []\r\n",
        "lista.append(B())\r\n",
        "lista.append(C())\r\n",
        "for obj in lista:\r\n",
        "  obj.foo()\r\n",
        "  if isinstance(obj, C):\r\n",
        "    obj.bar()"
      ],
      "execution_count": 5,
      "outputs": [
        {
          "output_type": "stream",
          "text": [
            "Foo method in Class B\n",
            "Foo method in Class B\n",
            "Bar method in Class C\n"
          ],
          "name": "stdout"
        }
      ]
    }
  ]
}