{
  "nbformat": 4,
  "nbformat_minor": 0,
  "metadata": {
    "colab": {
      "name": "Módulo07Aula21.ipynb",
      "provenance": [],
      "authorship_tag": "ABX9TyOpbDWq3r9kIuUfj1PynigS",
      "include_colab_link": true
    },
    "kernelspec": {
      "name": "python3",
      "display_name": "Python 3"
    }
  },
  "cells": [
    {
      "cell_type": "markdown",
      "metadata": {
        "id": "view-in-github",
        "colab_type": "text"
      },
      "source": [
        "<a href=\"https://colab.research.google.com/github/julianovale/pythonparatodos/blob/main/M%C3%B3dulo07Aula21.ipynb\" target=\"_parent\"><img src=\"https://colab.research.google.com/assets/colab-badge.svg\" alt=\"Open In Colab\"/></a>"
      ]
    },
    {
      "cell_type": "code",
      "metadata": {
        "colab": {
          "base_uri": "https://localhost:8080/"
        },
        "id": "EBQVMD9z95fI",
        "outputId": "97373fd4-ee74-4e11-d38e-5229b73ebdcf"
      },
      "source": [
        "def fatorial(n):\r\n",
        "  if (n > 0):\r\n",
        "    r = n*fatorial(n-1)\r\n",
        "  else:\r\n",
        "    r = 1\r\n",
        "  return r\r\n",
        "\r\n",
        "print(fatorial(0))\r\n",
        "print(fatorial(1))\r\n",
        "print(fatorial(5))"
      ],
      "execution_count": 1,
      "outputs": [
        {
          "output_type": "stream",
          "text": [
            "1\n",
            "1\n",
            "120\n"
          ],
          "name": "stdout"
        }
      ]
    }
  ]
}