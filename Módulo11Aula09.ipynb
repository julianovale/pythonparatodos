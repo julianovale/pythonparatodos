{
  "nbformat": 4,
  "nbformat_minor": 0,
  "metadata": {
    "colab": {
      "name": "Módulo11Aula09.ipynb",
      "provenance": [],
      "collapsed_sections": [],
      "authorship_tag": "ABX9TyOhmA/aZSgRCyMasJhwc4GF",
      "include_colab_link": true
    },
    "kernelspec": {
      "name": "python3",
      "display_name": "Python 3"
    }
  },
  "cells": [
    {
      "cell_type": "markdown",
      "metadata": {
        "id": "view-in-github",
        "colab_type": "text"
      },
      "source": [
        "<a href=\"https://colab.research.google.com/github/julianovale/pythonparatodos/blob/main/M%C3%B3dulo11Aula09.ipynb\" target=\"_parent\"><img src=\"https://colab.research.google.com/assets/colab-badge.svg\" alt=\"Open In Colab\"/></a>"
      ]
    },
    {
      "cell_type": "code",
      "metadata": {
        "id": "5M-DP1n-il83"
      },
      "source": [
        "import sqlite3"
      ],
      "execution_count": null,
      "outputs": []
    },
    {
      "cell_type": "code",
      "metadata": {
        "id": "s0oNJEfgirHX"
      },
      "source": [
        "def create_table(dbname):\r\n",
        "  conn = sqlite3.connect(dbname)\r\n",
        "  cur = conn.cursor()\r\n",
        "  cur.execute(\"CREATE TABLE IF NOT EXISTS store(item TEXT, quantity INTEGER, price REAL)\")\r\n",
        "  conn.commit()\r\n",
        "  conn.close()"
      ],
      "execution_count": null,
      "outputs": []
    }
  ]
}