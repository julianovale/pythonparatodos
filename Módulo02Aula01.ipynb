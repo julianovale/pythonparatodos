{
  "nbformat": 4,
  "nbformat_minor": 0,
  "metadata": {
    "colab": {
      "name": "Módulo02Aula01.ipynb",
      "provenance": [],
      "authorship_tag": "ABX9TyNh0lUEInLVVtiGE3B4YOMo",
      "include_colab_link": true
    },
    "kernelspec": {
      "name": "python3",
      "display_name": "Python 3"
    }
  },
  "cells": [
    {
      "cell_type": "markdown",
      "metadata": {
        "id": "view-in-github",
        "colab_type": "text"
      },
      "source": [
        "<a href=\"https://colab.research.google.com/github/julianovale/pythonparatodos/blob/main/M%C3%B3dulo02Aula01.ipynb\" target=\"_parent\"><img src=\"https://colab.research.google.com/assets/colab-badge.svg\" alt=\"Open In Colab\"/></a>"
      ]
    },
    {
      "cell_type": "code",
      "metadata": {
        "colab": {
          "base_uri": "https://localhost:8080/"
        },
        "id": "i-qwxxhr6rAL",
        "outputId": "dcfc57cb-5f1f-4ae2-da4e-b9a0a1b264de"
      },
      "source": [
        "lista = [4,5,3,2]\n",
        "print(lista)"
      ],
      "execution_count": 9,
      "outputs": [
        {
          "output_type": "stream",
          "text": [
            "[4, 5, 3, 2]\n"
          ],
          "name": "stdout"
        }
      ]
    },
    {
      "cell_type": "code",
      "metadata": {
        "colab": {
          "base_uri": "https://localhost:8080/"
        },
        "id": "P_STZE9P7lkp",
        "outputId": "aaac09ed-f60f-4713-dedf-1c1070aaa914"
      },
      "source": [
        "print(lista[1])"
      ],
      "execution_count": 10,
      "outputs": [
        {
          "output_type": "stream",
          "text": [
            "5\n"
          ],
          "name": "stdout"
        }
      ]
    },
    {
      "cell_type": "code",
      "metadata": {
        "id": "Ij0-27dX7pV_"
      },
      "source": [
        "lista[0] = 3"
      ],
      "execution_count": 11,
      "outputs": []
    },
    {
      "cell_type": "code",
      "metadata": {
        "colab": {
          "base_uri": "https://localhost:8080/"
        },
        "id": "RRIjKv7p722n",
        "outputId": "8b1ac6c1-c4ac-46ce-cf6e-8f3b53c3f9c1"
      },
      "source": [
        "print(lista)"
      ],
      "execution_count": 12,
      "outputs": [
        {
          "output_type": "stream",
          "text": [
            "[3, 5, 3, 2]\n"
          ],
          "name": "stdout"
        }
      ]
    },
    {
      "cell_type": "code",
      "metadata": {
        "colab": {
          "base_uri": "https://localhost:8080/"
        },
        "id": "IXq-PNdu79xp",
        "outputId": "b19f0ac5-c7c1-414c-952e-088e70c4fbe9"
      },
      "source": [
        "lista[0] = lista[1] + lista[3]\n",
        "print(lista)"
      ],
      "execution_count": 13,
      "outputs": [
        {
          "output_type": "stream",
          "text": [
            "[7, 5, 3, 2]\n"
          ],
          "name": "stdout"
        }
      ]
    },
    {
      "cell_type": "code",
      "metadata": {
        "colab": {
          "base_uri": "https://localhost:8080/"
        },
        "id": "OexQath68GbP",
        "outputId": "c04aada9-456c-4b1b-9320-f5ae02bbafc2"
      },
      "source": [
        "lista1 = ['nada', 1, 3, 'v']\n",
        "lista3 = [lista, lista1]\n",
        "print(lista3)"
      ],
      "execution_count": 15,
      "outputs": [
        {
          "output_type": "stream",
          "text": [
            "[[7, 5, 3, 2], ['nada', 1, 3, 'v']]\n"
          ],
          "name": "stdout"
        }
      ]
    },
    {
      "cell_type": "code",
      "metadata": {
        "colab": {
          "base_uri": "https://localhost:8080/"
        },
        "id": "eanxZ15o866H",
        "outputId": "30c338e2-8741-47e5-c3da-07e0f687a9db"
      },
      "source": [
        "print(lista3[0])\n",
        "print(lista3[1])"
      ],
      "execution_count": 17,
      "outputs": [
        {
          "output_type": "stream",
          "text": [
            "[7, 5, 3, 2]\n",
            "['nada', 1, 3, 'v']\n"
          ],
          "name": "stdout"
        }
      ]
    },
    {
      "cell_type": "code",
      "metadata": {
        "colab": {
          "base_uri": "https://localhost:8080/"
        },
        "id": "6hm-r8h29EV-",
        "outputId": "1a86400d-aa92-4d90-8a93-4d59d7f555f3"
      },
      "source": [
        "print(lista3[0][1])\n",
        "print(lista3[1][0])"
      ],
      "execution_count": 21,
      "outputs": [
        {
          "output_type": "stream",
          "text": [
            "5\n",
            "nada\n"
          ],
          "name": "stdout"
        }
      ]
    },
    {
      "cell_type": "code",
      "metadata": {
        "colab": {
          "base_uri": "https://localhost:8080/"
        },
        "id": "FhuWpSE39XvF",
        "outputId": "475c5c58-aa23-43f8-e5f5-8533469a7f8d"
      },
      "source": [
        "lista4 = lista + lista1\n",
        "print(lista4)"
      ],
      "execution_count": 23,
      "outputs": [
        {
          "output_type": "stream",
          "text": [
            "[7, 5, 3, 2, 'nada', 1, 3, 'v']\n"
          ],
          "name": "stdout"
        }
      ]
    }
  ]
}