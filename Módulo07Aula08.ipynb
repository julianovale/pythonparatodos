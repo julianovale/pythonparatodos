{
  "nbformat": 4,
  "nbformat_minor": 0,
  "metadata": {
    "colab": {
      "name": "Módulo07Aula08.ipynb",
      "provenance": [],
      "collapsed_sections": [],
      "authorship_tag": "ABX9TyPACeg7yLc/cDhrGK6TmUHl",
      "include_colab_link": true
    },
    "kernelspec": {
      "name": "python3",
      "display_name": "Python 3"
    }
  },
  "cells": [
    {
      "cell_type": "markdown",
      "metadata": {
        "id": "view-in-github",
        "colab_type": "text"
      },
      "source": [
        "<a href=\"https://colab.research.google.com/github/julianovale/pythonparatodos/blob/main/M%C3%B3dulo07Aula08.ipynb\" target=\"_parent\"><img src=\"https://colab.research.google.com/assets/colab-badge.svg\" alt=\"Open In Colab\"/></a>"
      ]
    },
    {
      "cell_type": "code",
      "metadata": {
        "id": "gi8BHOWWHhan"
      },
      "source": [
        "def sprint(ss, nn):\r\n",
        "  for i in range(1,nn+1,1):\r\n",
        "    print(ss, end='')\r\n",
        "  print('')\r\n",
        "\r\n",
        "def bprint(lista=['padrão','-',10]):\r\n",
        "  men  = lista[0]\r\n",
        "  simb = lista[1]\r\n",
        "  n    = lista[2]\r\n",
        "  sprint(simb, n)\r\n",
        "  print(men)\r\n",
        "  sprint(simb, n)"
      ],
      "execution_count": 8,
      "outputs": []
    },
    {
      "cell_type": "code",
      "metadata": {
        "colab": {
          "base_uri": "https://localhost:8080/"
        },
        "id": "RI-iSS_gMDoK",
        "outputId": "e1c0d3ac-ba88-4284-a0e8-c37d9e30b6cb"
      },
      "source": [
        "m = 'mensagem'\r\n",
        "l = ['*',20]\r\n",
        "l.insert(0,m)\r\n",
        "\r\n",
        "bprint()\r\n",
        "bprint(l)\r\n",
        "bprint(lista=l)"
      ],
      "execution_count": 11,
      "outputs": [
        {
          "output_type": "stream",
          "text": [
            "----------\n",
            "padrão\n",
            "----------\n",
            "********************\n",
            "mensagem\n",
            "********************\n",
            "********************\n",
            "mensagem\n",
            "********************\n"
          ],
          "name": "stdout"
        }
      ]
    }
  ]
}