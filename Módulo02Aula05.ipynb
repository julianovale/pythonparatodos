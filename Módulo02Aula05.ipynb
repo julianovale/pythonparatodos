{
  "nbformat": 4,
  "nbformat_minor": 0,
  "metadata": {
    "colab": {
      "name": "Módulo02Aula05.ipynb",
      "provenance": [],
      "collapsed_sections": [],
      "authorship_tag": "ABX9TyM6ch19yN1VV1tVsm+6iao9",
      "include_colab_link": true
    },
    "kernelspec": {
      "name": "python3",
      "display_name": "Python 3"
    }
  },
  "cells": [
    {
      "cell_type": "markdown",
      "metadata": {
        "id": "view-in-github",
        "colab_type": "text"
      },
      "source": [
        "<a href=\"https://colab.research.google.com/github/julianovale/pythonparatodos/blob/main/M%C3%B3dulo02Aula05.ipynb\" target=\"_parent\"><img src=\"https://colab.research.google.com/assets/colab-badge.svg\" alt=\"Open In Colab\"/></a>"
      ]
    },
    {
      "cell_type": "markdown",
      "metadata": {
        "id": "m-6jlVF1DtqX"
      },
      "source": [
        "Cópia em listas"
      ]
    },
    {
      "cell_type": "code",
      "metadata": {
        "colab": {
          "base_uri": "https://localhost:8080/"
        },
        "id": "V5HngV7wCr1y",
        "outputId": "a6e86314-26b9-4181-ff9b-fd5e9d2fa2d5"
      },
      "source": [
        "x = [20,30,10,-50]\n",
        "print(x)"
      ],
      "execution_count": 5,
      "outputs": [
        {
          "output_type": "stream",
          "text": [
            "[20, 30, 10, -50]\n"
          ],
          "name": "stdout"
        }
      ]
    },
    {
      "cell_type": "code",
      "metadata": {
        "colab": {
          "base_uri": "https://localhost:8080/"
        },
        "id": "X8rkTSbTDF8J",
        "outputId": "7d864b9c-b755-4e13-e548-0186e4f78a07"
      },
      "source": [
        "y = x # criei um vínculo (problema!)\n",
        "y[0] = 3\n",
        "print(y, x)"
      ],
      "execution_count": 6,
      "outputs": [
        {
          "output_type": "stream",
          "text": [
            "[3, 30, 10, -50] [3, 30, 10, -50]\n"
          ],
          "name": "stdout"
        }
      ]
    },
    {
      "cell_type": "code",
      "metadata": {
        "colab": {
          "base_uri": "https://localhost:8080/"
        },
        "id": "VW3gUboFDWgw",
        "outputId": "ee7c5e12-3e2b-4175-b3a6-eb5008c12479"
      },
      "source": [
        "x = [20,30,10,-50]\n",
        "print(x)"
      ],
      "execution_count": 10,
      "outputs": [
        {
          "output_type": "stream",
          "text": [
            "[20, 30, 10, -50]\n"
          ],
          "name": "stdout"
        }
      ]
    },
    {
      "cell_type": "code",
      "metadata": {
        "colab": {
          "base_uri": "https://localhost:8080/"
        },
        "id": "dGlMGTCnDX4G",
        "outputId": "a1e552da-93b1-45fe-92df-f44cdab495a4"
      },
      "source": [
        "z = x.copy() # copiei os valores\n",
        "print(z, x)\n",
        "z[0] = -10\n",
        "print(z, x)"
      ],
      "execution_count": 11,
      "outputs": [
        {
          "output_type": "stream",
          "text": [
            "[20, 30, 10, -50] [20, 30, 10, -50]\n",
            "[-10, 30, 10, -50] [20, 30, 10, -50]\n"
          ],
          "name": "stdout"
        }
      ]
    }
  ]
}