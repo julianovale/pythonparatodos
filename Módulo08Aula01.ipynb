{
  "nbformat": 4,
  "nbformat_minor": 0,
  "metadata": {
    "colab": {
      "name": "Módulo08Aula01.ipynb",
      "provenance": [],
      "authorship_tag": "ABX9TyNz65n6lEHwA02qCfVTZnF/",
      "include_colab_link": true
    },
    "kernelspec": {
      "name": "python3",
      "display_name": "Python 3"
    }
  },
  "cells": [
    {
      "cell_type": "markdown",
      "metadata": {
        "id": "view-in-github",
        "colab_type": "text"
      },
      "source": [
        "<a href=\"https://colab.research.google.com/github/julianovale/pythonparatodos/blob/main/M%C3%B3dulo08Aula01.ipynb\" target=\"_parent\"><img src=\"https://colab.research.google.com/assets/colab-badge.svg\" alt=\"Open In Colab\"/></a>"
      ]
    },
    {
      "cell_type": "markdown",
      "metadata": {
        "id": "nXxCl6ccDkW9"
      },
      "source": [
        "Slides da aula:\r\n",
        "\r\n",
        "https://drive.google.com/file/d/1sg5lNqoYBru0Lc1rFjK4rz2m-iPxEPUi/view"
      ]
    },
    {
      "cell_type": "code",
      "metadata": {
        "id": "UriKbHiRDg8v"
      },
      "source": [
        ""
      ],
      "execution_count": null,
      "outputs": []
    }
  ]
}