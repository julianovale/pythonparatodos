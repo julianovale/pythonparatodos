{
  "nbformat": 4,
  "nbformat_minor": 0,
  "metadata": {
    "colab": {
      "name": "Módulo06Aula01.ipynb",
      "provenance": [],
      "collapsed_sections": [],
      "authorship_tag": "ABX9TyMOGYnPP01LQ1UTx6hV+/yI",
      "include_colab_link": true
    },
    "kernelspec": {
      "name": "python3",
      "display_name": "Python 3"
    }
  },
  "cells": [
    {
      "cell_type": "markdown",
      "metadata": {
        "id": "view-in-github",
        "colab_type": "text"
      },
      "source": [
        "<a href=\"https://colab.research.google.com/github/julianovale/pythonparatodos/blob/main/M%C3%B3dulo06Aula01.ipynb\" target=\"_parent\"><img src=\"https://colab.research.google.com/assets/colab-badge.svg\" alt=\"Open In Colab\"/></a>"
      ]
    },
    {
      "cell_type": "markdown",
      "metadata": {
        "id": "7nmmL0wjK25d"
      },
      "source": [
        "Slides:\r\n",
        "https://drive.google.com/file/d/1keBj2jdNZj77dU0ZandLEwRMXPMp8WLA/view"
      ]
    },
    {
      "cell_type": "code",
      "metadata": {
        "colab": {
          "base_uri": "https://localhost:8080/"
        },
        "id": "-x8ZqAs7Kziq",
        "outputId": "373bc9d5-82de-4933-aaa4-4f504fdc8313"
      },
      "source": [
        "a = input('Entre com a: ')\r\n",
        "a = float(a)\r\n",
        "if a > 1:\r\n",
        "  a = a - 3\r\n",
        "else:\r\n",
        "  a = a -1\r\n",
        "print(a)\r\n"
      ],
      "execution_count": 10,
      "outputs": [
        {
          "output_type": "stream",
          "text": [
            "Entre com a: 10\n",
            "7.0\n"
          ],
          "name": "stdout"
        }
      ]
    },
    {
      "cell_type": "code",
      "metadata": {
        "colab": {
          "base_uri": "https://localhost:8080/"
        },
        "id": "vhS1m1SOX20y",
        "outputId": "d057303b-27f2-4223-800b-64971cd90039"
      },
      "source": [
        "''' pequenas melhorias '''\r\n",
        "a = int(input('Entre com a: ') or 10) # entra já em integer e tem um default\r\n",
        "if a > 1:\r\n",
        "  a = a - 3\r\n",
        "else:\r\n",
        "  a = a -1\r\n",
        "print(a)\r\n"
      ],
      "execution_count": 24,
      "outputs": [
        {
          "output_type": "stream",
          "text": [
            "Entre com a: 2\n",
            "-1\n"
          ],
          "name": "stdout"
        }
      ]
    },
    {
      "cell_type": "code",
      "metadata": {
        "colab": {
          "base_uri": "https://localhost:8080/"
        },
        "id": "ZQVVGDNfZB_4",
        "outputId": "b327535a-cd22-4cd5-f394-1493260de5ae"
      },
      "source": [
        "''' laço ou estrutura de controle de repetição '''\r\n",
        "\r\n",
        "a = float(input('Entre com a > 1: ') or 20) # entra já float e com default\r\n",
        "while (a >= 1):\r\n",
        "  print(a)\r\n",
        "  a = a - 1\r\n",
        "  "
      ],
      "execution_count": 21,
      "outputs": [
        {
          "output_type": "stream",
          "text": [
            "Entre com a > 1: \n",
            "20.0\n",
            "19.0\n",
            "18.0\n",
            "17.0\n",
            "16.0\n",
            "15.0\n",
            "14.0\n",
            "13.0\n",
            "12.0\n",
            "11.0\n",
            "10.0\n",
            "9.0\n",
            "8.0\n",
            "7.0\n",
            "6.0\n",
            "5.0\n",
            "4.0\n",
            "3.0\n",
            "2.0\n",
            "1.0\n"
          ],
          "name": "stdout"
        }
      ]
    }
  ]
}