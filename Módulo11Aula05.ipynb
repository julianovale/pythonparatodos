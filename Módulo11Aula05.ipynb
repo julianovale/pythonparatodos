{
  "nbformat": 4,
  "nbformat_minor": 0,
  "metadata": {
    "colab": {
      "name": "Módulo11Aula05.ipynb",
      "provenance": [],
      "collapsed_sections": [],
      "authorship_tag": "ABX9TyNp+Y1h9An+FFbsXrhLLmGV",
      "include_colab_link": true
    },
    "kernelspec": {
      "name": "python3",
      "display_name": "Python 3"
    }
  },
  "cells": [
    {
      "cell_type": "markdown",
      "metadata": {
        "id": "view-in-github",
        "colab_type": "text"
      },
      "source": [
        "<a href=\"https://colab.research.google.com/github/julianovale/pythonparatodos/blob/main/M%C3%B3dulo11Aula05.ipynb\" target=\"_parent\"><img src=\"https://colab.research.google.com/assets/colab-badge.svg\" alt=\"Open In Colab\"/></a>"
      ]
    },
    {
      "cell_type": "code",
      "metadata": {
        "id": "grBE2kbC43yM"
      },
      "source": [
        "import sqlite3\r\n",
        "import pandas as pd"
      ],
      "execution_count": 5,
      "outputs": []
    },
    {
      "cell_type": "code",
      "metadata": {
        "id": "KrH2KucZ7igD"
      },
      "source": [
        "conn = sqlite3.connect('lite1.db')\r\n",
        "cur  = conn.cursor()\r\n",
        "cur.execute('CREATE TABLE IF NOT EXISTS store (item TEXT, quantidade INTEGER, price REAL)')\r\n",
        "conn.commit()\r\n",
        "conn.close()"
      ],
      "execution_count": 6,
      "outputs": []
    },
    {
      "cell_type": "code",
      "metadata": {
        "colab": {
          "base_uri": "https://localhost:8080/"
        },
        "id": "CyOaRLo57knC",
        "outputId": "82432b54-a33e-488b-84ce-531c5eabbe04"
      },
      "source": [
        "!pwd # comandos no google drive como se fosse um prompt de comando\r\n",
        "!ls"
      ],
      "execution_count": 7,
      "outputs": [
        {
          "output_type": "stream",
          "text": [
            "/content\n",
            "lite1.db  sample_data\n"
          ],
          "name": "stdout"
        }
      ]
    },
    {
      "cell_type": "code",
      "metadata": {
        "id": "ZYKdiNQB87a-"
      },
      "source": [
        "conn = sqlite3.connect('lite1.db')\r\n",
        "cur  = conn.cursor()\r\n",
        "cur.execute(\"INSERT INTO store VALUES ('Wine Glass', 8, 10.50)\")\r\n",
        "conn.commit() # atualiza a tabela... se será só leitura, não precisa fazer o 'commit'... veja no código abaixo\r\n",
        "conn.close()"
      ],
      "execution_count": 8,
      "outputs": []
    },
    {
      "cell_type": "code",
      "metadata": {
        "colab": {
          "base_uri": "https://localhost:8080/"
        },
        "id": "lUO02UnJ-TMG",
        "outputId": "c45acd62-b2aa-4f1b-bee6-1b89c63547cc"
      },
      "source": [
        "conn = sqlite3.connect('lite1.db')\r\n",
        "cur  = conn.cursor()\r\n",
        "cur.execute(\"SELECT * FROM store\")\r\n",
        "rows = cur.fetchall()\r\n",
        "conn.close()\r\n",
        "\r\n",
        "rows"
      ],
      "execution_count": 9,
      "outputs": [
        {
          "output_type": "execute_result",
          "data": {
            "text/plain": [
              "[('Wine Glass', 8, 10.5)]"
            ]
          },
          "metadata": {
            "tags": []
          },
          "execution_count": 9
        }
      ]
    },
    {
      "cell_type": "code",
      "metadata": {
        "colab": {
          "base_uri": "https://localhost:8080/",
          "height": 80
        },
        "id": "HSWbUOGWGk81",
        "outputId": "e9dc714e-3878-477a-ea2a-ee3f453399a6"
      },
      "source": [
        "conn = sqlite3.connect('lite1.db')\r\n",
        "df = pd.read_sql_query(\"SELECT * FROM store\", conn)\r\n",
        "conn.close()\r\n",
        "df"
      ],
      "execution_count": 11,
      "outputs": [
        {
          "output_type": "execute_result",
          "data": {
            "text/html": [
              "<div>\n",
              "<style scoped>\n",
              "    .dataframe tbody tr th:only-of-type {\n",
              "        vertical-align: middle;\n",
              "    }\n",
              "\n",
              "    .dataframe tbody tr th {\n",
              "        vertical-align: top;\n",
              "    }\n",
              "\n",
              "    .dataframe thead th {\n",
              "        text-align: right;\n",
              "    }\n",
              "</style>\n",
              "<table border=\"1\" class=\"dataframe\">\n",
              "  <thead>\n",
              "    <tr style=\"text-align: right;\">\n",
              "      <th></th>\n",
              "      <th>item</th>\n",
              "      <th>quantidade</th>\n",
              "      <th>price</th>\n",
              "    </tr>\n",
              "  </thead>\n",
              "  <tbody>\n",
              "    <tr>\n",
              "      <th>0</th>\n",
              "      <td>Wine Glass</td>\n",
              "      <td>8</td>\n",
              "      <td>10.5</td>\n",
              "    </tr>\n",
              "  </tbody>\n",
              "</table>\n",
              "</div>"
            ],
            "text/plain": [
              "         item  quantidade  price\n",
              "0  Wine Glass           8   10.5"
            ]
          },
          "metadata": {
            "tags": []
          },
          "execution_count": 11
        }
      ]
    }
  ]
}