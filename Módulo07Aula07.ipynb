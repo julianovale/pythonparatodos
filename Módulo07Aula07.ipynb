{
  "nbformat": 4,
  "nbformat_minor": 0,
  "metadata": {
    "colab": {
      "name": "Módulo07Aula07.ipynb",
      "provenance": [],
      "collapsed_sections": [],
      "authorship_tag": "ABX9TyOUgs94o6EESi+llDSQ+e9a",
      "include_colab_link": true
    },
    "kernelspec": {
      "name": "python3",
      "display_name": "Python 3"
    }
  },
  "cells": [
    {
      "cell_type": "markdown",
      "metadata": {
        "id": "view-in-github",
        "colab_type": "text"
      },
      "source": [
        "<a href=\"https://colab.research.google.com/github/julianovale/pythonparatodos/blob/main/M%C3%B3dulo07Aula07.ipynb\" target=\"_parent\"><img src=\"https://colab.research.google.com/assets/colab-badge.svg\" alt=\"Open In Colab\"/></a>"
      ]
    },
    {
      "cell_type": "code",
      "metadata": {
        "id": "YC86E8vIFLpq"
      },
      "source": [
        "def sprint(ss, nn):\r\n",
        "  for i in range(1,nn+1,1):\r\n",
        "    print(ss, end='')\r\n",
        "  print('')\r\n",
        "\r\n",
        "def bprint(men, lista=['-',10]):\r\n",
        "  simb = lista[0]\r\n",
        "  n = lista[1]\r\n",
        "  sprint(simb, n)\r\n",
        "  print(men)\r\n",
        "  sprint(simb, n)"
      ],
      "execution_count": 5,
      "outputs": []
    },
    {
      "cell_type": "code",
      "metadata": {
        "colab": {
          "base_uri": "https://localhost:8080/"
        },
        "id": "NfscLGUPGGEc",
        "outputId": "0a3077f8-646c-4a70-e87a-52e29873c8f5"
      },
      "source": [
        "m = 'Mensagem'\r\n",
        "l = ['*',20]\r\n",
        "bprint(men = m)\r\n",
        "bprint(men = m, lista = l)\r\n",
        "bprint(m)\r\n",
        "bprint(lista=l, men=m)"
      ],
      "execution_count": 9,
      "outputs": [
        {
          "output_type": "stream",
          "text": [
            "----------\n",
            "Mensagem\n",
            "----------\n",
            "********************\n",
            "Mensagem\n",
            "********************\n",
            "----------\n",
            "Mensagem\n",
            "----------\n",
            "********************\n",
            "Mensagem\n",
            "********************\n"
          ],
          "name": "stdout"
        }
      ]
    }
  ]
}