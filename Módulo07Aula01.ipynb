{
  "nbformat": 4,
  "nbformat_minor": 0,
  "metadata": {
    "colab": {
      "name": "Módulo07Aula01.ipynb",
      "provenance": [],
      "authorship_tag": "ABX9TyMwNAvz566LiKS9QAhJa2Fy",
      "include_colab_link": true
    },
    "kernelspec": {
      "name": "python3",
      "display_name": "Python 3"
    }
  },
  "cells": [
    {
      "cell_type": "markdown",
      "metadata": {
        "id": "view-in-github",
        "colab_type": "text"
      },
      "source": [
        "<a href=\"https://colab.research.google.com/github/julianovale/pythonparatodos/blob/main/M%C3%B3dulo07Aula01.ipynb\" target=\"_parent\"><img src=\"https://colab.research.google.com/assets/colab-badge.svg\" alt=\"Open In Colab\"/></a>"
      ]
    },
    {
      "cell_type": "code",
      "metadata": {
        "colab": {
          "base_uri": "https://localhost:8080/"
        },
        "id": "GcIGDL4JvIbl",
        "outputId": "6527b7f4-6fcd-47f7-bc75-ea2e0d45c263"
      },
      "source": [
        "def bprint(mens):\r\n",
        "  str(mens)\r\n",
        "  print('-----------------')\r\n",
        "  print(mens)\r\n",
        "  print('-----------------')\r\n",
        "\r\n",
        "x = 'teste'\r\n",
        "bprint(x)"
      ],
      "execution_count": 5,
      "outputs": [
        {
          "output_type": "stream",
          "text": [
            "-----------------\n",
            "teste\n",
            "-----------------\n"
          ],
          "name": "stdout"
        }
      ]
    }
  ]
}