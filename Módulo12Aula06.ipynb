{
  "nbformat": 4,
  "nbformat_minor": 0,
  "metadata": {
    "colab": {
      "name": "Módulo12Aula06.ipynb",
      "provenance": [],
      "collapsed_sections": [],
      "authorship_tag": "ABX9TyNOYKZLrIGN+8lnBhwg+OHd",
      "include_colab_link": true
    },
    "kernelspec": {
      "name": "python3",
      "display_name": "Python 3"
    }
  },
  "cells": [
    {
      "cell_type": "markdown",
      "metadata": {
        "id": "view-in-github",
        "colab_type": "text"
      },
      "source": [
        "<a href=\"https://colab.research.google.com/github/julianovale/pythonparatodos/blob/main/M%C3%B3dulo12Aula06.ipynb\" target=\"_parent\"><img src=\"https://colab.research.google.com/assets/colab-badge.svg\" alt=\"Open In Colab\"/></a>"
      ]
    },
    {
      "cell_type": "code",
      "metadata": {
        "id": "pK_F_ghrpCYP"
      },
      "source": [
        "class Retangulo:\r\n",
        "  \r\n",
        "  # construtor\r\n",
        "  \r\n",
        "  def __init__(self, x = 0.0 , y = 0.0): # valores padrão\r\n",
        "    self.x = x\r\n",
        "    self.y = y\r\n",
        "  \r\n",
        "  # métodos\r\n",
        "\r\n",
        "  def printa(self): \r\n",
        "    print(\"x = \", self.x)\r\n",
        "    print(\"y = \", self.y)\r\n",
        "\r\n",
        "  def Perimetro(self):\r\n",
        "    return 2*self.x + 2*self.y\r\n",
        "\r\n",
        "  def Area(self):\r\n",
        "    return self.x * self.y"
      ],
      "execution_count": 9,
      "outputs": []
    },
    {
      "cell_type": "code",
      "metadata": {
        "colab": {
          "base_uri": "https://localhost:8080/"
        },
        "id": "PHHzEM2h1YAm",
        "outputId": "6526cc9e-3db1-41f1-c5d9-02236de48a29"
      },
      "source": [
        "ra = Retangulo(4,5)\r\n",
        "ra.printa()\r\n",
        "ra.x"
      ],
      "execution_count": 10,
      "outputs": [
        {
          "output_type": "stream",
          "text": [
            "x =  4\n",
            "y =  5\n"
          ],
          "name": "stdout"
        },
        {
          "output_type": "execute_result",
          "data": {
            "text/plain": [
              "4"
            ]
          },
          "metadata": {
            "tags": []
          },
          "execution_count": 10
        }
      ]
    },
    {
      "cell_type": "code",
      "metadata": {
        "colab": {
          "base_uri": "https://localhost:8080/"
        },
        "id": "T452_rVT1uS9",
        "outputId": "2174cb01-18d0-4a62-9a15-85f23f7b83d8"
      },
      "source": [
        "del ra.x # exclui o \"x\" de ra\r\n",
        "print(\"ra.y = \", ra.y)"
      ],
      "execution_count": 11,
      "outputs": [
        {
          "output_type": "stream",
          "text": [
            "ra.y =  5\n"
          ],
          "name": "stdout"
        }
      ]
    },
    {
      "cell_type": "code",
      "metadata": {
        "colab": {
          "base_uri": "https://localhost:8080/",
          "height": 163
        },
        "id": "mdvFRQf02Bpd",
        "outputId": "4fa72854-c764-4783-dc35-b330834849c8"
      },
      "source": [
        "print(\"ra.x = \", ra.x) # dá erro, o x foi excluído"
      ],
      "execution_count": 12,
      "outputs": [
        {
          "output_type": "error",
          "ename": "AttributeError",
          "evalue": "ignored",
          "traceback": [
            "\u001b[0;31m---------------------------------------------------------------------------\u001b[0m",
            "\u001b[0;31mAttributeError\u001b[0m                            Traceback (most recent call last)",
            "\u001b[0;32m<ipython-input-12-8073761078b1>\u001b[0m in \u001b[0;36m<module>\u001b[0;34m()\u001b[0m\n\u001b[0;32m----> 1\u001b[0;31m \u001b[0mprint\u001b[0m\u001b[0;34m(\u001b[0m\u001b[0;34m\"ra.x = \"\u001b[0m\u001b[0;34m,\u001b[0m \u001b[0mra\u001b[0m\u001b[0;34m.\u001b[0m\u001b[0mx\u001b[0m\u001b[0;34m)\u001b[0m\u001b[0;34m\u001b[0m\u001b[0;34m\u001b[0m\u001b[0m\n\u001b[0m",
            "\u001b[0;31mAttributeError\u001b[0m: 'Retangulo' object has no attribute 'x'"
          ]
        }
      ]
    }
  ]
}