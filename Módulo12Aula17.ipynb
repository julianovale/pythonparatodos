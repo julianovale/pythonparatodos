{
  "nbformat": 4,
  "nbformat_minor": 0,
  "metadata": {
    "colab": {
      "name": "Módulo12Aula17.ipynb",
      "provenance": [],
      "collapsed_sections": [],
      "authorship_tag": "ABX9TyPioWhtz3k+Wa3b44zeX5Ej",
      "include_colab_link": true
    },
    "kernelspec": {
      "name": "python3",
      "display_name": "Python 3"
    }
  },
  "cells": [
    {
      "cell_type": "markdown",
      "metadata": {
        "id": "view-in-github",
        "colab_type": "text"
      },
      "source": [
        "<a href=\"https://colab.research.google.com/github/julianovale/pythonparatodos/blob/main/M%C3%B3dulo12Aula17.ipynb\" target=\"_parent\"><img src=\"https://colab.research.google.com/assets/colab-badge.svg\" alt=\"Open In Colab\"/></a>"
      ]
    },
    {
      "cell_type": "code",
      "metadata": {
        "id": "QyQMQ-e8O7nl"
      },
      "source": [
        "class A():\r\n",
        "  def __init__(self, x = 1, y = 2):\r\n",
        "    self.x = x\r\n",
        "    self.y = y\r\n",
        "    print('x = ', self.x, 'y = ', self.y)\r\n",
        "\r\n",
        "class B():\r\n",
        "  def __init__(self, z = 0):\r\n",
        "    self.z = z\r\n",
        "    print('z = ', self.z)\r\n",
        "\r\n",
        "class AB(A, B):\r\n",
        "  def __init__(self, x, y, z = 3):\r\n",
        "    A.__init__(self, x, y)\r\n",
        "    B.__init__(self, z)"
      ],
      "execution_count": 3,
      "outputs": []
    },
    {
      "cell_type": "code",
      "metadata": {
        "colab": {
          "base_uri": "https://localhost:8080/"
        },
        "id": "2XHTr7ktQIG0",
        "outputId": "23b1525f-1922-4a92-9adf-88159306ee38"
      },
      "source": [
        "print(\"objA:\")\r\n",
        "objA = A(4,5)\r\n",
        "print(\"objB:\")\r\n",
        "objB = B(6)\r\n",
        "print(\"objC:\")\r\n",
        "objC = AB(8,9)"
      ],
      "execution_count": 4,
      "outputs": [
        {
          "output_type": "stream",
          "text": [
            "objA:\n",
            "x =  4 y =  5\n",
            "objB:\n",
            "z =  6\n",
            "objC:\n",
            "x =  8 y =  9\n",
            "z =  3\n"
          ],
          "name": "stdout"
        }
      ]
    },
    {
      "cell_type": "code",
      "metadata": {
        "colab": {
          "base_uri": "https://localhost:8080/"
        },
        "id": "yNQaA8qHQVH8",
        "outputId": "1a7cbebb-b41d-440c-a938-271808fe4fbe"
      },
      "source": [
        "objC = AB(8,9,-4)"
      ],
      "execution_count": 5,
      "outputs": [
        {
          "output_type": "stream",
          "text": [
            "x =  8 y =  9\n",
            "z =  -4\n"
          ],
          "name": "stdout"
        }
      ]
    }
  ]
}