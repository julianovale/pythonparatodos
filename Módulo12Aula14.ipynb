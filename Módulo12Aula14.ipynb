{
  "nbformat": 4,
  "nbformat_minor": 0,
  "metadata": {
    "colab": {
      "name": "Módulo12Aula14.ipynb",
      "provenance": [],
      "collapsed_sections": [],
      "authorship_tag": "ABX9TyOqfbskKPPnBiuVi/+lVgmZ",
      "include_colab_link": true
    },
    "kernelspec": {
      "name": "python3",
      "display_name": "Python 3"
    }
  },
  "cells": [
    {
      "cell_type": "markdown",
      "metadata": {
        "id": "view-in-github",
        "colab_type": "text"
      },
      "source": [
        "<a href=\"https://colab.research.google.com/github/julianovale/pythonparatodos/blob/main/M%C3%B3dulo12Aula14.ipynb\" target=\"_parent\"><img src=\"https://colab.research.google.com/assets/colab-badge.svg\" alt=\"Open In Colab\"/></a>"
      ]
    },
    {
      "cell_type": "code",
      "metadata": {
        "id": "clSdA4-rNT3z"
      },
      "source": [
        "class Exemplo:\r\n",
        "  nome = \"Nome_exemplo\"\r\n",
        "\r\n",
        "  @staticmethod\r\n",
        "  def static():\r\n",
        "    print(\"%s static() chamada Exemplo\" % Exemplo.nome)\r\n",
        "\r\n",
        "class Filha1(Exemplo):\r\n",
        "  nome = \"Nome_Filha1\"\r\n",
        "\r\n",
        "class Filha2(Exemplo):\r\n",
        "  nome = \"Nome_Filha2\"\r\n",
        "\r\n",
        "  @staticmethod\r\n",
        "  def static():\r\n",
        "    print(\"%s static() chamada Filha2\" % Filha2.nome)"
      ],
      "execution_count": 11,
      "outputs": []
    },
    {
      "cell_type": "code",
      "metadata": {
        "colab": {
          "base_uri": "https://localhost:8080/"
        },
        "id": "3kyE8CG2OKNR",
        "outputId": "88d5c13e-9246-4177-cc17-34c383b7ff1e"
      },
      "source": [
        "Exemplo.static()\r\n",
        "Filha1.static()\r\n",
        "Filha2.static()"
      ],
      "execution_count": 12,
      "outputs": [
        {
          "output_type": "stream",
          "text": [
            "Nome_exemplo static() chamada Exemplo\n",
            "Nome_exemplo static() chamada Exemplo\n",
            "Nome_Filha2 static() chamada Filha2\n"
          ],
          "name": "stdout"
        }
      ]
    }
  ]
}