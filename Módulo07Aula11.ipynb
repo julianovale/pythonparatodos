{
  "nbformat": 4,
  "nbformat_minor": 0,
  "metadata": {
    "colab": {
      "name": "Módulo07Aula11.ipynb",
      "provenance": [],
      "collapsed_sections": [],
      "authorship_tag": "ABX9TyM/BHMiizOut9jsfKtmFri2",
      "include_colab_link": true
    },
    "kernelspec": {
      "name": "python3",
      "display_name": "Python 3"
    }
  },
  "cells": [
    {
      "cell_type": "markdown",
      "metadata": {
        "id": "view-in-github",
        "colab_type": "text"
      },
      "source": [
        "<a href=\"https://colab.research.google.com/github/julianovale/pythonparatodos/blob/main/M%C3%B3dulo07Aula11.ipynb\" target=\"_parent\"><img src=\"https://colab.research.google.com/assets/colab-badge.svg\" alt=\"Open In Colab\"/></a>"
      ]
    },
    {
      "cell_type": "markdown",
      "metadata": {
        "id": "bCcoXwscE8oR"
      },
      "source": [
        "Pdf da aula 11:\r\n",
        "\r\n",
        "https://drive.google.com/file/d/1TLtPVS6EWzwbUSwulziDaZE9LFnAT0HL/view"
      ]
    },
    {
      "cell_type": "code",
      "metadata": {
        "id": "sox8ejyBFHBe"
      },
      "source": [
        "def somaL(lista1):\r\n",
        "  soma = 0\r\n",
        "  for i in lista1:\r\n",
        "    soma = soma+i\r\n",
        "  return soma"
      ],
      "execution_count": null,
      "outputs": []
    },
    {
      "cell_type": "code",
      "metadata": {
        "id": "htXXp11YFQTh"
      },
      "source": [
        "lista1 = [2, -6, 7, 8]\r\n",
        "soma = somaL(lista1)\r\n",
        "print(lista1)\r\n",
        "print(\"Soma dos elementos = {0:.2f}\".format(soma))"
      ],
      "execution_count": null,
      "outputs": []
    }
  ]
}