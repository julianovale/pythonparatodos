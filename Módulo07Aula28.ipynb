{
  "nbformat": 4,
  "nbformat_minor": 0,
  "metadata": {
    "colab": {
      "name": "Módulo07Aula28.ipynb",
      "provenance": [],
      "collapsed_sections": [],
      "authorship_tag": "ABX9TyOZNTldhBYmBSy7gsLYK1uh",
      "include_colab_link": true
    },
    "kernelspec": {
      "name": "python3",
      "display_name": "Python 3"
    }
  },
  "cells": [
    {
      "cell_type": "markdown",
      "metadata": {
        "id": "view-in-github",
        "colab_type": "text"
      },
      "source": [
        "<a href=\"https://colab.research.google.com/github/julianovale/pythonparatodos/blob/main/M%C3%B3dulo07Aula28.ipynb\" target=\"_parent\"><img src=\"https://colab.research.google.com/assets/colab-badge.svg\" alt=\"Open In Colab\"/></a>"
      ]
    },
    {
      "cell_type": "markdown",
      "metadata": {
        "id": "iKrhCHFG9sVY"
      },
      "source": [
        "Slides da apresentação:\r\n",
        "\r\n",
        "https://drive.google.com/file/d/1WIvRAY1iTZ5lCqeAvsbB6XSj1z3kAxWz/view"
      ]
    },
    {
      "cell_type": "code",
      "metadata": {
        "id": "QVZtVDijL6ZD"
      },
      "source": [
        "def ma(lista):\r\n",
        "  soma = 0\r\n",
        "  n = len(lista)\r\n",
        "  for i in lista:\r\n",
        "    soma = soma + i\r\n",
        "  total = soma/n\r\n",
        "  return total\r\n",
        "\r\n",
        "def calcSQD(lista):\r\n",
        "  med = ma(lista)\r\n",
        "  soma = 0\r\n",
        "  for i in lista:\r\n",
        "    soma = soma + (i - med)**2\r\n",
        "  return soma\r\n",
        "\r\n",
        "def devPP(lista):\r\n",
        "  soma = calcSQD(lista)\r\n",
        "  n = len(lista)\r\n",
        "  total = soma/n\r\n",
        "  dpp = total**(1/2)\r\n",
        "  return dpp\r\n",
        "\r\n",
        "def devPA(lista):\r\n",
        "  soma = calcSQD(lista)\r\n",
        "  n = len(lista)\r\n",
        "  total = soma/(n-1)\r\n",
        "  dpp = total**(1/2)\r\n",
        "  return dpp\r\n",
        "\r\n",
        "def desviop(**par):\r\n",
        "  lista = par['lista']\r\n",
        "  tip = par['tip']\r\n",
        "  if (tip == 0): # Desvio padrão populacional\r\n",
        "    r = devPP(lista)\r\n",
        "  else: # Desvio padrão amostral\r\n",
        "    r = devPA(lista)\r\n",
        "  return r"
      ],
      "execution_count": 19,
      "outputs": []
    },
    {
      "cell_type": "code",
      "metadata": {
        "colab": {
          "base_uri": "https://localhost:8080/"
        },
        "id": "qPQgFxOGL8la",
        "outputId": "df391276-45de-44ca-c697-ae14f430c64d"
      },
      "source": [
        "l1 = [7,8,9]\r\n",
        "t = 0\r\n",
        "m1 = desviop(tip = t, lista = l1)\r\n",
        "print(\"desvio padrão populacional = {0:.2f}\".format(m1))\r\n",
        "\r\n",
        "l1 = [7,8,9]\r\n",
        "t = 1\r\n",
        "m1 = desviop(tip = t, lista = l1)\r\n",
        "print(\"desvio padrão amostral = {0:.2f}\".format(m1))"
      ],
      "execution_count": 20,
      "outputs": [
        {
          "output_type": "stream",
          "text": [
            "desvio padrão populacional = 0.82\n",
            "desvio padrão amostral = 1.00\n"
          ],
          "name": "stdout"
        }
      ]
    }
  ]
}