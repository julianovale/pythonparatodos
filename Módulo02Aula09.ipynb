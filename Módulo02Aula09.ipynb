{
  "nbformat": 4,
  "nbformat_minor": 0,
  "metadata": {
    "colab": {
      "name": "Módulo02Aula09.ipynb",
      "provenance": [],
      "collapsed_sections": [],
      "authorship_tag": "ABX9TyPdXqYiGmQVmgsS5Ao3KY76",
      "include_colab_link": true
    },
    "kernelspec": {
      "name": "python3",
      "display_name": "Python 3"
    }
  },
  "cells": [
    {
      "cell_type": "markdown",
      "metadata": {
        "id": "view-in-github",
        "colab_type": "text"
      },
      "source": [
        "<a href=\"https://colab.research.google.com/github/julianovale/pythonparatodos/blob/main/M%C3%B3dulo02Aula09.ipynb\" target=\"_parent\"><img src=\"https://colab.research.google.com/assets/colab-badge.svg\" alt=\"Open In Colab\"/></a>"
      ]
    },
    {
      "cell_type": "markdown",
      "metadata": {
        "id": "eDuDJh4n3g2z"
      },
      "source": [
        "# Dicionários"
      ]
    },
    {
      "cell_type": "code",
      "metadata": {
        "id": "JA2_m7Xg3JsL"
      },
      "source": [
        "cores = {1: 'blue', 2: 'red', 3: 'green'}\n",
        "dados = {'x': [1,2,3,4,5],\n",
        "         'y': [1,4,9,16,25]}"
      ],
      "execution_count": 12,
      "outputs": []
    },
    {
      "cell_type": "code",
      "metadata": {
        "colab": {
          "base_uri": "https://localhost:8080/"
        },
        "id": "dtaaGZIU35ZR",
        "outputId": "97f7143e-1c92-4faa-f445-9b9cf4975b61"
      },
      "source": [
        "print(dados['y'])\n",
        "print(cores[2])\n",
        "print(cores)"
      ],
      "execution_count": 4,
      "outputs": [
        {
          "output_type": "stream",
          "text": [
            "[1, 4, 9, 16, 25]\n",
            "red\n",
            "{1: 'blue', 2: 'red', 3: 'green'}\n"
          ],
          "name": "stdout"
        }
      ]
    },
    {
      "cell_type": "code",
      "metadata": {
        "colab": {
          "base_uri": "https://localhost:8080/"
        },
        "id": "HnBBOJro4P1T",
        "outputId": "af28152b-5c12-4295-fd52-39d884daf47e"
      },
      "source": [
        "print(cores.keys())\n",
        "print(dados.values())\n",
        "print(cores.items())\n",
        "print(dados.items())"
      ],
      "execution_count": 9,
      "outputs": [
        {
          "output_type": "stream",
          "text": [
            "dict_keys([1, 2, 3])\n",
            "dict_values([[1, 2, 3, 4, 5], [1, 4, 9, 16, 25]])\n",
            "dict_items([(1, 'blue'), (2, 'red'), (3, 'green')])\n",
            "dict_items([('x', [1, 2, 3, 4, 5]), ('y', [1, 4, 9, 16, 25])])\n"
          ],
          "name": "stdout"
        }
      ]
    },
    {
      "cell_type": "code",
      "metadata": {
        "colab": {
          "base_uri": "https://localhost:8080/"
        },
        "id": "oRjGgNF74teJ",
        "outputId": "bfbe4358-773f-4e9b-f5d6-454d8f052561"
      },
      "source": [
        "cores['4'] = 'black'\n",
        "print(cores)"
      ],
      "execution_count": 10,
      "outputs": [
        {
          "output_type": "stream",
          "text": [
            "{1: 'blue', 2: 'red', 3: 'green', '4': 'black'}\n"
          ],
          "name": "stdout"
        }
      ]
    },
    {
      "cell_type": "code",
      "metadata": {
        "colab": {
          "base_uri": "https://localhost:8080/"
        },
        "id": "hqDIbVlc43jL",
        "outputId": "3493af22-edca-449e-dd79-d5523d18bb42"
      },
      "source": [
        "print(dados)\n",
        "dados['x'][0] = 0\n",
        "print(dados)"
      ],
      "execution_count": 13,
      "outputs": [
        {
          "output_type": "stream",
          "text": [
            "{'x': [1, 2, 3, 4, 5], 'y': [1, 4, 9, 16, 25]}\n",
            "{'x': [0, 2, 3, 4, 5], 'y': [1, 4, 9, 16, 25]}\n"
          ],
          "name": "stdout"
        }
      ]
    }
  ]
}