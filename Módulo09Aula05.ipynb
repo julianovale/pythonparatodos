{
  "nbformat": 4,
  "nbformat_minor": 0,
  "metadata": {
    "colab": {
      "name": "Módulo09Aula05.ipynb",
      "provenance": [],
      "collapsed_sections": [],
      "authorship_tag": "ABX9TyPalQVgGJaB7EVvPtGr0BfU",
      "include_colab_link": true
    },
    "kernelspec": {
      "name": "python3",
      "display_name": "Python 3"
    }
  },
  "cells": [
    {
      "cell_type": "markdown",
      "metadata": {
        "id": "view-in-github",
        "colab_type": "text"
      },
      "source": [
        "<a href=\"https://colab.research.google.com/github/julianovale/pythonparatodos/blob/main/M%C3%B3dulo09Aula05.ipynb\" target=\"_parent\"><img src=\"https://colab.research.google.com/assets/colab-badge.svg\" alt=\"Open In Colab\"/></a>"
      ]
    },
    {
      "cell_type": "code",
      "metadata": {
        "id": "TaoljHtT3tm1"
      },
      "source": [
        "import pandas as pd\r\n",
        "import requests\r\n",
        "\r\n",
        "header = {\r\n",
        "    'User-Agent':'Mozilla/5.0 (Windows NT 6.1; Win64; x64; rv:47.0) Gecko/20100101 Firefox/47.0',\r\n",
        "    'X-Requested-With': 'XMLHttpRequest'\r\n",
        "}\r\n",
        "\r\n",
        "def readDataYield(name):\r\n",
        "  print('Leitura dos dados da empresa '+name)\r\n",
        "  filename = base_url+str(name)\r\n",
        "  r = requests.get(filename, headers=header)\r\n",
        "  dt = pd.read_html(r.text)\r\n",
        "\r\n",
        "  yi = 0\r\n",
        "  if (len(dt) > 1):\r\n",
        "    tab = dt[2]\r\n",
        "    m,n = tab.shape\r\n",
        "    if (m > 7):\r\n",
        "      if (n > 2):\r\n",
        "        yi = tab.iloc[8,3]\r\n",
        "      else:\r\n",
        "        print('Faltou dado!')\r\n",
        "    else:\r\n",
        "      print('Faltou dado!')\r\n",
        "  else:\r\n",
        "    print('Faltou dado!')\r\n",
        "  return yi"
      ],
      "execution_count": 41,
      "outputs": []
    },
    {
      "cell_type": "code",
      "metadata": {
        "id": "qkIXHoP4Aw13"
      },
      "source": [
        "# Leituras dos tickers das empresas\r\n",
        "url = 'http://fundamentus.com.br/detalhes.php?papel='\r\n",
        "r = requests.get(url, headers=header)\r\n",
        "d = pd.read_html(r.text)\r\n",
        "d\r\n",
        "df = d[0]\r\n",
        "\r\n",
        "base_url = 'http://fundamentus.com.br/detalhes.php?papel='\r\n",
        "name = list(df['Papel'])\r\n",
        "comercial = list(df['Nome Comercial'])"
      ],
      "execution_count": 42,
      "outputs": []
    },
    {
      "cell_type": "code",
      "metadata": {
        "colab": {
          "base_uri": "https://localhost:8080/",
          "height": 53
        },
        "id": "KNVK_2IJnhWa",
        "outputId": "c24dc150-7b75-43ba-fe66-813d14e7ac5a"
      },
      "source": [
        "i = 35\r\n",
        "yi = readDataYield(name[i])\r\n",
        "yi"
      ],
      "execution_count": 43,
      "outputs": [
        {
          "output_type": "stream",
          "text": [
            "Leitura dos dados da empresa ALUP3\n"
          ],
          "name": "stdout"
        },
        {
          "output_type": "execute_result",
          "data": {
            "application/vnd.google.colaboratory.intrinsic+json": {
              "type": "string"
            },
            "text/plain": [
              "'2,7%'"
            ]
          },
          "metadata": {
            "tags": []
          },
          "execution_count": 43
        }
      ]
    }
  ]
}