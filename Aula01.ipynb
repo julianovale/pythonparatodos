{
  "nbformat": 4,
  "nbformat_minor": 0,
  "metadata": {
    "colab": {
      "name": "Aula01.ipynb",
      "provenance": [],
      "authorship_tag": "ABX9TyPEdMJ7Wgk7u++7Zj8iSWWq",
      "include_colab_link": true
    },
    "kernelspec": {
      "name": "python3",
      "display_name": "Python 3"
    }
  },
  "cells": [
    {
      "cell_type": "markdown",
      "metadata": {
        "id": "view-in-github",
        "colab_type": "text"
      },
      "source": [
        "<a href=\"https://colab.research.google.com/github/julianovale/pythonparatodos/blob/main/Aula01.ipynb\" target=\"_parent\"><img src=\"https://colab.research.google.com/assets/colab-badge.svg\" alt=\"Open In Colab\"/></a>"
      ]
    },
    {
      "cell_type": "code",
      "metadata": {
        "colab": {
          "base_uri": "https://localhost:8080/"
        },
        "id": "eN7p1uY4XuTF",
        "outputId": "7b9b453f-a163-45a1-da06-6c9822ac94c2"
      },
      "source": [
        "nome = \"Juliano\"\n",
        "var = 45\n",
        "print(nome)\n",
        "print(var)"
      ],
      "execution_count": 5,
      "outputs": [
        {
          "output_type": "stream",
          "text": [
            "Juliano\n",
            "45\n"
          ],
          "name": "stdout"
        }
      ]
    }
  ]
}