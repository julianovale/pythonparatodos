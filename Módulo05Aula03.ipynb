{
  "nbformat": 4,
  "nbformat_minor": 0,
  "metadata": {
    "colab": {
      "name": "Módulo05Aula03.ipynb",
      "provenance": [],
      "collapsed_sections": [],
      "authorship_tag": "ABX9TyM7sN2lCX8TwVemIGxk8L8Q",
      "include_colab_link": true
    },
    "kernelspec": {
      "name": "python3",
      "display_name": "Python 3"
    }
  },
  "cells": [
    {
      "cell_type": "markdown",
      "metadata": {
        "id": "view-in-github",
        "colab_type": "text"
      },
      "source": [
        "<a href=\"https://colab.research.google.com/github/julianovale/pythonparatodos/blob/main/M%C3%B3dulo05Aula03.ipynb\" target=\"_parent\"><img src=\"https://colab.research.google.com/assets/colab-badge.svg\" alt=\"Open In Colab\"/></a>"
      ]
    },
    {
      "cell_type": "code",
      "metadata": {
        "id": "Suj92k7j_ECD",
        "colab": {
          "base_uri": "https://localhost:8080/"
        },
        "outputId": "3c541496-d333-4a07-cbd9-1efdb6e4fc98"
      },
      "source": [
        "temp = 30\r\n",
        "if temp > 25:\r\n",
        "  print('1: Ligar ar')\r\n",
        "  temp = temp - 5\r\n",
        "else:\r\n",
        "  print('2: Temperatura = '+str(temp))\r\n",
        "\r\n",
        "if temp > 25:\r\n",
        "  print('3: Reduzir temperatura')\r\n",
        "  temp = temp - 5\r\n",
        "else: \r\n",
        "  print(\"4: Temperatura = \"+str(temp))\r\n",
        "\r\n",
        "print('5: Temperatura final = '+str(temp))\r\n"
      ],
      "execution_count": 6,
      "outputs": [
        {
          "output_type": "stream",
          "text": [
            "1: Ligar ar\n",
            "4: Temperatura = 25\n",
            "5: Temperatura final = 25\n"
          ],
          "name": "stdout"
        }
      ]
    }
  ]
}