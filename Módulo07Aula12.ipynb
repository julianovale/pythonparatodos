{
  "nbformat": 4,
  "nbformat_minor": 0,
  "metadata": {
    "colab": {
      "name": "Módulo07Aula12.ipynb",
      "provenance": [],
      "authorship_tag": "ABX9TyN7KVfEKE9YLCywqNeyshVW",
      "include_colab_link": true
    },
    "kernelspec": {
      "name": "python3",
      "display_name": "Python 3"
    }
  },
  "cells": [
    {
      "cell_type": "markdown",
      "metadata": {
        "id": "view-in-github",
        "colab_type": "text"
      },
      "source": [
        "<a href=\"https://colab.research.google.com/github/julianovale/pythonparatodos/blob/main/M%C3%B3dulo07Aula12.ipynb\" target=\"_parent\"><img src=\"https://colab.research.google.com/assets/colab-badge.svg\" alt=\"Open In Colab\"/></a>"
      ]
    },
    {
      "cell_type": "code",
      "metadata": {
        "colab": {
          "base_uri": "https://localhost:8080/"
        },
        "id": "Z58VXQfrLDbd",
        "outputId": "5ee61b2b-a2e5-4033-89fa-b2a349f0a80f"
      },
      "source": [
        "def media(lista):\r\n",
        "  soma = 0\r\n",
        "  cont = 0\r\n",
        "  for xi in lista:\r\n",
        "    cont = cont + 1\r\n",
        "    soma = soma + xi\r\n",
        "  med = soma/cont\r\n",
        "  return med\r\n",
        "\r\n",
        "lista1 = [7, 8, 9]\r\n",
        "m = media(lista1)\r\n",
        "print(lista1)\r\n",
        "print('Média = '+str(m))"
      ],
      "execution_count": 1,
      "outputs": [
        {
          "output_type": "stream",
          "text": [
            "[7, 8, 9]\n",
            "Média = 8.0\n"
          ],
          "name": "stdout"
        }
      ]
    }
  ]
}