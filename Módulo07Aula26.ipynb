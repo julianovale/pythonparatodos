{
  "nbformat": 4,
  "nbformat_minor": 0,
  "metadata": {
    "colab": {
      "name": "Módulo07Aula26.ipynb",
      "provenance": [],
      "collapsed_sections": [],
      "authorship_tag": "ABX9TyON7x3AMSNkdv7+pdZ9NYm8",
      "include_colab_link": true
    },
    "kernelspec": {
      "name": "python3",
      "display_name": "Python 3"
    }
  },
  "cells": [
    {
      "cell_type": "markdown",
      "metadata": {
        "id": "view-in-github",
        "colab_type": "text"
      },
      "source": [
        "<a href=\"https://colab.research.google.com/github/julianovale/pythonparatodos/blob/main/M%C3%B3dulo07Aula26.ipynb\" target=\"_parent\"><img src=\"https://colab.research.google.com/assets/colab-badge.svg\" alt=\"Open In Colab\"/></a>"
      ]
    },
    {
      "cell_type": "markdown",
      "metadata": {
        "id": "wk26eMDZfLPZ"
      },
      "source": [
        "Slides da aula:\r\n",
        "https://drive.google.com/file/d/1kPictJAroso99byyH21cy5rKuu00r_X2/view\r\n",
        "\r\n",
        "Vídeo da aula:\r\n",
        "https://www.youtube.com/watch?v=tncUj65VO-M&list=PLH9knZH6lcgo0ndsXfwX0CGO_ad1t6cSO&index=79\r\n"
      ]
    },
    {
      "cell_type": "markdown",
      "metadata": {
        "id": "cAs2jvXEc1kJ"
      },
      "source": [
        "Palíndromo: arara"
      ]
    },
    {
      "cell_type": "code",
      "metadata": {
        "id": "kt5nPDqvcpIK"
      },
      "source": [
        "def verif_palindromo(pa):\r\n",
        "  pa = pa.upper()\r\n",
        "  n = len(pa)\r\n",
        "  num = int(n/2)\r\n",
        "  verif = True\r\n",
        "  for i in range(0,num):\r\n",
        "    j = n-(i+1)\r\n",
        "    print(\"pa[{0:d}] = {1:s}\".format(i,pa[i]))\r\n",
        "    print(\"pa[{0:d}] = {1:s}\".format(j,pa[j]))\r\n",
        "    if (pa[i] != pa[j]): # ver slides... interessante!!!\r\n",
        "      verif = False\r\n",
        "      break\r\n",
        "  return verif"
      ],
      "execution_count": 11,
      "outputs": []
    },
    {
      "cell_type": "code",
      "metadata": {
        "colab": {
          "base_uri": "https://localhost:8080/"
        },
        "id": "kLjCN99yiEAn",
        "outputId": "1863bfc0-6dd2-4d0a-d5d3-a4be090714ac"
      },
      "source": [
        "p = \"socorrammesubinoonibusemmarrocos\"\r\n",
        "if (verif_palindromo(p)):\r\n",
        "  print(\"A palavra '{0:s}' é um palíndromo\".format(p))\r\n",
        "else:\r\n",
        "  print(\"A palavra '{0:s}' não é um palídromo\".format(p))"
      ],
      "execution_count": 19,
      "outputs": [
        {
          "output_type": "stream",
          "text": [
            "pa[0] = S\n",
            "pa[31] = S\n",
            "pa[1] = O\n",
            "pa[30] = O\n",
            "pa[2] = C\n",
            "pa[29] = C\n",
            "pa[3] = O\n",
            "pa[28] = O\n",
            "pa[4] = R\n",
            "pa[27] = R\n",
            "pa[5] = R\n",
            "pa[26] = R\n",
            "pa[6] = A\n",
            "pa[25] = A\n",
            "pa[7] = M\n",
            "pa[24] = M\n",
            "pa[8] = M\n",
            "pa[23] = M\n",
            "pa[9] = E\n",
            "pa[22] = E\n",
            "pa[10] = S\n",
            "pa[21] = S\n",
            "pa[11] = U\n",
            "pa[20] = U\n",
            "pa[12] = B\n",
            "pa[19] = B\n",
            "pa[13] = I\n",
            "pa[18] = I\n",
            "pa[14] = N\n",
            "pa[17] = N\n",
            "pa[15] = O\n",
            "pa[16] = O\n",
            "A palavra 'socorrammesubinoonibusemmarrocos' é um palíndromo\n"
          ],
          "name": "stdout"
        }
      ]
    }
  ]
}