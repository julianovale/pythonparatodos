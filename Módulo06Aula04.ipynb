{
  "nbformat": 4,
  "nbformat_minor": 0,
  "metadata": {
    "colab": {
      "name": "Módulo06Aula04.ipynb",
      "provenance": [],
      "collapsed_sections": [],
      "authorship_tag": "ABX9TyO3IBv0U5hqry1z0Aa6WZ5R",
      "include_colab_link": true
    },
    "kernelspec": {
      "name": "python3",
      "display_name": "Python 3"
    }
  },
  "cells": [
    {
      "cell_type": "markdown",
      "metadata": {
        "id": "view-in-github",
        "colab_type": "text"
      },
      "source": [
        "<a href=\"https://colab.research.google.com/github/julianovale/pythonparatodos/blob/main/M%C3%B3dulo06Aula04.ipynb\" target=\"_parent\"><img src=\"https://colab.research.google.com/assets/colab-badge.svg\" alt=\"Open In Colab\"/></a>"
      ]
    },
    {
      "cell_type": "code",
      "metadata": {
        "colab": {
          "base_uri": "https://localhost:8080/"
        },
        "id": "Ti7CubS6j2z-",
        "outputId": "905867a7-bec2-43ec-f634-65ab1ee18f9a"
      },
      "source": [
        "'''Números pares até x'''\r\n",
        "x = int(input('entre com x: ') or 10)\r\n",
        "i = 0\r\n",
        "while (i <= x):\r\n",
        "  if (i % 2 == 0):\r\n",
        "    print(i)\r\n",
        "  i += 1"
      ],
      "execution_count": 7,
      "outputs": [
        {
          "output_type": "stream",
          "text": [
            "entre com x: 10\n",
            "0\n",
            "2\n",
            "4\n",
            "6\n",
            "8\n",
            "10\n"
          ],
          "name": "stdout"
        }
      ]
    },
    {
      "cell_type": "code",
      "metadata": {
        "colab": {
          "base_uri": "https://localhost:8080/"
        },
        "id": "oKL45RQrolbZ",
        "outputId": "fcd21248-ba01-4d74-cb2d-1f67d8270b4f"
      },
      "source": [
        "'''Números impares até x'''\r\n",
        "x = int(input('entre com x: ') or 10)\r\n",
        "i = 0\r\n",
        "while (i <= x):\r\n",
        "  if (i % 2 == 1):\r\n",
        "    print(i)\r\n",
        "  i += 1"
      ],
      "execution_count": 10,
      "outputs": [
        {
          "output_type": "stream",
          "text": [
            "entre com x: \n",
            "1\n",
            "3\n",
            "5\n",
            "7\n",
            "9\n"
          ],
          "name": "stdout"
        }
      ]
    }
  ]
}