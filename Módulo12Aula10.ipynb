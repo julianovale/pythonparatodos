{
  "nbformat": 4,
  "nbformat_minor": 0,
  "metadata": {
    "colab": {
      "name": "Módulo12Aula10.ipynb",
      "provenance": [],
      "collapsed_sections": [],
      "authorship_tag": "ABX9TyPsrUk7H/5tVYqg2YZpwleH",
      "include_colab_link": true
    },
    "kernelspec": {
      "name": "python3",
      "display_name": "Python 3"
    }
  },
  "cells": [
    {
      "cell_type": "markdown",
      "metadata": {
        "id": "view-in-github",
        "colab_type": "text"
      },
      "source": [
        "<a href=\"https://colab.research.google.com/github/julianovale/pythonparatodos/blob/main/M%C3%B3dulo12Aula10.ipynb\" target=\"_parent\"><img src=\"https://colab.research.google.com/assets/colab-badge.svg\" alt=\"Open In Colab\"/></a>"
      ]
    },
    {
      "cell_type": "code",
      "metadata": {
        "colab": {
          "base_uri": "https://localhost:8080/"
        },
        "id": "GMgS5GztQtF5",
        "outputId": "e9a34f15-7c27-4e5e-ef99-22dbb6e1a83e"
      },
      "source": [
        "class Aviao:\r\n",
        "  _counter = 0\r\n",
        "\r\n",
        "  def __init__(self):\r\n",
        "    Aviao._counter += 1\r\n",
        "\r\n",
        "  def __del__(self):  \r\n",
        "    Aviao._counter -= 1\r\n",
        "\r\n",
        "a = Aviao()\r\n",
        "print(\"counter = \",a._counter) # tanto faz chamar na variável...\r\n",
        "b = Aviao()\r\n",
        "print(\"counter = \",Aviao._counter) # ou na classe, pois o contador está \"static\"\r\n",
        "c = Aviao()\r\n",
        "print(\"counter = \",c._counter)\r\n",
        "del a\r\n",
        "print(\"counter = \",Aviao._counter)\r\n",
        "del b\r\n",
        "print(\"counter = \",Aviao._counter)\r\n",
        "del c\r\n",
        "print(\"counter = \",Aviao._counter)"
      ],
      "execution_count": 52,
      "outputs": [
        {
          "output_type": "stream",
          "text": [
            "counter =  1\n",
            "counter =  2\n",
            "counter =  3\n",
            "counter =  2\n",
            "counter =  1\n",
            "counter =  0\n"
          ],
          "name": "stdout"
        }
      ]
    }
  ]
}