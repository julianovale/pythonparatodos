{
  "nbformat": 4,
  "nbformat_minor": 0,
  "metadata": {
    "colab": {
      "name": "Módulo05Aula08.ipynb",
      "provenance": [],
      "collapsed_sections": [],
      "authorship_tag": "ABX9TyMLlajEwXVVJsLoiF+uaEVU",
      "include_colab_link": true
    },
    "kernelspec": {
      "name": "python3",
      "display_name": "Python 3"
    }
  },
  "cells": [
    {
      "cell_type": "markdown",
      "metadata": {
        "id": "view-in-github",
        "colab_type": "text"
      },
      "source": [
        "<a href=\"https://colab.research.google.com/github/julianovale/pythonparatodos/blob/main/M%C3%B3dulo05Aula08.ipynb\" target=\"_parent\"><img src=\"https://colab.research.google.com/assets/colab-badge.svg\" alt=\"Open In Colab\"/></a>"
      ]
    },
    {
      "cell_type": "markdown",
      "metadata": {
        "id": "iv48-l29RxpS"
      },
      "source": [
        "Slides\r\n",
        "\r\n",
        "https://drive.google.com/file/d/1SoJ8epsxy-kOZzXfsWGNgX0WTSVCIWux/view"
      ]
    },
    {
      "cell_type": "code",
      "metadata": {
        "colab": {
          "base_uri": "https://localhost:8080/"
        },
        "id": "tqZ7uC2HRn6N",
        "outputId": "6312a873-cb41-425d-a0ec-eda707f8a20b"
      },
      "source": [
        "sal = input('entre com o salário bruto: ')\r\n",
        "sal = float(sal)\r\n",
        "if sal <= 1903.98:\r\n",
        "  faixa = 0\r\n",
        "  deducao = 0\r\n",
        "elif sal > 1903.98 and sal <= 2826.65:\r\n",
        "  faixa = 0.075\r\n",
        "  deducao = 142.8\r\n",
        "elif sal > 2826.65 and sal <= 3751.05:\r\n",
        "  faixa = 0.15\r\n",
        "  deducao = 354.8\r\n",
        "elif sal > 3751.05 and sal <= 4664.68:\r\n",
        "  faixa = 0.225\r\n",
        "  deducao = 636.13\r\n",
        "else:\r\n",
        "  faixa = 0.275\r\n",
        "  deducao = 869.36\r\n",
        "\r\n",
        "salario = sal - ((sal*faixa)-deducao)\r\n",
        "print('Salário bruto: ',sal)\r\n",
        "print('Faixa de imposto: ',faixa*100,'%')\r\n",
        "print('Dedução: R$ ',deducao) \r\n",
        "print('Imposto a deduzir: R$',(sal*faixa)-deducao)\r\n",
        "print('Salário líquido: ',salario) "
      ],
      "execution_count": 12,
      "outputs": [
        {
          "output_type": "stream",
          "text": [
            "entre com o salário bruto: 4700\n",
            "Salário bruto:  4700.0\n",
            "Faixa de imposto:  27.500000000000004 %\n",
            "Dedução: R$  869.36\n",
            "Imposto a deduzir: R$ 423.14\n",
            "Salário líquido:  4276.86\n"
          ],
          "name": "stdout"
        }
      ]
    },
    {
      "cell_type": "code",
      "metadata": {
        "colab": {
          "base_uri": "https://localhost:8080/"
        },
        "id": "oxGzIgveV-jP",
        "outputId": "1d79731d-d861-488b-d91f-a8a48aea3865"
      },
      "source": [
        "salario = input('entre com o salário bruto: ')\r\n",
        "salario = float(salario)\r\n",
        "\r\n",
        "fDesc = {0: 0.00, 1: 0.075, 2: 0.15, 3: 0.225, 4: 0.275}\r\n",
        "fVpad = {0: 0.00, 1: 142.8, 2: 354.8, 3: 636.13, 4: 869.36}\r\n",
        "\r\n",
        "if salario <= 1903.98:\r\n",
        "  faixa = 0\r\n",
        "elif salario > 1903.98 and salario <= 2826.65:\r\n",
        "  faixa = 1\r\n",
        "elif salario > 2826.65 and salario <= 3751.04:\r\n",
        "  faixa = 2\r\n",
        "elif salario > 3751.04 and salario <= 4664.68:\r\n",
        "  faixa = 3\r\n",
        "else:\r\n",
        "  faixa = 4\r\n",
        "\r\n",
        "imposto = salario*(fDesc[faixa])\r\n",
        "vpad = fVpad[faixa]\r\n",
        "impapagar = imposto - vpad\r\n",
        "salario_liq = salario - impapagar\r\n",
        "\r\n",
        "salario_liq"
      ],
      "execution_count": 23,
      "outputs": [
        {
          "output_type": "stream",
          "text": [
            "entre com o salário bruto: 4000\n"
          ],
          "name": "stdout"
        },
        {
          "output_type": "execute_result",
          "data": {
            "text/plain": [
              "3736.13"
            ]
          },
          "metadata": {
            "tags": []
          },
          "execution_count": 23
        }
      ]
    }
  ]
}