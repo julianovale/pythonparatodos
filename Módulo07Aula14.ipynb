{
  "nbformat": 4,
  "nbformat_minor": 0,
  "metadata": {
    "colab": {
      "name": "Módulo07Aula14.ipynb",
      "provenance": [],
      "authorship_tag": "ABX9TyMXhnIchn0aVidUWc1Beqic",
      "include_colab_link": true
    },
    "kernelspec": {
      "name": "python3",
      "display_name": "Python 3"
    }
  },
  "cells": [
    {
      "cell_type": "markdown",
      "metadata": {
        "id": "view-in-github",
        "colab_type": "text"
      },
      "source": [
        "<a href=\"https://colab.research.google.com/github/julianovale/pythonparatodos/blob/main/M%C3%B3dulo07Aula14.ipynb\" target=\"_parent\"><img src=\"https://colab.research.google.com/assets/colab-badge.svg\" alt=\"Open In Colab\"/></a>"
      ]
    },
    {
      "cell_type": "code",
      "metadata": {
        "id": "-Db_QwI6Xt7T"
      },
      "source": [
        "def soma_prod(a,b):\r\n",
        "  c = a+b\r\n",
        "  d = a*b\r\n",
        "  return(c,d)\r\n",
        "\r\n",
        "def verif_par(n): # verifica qual par de número cuja soma e produto retornam o mesmo resultado\r\n",
        "  for i in range(1,n+1,1):\r\n",
        "    for j in range(1,n+1,1):\r\n",
        "      c,d = soma_prod(i,j)\r\n",
        "      if (c == d):\r\n",
        "        print('Passou: ({0:d}, {1:d})'.format(i,j))\r\n",
        "        print('Pois: ({0:d}+{1:d},{0:d}*{1:d})=({2:d},{3:d})'.format(i,j,c,d))"
      ],
      "execution_count": 16,
      "outputs": []
    },
    {
      "cell_type": "code",
      "metadata": {
        "colab": {
          "base_uri": "https://localhost:8080/"
        },
        "id": "OBTN11N8YGBM",
        "outputId": "7bee459d-ee05-493f-811e-266e340ba61b"
      },
      "source": [
        "j,i = soma_prod(3,4)\r\n",
        "print(j)\r\n",
        "print(i)"
      ],
      "execution_count": 17,
      "outputs": [
        {
          "output_type": "stream",
          "text": [
            "7\n",
            "12\n"
          ],
          "name": "stdout"
        }
      ]
    },
    {
      "cell_type": "code",
      "metadata": {
        "colab": {
          "base_uri": "https://localhost:8080/"
        },
        "id": "r5hqqxQnaOsA",
        "outputId": "ce3439d8-78d4-4119-a391-46735f1ed7c6"
      },
      "source": [
        "n = 9\r\n",
        "verif_par(n)"
      ],
      "execution_count": 18,
      "outputs": [
        {
          "output_type": "stream",
          "text": [
            "Passou: (2, 2)\n",
            "Pois: (2+2,2*2)=(4,4)\n"
          ],
          "name": "stdout"
        }
      ]
    }
  ]
}