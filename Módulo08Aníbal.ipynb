{
  "nbformat": 4,
  "nbformat_minor": 0,
  "metadata": {
    "colab": {
      "name": "Módulo08Aníbal.ipynb",
      "provenance": [],
      "collapsed_sections": [],
      "include_colab_link": true
    },
    "kernelspec": {
      "name": "python3",
      "display_name": "Python 3"
    }
  },
  "cells": [
    {
      "cell_type": "markdown",
      "metadata": {
        "id": "view-in-github",
        "colab_type": "text"
      },
      "source": [
        "<a href=\"https://colab.research.google.com/github/julianovale/pythonparatodos/blob/main/M%C3%B3dulo08An%C3%ADbal.ipynb\" target=\"_parent\"><img src=\"https://colab.research.google.com/assets/colab-badge.svg\" alt=\"Open In Colab\"/></a>"
      ]
    },
    {
      "cell_type": "markdown",
      "metadata": {
        "id": "yXiZzHZ1BT3L",
        "colab_type": "toc"
      },
      "source": [
        ">[Introdução](#scrollTo=5Idh6y1gyV2T)\n",
        "\n",
        ">[Leitura de dados de arquivos locais](#scrollTo=UT5PZJuHzw8v)\n",
        "\n",
        ">[Leitura de dados de páginas da internet](#scrollTo=eAPlV2Eg0RpO)\n",
        "\n",
        ">[Leitura de dados de arquivos na internet](#scrollTo=MMaDSYK80dV0)\n",
        "\n",
        ">[Conclusão](#scrollTo=YHfe_85F0juM)\n",
        "\n"
      ]
    },
    {
      "cell_type": "markdown",
      "metadata": {
        "id": "5Idh6y1gyV2T"
      },
      "source": [
        "# 1. Introdução\n",
        "\n",
        "**Manipulando dados de arquivos**\n",
        "\n",
        "Esta primeira parte da aula tem por objetivo explicar como e quais comandos estão disponíveis para realizar a leitura e tratamento de dados em arquivos. Para tanto, serão vistas três formas de leitura de dados:\n",
        "\n",
        "* De um arquivo local (no seu computador);\n",
        "* De um arquivo disponível em um endereço da Internet;\n",
        "* De uma página da internet.\n",
        "\n",
        "Será visto também como realizar a leitura de dois tipos de arquivo no Google Colab:\n",
        "\n",
        "1. Arquivo formato xlxs (Excel)\n",
        "2. Arquivo formato csv (comma separated values)\n",
        "\n",
        "Ambos os formatos podem ser abertos no programa Excel ou Google Docs para a realização de verificações adicionais. Nosso intuito, porém é que você consiga realizar a leitura de dados para gerar estatísticas, tratamento de dados e estatísticas. Nesse sentido 3 pacotes do Python serão empregados:\n",
        "\n",
        "* Pandas: leitura e seleção de dados;\n",
        "* Numpy: tratamento e preparação dos dados;\n",
        "* Matplotlib: para criar gráficos de estatísticas;"
      ]
    },
    {
      "cell_type": "markdown",
      "metadata": {
        "id": "UT5PZJuHzw8v"
      },
      "source": [
        "# 2. Leitura de dados de arquivos locais\n",
        "\n",
        "Primeiramente vamos realizar a leitura de um arquivo cvs que esteja no seu computador (arquivo local). Segue o link para o ambiente com a sequência de comandos:\n",
        "\n",
        "https://colab.research.google.com/drive/1mODq6_whQcd9I_S9Ko7LhMQDclyoTwvF?usp=sharing"
      ]
    },
    {
      "cell_type": "markdown",
      "metadata": {
        "id": "eAPlV2Eg0RpO"
      },
      "source": [
        "# 3. Leitura de dados de páginas da internet\n",
        "\n",
        "Um segundo passo sobre leitura de dados é aprender extrair dados de tabelas contidas em páginas da internet. As páginas da internet na verdade são arquivos com formato .html (na verdade é um pouco mais complicado que isso) e existem diversas forma para se gerar esses arquivos. \n",
        "\n",
        "O importante é que existem bibliotecas em Python com comandos para realizar a extração de dados de forma muito eficiente. Mais detalhes no link a seguir:\n",
        "\n",
        "https://colab.research.google.com/drive/1L13D6WrW3mn4hpDN8z85QwcrcssFENp9?usp=sharing"
      ]
    },
    {
      "cell_type": "markdown",
      "metadata": {
        "id": "MMaDSYK80dV0"
      },
      "source": [
        "# 4. Leitura de dados de arquivos na internet\n",
        "\n",
        "Um terceiro passo sobre leitura de dados é aprender extrair dados de tabelas contidas em arquivos .csv disponível em endereços de internet. \n",
        "\n",
        "Agora, além de extrair dados dos arquivos, seremos capazes de combinar eles para elaborar gráficos utilizando a biblioteca Matplotlib conforme dado no seguinte link:\n",
        "\n",
        "https://colab.research.google.com/drive/12OpCsaiwSu-KEc1Z3fV5ZnweWzxf8TZg?usp=sharing"
      ]
    },
    {
      "cell_type": "markdown",
      "metadata": {
        "id": "YHfe_85F0juM"
      },
      "source": [
        "# 5. Conclusão\n",
        "\n",
        "Nesta aula vimos as várias formas de extração de dados para posterior uso tratamento via biblioteca **Pandas** e **Matplotlib**. \n",
        "\n",
        "Vimos também como ler dados da COVID-19 e construir gráficos específicos. Existem uma série de iniciativas e projetos interessantes, muitos deles em Python, sobre esse tema em:\n",
        "\n",
        "* **Projetos:** https://helpwithcovid.com/\n",
        "\n",
        "Na próxima aula veremos como utilizar os dados obtidos para gerar mapas de diversas formas através da biblioteca **Folium**. Conto com a sua presença. Até lá."
      ]
    }
  ]
}