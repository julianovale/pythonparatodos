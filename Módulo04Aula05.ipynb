{
  "nbformat": 4,
  "nbformat_minor": 0,
  "metadata": {
    "colab": {
      "name": "Módulo04Aula05.ipynb",
      "provenance": [],
      "collapsed_sections": [],
      "authorship_tag": "ABX9TyPUfwGzNSUUsHzy0ZMbonJc",
      "include_colab_link": true
    },
    "kernelspec": {
      "name": "python3",
      "display_name": "Python 3"
    }
  },
  "cells": [
    {
      "cell_type": "markdown",
      "metadata": {
        "id": "view-in-github",
        "colab_type": "text"
      },
      "source": [
        "<a href=\"https://colab.research.google.com/github/julianovale/pythonparatodos/blob/main/M%C3%B3dulo04Aula05.ipynb\" target=\"_parent\"><img src=\"https://colab.research.google.com/assets/colab-badge.svg\" alt=\"Open In Colab\"/></a>"
      ]
    },
    {
      "cell_type": "code",
      "metadata": {
        "id": "zCgpRsOep8dX"
      },
      "source": [
        "import pandas as pd"
      ],
      "execution_count": 1,
      "outputs": []
    },
    {
      "cell_type": "code",
      "metadata": {
        "colab": {
          "base_uri": "https://localhost:8080/",
          "height": 111
        },
        "id": "9wR1uQm9o4hH",
        "outputId": "24e9c1e4-2dcf-4067-b89e-20fc54f7aedd"
      },
      "source": [
        "ind = ['H','M']\n",
        "col = ['F','C']\n",
        "dat = [[7,20],[4,9]]\n",
        "df = pd.DataFrame(data=dat,index=ind,columns=col)\n",
        "df"
      ],
      "execution_count": 2,
      "outputs": [
        {
          "output_type": "execute_result",
          "data": {
            "text/html": [
              "<div>\n",
              "<style scoped>\n",
              "    .dataframe tbody tr th:only-of-type {\n",
              "        vertical-align: middle;\n",
              "    }\n",
              "\n",
              "    .dataframe tbody tr th {\n",
              "        vertical-align: top;\n",
              "    }\n",
              "\n",
              "    .dataframe thead th {\n",
              "        text-align: right;\n",
              "    }\n",
              "</style>\n",
              "<table border=\"1\" class=\"dataframe\">\n",
              "  <thead>\n",
              "    <tr style=\"text-align: right;\">\n",
              "      <th></th>\n",
              "      <th>F</th>\n",
              "      <th>C</th>\n",
              "    </tr>\n",
              "  </thead>\n",
              "  <tbody>\n",
              "    <tr>\n",
              "      <th>H</th>\n",
              "      <td>7</td>\n",
              "      <td>20</td>\n",
              "    </tr>\n",
              "    <tr>\n",
              "      <th>M</th>\n",
              "      <td>4</td>\n",
              "      <td>9</td>\n",
              "    </tr>\n",
              "  </tbody>\n",
              "</table>\n",
              "</div>"
            ],
            "text/plain": [
              "   F   C\n",
              "H  7  20\n",
              "M  4   9"
            ]
          },
          "metadata": {
            "tags": []
          },
          "execution_count": 2
        }
      ]
    },
    {
      "cell_type": "code",
      "metadata": {
        "colab": {
          "base_uri": "https://localhost:8080/"
        },
        "id": "UZGPRICdpZM-",
        "outputId": "9723f1c9-ee06-4044-cc0a-3142c431d64c"
      },
      "source": [
        "print(df.loc[:,'C'])\n",
        "print(df.iloc[:,1])\n",
        "print(df.iloc[1,:])\n",
        "print(df.loc[:,['F','C']])\n",
        "print(df.loc['H':'M','F':'C']) # slicing ==> fatiamento\n",
        "print(df.iloc[0:1,0:1]) # slicing ==> fatiamento\n",
        "print(df.iloc[0:2,0:2]) # slicing ==> fatiamento\n",
        "print(df.iloc[0:1,[0,1]]) # slicing ==> fatiamento"
      ],
      "execution_count": 15,
      "outputs": [
        {
          "output_type": "stream",
          "text": [
            "H    20\n",
            "M     9\n",
            "Name: C, dtype: int64\n",
            "H    20\n",
            "M     9\n",
            "Name: C, dtype: int64\n",
            "F    4\n",
            "C    9\n",
            "Name: M, dtype: int64\n",
            "   F   C\n",
            "H  7  20\n",
            "M  4   9\n",
            "   F   C\n",
            "H  7  20\n",
            "M  4   9\n",
            "   F\n",
            "H  7\n",
            "   F   C\n",
            "H  7  20\n",
            "M  4   9\n",
            "   F   C\n",
            "H  7  20\n"
          ],
          "name": "stdout"
        }
      ]
    }
  ]
}