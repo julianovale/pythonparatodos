{
  "nbformat": 4,
  "nbformat_minor": 0,
  "metadata": {
    "colab": {
      "name": "Módulo06Aula03.ipynb",
      "provenance": [],
      "collapsed_sections": [],
      "authorship_tag": "ABX9TyOueBajAlt0yW7p9HFsee2/",
      "include_colab_link": true
    },
    "kernelspec": {
      "name": "python3",
      "display_name": "Python 3"
    }
  },
  "cells": [
    {
      "cell_type": "markdown",
      "metadata": {
        "id": "view-in-github",
        "colab_type": "text"
      },
      "source": [
        "<a href=\"https://colab.research.google.com/github/julianovale/pythonparatodos/blob/main/M%C3%B3dulo06Aula03.ipynb\" target=\"_parent\"><img src=\"https://colab.research.google.com/assets/colab-badge.svg\" alt=\"Open In Colab\"/></a>"
      ]
    },
    {
      "cell_type": "markdown",
      "metadata": {
        "id": "bSeqX6prfzm7"
      },
      "source": [
        "Slides:\r\n",
        "https://drive.google.com/file/d/1x5gahH7HpJl8NoqL_gVadnDJqHSDHed8/view"
      ]
    },
    {
      "cell_type": "code",
      "metadata": {
        "id": "TFCcnaT2ftIs"
      },
      "source": [
        "# não teve código"
      ],
      "execution_count": null,
      "outputs": []
    }
  ]
}