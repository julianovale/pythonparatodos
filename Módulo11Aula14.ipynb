{
  "nbformat": 4,
  "nbformat_minor": 0,
  "metadata": {
    "colab": {
      "name": "Módulo11Aula14.ipynb",
      "provenance": [],
      "collapsed_sections": [],
      "authorship_tag": "ABX9TyM6h9RdUf1sfJAAMzqsRMbt",
      "include_colab_link": true
    },
    "kernelspec": {
      "name": "python3",
      "display_name": "Python 3"
    }
  },
  "cells": [
    {
      "cell_type": "markdown",
      "metadata": {
        "id": "view-in-github",
        "colab_type": "text"
      },
      "source": [
        "<a href=\"https://colab.research.google.com/github/julianovale/pythonparatodos/blob/main/M%C3%B3dulo11Aula14.ipynb\" target=\"_parent\"><img src=\"https://colab.research.google.com/assets/colab-badge.svg\" alt=\"Open In Colab\"/></a>"
      ]
    },
    {
      "cell_type": "code",
      "metadata": {
        "id": "5M-DP1n-il83"
      },
      "source": [
        "import sqlite3"
      ],
      "execution_count": 39,
      "outputs": []
    },
    {
      "cell_type": "code",
      "metadata": {
        "id": "s0oNJEfgirHX"
      },
      "source": [
        "def create_table(dbname):\r\n",
        "  conn = sqlite3.connect(dbname)\r\n",
        "  cur = conn.cursor()\r\n",
        "  cur.execute(\"CREATE TABLE IF NOT EXISTS store(item TEXT, quantity INTEGER, price REAL)\")\r\n",
        "  conn.commit()\r\n",
        "  conn.close()\r\n",
        "\r\n",
        "def view(dbname,tabname):\r\n",
        "  conn = sqlite3.connect(dbname)\r\n",
        "  cur = conn.cursor()\r\n",
        "  command = \"SELECT * FROM \"+tabname\r\n",
        "  cur.execute(command)\r\n",
        "  rows = cur.fetchall()\r\n",
        "  conn.close()\r\n",
        "  return rows\r\n",
        "\r\n",
        "def insert(dbname, tabname, item, quantity, price):\r\n",
        "  conn = sqlite3.connect(dbname)\r\n",
        "  cur = conn.cursor()\r\n",
        "  command = \"INSERT INTO \"+tabname+\" VALUES(?,?,?)\"\r\n",
        "  cur.execute(command,(item, quantity, price))\r\n",
        "  conn.commit()\r\n",
        "  conn.close()"
      ],
      "execution_count": 40,
      "outputs": []
    },
    {
      "cell_type": "code",
      "metadata": {
        "colab": {
          "base_uri": "https://localhost:8080/"
        },
        "id": "zuvJiOGrkHCt",
        "outputId": "02eb1ecc-97ac-492f-b91a-c677b98a0d0d"
      },
      "source": [
        "create_table(\"lite2.db\")\r\n",
        "insert(\"lite2.db\",\"store\",\"Wine Glass\", 10, 5)\r\n",
        "print(view(\"lite2.db\",\"store\"))"
      ],
      "execution_count": 41,
      "outputs": [
        {
          "output_type": "stream",
          "text": [
            "[('Wine Glass', 10, 5.0)]\n"
          ],
          "name": "stdout"
        }
      ]
    },
    {
      "cell_type": "code",
      "metadata": {
        "colab": {
          "base_uri": "https://localhost:8080/"
        },
        "id": "dulZrVDgn2SK",
        "outputId": "4206b042-0a4e-4873-bcbb-fc285f2b2215"
      },
      "source": [
        "!pwd\r\n",
        "!ls"
      ],
      "execution_count": 42,
      "outputs": [
        {
          "output_type": "stream",
          "text": [
            "/content\n",
            "lite2.db  sample_data\n"
          ],
          "name": "stdout"
        }
      ]
    },
    {
      "cell_type": "code",
      "metadata": {
        "id": "5K2PW8aQpmyB"
      },
      "source": [
        "import pandas as pd"
      ],
      "execution_count": 43,
      "outputs": []
    },
    {
      "cell_type": "code",
      "metadata": {
        "id": "LiuHQZkpoCVL"
      },
      "source": [
        "def tab2df(dbname, tabname):\r\n",
        "  conn = sqlite3.connect(dbname)\r\n",
        "  command = \"SELECT * FROM \" + tabname\r\n",
        "  df = pd.read_sql_query(command, conn)\r\n",
        "  conn.close()\r\n",
        "  return df"
      ],
      "execution_count": 44,
      "outputs": []
    },
    {
      "cell_type": "code",
      "metadata": {
        "colab": {
          "base_uri": "https://localhost:8080/",
          "height": 80
        },
        "id": "x8kQI96lpSAF",
        "outputId": "09d2b9bb-e85f-49f2-9c9a-1a75897c5aec"
      },
      "source": [
        "df1 = tab2df('lite2.db', 'store')\r\n",
        "df1"
      ],
      "execution_count": 45,
      "outputs": [
        {
          "output_type": "execute_result",
          "data": {
            "text/html": [
              "<div>\n",
              "<style scoped>\n",
              "    .dataframe tbody tr th:only-of-type {\n",
              "        vertical-align: middle;\n",
              "    }\n",
              "\n",
              "    .dataframe tbody tr th {\n",
              "        vertical-align: top;\n",
              "    }\n",
              "\n",
              "    .dataframe thead th {\n",
              "        text-align: right;\n",
              "    }\n",
              "</style>\n",
              "<table border=\"1\" class=\"dataframe\">\n",
              "  <thead>\n",
              "    <tr style=\"text-align: right;\">\n",
              "      <th></th>\n",
              "      <th>item</th>\n",
              "      <th>quantity</th>\n",
              "      <th>price</th>\n",
              "    </tr>\n",
              "  </thead>\n",
              "  <tbody>\n",
              "    <tr>\n",
              "      <th>0</th>\n",
              "      <td>Wine Glass</td>\n",
              "      <td>10</td>\n",
              "      <td>5.0</td>\n",
              "    </tr>\n",
              "  </tbody>\n",
              "</table>\n",
              "</div>"
            ],
            "text/plain": [
              "         item  quantity  price\n",
              "0  Wine Glass        10    5.0"
            ]
          },
          "metadata": {
            "tags": []
          },
          "execution_count": 45
        }
      ]
    },
    {
      "cell_type": "code",
      "metadata": {
        "id": "gNjmUXSiqTC-"
      },
      "source": [
        "def addData(df1):\r\n",
        "  products = ['Sakê', 'Pinga']\r\n",
        "  quantity = [20, 100]\r\n",
        "  price = [50.0, 20.0]\r\n",
        "  \r\n",
        "  cont = 0\r\n",
        "  for i,j,k in zip(products,quantity,price):\r\n",
        "    df1.loc[cont] = [i, j, k]\r\n",
        "    cont += 1\r\n",
        "  \r\n",
        "  return df1"
      ],
      "execution_count": 46,
      "outputs": []
    },
    {
      "cell_type": "code",
      "metadata": {
        "id": "389FRrdlrhqh"
      },
      "source": [
        "df2 = addData(df1)"
      ],
      "execution_count": 47,
      "outputs": []
    },
    {
      "cell_type": "code",
      "metadata": {
        "colab": {
          "base_uri": "https://localhost:8080/"
        },
        "id": "RcqnFAdIsdIN",
        "outputId": "4f1d7c90-368e-49d6-be01-29947157dee5"
      },
      "source": [
        "def df2db(dbname, tabname, df):\r\n",
        "  conn = sqlite3.connect(dbname)\r\n",
        "  # df.to_sql(tabname, conn, index = False, if_exists = 'replace')\r\n",
        "  df.to_sql(tabname, conn, index = False, if_exists = 'append')\r\n",
        "  conn.close()\r\n",
        "\r\n",
        "print(view('lite2.db','store'))\r\n",
        "df2db('lite2.db', 'store', df1)\r\n",
        "print(view('lite2.db','store'))"
      ],
      "execution_count": 48,
      "outputs": [
        {
          "output_type": "stream",
          "text": [
            "[('Wine Glass', 10, 5.0)]\n",
            "[('Wine Glass', 10, 5.0), ('Sakê', 20, 50.0), ('Pinga', 100, 20.0)]\n"
          ],
          "name": "stdout"
        }
      ]
    },
    {
      "cell_type": "code",
      "metadata": {
        "colab": {
          "base_uri": "https://localhost:8080/",
          "height": 142
        },
        "id": "GuW5L5mP0PBf",
        "outputId": "255761c0-6f5d-4432-f382-bcd606b17b4d"
      },
      "source": [
        "df2 = tab2df('lite2.db', 'store')\r\n",
        "df2"
      ],
      "execution_count": 49,
      "outputs": [
        {
          "output_type": "execute_result",
          "data": {
            "text/html": [
              "<div>\n",
              "<style scoped>\n",
              "    .dataframe tbody tr th:only-of-type {\n",
              "        vertical-align: middle;\n",
              "    }\n",
              "\n",
              "    .dataframe tbody tr th {\n",
              "        vertical-align: top;\n",
              "    }\n",
              "\n",
              "    .dataframe thead th {\n",
              "        text-align: right;\n",
              "    }\n",
              "</style>\n",
              "<table border=\"1\" class=\"dataframe\">\n",
              "  <thead>\n",
              "    <tr style=\"text-align: right;\">\n",
              "      <th></th>\n",
              "      <th>item</th>\n",
              "      <th>quantity</th>\n",
              "      <th>price</th>\n",
              "    </tr>\n",
              "  </thead>\n",
              "  <tbody>\n",
              "    <tr>\n",
              "      <th>0</th>\n",
              "      <td>Wine Glass</td>\n",
              "      <td>10</td>\n",
              "      <td>5.0</td>\n",
              "    </tr>\n",
              "    <tr>\n",
              "      <th>1</th>\n",
              "      <td>Sakê</td>\n",
              "      <td>20</td>\n",
              "      <td>50.0</td>\n",
              "    </tr>\n",
              "    <tr>\n",
              "      <th>2</th>\n",
              "      <td>Pinga</td>\n",
              "      <td>100</td>\n",
              "      <td>20.0</td>\n",
              "    </tr>\n",
              "  </tbody>\n",
              "</table>\n",
              "</div>"
            ],
            "text/plain": [
              "         item  quantity  price\n",
              "0  Wine Glass        10    5.0\n",
              "1        Sakê        20   50.0\n",
              "2       Pinga       100   20.0"
            ]
          },
          "metadata": {
            "tags": []
          },
          "execution_count": 49
        }
      ]
    },
    {
      "cell_type": "code",
      "metadata": {
        "id": "I4jMPq9-0T52"
      },
      "source": [
        "def deleteItem(dbname, tabname, item):\r\n",
        "  conn = sqlite3.connect(dbname)\r\n",
        "  cur = conn.cursor()\r\n",
        "  command = \"DELETE FROM \"+tabname+ \" WHERE item=?\"\r\n",
        "  cur.execute(command,(item,)) # atenção a essa vírgula após \"item\", sem ela não funciona\r\n",
        "  conn.commit()\r\n",
        "  conn.close()"
      ],
      "execution_count": 50,
      "outputs": []
    },
    {
      "cell_type": "code",
      "metadata": {
        "colab": {
          "base_uri": "https://localhost:8080/"
        },
        "id": "W_7dOLse1eJC",
        "outputId": "0e55209d-cf2a-4b35-8664-97e68a042566"
      },
      "source": [
        "print(view('lite2.db','store'))\r\n",
        "deleteItem('lite2.db', 'store', 'Sakê')\r\n",
        "print(view('lite2.db','store'))"
      ],
      "execution_count": 51,
      "outputs": [
        {
          "output_type": "stream",
          "text": [
            "[('Wine Glass', 10, 5.0), ('Sakê', 20, 50.0), ('Pinga', 100, 20.0)]\n",
            "[('Wine Glass', 10, 5.0), ('Pinga', 100, 20.0)]\n"
          ],
          "name": "stdout"
        }
      ]
    }
  ]
}