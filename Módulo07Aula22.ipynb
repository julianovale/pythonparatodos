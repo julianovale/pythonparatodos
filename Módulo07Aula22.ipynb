{
  "nbformat": 4,
  "nbformat_minor": 0,
  "metadata": {
    "colab": {
      "name": "Módulo07Aula22.ipynb",
      "provenance": [],
      "authorship_tag": "ABX9TyOpAo7A3MYAI9Pnb57d+gBu",
      "include_colab_link": true
    },
    "kernelspec": {
      "name": "python3",
      "display_name": "Python 3"
    }
  },
  "cells": [
    {
      "cell_type": "markdown",
      "metadata": {
        "id": "view-in-github",
        "colab_type": "text"
      },
      "source": [
        "<a href=\"https://colab.research.google.com/github/julianovale/pythonparatodos/blob/main/M%C3%B3dulo07Aula22.ipynb\" target=\"_parent\"><img src=\"https://colab.research.google.com/assets/colab-badge.svg\" alt=\"Open In Colab\"/></a>"
      ]
    },
    {
      "cell_type": "code",
      "metadata": {
        "colab": {
          "base_uri": "https://localhost:8080/"
        },
        "id": "c5bLhc1lQd6P",
        "outputId": "70fca3fb-7a79-42b0-e709-e5a0e497a281"
      },
      "source": [
        "def somaN(n):\r\n",
        "  if (n > 1):\r\n",
        "    r = n + somaN(n-1)  \r\n",
        "  else:\r\n",
        "    r = 1\r\n",
        "  return r\r\n",
        "\r\n",
        "print(somaN(1))\r\n",
        "print(somaN(5))\r\n",
        "print(somaN(10))"
      ],
      "execution_count": 2,
      "outputs": [
        {
          "output_type": "stream",
          "text": [
            "1\n",
            "15\n",
            "55\n"
          ],
          "name": "stdout"
        }
      ]
    }
  ]
}