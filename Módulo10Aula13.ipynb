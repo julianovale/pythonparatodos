{
  "nbformat": 4,
  "nbformat_minor": 0,
  "metadata": {
    "colab": {
      "name": "Módulo10Aula13.ipynb",
      "provenance": [],
      "collapsed_sections": [],
      "authorship_tag": "ABX9TyM6/3KG5QWpgy6eI0iuNhr+",
      "include_colab_link": true
    },
    "kernelspec": {
      "name": "python3",
      "display_name": "Python 3"
    }
  },
  "cells": [
    {
      "cell_type": "markdown",
      "metadata": {
        "id": "view-in-github",
        "colab_type": "text"
      },
      "source": [
        "<a href=\"https://colab.research.google.com/github/julianovale/pythonparatodos/blob/main/M%C3%B3dulo10Aula13.ipynb\" target=\"_parent\"><img src=\"https://colab.research.google.com/assets/colab-badge.svg\" alt=\"Open In Colab\"/></a>"
      ]
    },
    {
      "cell_type": "code",
      "metadata": {
        "id": "WO-v0ui7ZmwX"
      },
      "source": [
        "import pandas as pd"
      ],
      "execution_count": 2,
      "outputs": []
    },
    {
      "cell_type": "code",
      "metadata": {
        "colab": {
          "base_uri": "https://localhost:8080/",
          "height": 473
        },
        "id": "nTb4pB8oX6Rg",
        "outputId": "a84d431c-aef6-4d6e-fbce-79865eaf8632"
      },
      "source": [
        "url_metricas = 'https://raw.githubusercontent.com/julianovale/pythonparatodos/main/ISDEL_Cidades_Estado_SPIBGE.csv'\r\n",
        "pd_metricas = pd.read_csv(url_metricas, encoding = 'latin-1', sep = ';', decimal = ',')\r\n",
        "pd_metricas"
      ],
      "execution_count": 3,
      "outputs": [
        {
          "output_type": "stream",
          "text": [
            "/usr/local/lib/python3.6/dist-packages/IPython/core/interactiveshell.py:2718: DtypeWarning: Columns (1) have mixed types.Specify dtype option on import or set low_memory=False.\n",
            "  interactivity=interactivity, compiler=compiler, result=result)\n"
          ],
          "name": "stderr"
        },
        {
          "output_type": "execute_result",
          "data": {
            "text/html": [
              "<div>\n",
              "<style scoped>\n",
              "    .dataframe tbody tr th:only-of-type {\n",
              "        vertical-align: middle;\n",
              "    }\n",
              "\n",
              "    .dataframe tbody tr th {\n",
              "        vertical-align: top;\n",
              "    }\n",
              "\n",
              "    .dataframe thead th {\n",
              "        text-align: right;\n",
              "    }\n",
              "</style>\n",
              "<table border=\"1\" class=\"dataframe\">\n",
              "  <thead>\n",
              "    <tr style=\"text-align: right;\">\n",
              "      <th></th>\n",
              "      <th>Cód_Municipio</th>\n",
              "      <th>Nome_Municipio</th>\n",
              "      <th>ISDEL</th>\n",
              "    </tr>\n",
              "  </thead>\n",
              "  <tbody>\n",
              "    <tr>\n",
              "      <th>0</th>\n",
              "      <td>3500105.0</td>\n",
              "      <td>Adamantina</td>\n",
              "      <td>0.4285</td>\n",
              "    </tr>\n",
              "    <tr>\n",
              "      <th>1</th>\n",
              "      <td>3500204.0</td>\n",
              "      <td>Adolfo</td>\n",
              "      <td>0.3437</td>\n",
              "    </tr>\n",
              "    <tr>\n",
              "      <th>2</th>\n",
              "      <td>3500303.0</td>\n",
              "      <td>Aguaí</td>\n",
              "      <td>0.3327</td>\n",
              "    </tr>\n",
              "    <tr>\n",
              "      <th>3</th>\n",
              "      <td>3500709.0</td>\n",
              "      <td>Agudos</td>\n",
              "      <td>0.3943</td>\n",
              "    </tr>\n",
              "    <tr>\n",
              "      <th>4</th>\n",
              "      <td>3500758.0</td>\n",
              "      <td>Alambari</td>\n",
              "      <td>0.3491</td>\n",
              "    </tr>\n",
              "    <tr>\n",
              "      <th>...</th>\n",
              "      <td>...</td>\n",
              "      <td>...</td>\n",
              "      <td>...</td>\n",
              "    </tr>\n",
              "    <tr>\n",
              "      <th>971235</th>\n",
              "      <td>NaN</td>\n",
              "      <td>NaN</td>\n",
              "      <td>NaN</td>\n",
              "    </tr>\n",
              "    <tr>\n",
              "      <th>971236</th>\n",
              "      <td>NaN</td>\n",
              "      <td>NaN</td>\n",
              "      <td>NaN</td>\n",
              "    </tr>\n",
              "    <tr>\n",
              "      <th>971237</th>\n",
              "      <td>NaN</td>\n",
              "      <td>NaN</td>\n",
              "      <td>NaN</td>\n",
              "    </tr>\n",
              "    <tr>\n",
              "      <th>971238</th>\n",
              "      <td>NaN</td>\n",
              "      <td>NaN</td>\n",
              "      <td>NaN</td>\n",
              "    </tr>\n",
              "    <tr>\n",
              "      <th>971239</th>\n",
              "      <td>NaN</td>\n",
              "      <td>NaN</td>\n",
              "      <td>NaN</td>\n",
              "    </tr>\n",
              "  </tbody>\n",
              "</table>\n",
              "<p>971240 rows × 3 columns</p>\n",
              "</div>"
            ],
            "text/plain": [
              "        Cód_Municipio Nome_Municipio   ISDEL \n",
              "0           3500105.0     Adamantina   0.4285\n",
              "1           3500204.0         Adolfo   0.3437\n",
              "2           3500303.0          Aguaí   0.3327\n",
              "3           3500709.0         Agudos   0.3943\n",
              "4           3500758.0       Alambari   0.3491\n",
              "...               ...            ...      ...\n",
              "971235            NaN            NaN      NaN\n",
              "971236            NaN            NaN      NaN\n",
              "971237            NaN            NaN      NaN\n",
              "971238            NaN            NaN      NaN\n",
              "971239            NaN            NaN      NaN\n",
              "\n",
              "[971240 rows x 3 columns]"
            ]
          },
          "metadata": {
            "tags": []
          },
          "execution_count": 3
        }
      ]
    },
    {
      "cell_type": "code",
      "metadata": {
        "colab": {
          "base_uri": "https://localhost:8080/",
          "height": 419
        },
        "id": "Th6Bu4p4ZudX",
        "outputId": "d93497cd-292d-4e76-9332-b9888432a26a"
      },
      "source": [
        "df = pd_metricas.dropna()\r\n",
        "df"
      ],
      "execution_count": 4,
      "outputs": [
        {
          "output_type": "execute_result",
          "data": {
            "text/html": [
              "<div>\n",
              "<style scoped>\n",
              "    .dataframe tbody tr th:only-of-type {\n",
              "        vertical-align: middle;\n",
              "    }\n",
              "\n",
              "    .dataframe tbody tr th {\n",
              "        vertical-align: top;\n",
              "    }\n",
              "\n",
              "    .dataframe thead th {\n",
              "        text-align: right;\n",
              "    }\n",
              "</style>\n",
              "<table border=\"1\" class=\"dataframe\">\n",
              "  <thead>\n",
              "    <tr style=\"text-align: right;\">\n",
              "      <th></th>\n",
              "      <th>Cód_Municipio</th>\n",
              "      <th>Nome_Municipio</th>\n",
              "      <th>ISDEL</th>\n",
              "    </tr>\n",
              "  </thead>\n",
              "  <tbody>\n",
              "    <tr>\n",
              "      <th>0</th>\n",
              "      <td>3500105.0</td>\n",
              "      <td>Adamantina</td>\n",
              "      <td>0.4285</td>\n",
              "    </tr>\n",
              "    <tr>\n",
              "      <th>1</th>\n",
              "      <td>3500204.0</td>\n",
              "      <td>Adolfo</td>\n",
              "      <td>0.3437</td>\n",
              "    </tr>\n",
              "    <tr>\n",
              "      <th>2</th>\n",
              "      <td>3500303.0</td>\n",
              "      <td>Aguaí</td>\n",
              "      <td>0.3327</td>\n",
              "    </tr>\n",
              "    <tr>\n",
              "      <th>3</th>\n",
              "      <td>3500709.0</td>\n",
              "      <td>Agudos</td>\n",
              "      <td>0.3943</td>\n",
              "    </tr>\n",
              "    <tr>\n",
              "      <th>4</th>\n",
              "      <td>3500758.0</td>\n",
              "      <td>Alambari</td>\n",
              "      <td>0.3491</td>\n",
              "    </tr>\n",
              "    <tr>\n",
              "      <th>...</th>\n",
              "      <td>...</td>\n",
              "      <td>...</td>\n",
              "      <td>...</td>\n",
              "    </tr>\n",
              "    <tr>\n",
              "      <th>640</th>\n",
              "      <td>3500600.0</td>\n",
              "      <td>Águas de São Pedro</td>\n",
              "      <td>0.4716</td>\n",
              "    </tr>\n",
              "    <tr>\n",
              "      <th>641</th>\n",
              "      <td>3501202.0</td>\n",
              "      <td>Álvares Florence</td>\n",
              "      <td>0.3498</td>\n",
              "    </tr>\n",
              "    <tr>\n",
              "      <th>642</th>\n",
              "      <td>3501301.0</td>\n",
              "      <td>Álvares Machado</td>\n",
              "      <td>0.3603</td>\n",
              "    </tr>\n",
              "    <tr>\n",
              "      <th>643</th>\n",
              "      <td>3501400.0</td>\n",
              "      <td>Álvaro de Carvalho</td>\n",
              "      <td>0.3136</td>\n",
              "    </tr>\n",
              "    <tr>\n",
              "      <th>644</th>\n",
              "      <td>3533809.0</td>\n",
              "      <td>Óleo</td>\n",
              "      <td>0.3523</td>\n",
              "    </tr>\n",
              "  </tbody>\n",
              "</table>\n",
              "<p>645 rows × 3 columns</p>\n",
              "</div>"
            ],
            "text/plain": [
              "     Cód_Municipio      Nome_Municipio   ISDEL \n",
              "0        3500105.0          Adamantina   0.4285\n",
              "1        3500204.0              Adolfo   0.3437\n",
              "2        3500303.0               Aguaí   0.3327\n",
              "3        3500709.0              Agudos   0.3943\n",
              "4        3500758.0            Alambari   0.3491\n",
              "..             ...                 ...      ...\n",
              "640      3500600.0  Águas de São Pedro   0.4716\n",
              "641      3501202.0    Álvares Florence   0.3498\n",
              "642      3501301.0     Álvares Machado   0.3603\n",
              "643      3501400.0  Álvaro de Carvalho   0.3136\n",
              "644      3533809.0                Óleo   0.3523\n",
              "\n",
              "[645 rows x 3 columns]"
            ]
          },
          "metadata": {
            "tags": []
          },
          "execution_count": 4
        }
      ]
    },
    {
      "cell_type": "code",
      "metadata": {
        "colab": {
          "base_uri": "https://localhost:8080/"
        },
        "id": "HfJ0GnJmaP8w",
        "outputId": "94ef5505-1fc2-415e-9389-0cc8822bd7f3"
      },
      "source": [
        "print(df.columns.ravel())"
      ],
      "execution_count": 5,
      "outputs": [
        {
          "output_type": "stream",
          "text": [
            "['Cód_Municipio' 'Nome_Municipio' ' ISDEL ']\n"
          ],
          "name": "stdout"
        }
      ]
    }
  ]
}