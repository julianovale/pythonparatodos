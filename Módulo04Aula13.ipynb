{
  "nbformat": 4,
  "nbformat_minor": 0,
  "metadata": {
    "colab": {
      "name": "Módulo04Aula13.ipynb",
      "provenance": [],
      "collapsed_sections": [],
      "authorship_tag": "ABX9TyOQELK6YjmhZCWMP4GuR1Kz",
      "include_colab_link": true
    },
    "kernelspec": {
      "name": "python3",
      "display_name": "Python 3"
    }
  },
  "cells": [
    {
      "cell_type": "markdown",
      "metadata": {
        "id": "view-in-github",
        "colab_type": "text"
      },
      "source": [
        "<a href=\"https://colab.research.google.com/github/julianovale/pythonparatodos/blob/main/M%C3%B3dulo04Aula13.ipynb\" target=\"_parent\"><img src=\"https://colab.research.google.com/assets/colab-badge.svg\" alt=\"Open In Colab\"/></a>"
      ]
    },
    {
      "cell_type": "code",
      "metadata": {
        "id": "Xn47SdQbv6HA"
      },
      "source": [
        "import pandas as pd"
      ],
      "execution_count": 12,
      "outputs": []
    },
    {
      "cell_type": "code",
      "metadata": {
        "id": "knJ2wW70wFmp"
      },
      "source": [
        "dado_hist = {\r\n",
        "    'Empresa 1': [4,9,6,5],\r\n",
        "    'Empresa 2': [9,6,4,15],\r\n",
        "    'Empresa 3': [6,4,2,25],\r\n",
        "    'Empresa 4': [4,2,4,35],\r\n",
        "    'Empresa 5': [2,4,9,45]\r\n",
        "} \r\n",
        "\r\n",
        "df = pd.DataFrame(dado_hist)"
      ],
      "execution_count": 13,
      "outputs": []
    },
    {
      "cell_type": "code",
      "metadata": {
        "colab": {
          "base_uri": "https://localhost:8080/"
        },
        "id": "vArkkLTswsIX",
        "outputId": "25ebac5d-4fdf-4c7c-9851-9e2387b8dfaf"
      },
      "source": [
        "print(df)"
      ],
      "execution_count": 14,
      "outputs": [
        {
          "output_type": "stream",
          "text": [
            "   Empresa 1  Empresa 2  Empresa 3  Empresa 4  Empresa 5\n",
            "0          4          9          6          4          2\n",
            "1          9          6          4          2          4\n",
            "2          6          4          2          4          9\n",
            "3          5         15         25         35         45\n"
          ],
          "name": "stdout"
        }
      ]
    },
    {
      "cell_type": "code",
      "metadata": {
        "id": "4nqTZ9vj8bIY"
      },
      "source": [
        "import seaborn as sns"
      ],
      "execution_count": 15,
      "outputs": []
    },
    {
      "cell_type": "code",
      "metadata": {
        "colab": {
          "base_uri": "https://localhost:8080/",
          "height": 124
        },
        "id": "ckyHD1pX8fEH",
        "outputId": "52e946bf-44f9-4e5c-ed7e-bdf803784e84"
      },
      "source": [
        "df.loc[:4].style.background_gradient(cmap='viridis')"
      ],
      "execution_count": 16,
      "outputs": [
        {
          "output_type": "execute_result",
          "data": {
            "text/html": [
              "<style  type=\"text/css\" >\n",
              "#T_c3759b14_3a59_11eb_913e_0242ac1c0002row0_col0,#T_c3759b14_3a59_11eb_913e_0242ac1c0002row0_col4,#T_c3759b14_3a59_11eb_913e_0242ac1c0002row1_col3,#T_c3759b14_3a59_11eb_913e_0242ac1c0002row2_col1,#T_c3759b14_3a59_11eb_913e_0242ac1c0002row2_col2{\n",
              "            background-color:  #440154;\n",
              "            color:  #f1f1f1;\n",
              "        }#T_c3759b14_3a59_11eb_913e_0242ac1c0002row0_col1{\n",
              "            background-color:  #25858e;\n",
              "            color:  #000000;\n",
              "        }#T_c3759b14_3a59_11eb_913e_0242ac1c0002row0_col2{\n",
              "            background-color:  #443b84;\n",
              "            color:  #f1f1f1;\n",
              "        }#T_c3759b14_3a59_11eb_913e_0242ac1c0002row0_col3,#T_c3759b14_3a59_11eb_913e_0242ac1c0002row2_col3{\n",
              "            background-color:  #481769;\n",
              "            color:  #f1f1f1;\n",
              "        }#T_c3759b14_3a59_11eb_913e_0242ac1c0002row1_col0,#T_c3759b14_3a59_11eb_913e_0242ac1c0002row3_col1,#T_c3759b14_3a59_11eb_913e_0242ac1c0002row3_col2,#T_c3759b14_3a59_11eb_913e_0242ac1c0002row3_col3,#T_c3759b14_3a59_11eb_913e_0242ac1c0002row3_col4{\n",
              "            background-color:  #fde725;\n",
              "            color:  #000000;\n",
              "        }#T_c3759b14_3a59_11eb_913e_0242ac1c0002row1_col1{\n",
              "            background-color:  #433e85;\n",
              "            color:  #f1f1f1;\n",
              "        }#T_c3759b14_3a59_11eb_913e_0242ac1c0002row1_col2{\n",
              "            background-color:  #482071;\n",
              "            color:  #f1f1f1;\n",
              "        }#T_c3759b14_3a59_11eb_913e_0242ac1c0002row1_col4{\n",
              "            background-color:  #471164;\n",
              "            color:  #f1f1f1;\n",
              "        }#T_c3759b14_3a59_11eb_913e_0242ac1c0002row2_col0{\n",
              "            background-color:  #2a788e;\n",
              "            color:  #000000;\n",
              "        }#T_c3759b14_3a59_11eb_913e_0242ac1c0002row2_col4{\n",
              "            background-color:  #453882;\n",
              "            color:  #f1f1f1;\n",
              "        }#T_c3759b14_3a59_11eb_913e_0242ac1c0002row3_col0{\n",
              "            background-color:  #414487;\n",
              "            color:  #f1f1f1;\n",
              "        }</style><table id=\"T_c3759b14_3a59_11eb_913e_0242ac1c0002\" ><thead>    <tr>        <th class=\"blank level0\" ></th>        <th class=\"col_heading level0 col0\" >Empresa 1</th>        <th class=\"col_heading level0 col1\" >Empresa 2</th>        <th class=\"col_heading level0 col2\" >Empresa 3</th>        <th class=\"col_heading level0 col3\" >Empresa 4</th>        <th class=\"col_heading level0 col4\" >Empresa 5</th>    </tr></thead><tbody>\n",
              "                <tr>\n",
              "                        <th id=\"T_c3759b14_3a59_11eb_913e_0242ac1c0002level0_row0\" class=\"row_heading level0 row0\" >0</th>\n",
              "                        <td id=\"T_c3759b14_3a59_11eb_913e_0242ac1c0002row0_col0\" class=\"data row0 col0\" >4</td>\n",
              "                        <td id=\"T_c3759b14_3a59_11eb_913e_0242ac1c0002row0_col1\" class=\"data row0 col1\" >9</td>\n",
              "                        <td id=\"T_c3759b14_3a59_11eb_913e_0242ac1c0002row0_col2\" class=\"data row0 col2\" >6</td>\n",
              "                        <td id=\"T_c3759b14_3a59_11eb_913e_0242ac1c0002row0_col3\" class=\"data row0 col3\" >4</td>\n",
              "                        <td id=\"T_c3759b14_3a59_11eb_913e_0242ac1c0002row0_col4\" class=\"data row0 col4\" >2</td>\n",
              "            </tr>\n",
              "            <tr>\n",
              "                        <th id=\"T_c3759b14_3a59_11eb_913e_0242ac1c0002level0_row1\" class=\"row_heading level0 row1\" >1</th>\n",
              "                        <td id=\"T_c3759b14_3a59_11eb_913e_0242ac1c0002row1_col0\" class=\"data row1 col0\" >9</td>\n",
              "                        <td id=\"T_c3759b14_3a59_11eb_913e_0242ac1c0002row1_col1\" class=\"data row1 col1\" >6</td>\n",
              "                        <td id=\"T_c3759b14_3a59_11eb_913e_0242ac1c0002row1_col2\" class=\"data row1 col2\" >4</td>\n",
              "                        <td id=\"T_c3759b14_3a59_11eb_913e_0242ac1c0002row1_col3\" class=\"data row1 col3\" >2</td>\n",
              "                        <td id=\"T_c3759b14_3a59_11eb_913e_0242ac1c0002row1_col4\" class=\"data row1 col4\" >4</td>\n",
              "            </tr>\n",
              "            <tr>\n",
              "                        <th id=\"T_c3759b14_3a59_11eb_913e_0242ac1c0002level0_row2\" class=\"row_heading level0 row2\" >2</th>\n",
              "                        <td id=\"T_c3759b14_3a59_11eb_913e_0242ac1c0002row2_col0\" class=\"data row2 col0\" >6</td>\n",
              "                        <td id=\"T_c3759b14_3a59_11eb_913e_0242ac1c0002row2_col1\" class=\"data row2 col1\" >4</td>\n",
              "                        <td id=\"T_c3759b14_3a59_11eb_913e_0242ac1c0002row2_col2\" class=\"data row2 col2\" >2</td>\n",
              "                        <td id=\"T_c3759b14_3a59_11eb_913e_0242ac1c0002row2_col3\" class=\"data row2 col3\" >4</td>\n",
              "                        <td id=\"T_c3759b14_3a59_11eb_913e_0242ac1c0002row2_col4\" class=\"data row2 col4\" >9</td>\n",
              "            </tr>\n",
              "            <tr>\n",
              "                        <th id=\"T_c3759b14_3a59_11eb_913e_0242ac1c0002level0_row3\" class=\"row_heading level0 row3\" >3</th>\n",
              "                        <td id=\"T_c3759b14_3a59_11eb_913e_0242ac1c0002row3_col0\" class=\"data row3 col0\" >5</td>\n",
              "                        <td id=\"T_c3759b14_3a59_11eb_913e_0242ac1c0002row3_col1\" class=\"data row3 col1\" >15</td>\n",
              "                        <td id=\"T_c3759b14_3a59_11eb_913e_0242ac1c0002row3_col2\" class=\"data row3 col2\" >25</td>\n",
              "                        <td id=\"T_c3759b14_3a59_11eb_913e_0242ac1c0002row3_col3\" class=\"data row3 col3\" >35</td>\n",
              "                        <td id=\"T_c3759b14_3a59_11eb_913e_0242ac1c0002row3_col4\" class=\"data row3 col4\" >45</td>\n",
              "            </tr>\n",
              "    </tbody></table>"
            ],
            "text/plain": [
              "<pandas.io.formats.style.Styler at 0x7fe77e369eb8>"
            ]
          },
          "metadata": {
            "tags": []
          },
          "execution_count": 16
        }
      ]
    },
    {
      "cell_type": "code",
      "metadata": {
        "colab": {
          "base_uri": "https://localhost:8080/",
          "height": 103
        },
        "id": "FPo6M7OhHU44",
        "outputId": "7fdbebea-fa78-4cf1-d6b8-60f0e9dfc5d7"
      },
      "source": [
        "df.loc[:2].style.background_gradient(cmap='viridis')"
      ],
      "execution_count": 17,
      "outputs": [
        {
          "output_type": "execute_result",
          "data": {
            "text/html": [
              "<style  type=\"text/css\" >\n",
              "#T_20098b4c_3a5a_11eb_913e_0242ac1c0002row0_col0,#T_20098b4c_3a5a_11eb_913e_0242ac1c0002row0_col4,#T_20098b4c_3a5a_11eb_913e_0242ac1c0002row1_col3,#T_20098b4c_3a5a_11eb_913e_0242ac1c0002row2_col1,#T_20098b4c_3a5a_11eb_913e_0242ac1c0002row2_col2{\n",
              "            background-color:  #440154;\n",
              "            color:  #f1f1f1;\n",
              "        }#T_20098b4c_3a5a_11eb_913e_0242ac1c0002row0_col1,#T_20098b4c_3a5a_11eb_913e_0242ac1c0002row0_col2,#T_20098b4c_3a5a_11eb_913e_0242ac1c0002row0_col3,#T_20098b4c_3a5a_11eb_913e_0242ac1c0002row1_col0,#T_20098b4c_3a5a_11eb_913e_0242ac1c0002row2_col3,#T_20098b4c_3a5a_11eb_913e_0242ac1c0002row2_col4{\n",
              "            background-color:  #fde725;\n",
              "            color:  #000000;\n",
              "        }#T_20098b4c_3a5a_11eb_913e_0242ac1c0002row1_col1,#T_20098b4c_3a5a_11eb_913e_0242ac1c0002row2_col0{\n",
              "            background-color:  #2a788e;\n",
              "            color:  #000000;\n",
              "        }#T_20098b4c_3a5a_11eb_913e_0242ac1c0002row1_col2{\n",
              "            background-color:  #21918c;\n",
              "            color:  #000000;\n",
              "        }#T_20098b4c_3a5a_11eb_913e_0242ac1c0002row1_col4{\n",
              "            background-color:  #365c8d;\n",
              "            color:  #f1f1f1;\n",
              "        }</style><table id=\"T_20098b4c_3a5a_11eb_913e_0242ac1c0002\" ><thead>    <tr>        <th class=\"blank level0\" ></th>        <th class=\"col_heading level0 col0\" >Empresa 1</th>        <th class=\"col_heading level0 col1\" >Empresa 2</th>        <th class=\"col_heading level0 col2\" >Empresa 3</th>        <th class=\"col_heading level0 col3\" >Empresa 4</th>        <th class=\"col_heading level0 col4\" >Empresa 5</th>    </tr></thead><tbody>\n",
              "                <tr>\n",
              "                        <th id=\"T_20098b4c_3a5a_11eb_913e_0242ac1c0002level0_row0\" class=\"row_heading level0 row0\" >0</th>\n",
              "                        <td id=\"T_20098b4c_3a5a_11eb_913e_0242ac1c0002row0_col0\" class=\"data row0 col0\" >4</td>\n",
              "                        <td id=\"T_20098b4c_3a5a_11eb_913e_0242ac1c0002row0_col1\" class=\"data row0 col1\" >9</td>\n",
              "                        <td id=\"T_20098b4c_3a5a_11eb_913e_0242ac1c0002row0_col2\" class=\"data row0 col2\" >6</td>\n",
              "                        <td id=\"T_20098b4c_3a5a_11eb_913e_0242ac1c0002row0_col3\" class=\"data row0 col3\" >4</td>\n",
              "                        <td id=\"T_20098b4c_3a5a_11eb_913e_0242ac1c0002row0_col4\" class=\"data row0 col4\" >2</td>\n",
              "            </tr>\n",
              "            <tr>\n",
              "                        <th id=\"T_20098b4c_3a5a_11eb_913e_0242ac1c0002level0_row1\" class=\"row_heading level0 row1\" >1</th>\n",
              "                        <td id=\"T_20098b4c_3a5a_11eb_913e_0242ac1c0002row1_col0\" class=\"data row1 col0\" >9</td>\n",
              "                        <td id=\"T_20098b4c_3a5a_11eb_913e_0242ac1c0002row1_col1\" class=\"data row1 col1\" >6</td>\n",
              "                        <td id=\"T_20098b4c_3a5a_11eb_913e_0242ac1c0002row1_col2\" class=\"data row1 col2\" >4</td>\n",
              "                        <td id=\"T_20098b4c_3a5a_11eb_913e_0242ac1c0002row1_col3\" class=\"data row1 col3\" >2</td>\n",
              "                        <td id=\"T_20098b4c_3a5a_11eb_913e_0242ac1c0002row1_col4\" class=\"data row1 col4\" >4</td>\n",
              "            </tr>\n",
              "            <tr>\n",
              "                        <th id=\"T_20098b4c_3a5a_11eb_913e_0242ac1c0002level0_row2\" class=\"row_heading level0 row2\" >2</th>\n",
              "                        <td id=\"T_20098b4c_3a5a_11eb_913e_0242ac1c0002row2_col0\" class=\"data row2 col0\" >6</td>\n",
              "                        <td id=\"T_20098b4c_3a5a_11eb_913e_0242ac1c0002row2_col1\" class=\"data row2 col1\" >4</td>\n",
              "                        <td id=\"T_20098b4c_3a5a_11eb_913e_0242ac1c0002row2_col2\" class=\"data row2 col2\" >2</td>\n",
              "                        <td id=\"T_20098b4c_3a5a_11eb_913e_0242ac1c0002row2_col3\" class=\"data row2 col3\" >4</td>\n",
              "                        <td id=\"T_20098b4c_3a5a_11eb_913e_0242ac1c0002row2_col4\" class=\"data row2 col4\" >9</td>\n",
              "            </tr>\n",
              "    </tbody></table>"
            ],
            "text/plain": [
              "<pandas.io.formats.style.Styler at 0x7fe77e313278>"
            ]
          },
          "metadata": {
            "tags": []
          },
          "execution_count": 17
        }
      ]
    },
    {
      "cell_type": "code",
      "metadata": {
        "colab": {
          "base_uri": "https://localhost:8080/",
          "height": 82
        },
        "id": "vpTpbVRwHajy",
        "outputId": "e405e6ce-b2af-455b-bc54-ba8874c8690a"
      },
      "source": [
        "df.loc[1:2].style.background_gradient(cmap='viridis')"
      ],
      "execution_count": 19,
      "outputs": [
        {
          "output_type": "execute_result",
          "data": {
            "text/html": [
              "<style  type=\"text/css\" >\n",
              "#T_33ed5bd4_3a5a_11eb_913e_0242ac1c0002row0_col0,#T_33ed5bd4_3a5a_11eb_913e_0242ac1c0002row0_col1,#T_33ed5bd4_3a5a_11eb_913e_0242ac1c0002row0_col2,#T_33ed5bd4_3a5a_11eb_913e_0242ac1c0002row1_col3,#T_33ed5bd4_3a5a_11eb_913e_0242ac1c0002row1_col4{\n",
              "            background-color:  #fde725;\n",
              "            color:  #000000;\n",
              "        }#T_33ed5bd4_3a5a_11eb_913e_0242ac1c0002row0_col3,#T_33ed5bd4_3a5a_11eb_913e_0242ac1c0002row0_col4,#T_33ed5bd4_3a5a_11eb_913e_0242ac1c0002row1_col0,#T_33ed5bd4_3a5a_11eb_913e_0242ac1c0002row1_col1,#T_33ed5bd4_3a5a_11eb_913e_0242ac1c0002row1_col2{\n",
              "            background-color:  #440154;\n",
              "            color:  #f1f1f1;\n",
              "        }</style><table id=\"T_33ed5bd4_3a5a_11eb_913e_0242ac1c0002\" ><thead>    <tr>        <th class=\"blank level0\" ></th>        <th class=\"col_heading level0 col0\" >Empresa 1</th>        <th class=\"col_heading level0 col1\" >Empresa 2</th>        <th class=\"col_heading level0 col2\" >Empresa 3</th>        <th class=\"col_heading level0 col3\" >Empresa 4</th>        <th class=\"col_heading level0 col4\" >Empresa 5</th>    </tr></thead><tbody>\n",
              "                <tr>\n",
              "                        <th id=\"T_33ed5bd4_3a5a_11eb_913e_0242ac1c0002level0_row0\" class=\"row_heading level0 row0\" >1</th>\n",
              "                        <td id=\"T_33ed5bd4_3a5a_11eb_913e_0242ac1c0002row0_col0\" class=\"data row0 col0\" >9</td>\n",
              "                        <td id=\"T_33ed5bd4_3a5a_11eb_913e_0242ac1c0002row0_col1\" class=\"data row0 col1\" >6</td>\n",
              "                        <td id=\"T_33ed5bd4_3a5a_11eb_913e_0242ac1c0002row0_col2\" class=\"data row0 col2\" >4</td>\n",
              "                        <td id=\"T_33ed5bd4_3a5a_11eb_913e_0242ac1c0002row0_col3\" class=\"data row0 col3\" >2</td>\n",
              "                        <td id=\"T_33ed5bd4_3a5a_11eb_913e_0242ac1c0002row0_col4\" class=\"data row0 col4\" >4</td>\n",
              "            </tr>\n",
              "            <tr>\n",
              "                        <th id=\"T_33ed5bd4_3a5a_11eb_913e_0242ac1c0002level0_row1\" class=\"row_heading level0 row1\" >2</th>\n",
              "                        <td id=\"T_33ed5bd4_3a5a_11eb_913e_0242ac1c0002row1_col0\" class=\"data row1 col0\" >6</td>\n",
              "                        <td id=\"T_33ed5bd4_3a5a_11eb_913e_0242ac1c0002row1_col1\" class=\"data row1 col1\" >4</td>\n",
              "                        <td id=\"T_33ed5bd4_3a5a_11eb_913e_0242ac1c0002row1_col2\" class=\"data row1 col2\" >2</td>\n",
              "                        <td id=\"T_33ed5bd4_3a5a_11eb_913e_0242ac1c0002row1_col3\" class=\"data row1 col3\" >4</td>\n",
              "                        <td id=\"T_33ed5bd4_3a5a_11eb_913e_0242ac1c0002row1_col4\" class=\"data row1 col4\" >9</td>\n",
              "            </tr>\n",
              "    </tbody></table>"
            ],
            "text/plain": [
              "<pandas.io.formats.style.Styler at 0x7fe790f43d68>"
            ]
          },
          "metadata": {
            "tags": []
          },
          "execution_count": 19
        }
      ]
    },
    {
      "cell_type": "code",
      "metadata": {
        "colab": {
          "base_uri": "https://localhost:8080/",
          "height": 124
        },
        "id": "uomiE85lHsbw",
        "outputId": "09fed01c-ce4b-44b4-ce38-be79fdcaebf4"
      },
      "source": [
        "df.loc[:4].style.background_gradient(cmap='plasma')"
      ],
      "execution_count": 20,
      "outputs": [
        {
          "output_type": "execute_result",
          "data": {
            "text/html": [
              "<style  type=\"text/css\" >\n",
              "#T_5cf93cbe_3a5a_11eb_913e_0242ac1c0002row0_col0,#T_5cf93cbe_3a5a_11eb_913e_0242ac1c0002row0_col4,#T_5cf93cbe_3a5a_11eb_913e_0242ac1c0002row1_col3,#T_5cf93cbe_3a5a_11eb_913e_0242ac1c0002row2_col1,#T_5cf93cbe_3a5a_11eb_913e_0242ac1c0002row2_col2{\n",
              "            background-color:  #0d0887;\n",
              "            color:  #f1f1f1;\n",
              "        }#T_5cf93cbe_3a5a_11eb_913e_0242ac1c0002row0_col1{\n",
              "            background-color:  #c03a83;\n",
              "            color:  #f1f1f1;\n",
              "        }#T_5cf93cbe_3a5a_11eb_913e_0242ac1c0002row0_col2{\n",
              "            background-color:  #6001a6;\n",
              "            color:  #f1f1f1;\n",
              "        }#T_5cf93cbe_3a5a_11eb_913e_0242ac1c0002row0_col3,#T_5cf93cbe_3a5a_11eb_913e_0242ac1c0002row2_col3{\n",
              "            background-color:  #2f0596;\n",
              "            color:  #f1f1f1;\n",
              "        }#T_5cf93cbe_3a5a_11eb_913e_0242ac1c0002row1_col0,#T_5cf93cbe_3a5a_11eb_913e_0242ac1c0002row3_col1,#T_5cf93cbe_3a5a_11eb_913e_0242ac1c0002row3_col2,#T_5cf93cbe_3a5a_11eb_913e_0242ac1c0002row3_col3,#T_5cf93cbe_3a5a_11eb_913e_0242ac1c0002row3_col4{\n",
              "            background-color:  #f0f921;\n",
              "            color:  #000000;\n",
              "        }#T_5cf93cbe_3a5a_11eb_913e_0242ac1c0002row1_col1{\n",
              "            background-color:  #6300a7;\n",
              "            color:  #f1f1f1;\n",
              "        }#T_5cf93cbe_3a5a_11eb_913e_0242ac1c0002row1_col2{\n",
              "            background-color:  #3c049b;\n",
              "            color:  #f1f1f1;\n",
              "        }#T_5cf93cbe_3a5a_11eb_913e_0242ac1c0002row1_col4{\n",
              "            background-color:  #280592;\n",
              "            color:  #f1f1f1;\n",
              "        }#T_5cf93cbe_3a5a_11eb_913e_0242ac1c0002row2_col0{\n",
              "            background-color:  #b12a90;\n",
              "            color:  #f1f1f1;\n",
              "        }#T_5cf93cbe_3a5a_11eb_913e_0242ac1c0002row2_col4{\n",
              "            background-color:  #5b01a5;\n",
              "            color:  #f1f1f1;\n",
              "        }#T_5cf93cbe_3a5a_11eb_913e_0242ac1c0002row3_col0{\n",
              "            background-color:  #6a00a8;\n",
              "            color:  #f1f1f1;\n",
              "        }</style><table id=\"T_5cf93cbe_3a5a_11eb_913e_0242ac1c0002\" ><thead>    <tr>        <th class=\"blank level0\" ></th>        <th class=\"col_heading level0 col0\" >Empresa 1</th>        <th class=\"col_heading level0 col1\" >Empresa 2</th>        <th class=\"col_heading level0 col2\" >Empresa 3</th>        <th class=\"col_heading level0 col3\" >Empresa 4</th>        <th class=\"col_heading level0 col4\" >Empresa 5</th>    </tr></thead><tbody>\n",
              "                <tr>\n",
              "                        <th id=\"T_5cf93cbe_3a5a_11eb_913e_0242ac1c0002level0_row0\" class=\"row_heading level0 row0\" >0</th>\n",
              "                        <td id=\"T_5cf93cbe_3a5a_11eb_913e_0242ac1c0002row0_col0\" class=\"data row0 col0\" >4</td>\n",
              "                        <td id=\"T_5cf93cbe_3a5a_11eb_913e_0242ac1c0002row0_col1\" class=\"data row0 col1\" >9</td>\n",
              "                        <td id=\"T_5cf93cbe_3a5a_11eb_913e_0242ac1c0002row0_col2\" class=\"data row0 col2\" >6</td>\n",
              "                        <td id=\"T_5cf93cbe_3a5a_11eb_913e_0242ac1c0002row0_col3\" class=\"data row0 col3\" >4</td>\n",
              "                        <td id=\"T_5cf93cbe_3a5a_11eb_913e_0242ac1c0002row0_col4\" class=\"data row0 col4\" >2</td>\n",
              "            </tr>\n",
              "            <tr>\n",
              "                        <th id=\"T_5cf93cbe_3a5a_11eb_913e_0242ac1c0002level0_row1\" class=\"row_heading level0 row1\" >1</th>\n",
              "                        <td id=\"T_5cf93cbe_3a5a_11eb_913e_0242ac1c0002row1_col0\" class=\"data row1 col0\" >9</td>\n",
              "                        <td id=\"T_5cf93cbe_3a5a_11eb_913e_0242ac1c0002row1_col1\" class=\"data row1 col1\" >6</td>\n",
              "                        <td id=\"T_5cf93cbe_3a5a_11eb_913e_0242ac1c0002row1_col2\" class=\"data row1 col2\" >4</td>\n",
              "                        <td id=\"T_5cf93cbe_3a5a_11eb_913e_0242ac1c0002row1_col3\" class=\"data row1 col3\" >2</td>\n",
              "                        <td id=\"T_5cf93cbe_3a5a_11eb_913e_0242ac1c0002row1_col4\" class=\"data row1 col4\" >4</td>\n",
              "            </tr>\n",
              "            <tr>\n",
              "                        <th id=\"T_5cf93cbe_3a5a_11eb_913e_0242ac1c0002level0_row2\" class=\"row_heading level0 row2\" >2</th>\n",
              "                        <td id=\"T_5cf93cbe_3a5a_11eb_913e_0242ac1c0002row2_col0\" class=\"data row2 col0\" >6</td>\n",
              "                        <td id=\"T_5cf93cbe_3a5a_11eb_913e_0242ac1c0002row2_col1\" class=\"data row2 col1\" >4</td>\n",
              "                        <td id=\"T_5cf93cbe_3a5a_11eb_913e_0242ac1c0002row2_col2\" class=\"data row2 col2\" >2</td>\n",
              "                        <td id=\"T_5cf93cbe_3a5a_11eb_913e_0242ac1c0002row2_col3\" class=\"data row2 col3\" >4</td>\n",
              "                        <td id=\"T_5cf93cbe_3a5a_11eb_913e_0242ac1c0002row2_col4\" class=\"data row2 col4\" >9</td>\n",
              "            </tr>\n",
              "            <tr>\n",
              "                        <th id=\"T_5cf93cbe_3a5a_11eb_913e_0242ac1c0002level0_row3\" class=\"row_heading level0 row3\" >3</th>\n",
              "                        <td id=\"T_5cf93cbe_3a5a_11eb_913e_0242ac1c0002row3_col0\" class=\"data row3 col0\" >5</td>\n",
              "                        <td id=\"T_5cf93cbe_3a5a_11eb_913e_0242ac1c0002row3_col1\" class=\"data row3 col1\" >15</td>\n",
              "                        <td id=\"T_5cf93cbe_3a5a_11eb_913e_0242ac1c0002row3_col2\" class=\"data row3 col2\" >25</td>\n",
              "                        <td id=\"T_5cf93cbe_3a5a_11eb_913e_0242ac1c0002row3_col3\" class=\"data row3 col3\" >35</td>\n",
              "                        <td id=\"T_5cf93cbe_3a5a_11eb_913e_0242ac1c0002row3_col4\" class=\"data row3 col4\" >45</td>\n",
              "            </tr>\n",
              "    </tbody></table>"
            ],
            "text/plain": [
              "<pandas.io.formats.style.Styler at 0x7fe77e330908>"
            ]
          },
          "metadata": {
            "tags": []
          },
          "execution_count": 20
        }
      ]
    },
    {
      "cell_type": "code",
      "metadata": {
        "colab": {
          "base_uri": "https://localhost:8080/",
          "height": 124
        },
        "id": "8yaVpOqvHwSg",
        "outputId": "17402ff5-92b0-476d-8f07-c3c12a19424b"
      },
      "source": [
        "df.loc[:4].style.background_gradient(cmap='magma')"
      ],
      "execution_count": 21,
      "outputs": [
        {
          "output_type": "execute_result",
          "data": {
            "text/html": [
              "<style  type=\"text/css\" >\n",
              "#T_646ee534_3a5a_11eb_913e_0242ac1c0002row0_col0,#T_646ee534_3a5a_11eb_913e_0242ac1c0002row0_col4,#T_646ee534_3a5a_11eb_913e_0242ac1c0002row1_col3,#T_646ee534_3a5a_11eb_913e_0242ac1c0002row2_col1,#T_646ee534_3a5a_11eb_913e_0242ac1c0002row2_col2{\n",
              "            background-color:  #000004;\n",
              "            color:  #f1f1f1;\n",
              "        }#T_646ee534_3a5a_11eb_913e_0242ac1c0002row0_col1{\n",
              "            background-color:  #a3307e;\n",
              "            color:  #f1f1f1;\n",
              "        }#T_646ee534_3a5a_11eb_913e_0242ac1c0002row0_col2{\n",
              "            background-color:  #2f1163;\n",
              "            color:  #f1f1f1;\n",
              "        }#T_646ee534_3a5a_11eb_913e_0242ac1c0002row0_col3,#T_646ee534_3a5a_11eb_913e_0242ac1c0002row2_col3{\n",
              "            background-color:  #090720;\n",
              "            color:  #f1f1f1;\n",
              "        }#T_646ee534_3a5a_11eb_913e_0242ac1c0002row1_col0,#T_646ee534_3a5a_11eb_913e_0242ac1c0002row3_col1,#T_646ee534_3a5a_11eb_913e_0242ac1c0002row3_col2,#T_646ee534_3a5a_11eb_913e_0242ac1c0002row3_col3,#T_646ee534_3a5a_11eb_913e_0242ac1c0002row3_col4{\n",
              "            background-color:  #fcfdbf;\n",
              "            color:  #000000;\n",
              "        }#T_646ee534_3a5a_11eb_913e_0242ac1c0002row1_col1{\n",
              "            background-color:  #331067;\n",
              "            color:  #f1f1f1;\n",
              "        }#T_646ee534_3a5a_11eb_913e_0242ac1c0002row1_col2{\n",
              "            background-color:  #110c2f;\n",
              "            color:  #f1f1f1;\n",
              "        }#T_646ee534_3a5a_11eb_913e_0242ac1c0002row1_col4{\n",
              "            background-color:  #060518;\n",
              "            color:  #f1f1f1;\n",
              "        }#T_646ee534_3a5a_11eb_913e_0242ac1c0002row2_col0{\n",
              "            background-color:  #8c2981;\n",
              "            color:  #f1f1f1;\n",
              "        }#T_646ee534_3a5a_11eb_913e_0242ac1c0002row2_col4{\n",
              "            background-color:  #2a115c;\n",
              "            color:  #f1f1f1;\n",
              "        }#T_646ee534_3a5a_11eb_913e_0242ac1c0002row3_col0{\n",
              "            background-color:  #3b0f70;\n",
              "            color:  #f1f1f1;\n",
              "        }</style><table id=\"T_646ee534_3a5a_11eb_913e_0242ac1c0002\" ><thead>    <tr>        <th class=\"blank level0\" ></th>        <th class=\"col_heading level0 col0\" >Empresa 1</th>        <th class=\"col_heading level0 col1\" >Empresa 2</th>        <th class=\"col_heading level0 col2\" >Empresa 3</th>        <th class=\"col_heading level0 col3\" >Empresa 4</th>        <th class=\"col_heading level0 col4\" >Empresa 5</th>    </tr></thead><tbody>\n",
              "                <tr>\n",
              "                        <th id=\"T_646ee534_3a5a_11eb_913e_0242ac1c0002level0_row0\" class=\"row_heading level0 row0\" >0</th>\n",
              "                        <td id=\"T_646ee534_3a5a_11eb_913e_0242ac1c0002row0_col0\" class=\"data row0 col0\" >4</td>\n",
              "                        <td id=\"T_646ee534_3a5a_11eb_913e_0242ac1c0002row0_col1\" class=\"data row0 col1\" >9</td>\n",
              "                        <td id=\"T_646ee534_3a5a_11eb_913e_0242ac1c0002row0_col2\" class=\"data row0 col2\" >6</td>\n",
              "                        <td id=\"T_646ee534_3a5a_11eb_913e_0242ac1c0002row0_col3\" class=\"data row0 col3\" >4</td>\n",
              "                        <td id=\"T_646ee534_3a5a_11eb_913e_0242ac1c0002row0_col4\" class=\"data row0 col4\" >2</td>\n",
              "            </tr>\n",
              "            <tr>\n",
              "                        <th id=\"T_646ee534_3a5a_11eb_913e_0242ac1c0002level0_row1\" class=\"row_heading level0 row1\" >1</th>\n",
              "                        <td id=\"T_646ee534_3a5a_11eb_913e_0242ac1c0002row1_col0\" class=\"data row1 col0\" >9</td>\n",
              "                        <td id=\"T_646ee534_3a5a_11eb_913e_0242ac1c0002row1_col1\" class=\"data row1 col1\" >6</td>\n",
              "                        <td id=\"T_646ee534_3a5a_11eb_913e_0242ac1c0002row1_col2\" class=\"data row1 col2\" >4</td>\n",
              "                        <td id=\"T_646ee534_3a5a_11eb_913e_0242ac1c0002row1_col3\" class=\"data row1 col3\" >2</td>\n",
              "                        <td id=\"T_646ee534_3a5a_11eb_913e_0242ac1c0002row1_col4\" class=\"data row1 col4\" >4</td>\n",
              "            </tr>\n",
              "            <tr>\n",
              "                        <th id=\"T_646ee534_3a5a_11eb_913e_0242ac1c0002level0_row2\" class=\"row_heading level0 row2\" >2</th>\n",
              "                        <td id=\"T_646ee534_3a5a_11eb_913e_0242ac1c0002row2_col0\" class=\"data row2 col0\" >6</td>\n",
              "                        <td id=\"T_646ee534_3a5a_11eb_913e_0242ac1c0002row2_col1\" class=\"data row2 col1\" >4</td>\n",
              "                        <td id=\"T_646ee534_3a5a_11eb_913e_0242ac1c0002row2_col2\" class=\"data row2 col2\" >2</td>\n",
              "                        <td id=\"T_646ee534_3a5a_11eb_913e_0242ac1c0002row2_col3\" class=\"data row2 col3\" >4</td>\n",
              "                        <td id=\"T_646ee534_3a5a_11eb_913e_0242ac1c0002row2_col4\" class=\"data row2 col4\" >9</td>\n",
              "            </tr>\n",
              "            <tr>\n",
              "                        <th id=\"T_646ee534_3a5a_11eb_913e_0242ac1c0002level0_row3\" class=\"row_heading level0 row3\" >3</th>\n",
              "                        <td id=\"T_646ee534_3a5a_11eb_913e_0242ac1c0002row3_col0\" class=\"data row3 col0\" >5</td>\n",
              "                        <td id=\"T_646ee534_3a5a_11eb_913e_0242ac1c0002row3_col1\" class=\"data row3 col1\" >15</td>\n",
              "                        <td id=\"T_646ee534_3a5a_11eb_913e_0242ac1c0002row3_col2\" class=\"data row3 col2\" >25</td>\n",
              "                        <td id=\"T_646ee534_3a5a_11eb_913e_0242ac1c0002row3_col3\" class=\"data row3 col3\" >35</td>\n",
              "                        <td id=\"T_646ee534_3a5a_11eb_913e_0242ac1c0002row3_col4\" class=\"data row3 col4\" >45</td>\n",
              "            </tr>\n",
              "    </tbody></table>"
            ],
            "text/plain": [
              "<pandas.io.formats.style.Styler at 0x7fe77e330438>"
            ]
          },
          "metadata": {
            "tags": []
          },
          "execution_count": 21
        }
      ]
    },
    {
      "cell_type": "code",
      "metadata": {
        "colab": {
          "base_uri": "https://localhost:8080/",
          "height": 124
        },
        "id": "hK8jF1XWHzZ-",
        "outputId": "1cf4319e-2fc6-4b4b-f6a3-3a4e29d18e71"
      },
      "source": [
        "df.loc[:4].style.background_gradient(cmap='hot')"
      ],
      "execution_count": 22,
      "outputs": [
        {
          "output_type": "execute_result",
          "data": {
            "text/html": [
              "<style  type=\"text/css\" >\n",
              "#T_6c09d484_3a5a_11eb_913e_0242ac1c0002row0_col0,#T_6c09d484_3a5a_11eb_913e_0242ac1c0002row0_col4,#T_6c09d484_3a5a_11eb_913e_0242ac1c0002row1_col3,#T_6c09d484_3a5a_11eb_913e_0242ac1c0002row2_col1,#T_6c09d484_3a5a_11eb_913e_0242ac1c0002row2_col2{\n",
              "            background-color:  #0b0000;\n",
              "            color:  #f1f1f1;\n",
              "        }#T_6c09d484_3a5a_11eb_913e_0242ac1c0002row0_col1{\n",
              "            background-color:  #ff3c00;\n",
              "            color:  #f1f1f1;\n",
              "        }#T_6c09d484_3a5a_11eb_913e_0242ac1c0002row0_col2{\n",
              "            background-color:  #7e0000;\n",
              "            color:  #f1f1f1;\n",
              "        }#T_6c09d484_3a5a_11eb_913e_0242ac1c0002row0_col3,#T_6c09d484_3a5a_11eb_913e_0242ac1c0002row2_col3{\n",
              "            background-color:  #320000;\n",
              "            color:  #f1f1f1;\n",
              "        }#T_6c09d484_3a5a_11eb_913e_0242ac1c0002row1_col0,#T_6c09d484_3a5a_11eb_913e_0242ac1c0002row3_col1,#T_6c09d484_3a5a_11eb_913e_0242ac1c0002row3_col2,#T_6c09d484_3a5a_11eb_913e_0242ac1c0002row3_col3,#T_6c09d484_3a5a_11eb_913e_0242ac1c0002row3_col4{\n",
              "            background-color:  #ffffff;\n",
              "            color:  #000000;\n",
              "        }#T_6c09d484_3a5a_11eb_913e_0242ac1c0002row1_col1{\n",
              "            background-color:  #830000;\n",
              "            color:  #f1f1f1;\n",
              "        }#T_6c09d484_3a5a_11eb_913e_0242ac1c0002row1_col2{\n",
              "            background-color:  #440000;\n",
              "            color:  #f1f1f1;\n",
              "        }#T_6c09d484_3a5a_11eb_913e_0242ac1c0002row1_col4{\n",
              "            background-color:  #270000;\n",
              "            color:  #f1f1f1;\n",
              "        }#T_6c09d484_3a5a_11eb_913e_0242ac1c0002row2_col0{\n",
              "            background-color:  #ff1700;\n",
              "            color:  #f1f1f1;\n",
              "        }#T_6c09d484_3a5a_11eb_913e_0242ac1c0002row2_col4{\n",
              "            background-color:  #760000;\n",
              "            color:  #f1f1f1;\n",
              "        }#T_6c09d484_3a5a_11eb_913e_0242ac1c0002row3_col0{\n",
              "            background-color:  #900000;\n",
              "            color:  #f1f1f1;\n",
              "        }</style><table id=\"T_6c09d484_3a5a_11eb_913e_0242ac1c0002\" ><thead>    <tr>        <th class=\"blank level0\" ></th>        <th class=\"col_heading level0 col0\" >Empresa 1</th>        <th class=\"col_heading level0 col1\" >Empresa 2</th>        <th class=\"col_heading level0 col2\" >Empresa 3</th>        <th class=\"col_heading level0 col3\" >Empresa 4</th>        <th class=\"col_heading level0 col4\" >Empresa 5</th>    </tr></thead><tbody>\n",
              "                <tr>\n",
              "                        <th id=\"T_6c09d484_3a5a_11eb_913e_0242ac1c0002level0_row0\" class=\"row_heading level0 row0\" >0</th>\n",
              "                        <td id=\"T_6c09d484_3a5a_11eb_913e_0242ac1c0002row0_col0\" class=\"data row0 col0\" >4</td>\n",
              "                        <td id=\"T_6c09d484_3a5a_11eb_913e_0242ac1c0002row0_col1\" class=\"data row0 col1\" >9</td>\n",
              "                        <td id=\"T_6c09d484_3a5a_11eb_913e_0242ac1c0002row0_col2\" class=\"data row0 col2\" >6</td>\n",
              "                        <td id=\"T_6c09d484_3a5a_11eb_913e_0242ac1c0002row0_col3\" class=\"data row0 col3\" >4</td>\n",
              "                        <td id=\"T_6c09d484_3a5a_11eb_913e_0242ac1c0002row0_col4\" class=\"data row0 col4\" >2</td>\n",
              "            </tr>\n",
              "            <tr>\n",
              "                        <th id=\"T_6c09d484_3a5a_11eb_913e_0242ac1c0002level0_row1\" class=\"row_heading level0 row1\" >1</th>\n",
              "                        <td id=\"T_6c09d484_3a5a_11eb_913e_0242ac1c0002row1_col0\" class=\"data row1 col0\" >9</td>\n",
              "                        <td id=\"T_6c09d484_3a5a_11eb_913e_0242ac1c0002row1_col1\" class=\"data row1 col1\" >6</td>\n",
              "                        <td id=\"T_6c09d484_3a5a_11eb_913e_0242ac1c0002row1_col2\" class=\"data row1 col2\" >4</td>\n",
              "                        <td id=\"T_6c09d484_3a5a_11eb_913e_0242ac1c0002row1_col3\" class=\"data row1 col3\" >2</td>\n",
              "                        <td id=\"T_6c09d484_3a5a_11eb_913e_0242ac1c0002row1_col4\" class=\"data row1 col4\" >4</td>\n",
              "            </tr>\n",
              "            <tr>\n",
              "                        <th id=\"T_6c09d484_3a5a_11eb_913e_0242ac1c0002level0_row2\" class=\"row_heading level0 row2\" >2</th>\n",
              "                        <td id=\"T_6c09d484_3a5a_11eb_913e_0242ac1c0002row2_col0\" class=\"data row2 col0\" >6</td>\n",
              "                        <td id=\"T_6c09d484_3a5a_11eb_913e_0242ac1c0002row2_col1\" class=\"data row2 col1\" >4</td>\n",
              "                        <td id=\"T_6c09d484_3a5a_11eb_913e_0242ac1c0002row2_col2\" class=\"data row2 col2\" >2</td>\n",
              "                        <td id=\"T_6c09d484_3a5a_11eb_913e_0242ac1c0002row2_col3\" class=\"data row2 col3\" >4</td>\n",
              "                        <td id=\"T_6c09d484_3a5a_11eb_913e_0242ac1c0002row2_col4\" class=\"data row2 col4\" >9</td>\n",
              "            </tr>\n",
              "            <tr>\n",
              "                        <th id=\"T_6c09d484_3a5a_11eb_913e_0242ac1c0002level0_row3\" class=\"row_heading level0 row3\" >3</th>\n",
              "                        <td id=\"T_6c09d484_3a5a_11eb_913e_0242ac1c0002row3_col0\" class=\"data row3 col0\" >5</td>\n",
              "                        <td id=\"T_6c09d484_3a5a_11eb_913e_0242ac1c0002row3_col1\" class=\"data row3 col1\" >15</td>\n",
              "                        <td id=\"T_6c09d484_3a5a_11eb_913e_0242ac1c0002row3_col2\" class=\"data row3 col2\" >25</td>\n",
              "                        <td id=\"T_6c09d484_3a5a_11eb_913e_0242ac1c0002row3_col3\" class=\"data row3 col3\" >35</td>\n",
              "                        <td id=\"T_6c09d484_3a5a_11eb_913e_0242ac1c0002row3_col4\" class=\"data row3 col4\" >45</td>\n",
              "            </tr>\n",
              "    </tbody></table>"
            ],
            "text/plain": [
              "<pandas.io.formats.style.Styler at 0x7fe77e33a278>"
            ]
          },
          "metadata": {
            "tags": []
          },
          "execution_count": 22
        }
      ]
    },
    {
      "cell_type": "code",
      "metadata": {
        "colab": {
          "base_uri": "https://localhost:8080/",
          "height": 124
        },
        "id": "oOpoW8oEH2MY",
        "outputId": "f1a31b6d-f029-4e2b-9d49-e3281d6da90d"
      },
      "source": [
        "df.loc[:4].style.background_gradient(cmap='cool')"
      ],
      "execution_count": 24,
      "outputs": [
        {
          "output_type": "execute_result",
          "data": {
            "text/html": [
              "<style  type=\"text/css\" >\n",
              "#T_77cabbf8_3a5a_11eb_913e_0242ac1c0002row0_col0,#T_77cabbf8_3a5a_11eb_913e_0242ac1c0002row0_col4,#T_77cabbf8_3a5a_11eb_913e_0242ac1c0002row1_col3,#T_77cabbf8_3a5a_11eb_913e_0242ac1c0002row2_col1,#T_77cabbf8_3a5a_11eb_913e_0242ac1c0002row2_col2{\n",
              "            background-color:  #00ffff;\n",
              "            color:  #000000;\n",
              "        }#T_77cabbf8_3a5a_11eb_913e_0242ac1c0002row0_col1{\n",
              "            background-color:  #748bff;\n",
              "            color:  #000000;\n",
              "        }#T_77cabbf8_3a5a_11eb_913e_0242ac1c0002row0_col2{\n",
              "            background-color:  #2cd3ff;\n",
              "            color:  #000000;\n",
              "        }#T_77cabbf8_3a5a_11eb_913e_0242ac1c0002row0_col3,#T_77cabbf8_3a5a_11eb_913e_0242ac1c0002row2_col3{\n",
              "            background-color:  #0ff0ff;\n",
              "            color:  #000000;\n",
              "        }#T_77cabbf8_3a5a_11eb_913e_0242ac1c0002row1_col0,#T_77cabbf8_3a5a_11eb_913e_0242ac1c0002row3_col1,#T_77cabbf8_3a5a_11eb_913e_0242ac1c0002row3_col2,#T_77cabbf8_3a5a_11eb_913e_0242ac1c0002row3_col3,#T_77cabbf8_3a5a_11eb_913e_0242ac1c0002row3_col4{\n",
              "            background-color:  #ff00ff;\n",
              "            color:  #f1f1f1;\n",
              "        }#T_77cabbf8_3a5a_11eb_913e_0242ac1c0002row1_col1{\n",
              "            background-color:  #2ed1ff;\n",
              "            color:  #000000;\n",
              "        }#T_77cabbf8_3a5a_11eb_913e_0242ac1c0002row1_col2{\n",
              "            background-color:  #16e9ff;\n",
              "            color:  #000000;\n",
              "        }#T_77cabbf8_3a5a_11eb_913e_0242ac1c0002row1_col4{\n",
              "            background-color:  #0bf4ff;\n",
              "            color:  #000000;\n",
              "        }#T_77cabbf8_3a5a_11eb_913e_0242ac1c0002row2_col0{\n",
              "            background-color:  #6699ff;\n",
              "            color:  #000000;\n",
              "        }#T_77cabbf8_3a5a_11eb_913e_0242ac1c0002row2_col4{\n",
              "            background-color:  #29d6ff;\n",
              "            color:  #000000;\n",
              "        }#T_77cabbf8_3a5a_11eb_913e_0242ac1c0002row3_col0{\n",
              "            background-color:  #33ccff;\n",
              "            color:  #000000;\n",
              "        }</style><table id=\"T_77cabbf8_3a5a_11eb_913e_0242ac1c0002\" ><thead>    <tr>        <th class=\"blank level0\" ></th>        <th class=\"col_heading level0 col0\" >Empresa 1</th>        <th class=\"col_heading level0 col1\" >Empresa 2</th>        <th class=\"col_heading level0 col2\" >Empresa 3</th>        <th class=\"col_heading level0 col3\" >Empresa 4</th>        <th class=\"col_heading level0 col4\" >Empresa 5</th>    </tr></thead><tbody>\n",
              "                <tr>\n",
              "                        <th id=\"T_77cabbf8_3a5a_11eb_913e_0242ac1c0002level0_row0\" class=\"row_heading level0 row0\" >0</th>\n",
              "                        <td id=\"T_77cabbf8_3a5a_11eb_913e_0242ac1c0002row0_col0\" class=\"data row0 col0\" >4</td>\n",
              "                        <td id=\"T_77cabbf8_3a5a_11eb_913e_0242ac1c0002row0_col1\" class=\"data row0 col1\" >9</td>\n",
              "                        <td id=\"T_77cabbf8_3a5a_11eb_913e_0242ac1c0002row0_col2\" class=\"data row0 col2\" >6</td>\n",
              "                        <td id=\"T_77cabbf8_3a5a_11eb_913e_0242ac1c0002row0_col3\" class=\"data row0 col3\" >4</td>\n",
              "                        <td id=\"T_77cabbf8_3a5a_11eb_913e_0242ac1c0002row0_col4\" class=\"data row0 col4\" >2</td>\n",
              "            </tr>\n",
              "            <tr>\n",
              "                        <th id=\"T_77cabbf8_3a5a_11eb_913e_0242ac1c0002level0_row1\" class=\"row_heading level0 row1\" >1</th>\n",
              "                        <td id=\"T_77cabbf8_3a5a_11eb_913e_0242ac1c0002row1_col0\" class=\"data row1 col0\" >9</td>\n",
              "                        <td id=\"T_77cabbf8_3a5a_11eb_913e_0242ac1c0002row1_col1\" class=\"data row1 col1\" >6</td>\n",
              "                        <td id=\"T_77cabbf8_3a5a_11eb_913e_0242ac1c0002row1_col2\" class=\"data row1 col2\" >4</td>\n",
              "                        <td id=\"T_77cabbf8_3a5a_11eb_913e_0242ac1c0002row1_col3\" class=\"data row1 col3\" >2</td>\n",
              "                        <td id=\"T_77cabbf8_3a5a_11eb_913e_0242ac1c0002row1_col4\" class=\"data row1 col4\" >4</td>\n",
              "            </tr>\n",
              "            <tr>\n",
              "                        <th id=\"T_77cabbf8_3a5a_11eb_913e_0242ac1c0002level0_row2\" class=\"row_heading level0 row2\" >2</th>\n",
              "                        <td id=\"T_77cabbf8_3a5a_11eb_913e_0242ac1c0002row2_col0\" class=\"data row2 col0\" >6</td>\n",
              "                        <td id=\"T_77cabbf8_3a5a_11eb_913e_0242ac1c0002row2_col1\" class=\"data row2 col1\" >4</td>\n",
              "                        <td id=\"T_77cabbf8_3a5a_11eb_913e_0242ac1c0002row2_col2\" class=\"data row2 col2\" >2</td>\n",
              "                        <td id=\"T_77cabbf8_3a5a_11eb_913e_0242ac1c0002row2_col3\" class=\"data row2 col3\" >4</td>\n",
              "                        <td id=\"T_77cabbf8_3a5a_11eb_913e_0242ac1c0002row2_col4\" class=\"data row2 col4\" >9</td>\n",
              "            </tr>\n",
              "            <tr>\n",
              "                        <th id=\"T_77cabbf8_3a5a_11eb_913e_0242ac1c0002level0_row3\" class=\"row_heading level0 row3\" >3</th>\n",
              "                        <td id=\"T_77cabbf8_3a5a_11eb_913e_0242ac1c0002row3_col0\" class=\"data row3 col0\" >5</td>\n",
              "                        <td id=\"T_77cabbf8_3a5a_11eb_913e_0242ac1c0002row3_col1\" class=\"data row3 col1\" >15</td>\n",
              "                        <td id=\"T_77cabbf8_3a5a_11eb_913e_0242ac1c0002row3_col2\" class=\"data row3 col2\" >25</td>\n",
              "                        <td id=\"T_77cabbf8_3a5a_11eb_913e_0242ac1c0002row3_col3\" class=\"data row3 col3\" >35</td>\n",
              "                        <td id=\"T_77cabbf8_3a5a_11eb_913e_0242ac1c0002row3_col4\" class=\"data row3 col4\" >45</td>\n",
              "            </tr>\n",
              "    </tbody></table>"
            ],
            "text/plain": [
              "<pandas.io.formats.style.Styler at 0x7fe77e2c50f0>"
            ]
          },
          "metadata": {
            "tags": []
          },
          "execution_count": 24
        }
      ]
    }
  ]
}