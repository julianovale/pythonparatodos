{
  "nbformat": 4,
  "nbformat_minor": 0,
  "metadata": {
    "colab": {
      "name": "Módulo02Aula06.ipynb",
      "provenance": [],
      "collapsed_sections": [],
      "authorship_tag": "ABX9TyMwPiErwPAVpjC/YpU6Vy40",
      "include_colab_link": true
    },
    "kernelspec": {
      "name": "python3",
      "display_name": "Python 3"
    }
  },
  "cells": [
    {
      "cell_type": "markdown",
      "metadata": {
        "id": "view-in-github",
        "colab_type": "text"
      },
      "source": [
        "<a href=\"https://colab.research.google.com/github/julianovale/pythonparatodos/blob/main/M%C3%B3dulo02Aula06.ipynb\" target=\"_parent\"><img src=\"https://colab.research.google.com/assets/colab-badge.svg\" alt=\"Open In Colab\"/></a>"
      ]
    },
    {
      "cell_type": "code",
      "metadata": {
        "colab": {
          "base_uri": "https://localhost:8080/"
        },
        "id": "0ZtpinJbEevH",
        "outputId": "f5d9cf7e-da31-4b8f-b962-9d31779db113"
      },
      "source": [
        "list1 = [3,2,4,5]\n",
        "list2 = [\"red\",\"blue\",\"yellow\",\"green\"]\n",
        "list3 = list1 + list2 # neste caso ele faz uma cópia por valor, não por referência \n",
        "print(list3)"
      ],
      "execution_count": 13,
      "outputs": [
        {
          "output_type": "stream",
          "text": [
            "[3, 2, 4, 5, 'red', 'blue', 'yellow', 'green']\n"
          ],
          "name": "stdout"
        }
      ]
    },
    {
      "cell_type": "code",
      "metadata": {
        "colab": {
          "base_uri": "https://localhost:8080/"
        },
        "id": "t13Pd_ESGapw",
        "outputId": "c7e37b65-fe20-43ad-a330-d57aece66f61"
      },
      "source": [
        "list3[0] = -10\n",
        "print(list3, list1)"
      ],
      "execution_count": 14,
      "outputs": [
        {
          "output_type": "stream",
          "text": [
            "[-10, 2, 4, 5, 'red', 'blue', 'yellow', 'green'] [3, 2, 4, 5]\n"
          ],
          "name": "stdout"
        }
      ]
    },
    {
      "cell_type": "code",
      "metadata": {
        "colab": {
          "base_uri": "https://localhost:8080/",
          "height": 69
        },
        "id": "707HFlWvGwFm",
        "outputId": "ec11afef-c1e7-4a51-9d3a-8a5def1ac370"
      },
      "source": [
        "print(list1)\n",
        "list1.append(list2) # insere a list2 como um elemento da list1\n",
        "print(list1)\n",
        "list1[4]\n",
        "list1[4][2]"
      ],
      "execution_count": 15,
      "outputs": [
        {
          "output_type": "stream",
          "text": [
            "[3, 2, 4, 5]\n",
            "[3, 2, 4, 5, ['red', 'blue', 'yellow', 'green']]\n"
          ],
          "name": "stdout"
        },
        {
          "output_type": "execute_result",
          "data": {
            "application/vnd.google.colaboratory.intrinsic+json": {
              "type": "string"
            },
            "text/plain": [
              "'yellow'"
            ]
          },
          "metadata": {
            "tags": []
          },
          "execution_count": 15
        }
      ]
    },
    {
      "cell_type": "code",
      "metadata": {
        "id": "Ww3jOy5CG8rP"
      },
      "source": [
        "list1 = [3,2,4,5]\n",
        "list2 = [\"red\",\"blue\",\"yellow\",\"green\"]"
      ],
      "execution_count": 16,
      "outputs": []
    },
    {
      "cell_type": "code",
      "metadata": {
        "colab": {
          "base_uri": "https://localhost:8080/",
          "height": 69
        },
        "id": "WDdMxFrrHCqu",
        "outputId": "4e17ace9-965d-4299-ad05-ab3b365ebfbf"
      },
      "source": [
        "print(list1)\n",
        "list1.extend(list2) # insere cada elemento da list2 como um elemento em list1\n",
        "print(list1)\n",
        "list1[4]"
      ],
      "execution_count": 17,
      "outputs": [
        {
          "output_type": "stream",
          "text": [
            "[3, 2, 4, 5]\n",
            "[3, 2, 4, 5, 'red', 'blue', 'yellow', 'green']\n"
          ],
          "name": "stdout"
        },
        {
          "output_type": "execute_result",
          "data": {
            "application/vnd.google.colaboratory.intrinsic+json": {
              "type": "string"
            },
            "text/plain": [
              "'red'"
            ]
          },
          "metadata": {
            "tags": []
          },
          "execution_count": 17
        }
      ]
    }
  ]
}