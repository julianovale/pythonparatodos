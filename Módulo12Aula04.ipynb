{
  "nbformat": 4,
  "nbformat_minor": 0,
  "metadata": {
    "colab": {
      "name": "Módulo12Aula04.ipynb",
      "provenance": [],
      "collapsed_sections": [],
      "authorship_tag": "ABX9TyPWEXPkl6cVF09Pq8yljixE",
      "include_colab_link": true
    },
    "kernelspec": {
      "name": "python3",
      "display_name": "Python 3"
    }
  },
  "cells": [
    {
      "cell_type": "markdown",
      "metadata": {
        "id": "view-in-github",
        "colab_type": "text"
      },
      "source": [
        "<a href=\"https://colab.research.google.com/github/julianovale/pythonparatodos/blob/main/M%C3%B3dulo12Aula04.ipynb\" target=\"_parent\"><img src=\"https://colab.research.google.com/assets/colab-badge.svg\" alt=\"Open In Colab\"/></a>"
      ]
    },
    {
      "cell_type": "code",
      "metadata": {
        "id": "pK_F_ghrpCYP"
      },
      "source": [
        "class Retangulo:\r\n",
        "  def __init__(self, x = 0.0 , y = 0.0): # valores padrão\r\n",
        "    self.x = x\r\n",
        "    self.y = y\r\n",
        "  def printa(self):\r\n",
        "    print(\"x = \", self.x)\r\n",
        "    print(\"y = \", self.y)"
      ],
      "execution_count": 1,
      "outputs": []
    },
    {
      "cell_type": "code",
      "metadata": {
        "colab": {
          "base_uri": "https://localhost:8080/"
        },
        "id": "sI5eHJEBpkRc",
        "outputId": "1f33533a-054a-40ed-9540-b854cd737a93"
      },
      "source": [
        "ra = Retangulo()\r\n",
        "print('ra')\r\n",
        "ra.printa()\r\n",
        "print()\r\n",
        "rb = Retangulo(y = 8)\r\n",
        "print('rb')\r\n",
        "rb.printa()\r\n",
        "print()\r\n",
        "rc = Retangulo(8.1,9)\r\n",
        "print('rc')\r\n",
        "rc.printa()\r\n",
        "print()\r\n",
        "rd = Retangulo(8)\r\n",
        "print('rd')\r\n",
        "rd.printa()\r\n"
      ],
      "execution_count": 5,
      "outputs": [
        {
          "output_type": "stream",
          "text": [
            "ra\n",
            "x =  0.0\n",
            "y =  0.0\n",
            "\n",
            "rb\n",
            "x =  0.0\n",
            "y =  8\n",
            "\n",
            "rc\n",
            "x =  8.1\n",
            "y =  9\n",
            "\n",
            "rd\n",
            "x =  8\n",
            "y =  0.0\n"
          ],
          "name": "stdout"
        }
      ]
    },
    {
      "cell_type": "code",
      "metadata": {
        "id": "mNeoLLILqMXT"
      },
      "source": [
        ""
      ],
      "execution_count": null,
      "outputs": []
    }
  ]
}