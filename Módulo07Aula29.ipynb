{
  "nbformat": 4,
  "nbformat_minor": 0,
  "metadata": {
    "colab": {
      "name": "Módulo07Aula29.ipynb",
      "provenance": [],
      "collapsed_sections": [],
      "authorship_tag": "ABX9TyNmb0hSbpz8bYcICw/u5g1y",
      "include_colab_link": true
    },
    "kernelspec": {
      "name": "python3",
      "display_name": "Python 3"
    }
  },
  "cells": [
    {
      "cell_type": "markdown",
      "metadata": {
        "id": "view-in-github",
        "colab_type": "text"
      },
      "source": [
        "<a href=\"https://colab.research.google.com/github/julianovale/pythonparatodos/blob/main/M%C3%B3dulo07Aula29.ipynb\" target=\"_parent\"><img src=\"https://colab.research.google.com/assets/colab-badge.svg\" alt=\"Open In Colab\"/></a>"
      ]
    },
    {
      "cell_type": "markdown",
      "metadata": {
        "id": "9na5ajitQ8rU"
      },
      "source": [
        "Slides da aula: Buble sort\r\n",
        "\r\n",
        "https://drive.google.com/file/d/1mpkQGOr8kjlI4f5u5G5Vn3U79ux8XU_X/view\r\n",
        "\r\n",
        "Vídeo da aula:\r\n",
        "\r\n",
        "https://youtu.be/xzA5EyMn3Ec\r\n"
      ]
    }
  ]
}