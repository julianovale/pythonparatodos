{
  "nbformat": 4,
  "nbformat_minor": 0,
  "metadata": {
    "colab": {
      "name": "Módulo12Aula24.ipynb",
      "provenance": [],
      "include_colab_link": true
    },
    "kernelspec": {
      "name": "python3",
      "display_name": "Python 3"
    }
  },
  "cells": [
    {
      "cell_type": "markdown",
      "metadata": {
        "id": "view-in-github",
        "colab_type": "text"
      },
      "source": [
        "<a href=\"https://colab.research.google.com/github/julianovale/pythonparatodos/blob/main/M%C3%B3dulo12Aula24.ipynb\" target=\"_parent\"><img src=\"https://colab.research.google.com/assets/colab-badge.svg\" alt=\"Open In Colab\"/></a>"
      ]
    },
    {
      "cell_type": "markdown",
      "metadata": {
        "id": "wQ3PCuc72BV1"
      },
      "source": [
        "# Interface\r\n",
        "\r\n",
        "Toda **classe abstrata** que só possua métodos abstratos é denominada de **Interface**. O propósito das **Interfaces** é garantir que certas **classes usem e implementem métodos** que são **comuns entre elas**, mas que **não** o **é possível** fazer isso através do mecanismo de **Herança única**. \r\n",
        "\r\n",
        "**Iterfaces** são necessárias para linguagens de programação que não permitem herança múltipla, mas no caso do Python é possível empregar esse recurso e, portanto, não existe uma palavra-chave específica para se criar formalmente uma interface."
      ]
    }
  ]
}