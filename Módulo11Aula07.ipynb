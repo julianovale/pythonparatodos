{
  "nbformat": 4,
  "nbformat_minor": 0,
  "metadata": {
    "colab": {
      "name": "Módulo11Aula07.ipynb",
      "provenance": [],
      "collapsed_sections": [],
      "authorship_tag": "ABX9TyOv8LCM5C176/pXapie84qv",
      "include_colab_link": true
    },
    "kernelspec": {
      "name": "python3",
      "display_name": "Python 3"
    }
  },
  "cells": [
    {
      "cell_type": "markdown",
      "metadata": {
        "id": "view-in-github",
        "colab_type": "text"
      },
      "source": [
        "<a href=\"https://colab.research.google.com/github/julianovale/pythonparatodos/blob/main/M%C3%B3dulo11Aula07.ipynb\" target=\"_parent\"><img src=\"https://colab.research.google.com/assets/colab-badge.svg\" alt=\"Open In Colab\"/></a>"
      ]
    },
    {
      "cell_type": "code",
      "metadata": {
        "id": "grBE2kbC43yM"
      },
      "source": [
        "import sqlite3\r\n",
        "import pandas as pd"
      ],
      "execution_count": 59,
      "outputs": []
    },
    {
      "cell_type": "code",
      "metadata": {
        "id": "KrH2KucZ7igD"
      },
      "source": [
        "conn = sqlite3.connect('lite1.db')\r\n",
        "cur  = conn.cursor()\r\n",
        "cur.execute('CREATE TABLE IF NOT EXISTS store (item TEXT, quantidade INTEGER, price REAL)')\r\n",
        "conn.commit()\r\n",
        "conn.close()"
      ],
      "execution_count": 60,
      "outputs": []
    },
    {
      "cell_type": "code",
      "metadata": {
        "colab": {
          "base_uri": "https://localhost:8080/"
        },
        "id": "CyOaRLo57knC",
        "outputId": "6e397207-c82a-4962-ee20-31d5de1eb0c8"
      },
      "source": [
        "!pwd # comandos no google drive como se fosse um prompt de comando\r\n",
        "!ls"
      ],
      "execution_count": 61,
      "outputs": [
        {
          "output_type": "stream",
          "text": [
            "/content\n",
            "lite1.db  sample_data\n"
          ],
          "name": "stdout"
        }
      ]
    },
    {
      "cell_type": "code",
      "metadata": {
        "id": "ZYKdiNQB87a-"
      },
      "source": [
        "conn = sqlite3.connect('lite1.db')\r\n",
        "cur  = conn.cursor()\r\n",
        "cur.execute(\"INSERT INTO store VALUES ('Wine Glass', 8, 10.50)\")\r\n",
        "conn.commit() # atualiza a tabela... se será só leitura, não precisa fazer o 'commit'... veja no código abaixo\r\n",
        "conn.close()"
      ],
      "execution_count": 62,
      "outputs": []
    },
    {
      "cell_type": "code",
      "metadata": {
        "colab": {
          "base_uri": "https://localhost:8080/"
        },
        "id": "lUO02UnJ-TMG",
        "outputId": "5e876718-8e39-4393-faca-7ca340ae2576"
      },
      "source": [
        "conn = sqlite3.connect('lite1.db')\r\n",
        "cur  = conn.cursor()\r\n",
        "cur.execute(\"SELECT * FROM store\")\r\n",
        "rows = cur.fetchall()\r\n",
        "conn.close()\r\n",
        "\r\n",
        "rows"
      ],
      "execution_count": 63,
      "outputs": [
        {
          "output_type": "execute_result",
          "data": {
            "text/plain": [
              "[('Wine Glass', 8, 10.5)]"
            ]
          },
          "metadata": {
            "tags": []
          },
          "execution_count": 63
        }
      ]
    },
    {
      "cell_type": "code",
      "metadata": {
        "colab": {
          "base_uri": "https://localhost:8080/",
          "height": 80
        },
        "id": "HSWbUOGWGk81",
        "outputId": "920f2f3e-ad62-48f7-fb40-fdb64f2d2392"
      },
      "source": [
        "conn = sqlite3.connect('lite1.db')\r\n",
        "df = pd.read_sql_query(\"SELECT * FROM store\", conn)\r\n",
        "conn.close()\r\n",
        "df"
      ],
      "execution_count": 64,
      "outputs": [
        {
          "output_type": "execute_result",
          "data": {
            "text/html": [
              "<div>\n",
              "<style scoped>\n",
              "    .dataframe tbody tr th:only-of-type {\n",
              "        vertical-align: middle;\n",
              "    }\n",
              "\n",
              "    .dataframe tbody tr th {\n",
              "        vertical-align: top;\n",
              "    }\n",
              "\n",
              "    .dataframe thead th {\n",
              "        text-align: right;\n",
              "    }\n",
              "</style>\n",
              "<table border=\"1\" class=\"dataframe\">\n",
              "  <thead>\n",
              "    <tr style=\"text-align: right;\">\n",
              "      <th></th>\n",
              "      <th>item</th>\n",
              "      <th>quantidade</th>\n",
              "      <th>price</th>\n",
              "    </tr>\n",
              "  </thead>\n",
              "  <tbody>\n",
              "    <tr>\n",
              "      <th>0</th>\n",
              "      <td>Wine Glass</td>\n",
              "      <td>8</td>\n",
              "      <td>10.5</td>\n",
              "    </tr>\n",
              "  </tbody>\n",
              "</table>\n",
              "</div>"
            ],
            "text/plain": [
              "         item  quantidade  price\n",
              "0  Wine Glass           8   10.5"
            ]
          },
          "metadata": {
            "tags": []
          },
          "execution_count": 64
        }
      ]
    },
    {
      "cell_type": "code",
      "metadata": {
        "colab": {
          "base_uri": "https://localhost:8080/",
          "height": 142
        },
        "id": "0yTmZYy0IWjp",
        "outputId": "3f6f22f9-b4d3-41a8-bdae-28d0564f8e56"
      },
      "source": [
        "products = [\"Porto Wine\", \"Lemon Water\", \"Sake\"]\r\n",
        "quantities = [3,4,7]\r\n",
        "prices = [40,4,60]\r\n",
        "\r\n",
        "cont = 0\r\n",
        "\r\n",
        "for i, j, k in zip(products,quantities, prices):\r\n",
        "  df.loc[cont] = [i,j,k]\r\n",
        "  cont += 1\r\n",
        "\r\n",
        "df"
      ],
      "execution_count": 65,
      "outputs": [
        {
          "output_type": "execute_result",
          "data": {
            "text/html": [
              "<div>\n",
              "<style scoped>\n",
              "    .dataframe tbody tr th:only-of-type {\n",
              "        vertical-align: middle;\n",
              "    }\n",
              "\n",
              "    .dataframe tbody tr th {\n",
              "        vertical-align: top;\n",
              "    }\n",
              "\n",
              "    .dataframe thead th {\n",
              "        text-align: right;\n",
              "    }\n",
              "</style>\n",
              "<table border=\"1\" class=\"dataframe\">\n",
              "  <thead>\n",
              "    <tr style=\"text-align: right;\">\n",
              "      <th></th>\n",
              "      <th>item</th>\n",
              "      <th>quantidade</th>\n",
              "      <th>price</th>\n",
              "    </tr>\n",
              "  </thead>\n",
              "  <tbody>\n",
              "    <tr>\n",
              "      <th>0</th>\n",
              "      <td>Porto Wine</td>\n",
              "      <td>3</td>\n",
              "      <td>40.0</td>\n",
              "    </tr>\n",
              "    <tr>\n",
              "      <th>1</th>\n",
              "      <td>Lemon Water</td>\n",
              "      <td>4</td>\n",
              "      <td>4.0</td>\n",
              "    </tr>\n",
              "    <tr>\n",
              "      <th>2</th>\n",
              "      <td>Sake</td>\n",
              "      <td>7</td>\n",
              "      <td>60.0</td>\n",
              "    </tr>\n",
              "  </tbody>\n",
              "</table>\n",
              "</div>"
            ],
            "text/plain": [
              "          item  quantidade  price\n",
              "0   Porto Wine           3   40.0\n",
              "1  Lemon Water           4    4.0\n",
              "2         Sake           7   60.0"
            ]
          },
          "metadata": {
            "tags": []
          },
          "execution_count": 65
        }
      ]
    },
    {
      "cell_type": "code",
      "metadata": {
        "colab": {
          "base_uri": "https://localhost:8080/"
        },
        "id": "3f5vw0HKLGQe",
        "outputId": "8f9f1afa-ff2d-4eda-e924-dcd60b7de6a3"
      },
      "source": [
        "conn = sqlite3.connect('lite1.db')\r\n",
        "# df.to_sql(\"store\", conn, index=False, if_exists=\"replace\") # substitui o BD original\r\n",
        "df.to_sql(\"store\", conn, index=False, if_exists='append') # adiciona os itens ao BD\r\n",
        "cur  = conn.cursor()\r\n",
        "cur.execute(\"SELECT * FROM store\")\r\n",
        "rows = cur.fetchall()\r\n",
        "conn.close()\r\n",
        "\r\n",
        "rows"
      ],
      "execution_count": 66,
      "outputs": [
        {
          "output_type": "execute_result",
          "data": {
            "text/plain": [
              "[('Wine Glass', 8, 10.5),\n",
              " ('Porto Wine', 3, 40.0),\n",
              " ('Lemon Water', 4, 4.0),\n",
              " ('Sake', 7, 60.0)]"
            ]
          },
          "metadata": {
            "tags": []
          },
          "execution_count": 66
        }
      ]
    }
  ]
}