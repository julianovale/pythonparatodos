{
  "nbformat": 4,
  "nbformat_minor": 0,
  "metadata": {
    "colab": {
      "name": "Módulo12Aula18.ipynb",
      "provenance": [],
      "collapsed_sections": [],
      "authorship_tag": "ABX9TyO40hhmEsLg/WPKwErF91yS",
      "include_colab_link": true
    },
    "kernelspec": {
      "name": "python3",
      "display_name": "Python 3"
    }
  },
  "cells": [
    {
      "cell_type": "markdown",
      "metadata": {
        "id": "view-in-github",
        "colab_type": "text"
      },
      "source": [
        "<a href=\"https://colab.research.google.com/github/julianovale/pythonparatodos/blob/main/M%C3%B3dulo12Aula18.ipynb\" target=\"_parent\"><img src=\"https://colab.research.google.com/assets/colab-badge.svg\" alt=\"Open In Colab\"/></a>"
      ]
    },
    {
      "cell_type": "code",
      "metadata": {
        "id": "U5DjX-iOiK3r"
      },
      "source": [
        "class A:\r\n",
        "  def __init__(self, x):\r\n",
        "    self.x = x\r\n",
        "    print(\"A:x =\", self.x)\r\n",
        "\r\n",
        "class B(A):\r\n",
        "  def __init__(self, x = 4, y = 5):\r\n",
        "    super().__init__(x)\r\n",
        "    print(\"B(A):x =\", self.x)\r\n",
        "    self.y = y\r\n",
        "    print(\"B:y =\", self.y)\r\n",
        "\r\n",
        "class AB(B,A):\r\n",
        "  def __init__(self, x = 1, y = 2):\r\n",
        "    super().__init__(x,y)\r\n",
        "    A.__init__(self, x)\r\n",
        "    print(\"x = \", self.x)\r\n",
        "    B.__init__(self, 2, y)\r\n",
        "    print(\"x = \", self.x, \"y = \", self.y)\r\n"
      ],
      "execution_count": 4,
      "outputs": []
    },
    {
      "cell_type": "code",
      "metadata": {
        "colab": {
          "base_uri": "https://localhost:8080/"
        },
        "id": "kT-qJXPQjQSG",
        "outputId": "932d2604-10f7-48f7-df17-8622e5ba1ffd"
      },
      "source": [
        "obj = B()"
      ],
      "execution_count": 5,
      "outputs": [
        {
          "output_type": "stream",
          "text": [
            "A:x = 4\n",
            "B(A):x = 4\n",
            "B:y = 5\n"
          ],
          "name": "stdout"
        }
      ]
    },
    {
      "cell_type": "code",
      "metadata": {
        "colab": {
          "base_uri": "https://localhost:8080/"
        },
        "id": "K_TZWWpIjcG6",
        "outputId": "2b9edb00-2cae-40f4-d48c-5a46d2f01246"
      },
      "source": [
        "obj = B(x = 8)"
      ],
      "execution_count": 6,
      "outputs": [
        {
          "output_type": "stream",
          "text": [
            "A:x = 8\n",
            "B(A):x = 8\n",
            "B:y = 5\n"
          ],
          "name": "stdout"
        }
      ]
    },
    {
      "cell_type": "code",
      "metadata": {
        "colab": {
          "base_uri": "https://localhost:8080/"
        },
        "id": "mcunvUULkIO0",
        "outputId": "1e2c0e14-333f-475c-fa7b-fec290e9bd9a"
      },
      "source": [
        "objAB = AB(7,8)"
      ],
      "execution_count": 7,
      "outputs": [
        {
          "output_type": "stream",
          "text": [
            "A:x = 7\n",
            "B(A):x = 7\n",
            "B:y = 8\n",
            "A:x = 7\n",
            "x =  7\n",
            "A:x = 2\n",
            "B(A):x = 2\n",
            "B:y = 8\n",
            "x =  2 y =  8\n"
          ],
          "name": "stdout"
        }
      ]
    },
    {
      "cell_type": "code",
      "metadata": {
        "colab": {
          "base_uri": "https://localhost:8080/"
        },
        "id": "GknWuEFwk92n",
        "outputId": "c6feb529-4d6e-4185-967d-f3197c78a7cd"
      },
      "source": [
        "objAB = AB()"
      ],
      "execution_count": 8,
      "outputs": [
        {
          "output_type": "stream",
          "text": [
            "A:x = 1\n",
            "B(A):x = 1\n",
            "B:y = 2\n",
            "A:x = 1\n",
            "x =  1\n",
            "A:x = 2\n",
            "B(A):x = 2\n",
            "B:y = 2\n",
            "x =  2 y =  2\n"
          ],
          "name": "stdout"
        }
      ]
    }
  ]
}