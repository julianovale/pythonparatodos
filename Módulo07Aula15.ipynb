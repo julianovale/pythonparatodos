{
  "nbformat": 4,
  "nbformat_minor": 0,
  "metadata": {
    "colab": {
      "name": "Módulo07Aula15.ipynb",
      "provenance": [],
      "collapsed_sections": [],
      "authorship_tag": "ABX9TyPS6vmh5H8GzBCSTyGRq3Mw",
      "include_colab_link": true
    },
    "kernelspec": {
      "name": "python3",
      "display_name": "Python 3"
    }
  },
  "cells": [
    {
      "cell_type": "markdown",
      "metadata": {
        "id": "view-in-github",
        "colab_type": "text"
      },
      "source": [
        "<a href=\"https://colab.research.google.com/github/julianovale/pythonparatodos/blob/main/M%C3%B3dulo07Aula15.ipynb\" target=\"_parent\"><img src=\"https://colab.research.google.com/assets/colab-badge.svg\" alt=\"Open In Colab\"/></a>"
      ]
    },
    {
      "cell_type": "code",
      "metadata": {
        "colab": {
          "base_uri": "https://localhost:8080/"
        },
        "id": "IaPRpayuvCs7",
        "outputId": "65270a24-d482-4987-bf75-ef376fe338bb"
      },
      "source": [
        "def soma(a,b):\r\n",
        "  return a+b\r\n",
        "\r\n",
        "def produto(a,b):\r\n",
        "  return a*b\r\n",
        "\r\n",
        "opt = input('1-Soma e 2-Produto')\r\n",
        "a   = 3\r\n",
        "b   = 4\r\n",
        "if (opt == '1'):\r\n",
        "  f = soma\r\n",
        "else:\r\n",
        "  f = produto\r\n",
        "\r\n",
        "r = f(a,b)\r\n",
        "name = f.__name__\r\n",
        "print('{0}({1},{2}) = {3}'.format(name,a,b,r,))"
      ],
      "execution_count": 4,
      "outputs": [
        {
          "output_type": "stream",
          "text": [
            "1-Soma e 2-Produto2\n",
            "produto(3,4) = 12\n"
          ],
          "name": "stdout"
        }
      ]
    }
  ]
}