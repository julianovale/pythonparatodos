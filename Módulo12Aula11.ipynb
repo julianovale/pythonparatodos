{
  "nbformat": 4,
  "nbformat_minor": 0,
  "metadata": {
    "colab": {
      "name": "Módulo12Aula11.ipynb",
      "provenance": [],
      "collapsed_sections": [],
      "authorship_tag": "ABX9TyNsjhrzCBPFsShVtzH+bDI6",
      "include_colab_link": true
    },
    "kernelspec": {
      "name": "python3",
      "display_name": "Python 3"
    }
  },
  "cells": [
    {
      "cell_type": "markdown",
      "metadata": {
        "id": "view-in-github",
        "colab_type": "text"
      },
      "source": [
        "<a href=\"https://colab.research.google.com/github/julianovale/pythonparatodos/blob/main/M%C3%B3dulo12Aula11.ipynb\" target=\"_parent\"><img src=\"https://colab.research.google.com/assets/colab-badge.svg\" alt=\"Open In Colab\"/></a>"
      ]
    },
    {
      "cell_type": "code",
      "metadata": {
        "id": "QuFh3h-K_VdQ"
      },
      "source": [
        "class Complexo:\r\n",
        "  def __init__(self,x,y):\r\n",
        "    self.x = x\r\n",
        "    self.y = y\r\n",
        "\r\n",
        "  def print(self):\r\n",
        "    print(\" \", self.x, \" + \", self.y, \"*i\")\r\n",
        "\r\n",
        "  def soma(self, c):\r\n",
        "    self.x = self.x + c.x\r\n",
        "    self.y = self.y + c.y\r\n",
        "\r\n",
        "  def somaR(self, c):\r\n",
        "    return Complexo(self.x + c.x, self.y + c.y)\r\n",
        "\r\n",
        "  @staticmethod\r\n",
        "  def somaE(c1, c2):\r\n",
        "    return Complexo(c1.x + c2.x, c1.y + c2.y)"
      ],
      "execution_count": 1,
      "outputs": []
    },
    {
      "cell_type": "code",
      "metadata": {
        "colab": {
          "base_uri": "https://localhost:8080/"
        },
        "id": "QTSVpK3LBHru",
        "outputId": "54bafe19-388d-4dae-9093-0091b209b220"
      },
      "source": [
        "c = Complexo(4, 5)\r\n",
        "c.print()"
      ],
      "execution_count": 2,
      "outputs": [
        {
          "output_type": "stream",
          "text": [
            "  4  +  5 *i\n"
          ],
          "name": "stdout"
        }
      ]
    },
    {
      "cell_type": "code",
      "metadata": {
        "colab": {
          "base_uri": "https://localhost:8080/"
        },
        "id": "zdAAGUa5Badd",
        "outputId": "a2213dcd-f617-434c-be8c-16aae6dd9a64"
      },
      "source": [
        "d = Complexo(5,6)\r\n",
        "d.print()\r\n",
        "d.soma(c)\r\n",
        "d.print()\r\n",
        "e = d.somaR(c)\r\n",
        "e.print()"
      ],
      "execution_count": 7,
      "outputs": [
        {
          "output_type": "stream",
          "text": [
            "  5  +  6 *i\n",
            "  9  +  11 *i\n",
            "  13  +  16 *i\n"
          ],
          "name": "stdout"
        }
      ]
    },
    {
      "cell_type": "code",
      "metadata": {
        "colab": {
          "base_uri": "https://localhost:8080/"
        },
        "id": "URrmhBmwCTOP",
        "outputId": "85b760ee-48f0-4629-e275-fae5f3be630d"
      },
      "source": [
        "f = Complexo.somaE(e,d)\r\n",
        "f.print()"
      ],
      "execution_count": 10,
      "outputs": [
        {
          "output_type": "stream",
          "text": [
            "  22  +  27 *i\n"
          ],
          "name": "stdout"
        }
      ]
    }
  ]
}