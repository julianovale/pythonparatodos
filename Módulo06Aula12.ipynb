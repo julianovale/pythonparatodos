{
  "nbformat": 4,
  "nbformat_minor": 0,
  "metadata": {
    "colab": {
      "name": "Módulo06Aula12.ipynb",
      "provenance": [],
      "collapsed_sections": [],
      "authorship_tag": "ABX9TyMJlS7U7XD+BZxI74kcKHII",
      "include_colab_link": true
    },
    "kernelspec": {
      "name": "python3",
      "display_name": "Python 3"
    }
  },
  "cells": [
    {
      "cell_type": "markdown",
      "metadata": {
        "id": "view-in-github",
        "colab_type": "text"
      },
      "source": [
        "<a href=\"https://colab.research.google.com/github/julianovale/pythonparatodos/blob/main/M%C3%B3dulo06Aula12.ipynb\" target=\"_parent\"><img src=\"https://colab.research.google.com/assets/colab-badge.svg\" alt=\"Open In Colab\"/></a>"
      ]
    },
    {
      "cell_type": "code",
      "metadata": {
        "colab": {
          "base_uri": "https://localhost:8080/"
        },
        "id": "-Ps2KjFYQp3u",
        "outputId": "b7efbc6c-ac80-4b2b-afde-10443473f589"
      },
      "source": [
        "faturamento = {'Empresa 1': 200500, 'Empresa 2': 345600, }\r\n",
        "print(list(faturamento.keys()))\r\n",
        "print(list(faturamento.values()))"
      ],
      "execution_count": 21,
      "outputs": [
        {
          "output_type": "stream",
          "text": [
            "['Empresa 1', 'Empresa 2']\n",
            "[200500, 345600]\n"
          ],
          "name": "stdout"
        }
      ]
    },
    {
      "cell_type": "code",
      "metadata": {
        "colab": {
          "base_uri": "https://localhost:8080/"
        },
        "id": "hxvpWipPSdPF",
        "outputId": "b203ba02-64b4-4905-abd8-9908dca38219"
      },
      "source": [
        "print('Lista de empresas')\r\n",
        "for key in faturamento.keys():\r\n",
        "  print(key)"
      ],
      "execution_count": 22,
      "outputs": [
        {
          "output_type": "stream",
          "text": [
            "Lista de empresas\n",
            "Empresa 1\n",
            "Empresa 2\n"
          ],
          "name": "stdout"
        }
      ]
    },
    {
      "cell_type": "code",
      "metadata": {
        "colab": {
          "base_uri": "https://localhost:8080/"
        },
        "id": "HWXzkzHGSyd4",
        "outputId": "e6589f73-a576-4f88-8aae-e14d31060484"
      },
      "source": [
        "print('Lista de empresas')\r\n",
        "for key in faturamento.keys():\r\n",
        "  print('{}'.format(key))\r\n",
        "\r\n",
        "print()\r\n",
        "\r\n",
        "print('Lista de faturamentos')\r\n",
        "for value in faturamento.values():\r\n",
        "  print('{}'.format(value))"
      ],
      "execution_count": 23,
      "outputs": [
        {
          "output_type": "stream",
          "text": [
            "Lista de empresas\n",
            "Empresa 1\n",
            "Empresa 2\n",
            "\n",
            "Lista de faturamentos\n",
            "200500\n",
            "345600\n"
          ],
          "name": "stdout"
        }
      ]
    }
  ]
}