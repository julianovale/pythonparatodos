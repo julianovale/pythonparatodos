{
  "nbformat": 4,
  "nbformat_minor": 0,
  "metadata": {
    "colab": {
      "name": "Módulo05Aula07.ipynb",
      "provenance": [],
      "collapsed_sections": [],
      "authorship_tag": "ABX9TyN9QrpTOHArK2rM71cTjI8q",
      "include_colab_link": true
    },
    "kernelspec": {
      "name": "python3",
      "display_name": "Python 3"
    }
  },
  "cells": [
    {
      "cell_type": "markdown",
      "metadata": {
        "id": "view-in-github",
        "colab_type": "text"
      },
      "source": [
        "<a href=\"https://colab.research.google.com/github/julianovale/pythonparatodos/blob/main/M%C3%B3dulo05Aula07.ipynb\" target=\"_parent\"><img src=\"https://colab.research.google.com/assets/colab-badge.svg\" alt=\"Open In Colab\"/></a>"
      ]
    },
    {
      "cell_type": "markdown",
      "metadata": {
        "id": "FNrCFDNBMnDA"
      },
      "source": [
        "Slides:\r\n",
        "\r\n",
        "https://www.youtube.com/redirect?q=https%3A%2F%2Fdrive.google.com%2Ffile%2Fd%2F1npIlmSoB3U8zxz8LzaJXQk-rpFN9g43R%2Fview%3Fusp%3Dsharing&redir_token=QUFFLUhqbFdCWVFUVEE4YTJnOEhVeVFObHZ5UUxZcjdMd3xBQ3Jtc0tsaUFibmZyLUZjcmNCdHJHM3pfTmlHRUF6VUJlYlBsRHZWbUVJenhYU29GTHZFN2hhdmR2aklVLTRvRG14YTJBbzA5ejE4RVdwRHdKbTNuWWF0MGpsUjBOSXBFcnc5ZURoNWRvSG9zLWhTb1ZmbzBBSQ%3D%3D&v=4sCihia6pZI&event=video_description\r\n"
      ]
    },
    {
      "cell_type": "code",
      "metadata": {
        "colab": {
          "base_uri": "https://localhost:8080/"
        },
        "id": "YtNfdcpCITU9",
        "outputId": "8a794358-956c-45fb-a5eb-d945fdcb00db"
      },
      "source": [
        "t=input('entre com t: ')\r\n",
        "t=float(t)\r\n",
        "u=input('entre com u: ')\r\n",
        "u=float(u)\r\n",
        "if t<=20 and u<=20:\r\n",
        "  acao = 'Ligar umidificador'\r\n",
        "elif t>=20 and u<30:\r\n",
        "  acao = 'Ligar ar leve'\r\n",
        "elif t>=30 and u>20 and u<60:\r\n",
        "  acao = 'Ligar ar no máximo'\r\n",
        "else:   # DICA IMPORTANTÍSSIMA: sempre use um 'else', senão o último 'elif' terá suas condições ignoradas e atuará como um 'else'\r\n",
        "  acao = 'Nenhuma'\r\n",
        "\r\n",
        "print(acao)\r\n"
      ],
      "execution_count": 5,
      "outputs": [
        {
          "output_type": "stream",
          "text": [
            "entre com t: 31\n",
            "entre com u: 61\n",
            "Nenhuma\n"
          ],
          "name": "stdout"
        }
      ]
    }
  ]
}