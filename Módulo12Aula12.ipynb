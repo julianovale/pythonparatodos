{
  "nbformat": 4,
  "nbformat_minor": 0,
  "metadata": {
    "colab": {
      "name": "Módulo12Aula12.ipynb",
      "provenance": [],
      "collapsed_sections": [],
      "include_colab_link": true
    },
    "kernelspec": {
      "name": "python3",
      "display_name": "Python 3"
    }
  },
  "cells": [
    {
      "cell_type": "markdown",
      "metadata": {
        "id": "view-in-github",
        "colab_type": "text"
      },
      "source": [
        "<a href=\"https://colab.research.google.com/github/julianovale/pythonparatodos/blob/main/M%C3%B3dulo12Aula12.ipynb\" target=\"_parent\"><img src=\"https://colab.research.google.com/assets/colab-badge.svg\" alt=\"Open In Colab\"/></a>"
      ]
    },
    {
      "cell_type": "markdown",
      "metadata": {
        "id": "qKFPp01a_W4k"
      },
      "source": [
        "## 8.3 Métodos de classe:\r\n",
        "\r\n",
        "São similares aos métodos **static** com a diferença importante de que:\r\n",
        "\r\n",
        "* Métodos **static** não sabem nada acerca da classe e apenas lidam com os parâmetros fornecidos;\r\n",
        "\r\n",
        "* Métodos **class** trabalham com a classe, pois seu parâmetro é a sempre a própria classe. \r\n",
        "\r\n",
        "A diferença apontada anteriormente é particularmente importante quando o mecanismo de **Herança** é utilizado. \r\n",
        "\r\n",
        "Portanto, antes de entrar em detalhes sobre esse modificador, será abordado o tópico sobre o mecanismo de **Herança**."
      ]
    }
  ]
}