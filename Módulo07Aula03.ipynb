{
  "nbformat": 4,
  "nbformat_minor": 0,
  "metadata": {
    "colab": {
      "name": "Módulo07Aula03.ipynb",
      "provenance": [],
      "collapsed_sections": [],
      "authorship_tag": "ABX9TyMN8omQNDiUwcyXUs1kdmd7",
      "include_colab_link": true
    },
    "kernelspec": {
      "name": "python3",
      "display_name": "Python 3"
    }
  },
  "cells": [
    {
      "cell_type": "markdown",
      "metadata": {
        "id": "view-in-github",
        "colab_type": "text"
      },
      "source": [
        "<a href=\"https://colab.research.google.com/github/julianovale/pythonparatodos/blob/main/M%C3%B3dulo07Aula03.ipynb\" target=\"_parent\"><img src=\"https://colab.research.google.com/assets/colab-badge.svg\" alt=\"Open In Colab\"/></a>"
      ]
    },
    {
      "cell_type": "code",
      "metadata": {
        "id": "Nf_EjvHvaczr"
      },
      "source": [
        "# Função que soma dois valores\r\n",
        "def somaStr(x,y):\r\n",
        "  z = float(x) + float(y)\r\n",
        "  z = str(z)\r\n",
        "  return(z)"
      ],
      "execution_count": 1,
      "outputs": []
    },
    {
      "cell_type": "code",
      "metadata": {
        "colab": {
          "base_uri": "https://localhost:8080/"
        },
        "id": "Ipk4musFaz4w",
        "outputId": "18ea0bad-0db3-49ed-d20c-aca3c6b2bf53"
      },
      "source": [
        "a = input('entre com um valor x: ')\r\n",
        "b = input('entre com um valor y: ')\r\n",
        "c = somaStr(a,b)\r\n",
        "print(\"{0:s} + {1:s} = {2:s}\".format(a,b,c))"
      ],
      "execution_count": 2,
      "outputs": [
        {
          "output_type": "stream",
          "text": [
            "entre com um valor x: 8\n",
            "entre com um valor y: 16\n",
            "8 + 16 = 24.0\n"
          ],
          "name": "stdout"
        }
      ]
    }
  ]
}