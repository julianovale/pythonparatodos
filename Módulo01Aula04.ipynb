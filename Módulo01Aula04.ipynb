{
  "nbformat": 4,
  "nbformat_minor": 0,
  "metadata": {
    "colab": {
      "name": "Módulo01Aula04.ipynb",
      "provenance": [],
      "collapsed_sections": [],
      "authorship_tag": "ABX9TyPsvJeSArP+FW2iwMQaCAtx",
      "include_colab_link": true
    },
    "kernelspec": {
      "name": "python3",
      "display_name": "Python 3"
    }
  },
  "cells": [
    {
      "cell_type": "markdown",
      "metadata": {
        "id": "view-in-github",
        "colab_type": "text"
      },
      "source": [
        "<a href=\"https://colab.research.google.com/github/julianovale/pythonparatodos/blob/main/M%C3%B3dulo01Aula04.ipynb\" target=\"_parent\"><img src=\"https://colab.research.google.com/assets/colab-badge.svg\" alt=\"Open In Colab\"/></a>"
      ]
    },
    {
      "cell_type": "code",
      "metadata": {
        "colab": {
          "base_uri": "https://localhost:8080/"
        },
        "id": "eN7p1uY4XuTF",
        "outputId": "438f08a2-9dba-4c11-c486-d09d4895a1f2"
      },
      "source": [
        "nome = input('Entre com um nome: ')\n",
        "print(nome, type(nome))\n",
        "x = input('Entre com seu ganho: ')\n",
        "print(x, type(x))"
      ],
      "execution_count": 2,
      "outputs": [
        {
          "output_type": "stream",
          "text": [
            "Entre com uma palavra: Juliano\n",
            "Juliano <class 'str'>\n",
            "Entre com um número: 23\n",
            "23 <class 'str'>\n"
          ],
          "name": "stdout"
        }
      ]
    },
    {
      "cell_type": "markdown",
      "metadata": {
        "id": "KB3I-v_BjX5R"
      },
      "source": [
        "Este programa irá calcular o ganho líquido"
      ]
    },
    {
      "cell_type": "code",
      "metadata": {
        "colab": {
          "base_uri": "https://localhost:8080/"
        },
        "id": "GhXkxVIejflV",
        "outputId": "79577ec0-3adc-4018-9bcf-c637c77737d3"
      },
      "source": [
        "nome = input('Entre com o seu nome: ')\n",
        "x = input('Entre com seu ganho: ')\n",
        "print(type(x))\n",
        "y = float(x) - 200 # tem que converter\n",
        "print(nome+\" seu ganho líquido foi de \"+str(y))\n"
      ],
      "execution_count": 8,
      "outputs": [
        {
          "output_type": "stream",
          "text": [
            "Entre com o seu nome: Juliano\n",
            "Entre com seu ganho: 2000\n",
            "<class 'str'>\n",
            "Juliano seu ganho líquido foi de 1800.0\n"
          ],
          "name": "stdout"
        }
      ]
    }
  ]
}