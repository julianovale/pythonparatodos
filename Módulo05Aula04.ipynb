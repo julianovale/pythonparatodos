{
  "nbformat": 4,
  "nbformat_minor": 0,
  "metadata": {
    "colab": {
      "name": "Módulo05Aula04.ipynb",
      "provenance": [],
      "collapsed_sections": [],
      "authorship_tag": "ABX9TyMDyQvkWo9zNB6ynvnCVgDl",
      "include_colab_link": true
    },
    "kernelspec": {
      "name": "python3",
      "display_name": "Python 3"
    }
  },
  "cells": [
    {
      "cell_type": "markdown",
      "metadata": {
        "id": "view-in-github",
        "colab_type": "text"
      },
      "source": [
        "<a href=\"https://colab.research.google.com/github/julianovale/pythonparatodos/blob/main/M%C3%B3dulo05Aula04.ipynb\" target=\"_parent\"><img src=\"https://colab.research.google.com/assets/colab-badge.svg\" alt=\"Open In Colab\"/></a>"
      ]
    },
    {
      "cell_type": "code",
      "metadata": {
        "colab": {
          "base_uri": "https://localhost:8080/"
        },
        "id": "GUwGrjGZ4hP7",
        "outputId": "2c021529-606b-4e0d-ea98-f6ae99ba4e79"
      },
      "source": [
        "temp = input('Entre com a temperatura: ')\r\n",
        "temp = float(temp)\r\n",
        "if temp <= 20:\r\n",
        "  acao = \"desligar\"\r\n",
        "elif temp <= 25:\r\n",
        "  acao = 'ligar com potência mínima'\r\n",
        "elif temp <= 30:\r\n",
        "  acao = 'ligar com potência média'\r\n",
        "else:\r\n",
        "  acao = 'ligar com potência máxima'\r\n",
        "\r\n",
        "print(acao)"
      ],
      "execution_count": 15,
      "outputs": [
        {
          "output_type": "stream",
          "text": [
            "Entre com a temperatura: 30.1\n",
            "ligar com potência máxima\n"
          ],
          "name": "stdout"
        }
      ]
    }
  ]
}