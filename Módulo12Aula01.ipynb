{
  "nbformat": 4,
  "nbformat_minor": 0,
  "metadata": {
    "colab": {
      "name": "Módulo12Aula01.ipynb",
      "provenance": [],
      "authorship_tag": "ABX9TyNiGTM0x8OO/hT59yzgOmGU",
      "include_colab_link": true
    },
    "kernelspec": {
      "name": "python3",
      "display_name": "Python 3"
    }
  },
  "cells": [
    {
      "cell_type": "markdown",
      "metadata": {
        "id": "view-in-github",
        "colab_type": "text"
      },
      "source": [
        "<a href=\"https://colab.research.google.com/github/julianovale/pythonparatodos/blob/main/M%C3%B3dulo12Aula01.ipynb\" target=\"_parent\"><img src=\"https://colab.research.google.com/assets/colab-badge.svg\" alt=\"Open In Colab\"/></a>"
      ]
    },
    {
      "cell_type": "code",
      "metadata": {
        "id": "AAnGFblEj5Pz"
      },
      "source": [
        "class Retangulo:\r\n",
        "  x = 3.3\r\n",
        "  y = 4.4"
      ],
      "execution_count": 1,
      "outputs": []
    },
    {
      "cell_type": "code",
      "metadata": {
        "colab": {
          "base_uri": "https://localhost:8080/"
        },
        "id": "hpuQUYf5mn4Q",
        "outputId": "9ac77b6c-b8f8-4915-af5d-8d989bd8659e"
      },
      "source": [
        "r = Retangulo()\r\n",
        "print(r)\r\n",
        "print(\"x = \", r.x)\r\n",
        "print(\"y = \", r.y)"
      ],
      "execution_count": 5,
      "outputs": [
        {
          "output_type": "stream",
          "text": [
            "<__main__.Retangulo object at 0x7f35aed87438>\n",
            "x =  3.3\n",
            "y =  4.4\n"
          ],
          "name": "stdout"
        }
      ]
    }
  ]
}