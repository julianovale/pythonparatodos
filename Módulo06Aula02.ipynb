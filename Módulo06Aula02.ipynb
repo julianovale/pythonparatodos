{
  "nbformat": 4,
  "nbformat_minor": 0,
  "metadata": {
    "colab": {
      "name": "Módulo06Aula02.ipynb",
      "provenance": [],
      "collapsed_sections": [],
      "authorship_tag": "ABX9TyOatdzB6iIsVafVJ7i5OQYf",
      "include_colab_link": true
    },
    "kernelspec": {
      "name": "python3",
      "display_name": "Python 3"
    }
  },
  "cells": [
    {
      "cell_type": "markdown",
      "metadata": {
        "id": "view-in-github",
        "colab_type": "text"
      },
      "source": [
        "<a href=\"https://colab.research.google.com/github/julianovale/pythonparatodos/blob/main/M%C3%B3dulo06Aula02.ipynb\" target=\"_parent\"><img src=\"https://colab.research.google.com/assets/colab-badge.svg\" alt=\"Open In Colab\"/></a>"
      ]
    },
    {
      "cell_type": "code",
      "metadata": {
        "colab": {
          "base_uri": "https://localhost:8080/"
        },
        "id": "ofJNRGola1mA",
        "outputId": "f42f4689-61f9-4bc6-f99f-2baaecfc6b8a"
      },
      "source": [
        "print('Mensagem')\r\n",
        "print('Mensagem')\r\n",
        "print('Mensagem')"
      ],
      "execution_count": 1,
      "outputs": [
        {
          "output_type": "stream",
          "text": [
            "Mensagem\n",
            "Mensagem\n",
            "Mensagem\n"
          ],
          "name": "stdout"
        }
      ]
    },
    {
      "cell_type": "code",
      "metadata": {
        "colab": {
          "base_uri": "https://localhost:8080/"
        },
        "id": "Kwtu5wn4bFeJ",
        "outputId": "4cea6f70-7f2e-4545-ff50-68b2ae14b589"
      },
      "source": [
        "i = 3\r\n",
        "while (i > 0):\r\n",
        "  print('Mensagem')\r\n",
        "  i -= 1"
      ],
      "execution_count": 4,
      "outputs": [
        {
          "output_type": "stream",
          "text": [
            "Mensagem\n",
            "Mensagem\n",
            "Mensagem\n"
          ],
          "name": "stdout"
        }
      ]
    },
    {
      "cell_type": "code",
      "metadata": {
        "colab": {
          "base_uri": "https://localhost:8080/"
        },
        "id": "uddtzwT3bfc7",
        "outputId": "fd1c2b25-37d9-4c06-ba77-3b0400ab2f13"
      },
      "source": [
        "i = 1\r\n",
        "while (i <= 3):\r\n",
        "  print('Mensagem')\r\n",
        "  i += 1"
      ],
      "execution_count": 6,
      "outputs": [
        {
          "output_type": "stream",
          "text": [
            "Mensagem\n",
            "Mensagem\n",
            "Mensagem\n"
          ],
          "name": "stdout"
        }
      ]
    },
    {
      "cell_type": "code",
      "metadata": {
        "colab": {
          "base_uri": "https://localhost:8080/"
        },
        "id": "Ro10bUwHcKns",
        "outputId": "6c550c3c-973c-4ea4-a5bf-eda9c2fa1430"
      },
      "source": [
        "i = 1\r\n",
        "while (i < 4):\r\n",
        "  print('i = '+str(i))\r\n",
        "  i += 1\r\n",
        "print()\r\n",
        "print(i<4)\r\n",
        "print('Valor final de i = ',i)"
      ],
      "execution_count": 9,
      "outputs": [
        {
          "output_type": "stream",
          "text": [
            "i = 1\n",
            "i = 2\n",
            "i = 3\n",
            "\n",
            "False\n",
            "Valor final de i =  4\n"
          ],
          "name": "stdout"
        }
      ]
    }
  ]
}