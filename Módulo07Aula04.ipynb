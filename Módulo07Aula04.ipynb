{
  "nbformat": 4,
  "nbformat_minor": 0,
  "metadata": {
    "colab": {
      "name": "Módulo07Aula04.ipynb",
      "provenance": [],
      "collapsed_sections": [],
      "authorship_tag": "ABX9TyNBuzRGXDcR9273yN+xjge9",
      "include_colab_link": true
    },
    "kernelspec": {
      "name": "python3",
      "display_name": "Python 3"
    }
  },
  "cells": [
    {
      "cell_type": "markdown",
      "metadata": {
        "id": "view-in-github",
        "colab_type": "text"
      },
      "source": [
        "<a href=\"https://colab.research.google.com/github/julianovale/pythonparatodos/blob/main/M%C3%B3dulo07Aula04.ipynb\" target=\"_parent\"><img src=\"https://colab.research.google.com/assets/colab-badge.svg\" alt=\"Open In Colab\"/></a>"
      ]
    },
    {
      "cell_type": "code",
      "metadata": {
        "id": "FiiMm-Bcc0RW"
      },
      "source": [
        "def bprint(men, simb):\r\n",
        "  for i in range(1,11,1):\r\n",
        "    print(simb,end='')\r\n",
        "  print()\r\n",
        "  print(men)\r\n",
        "  for i in range(1,11,1):\r\n",
        "    print(simb,end='')\r\n",
        "  print()"
      ],
      "execution_count": 5,
      "outputs": []
    },
    {
      "cell_type": "code",
      "metadata": {
        "colab": {
          "base_uri": "https://localhost:8080/"
        },
        "id": "Ri63K-h1eChW",
        "outputId": "8ce3a5ac-0fd7-4e0a-b42e-ad2773e1cfc8"
      },
      "source": [
        "m = 'Mensagem'\r\n",
        "s = '*'\r\n",
        "bprint(m,s)"
      ],
      "execution_count": 6,
      "outputs": [
        {
          "output_type": "stream",
          "text": [
            "**********\n",
            "Mensagem\n",
            "**********\n"
          ],
          "name": "stdout"
        }
      ]
    }
  ]
}