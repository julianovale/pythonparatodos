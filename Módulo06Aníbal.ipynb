{
  "nbformat": 4,
  "nbformat_minor": 0,
  "metadata": {
    "colab": {
      "name": "ControleFluxoWhileFor.ipynb",
      "provenance": [],
      "collapsed_sections": [],
      "include_colab_link": true
    },
    "kernelspec": {
      "name": "python3",
      "display_name": "Python 3"
    }
  },
  "cells": [
    {
      "cell_type": "markdown",
      "metadata": {
        "id": "view-in-github",
        "colab_type": "text"
      },
      "source": [
        "<a href=\"https://colab.research.google.com/github/julianovale/pythonparatodos/blob/main/M%C3%B3dulo06An%C3%ADbal.ipynb\" target=\"_parent\"><img src=\"https://colab.research.google.com/assets/colab-badge.svg\" alt=\"Open In Colab\"/></a>"
      ]
    },
    {
      "cell_type": "markdown",
      "metadata": {
        "id": "1NztNrR9EXhu",
        "colab_type": "toc"
      },
      "source": [
        ">[Verificando seu conhecimento](#scrollTo=bCsSU8NhfFvn)\n",
        "\n",
        ">[Evitando repetições com while e for](#scrollTo=xF0UtF9GfOqd)\n",
        "\n",
        ">[Combinando while com if](#scrollTo=gm_9bPKtlz2o)\n",
        "\n",
        ">[Combinando while com if e %](#scrollTo=TUeNWXpWkz_N)\n",
        "\n",
        ">[Uma combinação equivalente do while anterior](#scrollTo=KREtCMFgneaK)\n",
        "\n",
        ">[Outra combinação equivalente](#scrollTo=AcKdA0l8vXp3)\n",
        "\n",
        ">[Combinando while com listas](#scrollTo=Bleq03z9kj7r)\n",
        "\n",
        ">[Busca por um valor específico em uma lista](#scrollTo=g4VkpvT_ol17)\n",
        "\n",
        ">[Combinando duas listas em uma terceira](#scrollTo=jwqyI0SSe5iZ)\n",
        "\n",
        ">[Comando for para criação de um laço](#scrollTo=SCNU5OUJy0uh)\n",
        "\n",
        ">[Uso do for com indexação ou com ordenação](#scrollTo=nG4l4ifYFMXe)\n",
        "\n",
        ">[Concatenando elementos de listas com pares de índices](#scrollTo=4nRTo3ynAEdG)\n",
        "\n",
        ">[Percorrendo elementos de dicionários com for](#scrollTo=f9iEwuEZArHF)\n",
        "\n",
        ">[Combinando for e if para percorrer um dicionário e mostrando valores com format](#scrollTo=WPompDVfAYyX)\n",
        "\n",
        ">[Resumo da seção](#scrollTo=K7okIIjTEGUC)\n",
        "\n"
      ]
    },
    {
      "cell_type": "markdown",
      "metadata": {
        "id": "bCsSU8NhfFvn"
      },
      "source": [
        "# 0. Verificando seu conhecimento\n",
        "\n",
        "Se conseguir entender o código fornecido abaixo, então, não é necessário estudar os conceitos abordados nesta seção."
      ]
    },
    {
      "cell_type": "code",
      "metadata": {
        "id": "rOjCWFg4EJy9",
        "colab": {
          "base_uri": "https://localhost:8080/",
          "height": 153
        },
        "outputId": "c88b09ca-fd3e-4776-dac2-08c9e84513c0"
      },
      "source": [
        "lista1 = ['a', 't', 'g', 'c']\n",
        "lista2 = ['g', 'c', 't', 'a']\n",
        "lista3 = []\n",
        "\n",
        "dict1 = {'Empresa 1': 23000, 'Empresa 2': 50000}\n",
        "\n",
        "i = 0\n",
        "while (i < len(lista1)):\n",
        "  if (i % 2 == 0):\n",
        "    lista3.append(lista1[i])\n",
        "  else:\n",
        "    lista3.append(lista2[i])  \n",
        "  i += 1\n",
        "\n",
        "print(\"Genomas Inicias\") \n",
        "print(lista1)\n",
        "print(lista2)\n",
        "print(\"Genoma final\") \n",
        "print(lista3)\n",
        "\n",
        "print(\"Relatório anual\") \n",
        "for i,j in dict1.items():\n",
        "  print(\"{0} possui um faturamento de {1:.2f}\".format(i, j))\n",
        "\n",
        "\n"
      ],
      "execution_count": null,
      "outputs": [
        {
          "output_type": "stream",
          "text": [
            "Genomas Inicias\n",
            "['a', 't', 'g', 'c']\n",
            "['g', 'c', 't', 'a']\n",
            "Genoma final\n",
            "['a', 'c', 'g', 'a']\n",
            "Relatório anual\n",
            "Empresa 1 possui um faturamento de 23000.00\n",
            "Empresa 2 possui um faturamento de 50000.00\n"
          ],
          "name": "stdout"
        }
      ]
    },
    {
      "cell_type": "markdown",
      "metadata": {
        "id": "xF0UtF9GfOqd"
      },
      "source": [
        "# 1. Evitando repetições com **while** e **for**\n",
        "\n",
        "Uma das primeiras e mais simples aplicações do comando **while** é evitar repetições de comandos. A estrutura do **while** é parecida com a do **if** na qual uma expressão lógica deverá ser avaliada. Porém, enquanto no **if** a avaliação da expressão lógica é realizada uma única vez, e caso seja verdadeira (retorne **True**), então, os comandos subjacentes serão executados, no **while** os comando serão executados até que a expressão lógica retorne o valor falso (**False**).\n",
        "\n",
        "A estrutura geral desse comando é como segue:\n",
        "\n",
        ">expressao_logica = valor_inicial\n",
        ">> **while** (expressao_logica):\n",
        ">>>  comando1\n",
        "\n",
        ">>>  comando2\n",
        "\n",
        ">>> atualizacao_condicao_logica\n",
        "\n",
        "**Importante 1**:\n",
        "Assim como no **if**, o espaçamento serve para indicar quais comandos estão subordinado ao comando **while**.\n",
        "\n",
        "**Importante 2**:\n",
        "A expressao_logica depois do **while** deve ser sucedida pelo símbolo **':'**.\n",
        "\n",
        "**Importante 3**:\n",
        "Dentro do while deve haver uma atualização da variável associada à expressão lógica **expressao_logica**. Do contrário, corre-se o risco do **while** não terminar nunca. Isso é chamado de **laço infinito**.\n",
        "\n",
        "Existe também o comando **for** que se assemelha ao **while** em funcionalidade. Porém, uma diferença fundamental entre os dois comandos em relação ao acesso de variáveis do tipo coleção como **listas** e **dicionários**:\n",
        "\n",
        "* No **while** é necessário especificar a indexação do elemento. Por exemplo:\n",
        "lista1[0] ou lista1[1]. Ou seja, para o **while** só é possível percorrer os elementos por meio de seus índices. \n",
        "\n",
        "* Com o comando **for** é possível tanto o acesso aos elementos de coleções por meio de indexação (como é feito pelo **while**) quanto por meio de ordenação. Por exemplo: dic1['Chave1'].\n",
        "\n",
        "São duas possíveis sintaxes gerais do comando **for**:\n",
        "\n",
        "**Sintaxe 1**: Acesso por meio de indexação\n",
        "\n",
        ">**for** i **in** range(0,len(lista1)):\n",
        ">>  print(lista1[i])\n",
        "\n",
        "**Sintade 2**: Acesso por meio de ordenação\n",
        "\n",
        "> **for** i **in** lista1:\n",
        ">> print(i)\n"
      ]
    },
    {
      "cell_type": "code",
      "metadata": {
        "id": "HgQKhQRKkN98",
        "colab": {
          "base_uri": "https://localhost:8080/",
          "height": 102
        },
        "outputId": "fcb1e1bd-dc9b-4163-a44e-3bfe0ad9a5e5"
      },
      "source": [
        "i = 1\n",
        "while i < 6:\n",
        "  print(i)\n",
        "  i += 1"
      ],
      "execution_count": null,
      "outputs": [
        {
          "output_type": "stream",
          "text": [
            "1\n",
            "2\n",
            "3\n",
            "4\n",
            "5\n"
          ],
          "name": "stdout"
        }
      ]
    },
    {
      "cell_type": "markdown",
      "metadata": {
        "id": "gm_9bPKtlz2o"
      },
      "source": [
        "# 2. Combinando **while** com **if**\n",
        "\n",
        "O comando **while** pode ser combinado com o **if** para que um comportamento específico seja realizado para um determinado valor. Observe que o comando de atualização (**i += 1**) não está subordinado ao **if** ou ao **else** e sim ao **while**."
      ]
    },
    {
      "cell_type": "code",
      "metadata": {
        "id": "_q7Gp_KEmWnW",
        "colab": {
          "base_uri": "https://localhost:8080/",
          "height": 170
        },
        "outputId": "343cdc3f-7708-4610-8d07-bc08ca749932"
      },
      "source": [
        "i = 1\n",
        "while i < 10:\n",
        "  if (i == 2):\n",
        "    print(\"[\"+str(i)+\"]\")\n",
        "  else:\n",
        "    print(i) \n",
        "  i += 1   "
      ],
      "execution_count": null,
      "outputs": [
        {
          "output_type": "stream",
          "text": [
            "1\n",
            "[2]\n",
            "3\n",
            "4\n",
            "5\n",
            "6\n",
            "7\n",
            "8\n",
            "9\n"
          ],
          "name": "stdout"
        }
      ]
    },
    {
      "cell_type": "markdown",
      "metadata": {
        "id": "TUeNWXpWkz_N"
      },
      "source": [
        "# 3. Combinando **while** com **if** e **%**\n",
        "\n",
        "É possível combinar **while** com **if** para selecionar apenas aqueles casos dentro do laço que satisfazem uma determinada condição lógica. No exemplo a seguir o comando **i % n**, que fornece o resto da divisão de um número **i** por um número **n**. O comando **%** combinado com **if** irá gerar uma condição lógica para imprimir apenas os pares.\n",
        "\n",
        "**Importante**: Um **número par** é tal que o **resto da divisão** por **2** é igual a **zero**. Ou seja, para um número par **i** é verdadeira a expressão lógica **(i % 2 == 0)**."
      ]
    },
    {
      "cell_type": "code",
      "metadata": {
        "id": "I_x_0-TrlD9c",
        "colab": {
          "base_uri": "https://localhost:8080/",
          "height": 102
        },
        "outputId": "1ebd9b57-f4f3-450e-c917-728699a1e454"
      },
      "source": [
        "i = 1\n",
        "while i <= 10:\n",
        "  if (i % 2 == 0):\n",
        "    print(i)\n",
        "  i += 1"
      ],
      "execution_count": null,
      "outputs": [
        {
          "output_type": "stream",
          "text": [
            "2\n",
            "4\n",
            "6\n",
            "8\n",
            "10\n"
          ],
          "name": "stdout"
        }
      ]
    },
    {
      "cell_type": "markdown",
      "metadata": {
        "id": "KREtCMFgneaK"
      },
      "source": [
        "# 4. Uma combinação equivalente do **while** anterior\n",
        "\n",
        "O comando **while** anterior pode ser substituído por uma outra codificação alternativa equivalente que só percorre números pares e evita o uso do comando **if**. "
      ]
    },
    {
      "cell_type": "code",
      "metadata": {
        "id": "n5znpPJnoAZ9",
        "colab": {
          "base_uri": "https://localhost:8080/",
          "height": 102
        },
        "outputId": "d6c018ec-56c4-466d-c903-d88567bd0210"
      },
      "source": [
        "i = 2\n",
        "while i <= 10:\n",
        "  print(i)\n",
        "  i += 2"
      ],
      "execution_count": null,
      "outputs": [
        {
          "output_type": "stream",
          "text": [
            "2\n",
            "4\n",
            "6\n",
            "8\n",
            "10\n"
          ],
          "name": "stdout"
        }
      ]
    },
    {
      "cell_type": "markdown",
      "metadata": {
        "id": "AcKdA0l8vXp3"
      },
      "source": [
        "# 5. Outra combinação equivalente\n",
        "\n",
        "O comando **while** pode ser combinado com o comando **continue**. O comando **continue** serve para evitar que os comandos subsequentes dentro de um **while** sejam executados seguindo diretamente para a avaliação da condição lógica. Deve-se tomar cuidado para que a atualização da condição lógica seja garantida, isto é, esteja fora da possibilidade de ser ignorada pelo comando **continue**. Do contrário corre-se o risco de se ter um **laço infinito**."
      ]
    },
    {
      "cell_type": "code",
      "metadata": {
        "id": "N36LFlk2v8rE",
        "colab": {
          "base_uri": "https://localhost:8080/",
          "height": 102
        },
        "outputId": "8741c627-b287-4a56-8d55-7d38038181a9"
      },
      "source": [
        "i = 0\n",
        "while i <= 10:\n",
        "  i += 1\n",
        "  if (i % 2 == 1):\n",
        "    continue\n",
        "  print(i)"
      ],
      "execution_count": null,
      "outputs": [
        {
          "output_type": "stream",
          "text": [
            "2\n",
            "4\n",
            "6\n",
            "8\n",
            "10\n"
          ],
          "name": "stdout"
        }
      ]
    },
    {
      "cell_type": "markdown",
      "metadata": {
        "id": "Bleq03z9kj7r"
      },
      "source": [
        "# 6. Combinando **while** com listas\n",
        "\n",
        "É possível combinar o uso do **while** para percorrer elementos de variáveis de coleções indexadas como listas por exemplo."
      ]
    },
    {
      "cell_type": "code",
      "metadata": {
        "id": "E2BrIlFIbg_b",
        "colab": {
          "base_uri": "https://localhost:8080/",
          "height": 102
        },
        "outputId": "b3ca9e0f-2014-4265-9b23-47a058666770"
      },
      "source": [
        "lista1 = ['a', 'b', 'c', 'd', 'e']\n",
        "\n",
        "i = 0\n",
        "while (i < len(lista1)):              # Enquanto i menor que o tamanho da lista\n",
        "  elem = \"lista1[%i]=%s\"%(i,lista1[i])# Cria elemento a ser impresso \n",
        "  print(elem)                         # Imprime o elemento na i-ésima posição\n",
        "  i=i+1                               # Atualização do valor de i"
      ],
      "execution_count": null,
      "outputs": [
        {
          "output_type": "stream",
          "text": [
            "lista1[0]=a\n",
            "lista1[1]=b\n",
            "lista1[2]=c\n",
            "lista1[3]=d\n",
            "lista1[4]=e\n"
          ],
          "name": "stdout"
        }
      ]
    },
    {
      "cell_type": "markdown",
      "metadata": {
        "id": "g4VkpvT_ol17"
      },
      "source": [
        "# 7. Busca por um valor específico em uma lista\n",
        "\n",
        "O comando **while** pode ser usado em conjunto com o **if** para pesquisar os valores de uma lista até encontrar um valor específico. Essa busca pode ser interrompida, através do comando **break**, depois que o valor for encontrado e impresso o número da posição onde está contido o elemento."
      ]
    },
    {
      "cell_type": "code",
      "metadata": {
        "id": "vVD4D25ootbn",
        "colab": {
          "base_uri": "https://localhost:8080/",
          "height": 51
        },
        "outputId": "9a91314c-1923-4180-d12e-4c75428f6fc5"
      },
      "source": [
        "lista1 = ['a', 'b', 'c', 'd', 'e']\n",
        "\n",
        "valor = 'd'\n",
        "i = 0\n",
        "while (i < len(lista1)):\n",
        "  if (lista1[i] == valor):\n",
        "    print(\"Elemento encontrado\")\n",
        "    print(\"Indíce da posicao: \"+str(i))\n",
        "  i += 1"
      ],
      "execution_count": null,
      "outputs": [
        {
          "output_type": "stream",
          "text": [
            "Elemento encontrado\n",
            "Indíce da posicao: 3\n"
          ],
          "name": "stdout"
        }
      ]
    },
    {
      "cell_type": "markdown",
      "metadata": {
        "id": "jwqyI0SSe5iZ"
      },
      "source": [
        "# 8. Combinando duas listas em uma terceira\n",
        "\n",
        "Através do **while** e **if** é possível combinar duas listas (**lista1**, **lista2**) em uma única **lista3**. Isso deve ser feito de modo que nos elementos de índice par da lista3 são colocados os elementos da lista1 e nos elementos de índice ímpar são colocados os elementos da lista2."
      ]
    },
    {
      "cell_type": "code",
      "metadata": {
        "id": "rVdjiIqLszci",
        "colab": {
          "base_uri": "https://localhost:8080/",
          "height": 34
        },
        "outputId": "103127ff-7d41-44c0-a643-99ee9bf9a721"
      },
      "source": [
        "lista1 = ['a', 'g', 't', 'c']\n",
        "lista2 = ['g', 'c', 't', 'a']\n",
        "lista3 = []\n",
        "\n",
        "i = 0\n",
        "j = 0\n",
        "k = 0\n",
        "n = 2*len(lista1)\n",
        "while (i < n):\n",
        "  if (i % 2 == 0):\n",
        "    lista3.append(lista1[j])\n",
        "    j += 1\n",
        "  else:\n",
        "    lista3.append(lista2[k])\n",
        "    k += 1\n",
        "  i += 1\n",
        "\n",
        "print(lista3)"
      ],
      "execution_count": null,
      "outputs": [
        {
          "output_type": "stream",
          "text": [
            "['a', 'g', 'g', 'c', 't', 't', 'c', 'a']\n"
          ],
          "name": "stdout"
        }
      ]
    },
    {
      "cell_type": "markdown",
      "metadata": {
        "id": "SCNU5OUJy0uh"
      },
      "source": [
        "# 9. Comando **for** para criação de um laço\n",
        "\n",
        "O comando **for** pode ser utilizado para acessar os elementos de uma lista ou de um dicionário diretamente através dos valores e não dos índices dos elementos."
      ]
    },
    {
      "cell_type": "code",
      "metadata": {
        "id": "fyJNAU89zNBy",
        "colab": {
          "base_uri": "https://localhost:8080/",
          "height": 102
        },
        "outputId": "9fb1fd36-890a-4281-8ca0-01ca709c1d77"
      },
      "source": [
        "lista1 = ['a', 'g', 't', 'c']\n",
        "\n",
        "print(\"Lista1\")\n",
        "for i in lista1:\n",
        "  print(i)"
      ],
      "execution_count": null,
      "outputs": [
        {
          "output_type": "stream",
          "text": [
            "Lista1\n",
            "a\n",
            "g\n",
            "t\n",
            "c\n"
          ],
          "name": "stdout"
        }
      ]
    },
    {
      "cell_type": "markdown",
      "metadata": {
        "id": "nG4l4ifYFMXe"
      },
      "source": [
        "# 10. Uso do **for** com ordenação ou com iteração\n",
        "\n",
        "O comando **for** pode acessar os elementos de uma lista por **ordenação** (usando o operador **lista1[i]**) ou por meio de **iteradores** (usando o operador **i in lista1**). Os **iteradores** são tais que cada elemento sempre possui uma referência ao próximo elemento da variável em questão. "
      ]
    },
    {
      "cell_type": "code",
      "metadata": {
        "id": "Y9E73mu8FoWZ",
        "colab": {
          "base_uri": "https://localhost:8080/",
          "height": 230
        },
        "outputId": "7314a4d4-3975-4b48-cb0e-7e7cb2dc74d0"
      },
      "source": [
        "lista1 = ['a', 'b', 'c', 'd', 'e']\n",
        "\n",
        "print(\"Impressão por ordenação\")\n",
        "for i in range(0,len(lista1)):\n",
        "  print(lista1[i])\n",
        "\n",
        "print(\"Impressão por iteração\")\n",
        "for i in lista1:\n",
        "  print(i)"
      ],
      "execution_count": null,
      "outputs": [
        {
          "output_type": "stream",
          "text": [
            "Impressão por ordenação\n",
            "a\n",
            "b\n",
            "c\n",
            "d\n",
            "e\n",
            "Impressão por iteração\n",
            "a\n",
            "b\n",
            "c\n",
            "d\n",
            "e\n"
          ],
          "name": "stdout"
        }
      ]
    },
    {
      "cell_type": "markdown",
      "metadata": {
        "id": "4nRTo3ynAEdG"
      },
      "source": [
        "# 11. Concatenando elementos de listas com pares de índices\n",
        "\n",
        "Elementos de duas listas podem ser percorridos simultaneamente através da criação de dois índices que percorrem sincronizadamente as listas. Para tanto, basta usar o comando **for** e **in** com o comando **zip** na seguinte sintaxe geral:\n",
        "\n",
        "> **for** i,j **in** **zip**(lis1, lis2)"
      ]
    },
    {
      "cell_type": "code",
      "metadata": {
        "id": "NkILX3KAz6KT",
        "colab": {
          "base_uri": "https://localhost:8080/",
          "height": 34
        },
        "outputId": "021f8069-1433-4513-898d-ec41499f4563"
      },
      "source": [
        "lista1 = ['a', 'g', 't', 'c']\n",
        "lista2 = ['g', 'c', 't', 'a']\n",
        "lista3 = []\n",
        "\n",
        "for i,j in zip(lista1,lista2):\n",
        "  lista3.append(i)\n",
        "  lista3.append(j)\n",
        "\n",
        "print(lista3)"
      ],
      "execution_count": null,
      "outputs": [
        {
          "output_type": "stream",
          "text": [
            "['a', 'g', 'g', 'c', 't', 't', 'c', 'a']\n"
          ],
          "name": "stdout"
        }
      ]
    },
    {
      "cell_type": "markdown",
      "metadata": {
        "id": "f9iEwuEZArHF"
      },
      "source": [
        "# 12. Percorrendo elementos de dicionários com **for**\n",
        "\n",
        "Os dicionários não possuem ordenação, mas possuem indexação, isto torna mais adequado o acesso aos seus elementos através da sintaxe do comando **for**. É importante lembrar que em um dicionário os dados são organizados em pares **(key, value)**. A palavra **keys()** retorna uma lista com todas as chaves do dicionário e **values** retorna um lista com todos os valores do dicionário.\n"
      ]
    },
    {
      "cell_type": "code",
      "metadata": {
        "id": "Nl83qiaD_iQC",
        "colab": {
          "base_uri": "https://localhost:8080/",
          "height": 119
        },
        "outputId": "1a654b98-d237-47ff-f8d7-b08fdcf16c73"
      },
      "source": [
        "faturamento = {\"Empresa 1\": 200500, \"Empresa 2\": 345600}\n",
        "\n",
        "print(\"Lista de empresas\") \n",
        "for key in faturamento.keys():\n",
        "    print(\"{}\".format(key))\n",
        "\n",
        "print(\"Lista de faturamentos\") \n",
        "for value in faturamento.values():\n",
        "    print(\"{}\".format(value))"
      ],
      "execution_count": null,
      "outputs": [
        {
          "output_type": "stream",
          "text": [
            "Lista de empresas\n",
            "Empresa 1\n",
            "Empresa 2\n",
            "Lista de faturamentos\n",
            "200500\n",
            "345600\n"
          ],
          "name": "stdout"
        }
      ]
    },
    {
      "cell_type": "markdown",
      "metadata": {
        "id": "WPompDVfAYyX"
      },
      "source": [
        "# 13. Combinando **for** e **if** para percorrer um dicionário e mostrando valores com **format**\n",
        "\n",
        "É possível também combinar com o comando **if** para verificar se uma condição específica é atendida. Observar também que o comando **format** permite a impressão de múltiplos valores. É possível especificar a ordem de impressão de cada valor. Por exemplo, **{0}** indica que no espaço apontado pelo símbolo **\"{}\"** deverá ser impresso o primeiro elemento listado nos valores entre parêntesis após o comando **format**. Além disso, se for utilizado **{1:.2f}** significa que o segundo elemento listado (índice **1**) deverá ser impresso como um número real (**f**) e com uma precisão de duas casas decimais (**.2**).\n"
      ]
    },
    {
      "cell_type": "code",
      "metadata": {
        "id": "2jM3hoiFAwJE",
        "colab": {
          "base_uri": "https://localhost:8080/",
          "height": 85
        },
        "outputId": "8d3663c7-a529-4553-e011-196e72690781"
      },
      "source": [
        "faturamento = {\"Empresa 1\": 200500, \"Empresa 2\": 345600}\n",
        "\n",
        "print(\"Relatório anual\") \n",
        "for key, value in faturamento.items():\n",
        "    print(\"{0} possui um faturamento de {1:.2f}\".format(key, value))\n",
        "    if (value > 300000):\n",
        "      print(\"{} atende critério de seleção\".format(key))"
      ],
      "execution_count": null,
      "outputs": [
        {
          "output_type": "stream",
          "text": [
            "Relatório anual\n",
            "Empresa 1 possui um faturamento de 200500.00\n",
            "Empresa 2 possui um faturamento de 345600.00\n",
            "Empresa 2 atende critério de seleção\n"
          ],
          "name": "stdout"
        }
      ]
    },
    {
      "cell_type": "markdown",
      "metadata": {
        "id": "K7okIIjTEGUC"
      },
      "source": [
        "# 14. Resumo da seção\n",
        "\n",
        "* Os comandos **while** e **for** são comandos para evitar repetições. Isto é particularmente útil para acesso, modificação e impressão de elementos de coleções como **listas** e **dicionários**.\n",
        "\n",
        "* Para o comando **while** é necessário especificar o índice a ser acessado de modo que este fica restrito à manipulação de dados de coleções por meio do uso de **indexação**.\n",
        "\n",
        "* Um exemplo de sintaxe do **while** é:\n",
        "\n",
        "> lista1 = ['a', 'b', 'c', 'd']\n",
        "\n",
        ">i = 0\n",
        "\n",
        ">**while** i < len(lista1):\n",
        ">>  print(lista1[i])\n",
        "\n",
        ">>  i += 1\n",
        "\n",
        "* Os comandos **if**, **break** e **continue** podem ser empregados para modificar a forma com o **while** pode ser executado. Para o **if** se um dada condição for verdadeira, então, uma ação correspondente será executada dentro do **while**. Essa ação pode ser a interrupção do laço com o comando **break**, ou simplesmente seguir diretamente para a avaliação da condição lógica com o comando **continue**.\n",
        "\n",
        "* Para o comando **for** tanto o índice como a ordenação podem ser especificados para acesso aos dados contidos em uma coleção. Ou seja, tanto a **indexação** ou **ordenação** podem ser empregadas para acesso e manipulação de dados. \n",
        "\n",
        "* Dois exemplos de sintaxe do **for** são: \n",
        "\n",
        ">lista1 = ['a', 'b', 'c', 'd', 'e']\n",
        "\n",
        ">print(\"Impressão por indexação\")\n",
        ">>**for** i **in** range(0,len(lista1)):\n",
        "\n",
        ">>  print(lista1[i])\n",
        "\n",
        "> print(\"Impressão por ordenação\")\n",
        "\n",
        "> **for** i **in** lista1:\n",
        ">>  print(i)\n",
        "\n",
        "* Duas listas podem ser acessadas de modo simultâneo e sincronizado através do comando **zip**: \n",
        "\n",
        "> **for** i,j **in** **zip**(lista1,lista2):\n",
        ">>  lista3.append(i)\n",
        "\n",
        ">>  lista3.append(j)\n",
        "\n",
        "\n",
        "*  O comando **for** pode ser utilizado para percorrer tanto as chaves quanto os valores de um dicionário simultanea e sincronizadamente. Além disso, o fomando **format** pode auxiliar na organização da impressão dos valores indicando a ordem (**{0}** - impressão do primeiro elemento) quanto da formatação (**.2f** - impressão de número real com duas casas decimais).\n",
        "\n",
        "> **for** key, value **in** faturamento.items():\n",
        ">>    print(\"{0} possui um faturamento de {1:.2f}\".format(key, value))\n"
      ]
    }
  ]
}