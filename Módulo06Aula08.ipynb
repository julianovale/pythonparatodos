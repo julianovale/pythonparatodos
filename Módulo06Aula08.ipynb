{
  "nbformat": 4,
  "nbformat_minor": 0,
  "metadata": {
    "colab": {
      "name": "Módulo06Aula08.ipynb",
      "provenance": [],
      "collapsed_sections": [],
      "authorship_tag": "ABX9TyPR2h23336qAudoq5pDp1Xg",
      "include_colab_link": true
    },
    "kernelspec": {
      "name": "python3",
      "display_name": "Python 3"
    }
  },
  "cells": [
    {
      "cell_type": "markdown",
      "metadata": {
        "id": "view-in-github",
        "colab_type": "text"
      },
      "source": [
        "<a href=\"https://colab.research.google.com/github/julianovale/pythonparatodos/blob/main/M%C3%B3dulo06Aula08.ipynb\" target=\"_parent\"><img src=\"https://colab.research.google.com/assets/colab-badge.svg\" alt=\"Open In Colab\"/></a>"
      ]
    },
    {
      "cell_type": "code",
      "metadata": {
        "colab": {
          "base_uri": "https://localhost:8080/"
        },
        "id": "uyz1BBFz9Dp1",
        "outputId": "3a1c95e2-6def-4d97-8ae1-ce57505d52e9"
      },
      "source": [
        "lista1 = ['a','g','t','c']\r\n",
        "lista2 = ['g','c','t','a']\r\n",
        "lista3 = []\r\n",
        "\r\n",
        "i = 0\r\n",
        "j = 0\r\n",
        "k = 0\r\n",
        "n = 2*len(lista1)\r\n",
        "while (i < n):\r\n",
        "  if (i % 2 == 0):\r\n",
        "    lista3.append(lista1[j])\r\n",
        "    j += 1\r\n",
        "  else:\r\n",
        "    lista3.append(lista2[k])\r\n",
        "    k += 1\r\n",
        "  i += 1\r\n",
        "\r\n",
        "print(lista3)"
      ],
      "execution_count": 4,
      "outputs": [
        {
          "output_type": "stream",
          "text": [
            "['a', 'g', 'g', 'c', 't', 't', 'c', 'a']\n"
          ],
          "name": "stdout"
        }
      ]
    }
  ]
}