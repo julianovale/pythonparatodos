{
  "nbformat": 4,
  "nbformat_minor": 0,
  "metadata": {
    "colab": {
      "name": "Módulo07Aula20.ipynb",
      "provenance": [],
      "collapsed_sections": [],
      "authorship_tag": "ABX9TyOHBigRVXOsoZRzrVncgO8Y",
      "include_colab_link": true
    },
    "kernelspec": {
      "name": "python3",
      "display_name": "Python 3"
    }
  },
  "cells": [
    {
      "cell_type": "markdown",
      "metadata": {
        "id": "view-in-github",
        "colab_type": "text"
      },
      "source": [
        "<a href=\"https://colab.research.google.com/github/julianovale/pythonparatodos/blob/main/M%C3%B3dulo07Aula20.ipynb\" target=\"_parent\"><img src=\"https://colab.research.google.com/assets/colab-badge.svg\" alt=\"Open In Colab\"/></a>"
      ]
    },
    {
      "cell_type": "code",
      "metadata": {
        "id": "ToJTsCvP6lIv"
      },
      "source": [
        "def verif_seq(s1,s2):\r\n",
        "  status = True\r\n",
        "  for xi, yi in zip(s1, s2):\r\n",
        "    if (xi != yi):\r\n",
        "      status = False\r\n",
        "      break\r\n",
        "  return status\r\n",
        "\r\n",
        "def subseq_lista(lista1, sub1):\r\n",
        "  soma = 0\r\n",
        "  n = len(lista1)\r\n",
        "  tam = len(sub1)\r\n",
        "  for i in range(0, n-tam+1):\r\n",
        "    sub2 = lista1[i:i+tam]\r\n",
        "    print(sub1)\r\n",
        "    print(sub2)\r\n",
        "    print('--------')\r\n",
        "    if verif_seq(sub1,sub2):\r\n",
        "      soma += 1\r\n",
        "  return soma"
      ],
      "execution_count": 12,
      "outputs": []
    },
    {
      "cell_type": "code",
      "metadata": {
        "colab": {
          "base_uri": "https://localhost:8080/"
        },
        "id": "Y5QwehlM56KJ",
        "outputId": "e3d5a252-258a-4670-de39-6d269a28b3a5"
      },
      "source": [
        "l1 = ['a','b','c','d','b','c','d','e','c','d','e','f']\r\n",
        "e = ['c','d']\r\n",
        "print(l1)\r\n",
        "print('---')\r\n",
        "soma = subseq_lista(l1, e)\r\n",
        "print(soma)"
      ],
      "execution_count": 13,
      "outputs": [
        {
          "output_type": "stream",
          "text": [
            "['a', 'b', 'c', 'd', 'b', 'c', 'd', 'e', 'c', 'd', 'e', 'f']\n",
            "---\n",
            "['c', 'd']\n",
            "['a', 'b']\n",
            "--------\n",
            "['c', 'd']\n",
            "['b', 'c']\n",
            "--------\n",
            "['c', 'd']\n",
            "['c', 'd']\n",
            "--------\n",
            "['c', 'd']\n",
            "['d', 'b']\n",
            "--------\n",
            "['c', 'd']\n",
            "['b', 'c']\n",
            "--------\n",
            "['c', 'd']\n",
            "['c', 'd']\n",
            "--------\n",
            "['c', 'd']\n",
            "['d', 'e']\n",
            "--------\n",
            "['c', 'd']\n",
            "['e', 'c']\n",
            "--------\n",
            "['c', 'd']\n",
            "['c', 'd']\n",
            "--------\n",
            "['c', 'd']\n",
            "['d', 'e']\n",
            "--------\n",
            "['c', 'd']\n",
            "['e', 'f']\n",
            "--------\n",
            "3\n"
          ],
          "name": "stdout"
        }
      ]
    }
  ]
}