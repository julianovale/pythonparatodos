{
  "nbformat": 4,
  "nbformat_minor": 0,
  "metadata": {
    "colab": {
      "name": "Módulo01Aula03.ipynb",
      "provenance": [],
      "collapsed_sections": [],
      "authorship_tag": "ABX9TyP+7fkDfxv4Zh51s4UxZjN1",
      "include_colab_link": true
    },
    "kernelspec": {
      "name": "python3",
      "display_name": "Python 3"
    }
  },
  "cells": [
    {
      "cell_type": "markdown",
      "metadata": {
        "id": "view-in-github",
        "colab_type": "text"
      },
      "source": [
        "<a href=\"https://colab.research.google.com/github/julianovale/pythonparatodos/blob/main/M%C3%B3dulo01Aula03.ipynb\" target=\"_parent\"><img src=\"https://colab.research.google.com/assets/colab-badge.svg\" alt=\"Open In Colab\"/></a>"
      ]
    },
    {
      "cell_type": "code",
      "metadata": {
        "colab": {
          "base_uri": "https://localhost:8080/"
        },
        "id": "eN7p1uY4XuTF",
        "outputId": "e7cb0d60-5e9a-4827-e46b-3b3645600614"
      },
      "source": [
        "x = 2\n",
        "y = 3.0\n",
        "z = x/y # Promoção implícita de tipo de variável\n",
        "print(type(x), type(y))\n",
        "print(z, type(z))\n",
        "w = int(z) # Conversão explícita de tipo de variável\n",
        "print(w, type(w))"
      ],
      "execution_count": 5,
      "outputs": [
        {
          "output_type": "stream",
          "text": [
            "<class 'int'> <class 'float'>\n",
            "0.6666666666666666 <class 'float'>\n",
            "0 <class 'int'>\n"
          ],
          "name": "stdout"
        }
      ]
    },
    {
      "cell_type": "code",
      "metadata": {
        "colab": {
          "base_uri": "https://localhost:8080/"
        },
        "id": "u0RLWTeKgfUH",
        "outputId": "64b10cbf-361b-47f8-cd3f-7f44f386a08d"
      },
      "source": [
        "t = (x + y - z * (w**2))/3\n",
        "print(t)\n",
        "print('Resultado da conta = '+str(t)) # se não converter 't' para string dá erro"
      ],
      "execution_count": 13,
      "outputs": [
        {
          "output_type": "stream",
          "text": [
            "1.6666666666666667\n",
            "Resultado da conta = 1.6666666666666667\n"
          ],
          "name": "stdout"
        }
      ]
    }
  ]
}