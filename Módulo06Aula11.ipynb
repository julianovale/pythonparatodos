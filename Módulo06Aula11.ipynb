{
  "nbformat": 4,
  "nbformat_minor": 0,
  "metadata": {
    "colab": {
      "name": "Módulo06Aula11.ipynb",
      "provenance": [],
      "collapsed_sections": [],
      "authorship_tag": "ABX9TyMGuoTrwrIveCGoSF8/UorR",
      "include_colab_link": true
    },
    "kernelspec": {
      "name": "python3",
      "display_name": "Python 3"
    }
  },
  "cells": [
    {
      "cell_type": "markdown",
      "metadata": {
        "id": "view-in-github",
        "colab_type": "text"
      },
      "source": [
        "<a href=\"https://colab.research.google.com/github/julianovale/pythonparatodos/blob/main/M%C3%B3dulo06Aula11.ipynb\" target=\"_parent\"><img src=\"https://colab.research.google.com/assets/colab-badge.svg\" alt=\"Open In Colab\"/></a>"
      ]
    },
    {
      "cell_type": "code",
      "metadata": {
        "colab": {
          "base_uri": "https://localhost:8080/"
        },
        "id": "ZI6N5IxcMb8d",
        "outputId": "0a154ad4-47a4-4ae6-be88-b3a71847cf7a"
      },
      "source": [
        "lista1 = ['a','b','c','d']\r\n",
        "lista2 = ['e','f','g','h']\r\n",
        "lista3 = []\r\n",
        "\r\n",
        "for i,j in zip(lista1, lista2):\r\n",
        "  lista3.append(i)\r\n",
        "  lista3.append(j)\r\n",
        "\r\n",
        "print(lista1)\r\n",
        "print(lista2)\r\n",
        "print(lista3)"
      ],
      "execution_count": 4,
      "outputs": [
        {
          "output_type": "stream",
          "text": [
            "['a', 'b', 'c', 'd']\n",
            "['e', 'f', 'g', 'h']\n",
            "['a', 'e', 'b', 'f', 'c', 'g', 'd', 'h']\n"
          ],
          "name": "stdout"
        }
      ]
    }
  ]
}