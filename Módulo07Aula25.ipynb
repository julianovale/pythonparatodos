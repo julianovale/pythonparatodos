{
  "nbformat": 4,
  "nbformat_minor": 0,
  "metadata": {
    "colab": {
      "name": "Módulo07Aula25.ipynb",
      "provenance": [],
      "collapsed_sections": [],
      "authorship_tag": "ABX9TyPbWnCSkWVOLRXQKIFy5MOf",
      "include_colab_link": true
    },
    "kernelspec": {
      "name": "python3",
      "display_name": "Python 3"
    }
  },
  "cells": [
    {
      "cell_type": "markdown",
      "metadata": {
        "id": "view-in-github",
        "colab_type": "text"
      },
      "source": [
        "<a href=\"https://colab.research.google.com/github/julianovale/pythonparatodos/blob/main/M%C3%B3dulo07Aula25.ipynb\" target=\"_parent\"><img src=\"https://colab.research.google.com/assets/colab-badge.svg\" alt=\"Open In Colab\"/></a>"
      ]
    },
    {
      "cell_type": "markdown",
      "metadata": {
        "id": "wk26eMDZfLPZ"
      },
      "source": [
        "Slides da aula:\r\n",
        "https://drive.google.com/file/d/1kPictJAroso99byyH21cy5rKuu00r_X2/view\r\n",
        "\r\n",
        "Vídeo da aula:\r\n",
        "https://www.youtube.com/watch?v=tncUj65VO-M&list=PLH9knZH6lcgo0ndsXfwX0CGO_ad1t6cSO&index=79\r\n"
      ]
    },
    {
      "cell_type": "markdown",
      "metadata": {
        "id": "cAs2jvXEc1kJ"
      },
      "source": [
        "Palíndromo: socorram me subi no onibus em marrocos"
      ]
    },
    {
      "cell_type": "code",
      "metadata": {
        "id": "kt5nPDqvcpIK"
      },
      "source": [
        ""
      ],
      "execution_count": null,
      "outputs": []
    }
  ]
}