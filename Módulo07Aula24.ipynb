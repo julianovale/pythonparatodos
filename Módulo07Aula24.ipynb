{
  "nbformat": 4,
  "nbformat_minor": 0,
  "metadata": {
    "colab": {
      "name": "Módulo07Aula24.ipynb",
      "provenance": [],
      "collapsed_sections": [],
      "authorship_tag": "ABX9TyNvvuXf+PrsfNu9fSQ3TQkZ",
      "include_colab_link": true
    },
    "kernelspec": {
      "name": "python3",
      "display_name": "Python 3"
    }
  },
  "cells": [
    {
      "cell_type": "markdown",
      "metadata": {
        "id": "view-in-github",
        "colab_type": "text"
      },
      "source": [
        "<a href=\"https://colab.research.google.com/github/julianovale/pythonparatodos/blob/main/M%C3%B3dulo07Aula24.ipynb\" target=\"_parent\"><img src=\"https://colab.research.google.com/assets/colab-badge.svg\" alt=\"Open In Colab\"/></a>"
      ]
    },
    {
      "cell_type": "markdown",
      "metadata": {
        "id": "7CLQ2AGBS0i_"
      },
      "source": [
        "PDF da apresentação:\r\n",
        "\r\n",
        "https://drive.google.com/file/d/1k5xfHrWnjPJJc05kB3op_05PAZpZpAfO/view\r\n"
      ]
    },
    {
      "cell_type": "code",
      "metadata": {
        "id": "f49e4RQ6VWyU"
      },
      "source": [
        "def ma(lista):\r\n",
        "  soma = 0\r\n",
        "  cont = 0\r\n",
        "  for i in lista:\r\n",
        "    soma = soma + i\r\n",
        "    cont = cont + 1\r\n",
        "  return soma/cont\r\n",
        "\r\n",
        "def mg(lista):\r\n",
        "  prod = 1\r\n",
        "  cont = 0\r\n",
        "  for i in lista:\r\n",
        "    prod = prod*i\r\n",
        "    cont = cont + 1\r\n",
        "  return prod**(1/cont)\r\n",
        "\r\n",
        "def mediaAG(lista, tip = 0):\r\n",
        "  if (tip == 0):\r\n",
        "    r = ma(lista)\r\n",
        "  else:\r\n",
        "    r = mg(lista)\r\n",
        "  return r"
      ],
      "execution_count": 16,
      "outputs": []
    },
    {
      "cell_type": "code",
      "metadata": {
        "colab": {
          "base_uri": "https://localhost:8080/"
        },
        "id": "pkxShMoTSvPT",
        "outputId": "9f39405e-1353-40ea-89b9-c1b5722c3956"
      },
      "source": [
        "l1 = [7,8,9]\r\n",
        "t = 0\r\n",
        "m1 = mediaAG(tip = t, lista = l1)\r\n",
        "print(\"A média aritmética é: {0:.2f}\".format(m1))\r\n",
        "\r\n",
        "t = 1\r\n",
        "m2 = mediaAG(tip = t, lista = l1)\r\n",
        "print(\"A média geométrica é: {0:.2f}\".format(m2))"
      ],
      "execution_count": 17,
      "outputs": [
        {
          "output_type": "stream",
          "text": [
            "A média aritmética é: 8.00\n",
            "A média geométrica é: 7.96\n"
          ],
          "name": "stdout"
        }
      ]
    }
  ]
}