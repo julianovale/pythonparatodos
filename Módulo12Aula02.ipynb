{
  "nbformat": 4,
  "nbformat_minor": 0,
  "metadata": {
    "colab": {
      "name": "Módulo12Aula02.ipynb",
      "provenance": [],
      "collapsed_sections": [],
      "authorship_tag": "ABX9TyMn5Sy2wLvoAroUxdl+8rF/",
      "include_colab_link": true
    },
    "kernelspec": {
      "name": "python3",
      "display_name": "Python 3"
    }
  },
  "cells": [
    {
      "cell_type": "markdown",
      "metadata": {
        "id": "view-in-github",
        "colab_type": "text"
      },
      "source": [
        "<a href=\"https://colab.research.google.com/github/julianovale/pythonparatodos/blob/main/M%C3%B3dulo12Aula02.ipynb\" target=\"_parent\"><img src=\"https://colab.research.google.com/assets/colab-badge.svg\" alt=\"Open In Colab\"/></a>"
      ]
    },
    {
      "cell_type": "code",
      "metadata": {
        "id": "aUEyyemTnmXh"
      },
      "source": [
        "class Retangulo():\r\n",
        "  def printa(self):\r\n",
        "    print(\"x = \")\r\n",
        "    print(\"y = \")"
      ],
      "execution_count": 4,
      "outputs": []
    },
    {
      "cell_type": "code",
      "metadata": {
        "colab": {
          "base_uri": "https://localhost:8080/"
        },
        "id": "qpfrlxuzoEj-",
        "outputId": "b27197aa-304c-4420-f9db-438c20823797"
      },
      "source": [
        "r = Retangulo()\r\n",
        "r.printa()"
      ],
      "execution_count": 5,
      "outputs": [
        {
          "output_type": "stream",
          "text": [
            "x = \n",
            "y = \n"
          ],
          "name": "stdout"
        }
      ]
    }
  ]
}