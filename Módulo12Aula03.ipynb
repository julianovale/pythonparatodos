{
  "nbformat": 4,
  "nbformat_minor": 0,
  "metadata": {
    "colab": {
      "name": "Módulo12Aula03.ipynb",
      "provenance": [],
      "collapsed_sections": [],
      "authorship_tag": "ABX9TyM59OLUguS/Px5VHaocEWym",
      "include_colab_link": true
    },
    "kernelspec": {
      "name": "python3",
      "display_name": "Python 3"
    }
  },
  "cells": [
    {
      "cell_type": "markdown",
      "metadata": {
        "id": "view-in-github",
        "colab_type": "text"
      },
      "source": [
        "<a href=\"https://colab.research.google.com/github/julianovale/pythonparatodos/blob/main/M%C3%B3dulo12Aula03.ipynb\" target=\"_parent\"><img src=\"https://colab.research.google.com/assets/colab-badge.svg\" alt=\"Open In Colab\"/></a>"
      ]
    },
    {
      "cell_type": "code",
      "metadata": {
        "id": "pK_F_ghrpCYP"
      },
      "source": [
        "class Retangulo:\r\n",
        "  def __init__(self,x,y):\r\n",
        "    self.x = x\r\n",
        "    self.y = y\r\n",
        "  def printa(self):\r\n",
        "    print(\"x = \", self.x)\r\n",
        "    print(\"y = \", self.y)"
      ],
      "execution_count": 10,
      "outputs": []
    },
    {
      "cell_type": "code",
      "metadata": {
        "colab": {
          "base_uri": "https://localhost:8080/"
        },
        "id": "sI5eHJEBpkRc",
        "outputId": "69a129fd-5ba3-4c88-fb3a-709e6d0a9053"
      },
      "source": [
        "ra = Retangulo(3.3, 4.4)\r\n",
        "rb = Retangulo(5.5, 6.0)\r\n",
        "rb.printa()\r\n",
        "ra.printa()"
      ],
      "execution_count": 11,
      "outputs": [
        {
          "output_type": "stream",
          "text": [
            "x =  5.5\n",
            "y =  6.0\n",
            "x =  3.3\n",
            "y =  4.4\n"
          ],
          "name": "stdout"
        }
      ]
    },
    {
      "cell_type": "code",
      "metadata": {
        "id": "mNeoLLILqMXT"
      },
      "source": [
        ""
      ],
      "execution_count": null,
      "outputs": []
    }
  ]
}