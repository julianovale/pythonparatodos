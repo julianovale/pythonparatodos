{
  "nbformat": 4,
  "nbformat_minor": 0,
  "metadata": {
    "colab": {
      "name": "Módulo11Aula16.ipynb",
      "provenance": [],
      "collapsed_sections": [],
      "authorship_tag": "ABX9TyMMRARP7wcul++lx91TPoue",
      "include_colab_link": true
    },
    "kernelspec": {
      "name": "python3",
      "display_name": "Python 3"
    }
  },
  "cells": [
    {
      "cell_type": "markdown",
      "metadata": {
        "id": "view-in-github",
        "colab_type": "text"
      },
      "source": [
        "<a href=\"https://colab.research.google.com/github/julianovale/pythonparatodos/blob/main/M%C3%B3dulo11Aula16.ipynb\" target=\"_parent\"><img src=\"https://colab.research.google.com/assets/colab-badge.svg\" alt=\"Open In Colab\"/></a>"
      ]
    },
    {
      "cell_type": "code",
      "metadata": {
        "id": "5M-DP1n-il83"
      },
      "source": [
        "import sqlite3"
      ],
      "execution_count": 18,
      "outputs": []
    },
    {
      "cell_type": "code",
      "metadata": {
        "id": "s0oNJEfgirHX"
      },
      "source": [
        "def create_table(dbname):\r\n",
        "  conn = sqlite3.connect(dbname)\r\n",
        "  cur = conn.cursor()\r\n",
        "  cur.execute(\"CREATE TABLE IF NOT EXISTS store(item TEXT, quantity INTEGER, price REAL)\")\r\n",
        "  conn.commit()\r\n",
        "  conn.close()\r\n",
        "\r\n",
        "def view(dbname,tabname):\r\n",
        "  conn = sqlite3.connect(dbname)\r\n",
        "  cur = conn.cursor()\r\n",
        "  command = \"SELECT * FROM \"+tabname\r\n",
        "  cur.execute(command)\r\n",
        "  rows = cur.fetchall()\r\n",
        "  conn.close()\r\n",
        "  return rows\r\n",
        "\r\n",
        "def insert(dbname, tabname, item, quantity, price):\r\n",
        "  conn = sqlite3.connect(dbname)\r\n",
        "  cur = conn.cursor()\r\n",
        "  command = \"INSERT INTO \"+tabname+\" VALUES(?,?,?)\"\r\n",
        "  cur.execute(command,(item, quantity, price))\r\n",
        "  conn.commit()\r\n",
        "  conn.close()"
      ],
      "execution_count": 19,
      "outputs": []
    },
    {
      "cell_type": "code",
      "metadata": {
        "colab": {
          "base_uri": "https://localhost:8080/"
        },
        "id": "zuvJiOGrkHCt",
        "outputId": "2a15d67a-d118-4292-ec03-d110ce4bc77a"
      },
      "source": [
        "create_table(\"lite2.db\")\r\n",
        "insert(\"lite2.db\",\"store\",\"Wine Glass\", 10, 5)\r\n",
        "print(view(\"lite2.db\",\"store\"))"
      ],
      "execution_count": 20,
      "outputs": [
        {
          "output_type": "stream",
          "text": [
            "[('Wine Glass', 10, 5.0)]\n"
          ],
          "name": "stdout"
        }
      ]
    },
    {
      "cell_type": "code",
      "metadata": {
        "colab": {
          "base_uri": "https://localhost:8080/"
        },
        "id": "dulZrVDgn2SK",
        "outputId": "0106697e-6082-4d44-d997-9a62f9ce074a"
      },
      "source": [
        "!pwd\r\n",
        "!ls"
      ],
      "execution_count": 21,
      "outputs": [
        {
          "output_type": "stream",
          "text": [
            "/content\n",
            "lite2.db  sample_data\n"
          ],
          "name": "stdout"
        }
      ]
    },
    {
      "cell_type": "code",
      "metadata": {
        "id": "5K2PW8aQpmyB"
      },
      "source": [
        "import pandas as pd"
      ],
      "execution_count": 22,
      "outputs": []
    },
    {
      "cell_type": "code",
      "metadata": {
        "id": "LiuHQZkpoCVL"
      },
      "source": [
        "def tab2df(dbname, tabname):\r\n",
        "  conn = sqlite3.connect(dbname)\r\n",
        "  command = \"SELECT * FROM \" + tabname\r\n",
        "  df = pd.read_sql_query(command, conn)\r\n",
        "  conn.close()\r\n",
        "  return df"
      ],
      "execution_count": 23,
      "outputs": []
    },
    {
      "cell_type": "code",
      "metadata": {
        "colab": {
          "base_uri": "https://localhost:8080/",
          "height": 80
        },
        "id": "x8kQI96lpSAF",
        "outputId": "66e46511-e69d-40fa-ca1f-274cbe944461"
      },
      "source": [
        "df1 = tab2df('lite2.db', 'store')\r\n",
        "df1"
      ],
      "execution_count": 24,
      "outputs": [
        {
          "output_type": "execute_result",
          "data": {
            "text/html": [
              "<div>\n",
              "<style scoped>\n",
              "    .dataframe tbody tr th:only-of-type {\n",
              "        vertical-align: middle;\n",
              "    }\n",
              "\n",
              "    .dataframe tbody tr th {\n",
              "        vertical-align: top;\n",
              "    }\n",
              "\n",
              "    .dataframe thead th {\n",
              "        text-align: right;\n",
              "    }\n",
              "</style>\n",
              "<table border=\"1\" class=\"dataframe\">\n",
              "  <thead>\n",
              "    <tr style=\"text-align: right;\">\n",
              "      <th></th>\n",
              "      <th>item</th>\n",
              "      <th>quantity</th>\n",
              "      <th>price</th>\n",
              "    </tr>\n",
              "  </thead>\n",
              "  <tbody>\n",
              "    <tr>\n",
              "      <th>0</th>\n",
              "      <td>Wine Glass</td>\n",
              "      <td>10</td>\n",
              "      <td>5.0</td>\n",
              "    </tr>\n",
              "  </tbody>\n",
              "</table>\n",
              "</div>"
            ],
            "text/plain": [
              "         item  quantity  price\n",
              "0  Wine Glass        10    5.0"
            ]
          },
          "metadata": {
            "tags": []
          },
          "execution_count": 24
        }
      ]
    },
    {
      "cell_type": "code",
      "metadata": {
        "id": "gNjmUXSiqTC-"
      },
      "source": [
        "def addData(df1):\r\n",
        "  products = ['Sakê', 'Pinga']\r\n",
        "  quantity = [20, 100]\r\n",
        "  price = [50.0, 20.0]\r\n",
        "  \r\n",
        "  cont = 0\r\n",
        "  for i,j,k in zip(products,quantity,price):\r\n",
        "    df1.loc[cont] = [i, j, k]\r\n",
        "    cont += 1\r\n",
        "  \r\n",
        "  return df1"
      ],
      "execution_count": 25,
      "outputs": []
    },
    {
      "cell_type": "code",
      "metadata": {
        "id": "389FRrdlrhqh"
      },
      "source": [
        "df2 = addData(df1)"
      ],
      "execution_count": 26,
      "outputs": []
    },
    {
      "cell_type": "code",
      "metadata": {
        "colab": {
          "base_uri": "https://localhost:8080/"
        },
        "id": "RcqnFAdIsdIN",
        "outputId": "f5f72bf6-a748-49e0-ea4e-f3d5412d0012"
      },
      "source": [
        "def df2db(dbname, tabname, df):\r\n",
        "  conn = sqlite3.connect(dbname)\r\n",
        "  # df.to_sql(tabname, conn, index = False, if_exists = 'replace')\r\n",
        "  df.to_sql(tabname, conn, index = False, if_exists = 'append')\r\n",
        "  conn.close()\r\n",
        "\r\n",
        "print(view('lite2.db','store'))\r\n",
        "df2db('lite2.db', 'store', df1)\r\n",
        "print(view('lite2.db','store'))"
      ],
      "execution_count": 27,
      "outputs": [
        {
          "output_type": "stream",
          "text": [
            "[('Wine Glass', 10, 5.0)]\n",
            "[('Wine Glass', 10, 5.0), ('Sakê', 20, 50.0), ('Pinga', 100, 20.0)]\n"
          ],
          "name": "stdout"
        }
      ]
    },
    {
      "cell_type": "code",
      "metadata": {
        "colab": {
          "base_uri": "https://localhost:8080/",
          "height": 142
        },
        "id": "GuW5L5mP0PBf",
        "outputId": "153c718d-8d4b-44e5-ce00-3a07d5254ee6"
      },
      "source": [
        "df2 = tab2df('lite2.db', 'store')\r\n",
        "df2"
      ],
      "execution_count": 28,
      "outputs": [
        {
          "output_type": "execute_result",
          "data": {
            "text/html": [
              "<div>\n",
              "<style scoped>\n",
              "    .dataframe tbody tr th:only-of-type {\n",
              "        vertical-align: middle;\n",
              "    }\n",
              "\n",
              "    .dataframe tbody tr th {\n",
              "        vertical-align: top;\n",
              "    }\n",
              "\n",
              "    .dataframe thead th {\n",
              "        text-align: right;\n",
              "    }\n",
              "</style>\n",
              "<table border=\"1\" class=\"dataframe\">\n",
              "  <thead>\n",
              "    <tr style=\"text-align: right;\">\n",
              "      <th></th>\n",
              "      <th>item</th>\n",
              "      <th>quantity</th>\n",
              "      <th>price</th>\n",
              "    </tr>\n",
              "  </thead>\n",
              "  <tbody>\n",
              "    <tr>\n",
              "      <th>0</th>\n",
              "      <td>Wine Glass</td>\n",
              "      <td>10</td>\n",
              "      <td>5.0</td>\n",
              "    </tr>\n",
              "    <tr>\n",
              "      <th>1</th>\n",
              "      <td>Sakê</td>\n",
              "      <td>20</td>\n",
              "      <td>50.0</td>\n",
              "    </tr>\n",
              "    <tr>\n",
              "      <th>2</th>\n",
              "      <td>Pinga</td>\n",
              "      <td>100</td>\n",
              "      <td>20.0</td>\n",
              "    </tr>\n",
              "  </tbody>\n",
              "</table>\n",
              "</div>"
            ],
            "text/plain": [
              "         item  quantity  price\n",
              "0  Wine Glass        10    5.0\n",
              "1        Sakê        20   50.0\n",
              "2       Pinga       100   20.0"
            ]
          },
          "metadata": {
            "tags": []
          },
          "execution_count": 28
        }
      ]
    },
    {
      "cell_type": "code",
      "metadata": {
        "id": "I4jMPq9-0T52"
      },
      "source": [
        "def deleteItem(dbname, tabname, item):\r\n",
        "  conn = sqlite3.connect(dbname)\r\n",
        "  cur = conn.cursor()\r\n",
        "  command = \"DELETE FROM \"+tabname+ \" WHERE item=?\"\r\n",
        "  cur.execute(command,(item,)) # atenção a essa vírgula após \"item\", sem ela não funciona\r\n",
        "  conn.commit()\r\n",
        "  conn.close()"
      ],
      "execution_count": 29,
      "outputs": []
    },
    {
      "cell_type": "code",
      "metadata": {
        "colab": {
          "base_uri": "https://localhost:8080/"
        },
        "id": "W_7dOLse1eJC",
        "outputId": "398f8bdd-aa9f-4aeb-c774-a5ea18bdbf9a"
      },
      "source": [
        "print(view('lite2.db','store'))\r\n",
        "deleteItem('lite2.db', 'store', 'Sakê')\r\n",
        "print(view('lite2.db','store'))"
      ],
      "execution_count": 30,
      "outputs": [
        {
          "output_type": "stream",
          "text": [
            "[('Wine Glass', 10, 5.0), ('Sakê', 20, 50.0), ('Pinga', 100, 20.0)]\n",
            "[('Wine Glass', 10, 5.0), ('Pinga', 100, 20.0)]\n"
          ],
          "name": "stdout"
        }
      ]
    },
    {
      "cell_type": "code",
      "metadata": {
        "id": "TOLeXIEm2_Wy"
      },
      "source": [
        "def deleteAllItems(dbname, tabname):\r\n",
        "  conn = sqlite3.connect(dbname)\r\n",
        "  cur = conn.cursor()\r\n",
        "  command = \"DELETE FROM \"+ tabname + \";\"\r\n",
        "  cur.execute(command)\r\n",
        "  conn.commit()\r\n",
        "  conn.close()"
      ],
      "execution_count": 31,
      "outputs": []
    },
    {
      "cell_type": "code",
      "metadata": {
        "colab": {
          "base_uri": "https://localhost:8080/"
        },
        "id": "M7VugCxm3IdV",
        "outputId": "fc411eaa-5d09-4277-bf80-1cf1e8dce765"
      },
      "source": [
        "print(view('lite2.db','store'))\r\n",
        "deleteAllItems('lite2.db', 'store')\r\n",
        "print(view('lite2.db','store'))"
      ],
      "execution_count": 32,
      "outputs": [
        {
          "output_type": "stream",
          "text": [
            "[('Wine Glass', 10, 5.0), ('Pinga', 100, 20.0)]\n",
            "[]\n"
          ],
          "name": "stdout"
        }
      ]
    },
    {
      "cell_type": "code",
      "metadata": {
        "id": "20Q0z9b75PQj"
      },
      "source": [
        "def deleteTable(dbname, tabname):\r\n",
        "  conn = sqlite3.connect(dbname)\r\n",
        "  cur = conn.cursor()\r\n",
        "  command = \"DROP TABLE IF EXISTS \"+ tabname\r\n",
        "  cur.execute(command)\r\n",
        "  conn.commit()\r\n",
        "  conn.close()\r\n",
        "\r\n",
        "def showAll(dbname):\r\n",
        "  conn = sqlite3.connect(dbname)\r\n",
        "  cur = conn.cursor()\r\n",
        "  command = \"SELECT NAME FROM SQLITE_MASTER WHERE TYPE= 'table'\"\r\n",
        "  cur.execute(command)\r\n",
        "  print(cur.fetchall())\r\n",
        "  conn.close()"
      ],
      "execution_count": 33,
      "outputs": []
    },
    {
      "cell_type": "code",
      "metadata": {
        "colab": {
          "base_uri": "https://localhost:8080/"
        },
        "id": "Hi2E_JlC5oLv",
        "outputId": "6fb77ebc-49c0-41c9-962f-8e6b7e948afc"
      },
      "source": [
        "showAll('lite2.db')\r\n",
        "deleteTable('lite2.db', 'store')\r\n",
        "showAll('lite2.db')"
      ],
      "execution_count": 34,
      "outputs": [
        {
          "output_type": "stream",
          "text": [
            "[('store',)]\n",
            "[]\n"
          ],
          "name": "stdout"
        }
      ]
    }
  ]
}