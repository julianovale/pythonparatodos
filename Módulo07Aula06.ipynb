{
  "nbformat": 4,
  "nbformat_minor": 0,
  "metadata": {
    "colab": {
      "name": "Módulo07Aula06.ipynb",
      "provenance": [],
      "collapsed_sections": [],
      "authorship_tag": "ABX9TyP702v564TCYL8ww3emzxdC",
      "include_colab_link": true
    },
    "kernelspec": {
      "name": "python3",
      "display_name": "Python 3"
    }
  },
  "cells": [
    {
      "cell_type": "markdown",
      "metadata": {
        "id": "view-in-github",
        "colab_type": "text"
      },
      "source": [
        "<a href=\"https://colab.research.google.com/github/julianovale/pythonparatodos/blob/main/M%C3%B3dulo07Aula06.ipynb\" target=\"_parent\"><img src=\"https://colab.research.google.com/assets/colab-badge.svg\" alt=\"Open In Colab\"/></a>"
      ]
    },
    {
      "cell_type": "code",
      "metadata": {
        "id": "FiiMm-Bcc0RW"
      },
      "source": [
        "def sprint(simb, n):\r\n",
        "  for i in range(1,n+1,1):\r\n",
        "    print(simb,end='')\r\n",
        "  print()\r\n",
        "\r\n",
        "def bprint(men, simb = '*', n = 10): # valores default \r\n",
        "  sprint(simb,n)\r\n",
        "  print(men)\r\n",
        "  sprint(simb,n)"
      ],
      "execution_count": 6,
      "outputs": []
    },
    {
      "cell_type": "code",
      "metadata": {
        "colab": {
          "base_uri": "https://localhost:8080/"
        },
        "id": "Ri63K-h1eChW",
        "outputId": "b94a3cac-5f59-4fec-ab68-f0a5c7823393"
      },
      "source": [
        "m = 'Mensagem'\r\n",
        "s = '*'\r\n",
        "n = 10\r\n",
        "bprint(m,s,n)"
      ],
      "execution_count": 7,
      "outputs": [
        {
          "output_type": "stream",
          "text": [
            "**********\n",
            "Mensagem\n",
            "**********\n"
          ],
          "name": "stdout"
        }
      ]
    },
    {
      "cell_type": "code",
      "metadata": {
        "colab": {
          "base_uri": "https://localhost:8080/"
        },
        "id": "seMnyRA8fTd9",
        "outputId": "4105facd-2556-4f23-a558-61c3b597c7b1"
      },
      "source": [
        "bprint('lalala')"
      ],
      "execution_count": 8,
      "outputs": [
        {
          "output_type": "stream",
          "text": [
            "**********\n",
            "lalala\n",
            "**********\n"
          ],
          "name": "stdout"
        }
      ]
    },
    {
      "cell_type": "code",
      "metadata": {
        "colab": {
          "base_uri": "https://localhost:8080/"
        },
        "id": "XXjghESjfkQk",
        "outputId": "476226df-be65-46af-80f8-fc88e384d537"
      },
      "source": [
        "bprint('lalalalal','-',50)"
      ],
      "execution_count": 5,
      "outputs": [
        {
          "output_type": "stream",
          "text": [
            "--------------------------------------------------\n",
            "--------------------------------------------------\n"
          ],
          "name": "stdout"
        }
      ]
    }
  ]
}