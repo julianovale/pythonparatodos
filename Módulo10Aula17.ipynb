{
  "nbformat": 4,
  "nbformat_minor": 0,
  "metadata": {
    "colab": {
      "name": "Módulo10Aula17.ipynb",
      "provenance": [],
      "collapsed_sections": [],
      "authorship_tag": "ABX9TyO8wSENRfTqFdins9ABVVP3",
      "include_colab_link": true
    },
    "kernelspec": {
      "name": "python3",
      "display_name": "Python 3"
    }
  },
  "cells": [
    {
      "cell_type": "markdown",
      "metadata": {
        "id": "view-in-github",
        "colab_type": "text"
      },
      "source": [
        "<a href=\"https://colab.research.google.com/github/julianovale/pythonparatodos/blob/main/M%C3%B3dulo10Aula17.ipynb\" target=\"_parent\"><img src=\"https://colab.research.google.com/assets/colab-badge.svg\" alt=\"Open In Colab\"/></a>"
      ]
    },
    {
      "cell_type": "code",
      "metadata": {
        "id": "1t3lFNRUMzRJ"
      },
      "source": [
        "import pandas as pd\r\n",
        "import requests\r\n",
        "\r\n",
        "headers = {\r\n",
        "    'Content-Type': 'application/json;charset=UTF-8',\r\n",
        "    'User-Agent': 'google-colab',\r\n",
        "    'Accept': 'application/json, text/plain, */*',\r\n",
        "    'Accept-Encoding': 'gzip, deflate, br',\r\n",
        "    'Accept-Language': 'pt-BR,pt;q=0.9,en-US;q=0.8,en;q=0.7',\r\n",
        "    'Connection': 'keep-alive',\r\n",
        "}"
      ],
      "execution_count": 8,
      "outputs": []
    },
    {
      "cell_type": "markdown",
      "metadata": {
        "id": "j7Txqr0_b28v"
      },
      "source": [
        "Ver o endereço: https://servicodados.ibge.gov.br/api/v1/localidades/estados/35/municipios"
      ]
    },
    {
      "cell_type": "code",
      "metadata": {
        "colab": {
          "base_uri": "https://localhost:8080/",
          "height": 419
        },
        "id": "yrWtwBKSbhjZ",
        "outputId": "f90289a9-4d8b-429e-8147-6d09e20efe49"
      },
      "source": [
        "districts = requests.get(\"https://servicodados.ibge.gov.br/api/v1/localidades/estados/35/municipios\", headers=headers).json()\r\n",
        "\r\n",
        "nome_sp = [municipios[\"nome\"] for municipios in districts]\r\n",
        "id_sp   = [municipios[\"id\"] for municipios in districts]\r\n",
        "data_sp = pd.DataFrame.from_dict({'ID':id_sp,'MUNICIPIOS':nome_sp})\r\n",
        "data_sp"
      ],
      "execution_count": 9,
      "outputs": [
        {
          "output_type": "execute_result",
          "data": {
            "text/html": [
              "<div>\n",
              "<style scoped>\n",
              "    .dataframe tbody tr th:only-of-type {\n",
              "        vertical-align: middle;\n",
              "    }\n",
              "\n",
              "    .dataframe tbody tr th {\n",
              "        vertical-align: top;\n",
              "    }\n",
              "\n",
              "    .dataframe thead th {\n",
              "        text-align: right;\n",
              "    }\n",
              "</style>\n",
              "<table border=\"1\" class=\"dataframe\">\n",
              "  <thead>\n",
              "    <tr style=\"text-align: right;\">\n",
              "      <th></th>\n",
              "      <th>ID</th>\n",
              "      <th>MUNICIPIOS</th>\n",
              "    </tr>\n",
              "  </thead>\n",
              "  <tbody>\n",
              "    <tr>\n",
              "      <th>0</th>\n",
              "      <td>3500105</td>\n",
              "      <td>Adamantina</td>\n",
              "    </tr>\n",
              "    <tr>\n",
              "      <th>1</th>\n",
              "      <td>3500204</td>\n",
              "      <td>Adolfo</td>\n",
              "    </tr>\n",
              "    <tr>\n",
              "      <th>2</th>\n",
              "      <td>3500303</td>\n",
              "      <td>Aguaí</td>\n",
              "    </tr>\n",
              "    <tr>\n",
              "      <th>3</th>\n",
              "      <td>3500402</td>\n",
              "      <td>Águas da Prata</td>\n",
              "    </tr>\n",
              "    <tr>\n",
              "      <th>4</th>\n",
              "      <td>3500501</td>\n",
              "      <td>Águas de Lindóia</td>\n",
              "    </tr>\n",
              "    <tr>\n",
              "      <th>...</th>\n",
              "      <td>...</td>\n",
              "      <td>...</td>\n",
              "    </tr>\n",
              "    <tr>\n",
              "      <th>640</th>\n",
              "      <td>3557006</td>\n",
              "      <td>Votorantim</td>\n",
              "    </tr>\n",
              "    <tr>\n",
              "      <th>641</th>\n",
              "      <td>3557105</td>\n",
              "      <td>Votuporanga</td>\n",
              "    </tr>\n",
              "    <tr>\n",
              "      <th>642</th>\n",
              "      <td>3557154</td>\n",
              "      <td>Zacarias</td>\n",
              "    </tr>\n",
              "    <tr>\n",
              "      <th>643</th>\n",
              "      <td>3557204</td>\n",
              "      <td>Chavantes</td>\n",
              "    </tr>\n",
              "    <tr>\n",
              "      <th>644</th>\n",
              "      <td>3557303</td>\n",
              "      <td>Estiva Gerbi</td>\n",
              "    </tr>\n",
              "  </tbody>\n",
              "</table>\n",
              "<p>645 rows × 2 columns</p>\n",
              "</div>"
            ],
            "text/plain": [
              "          ID        MUNICIPIOS\n",
              "0    3500105        Adamantina\n",
              "1    3500204            Adolfo\n",
              "2    3500303             Aguaí\n",
              "3    3500402    Águas da Prata\n",
              "4    3500501  Águas de Lindóia\n",
              "..       ...               ...\n",
              "640  3557006        Votorantim\n",
              "641  3557105       Votuporanga\n",
              "642  3557154          Zacarias\n",
              "643  3557204         Chavantes\n",
              "644  3557303      Estiva Gerbi\n",
              "\n",
              "[645 rows x 2 columns]"
            ]
          },
          "metadata": {
            "tags": []
          },
          "execution_count": 9
        }
      ]
    }
  ]
}