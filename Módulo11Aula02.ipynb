{
  "nbformat": 4,
  "nbformat_minor": 0,
  "metadata": {
    "colab": {
      "name": "Módulo11Aula02.ipynb",
      "provenance": [],
      "collapsed_sections": [],
      "authorship_tag": "ABX9TyNZMsRqCN+CpFRpsX7BqsEy",
      "include_colab_link": true
    },
    "kernelspec": {
      "name": "python3",
      "display_name": "Python 3"
    }
  },
  "cells": [
    {
      "cell_type": "markdown",
      "metadata": {
        "id": "view-in-github",
        "colab_type": "text"
      },
      "source": [
        "<a href=\"https://colab.research.google.com/github/julianovale/pythonparatodos/blob/main/M%C3%B3dulo11Aula02.ipynb\" target=\"_parent\"><img src=\"https://colab.research.google.com/assets/colab-badge.svg\" alt=\"Open In Colab\"/></a>"
      ]
    },
    {
      "cell_type": "code",
      "metadata": {
        "id": "grBE2kbC43yM"
      },
      "source": [
        "import sqlite3"
      ],
      "execution_count": 4,
      "outputs": []
    },
    {
      "cell_type": "code",
      "metadata": {
        "id": "KrH2KucZ7igD"
      },
      "source": [
        "conn = sqlite3.connect('lite1.db')\r\n",
        "cur  = conn.cursor()\r\n",
        "cur.execute('CREATE TABLE IF NOT EXISTS store (item TEXT, quantidade INTEGER, price REAL)')\r\n",
        "conn.commit()\r\n",
        "conn.close()"
      ],
      "execution_count": 5,
      "outputs": []
    },
    {
      "cell_type": "code",
      "metadata": {
        "colab": {
          "base_uri": "https://localhost:8080/"
        },
        "id": "CyOaRLo57knC",
        "outputId": "2484cd65-9c7b-40b6-ea21-0a040f935fb3"
      },
      "source": [
        "!pwd # comandos no google drive como se fosse um prompt de comando\r\n",
        "!ls"
      ],
      "execution_count": 6,
      "outputs": [
        {
          "output_type": "stream",
          "text": [
            "/content\n",
            "lite1.db  sample_data\n"
          ],
          "name": "stdout"
        }
      ]
    }
  ]
}