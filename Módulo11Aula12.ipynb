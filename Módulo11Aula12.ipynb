{
  "nbformat": 4,
  "nbformat_minor": 0,
  "metadata": {
    "colab": {
      "name": "Módulo11Aula12.ipynb",
      "provenance": [],
      "collapsed_sections": [],
      "authorship_tag": "ABX9TyPuUUfNlmHfTDGrx1Ez2P8X",
      "include_colab_link": true
    },
    "kernelspec": {
      "name": "python3",
      "display_name": "Python 3"
    }
  },
  "cells": [
    {
      "cell_type": "markdown",
      "metadata": {
        "id": "view-in-github",
        "colab_type": "text"
      },
      "source": [
        "<a href=\"https://colab.research.google.com/github/julianovale/pythonparatodos/blob/main/M%C3%B3dulo11Aula12.ipynb\" target=\"_parent\"><img src=\"https://colab.research.google.com/assets/colab-badge.svg\" alt=\"Open In Colab\"/></a>"
      ]
    },
    {
      "cell_type": "code",
      "metadata": {
        "id": "5M-DP1n-il83"
      },
      "source": [
        "import sqlite3"
      ],
      "execution_count": 35,
      "outputs": []
    },
    {
      "cell_type": "code",
      "metadata": {
        "id": "s0oNJEfgirHX"
      },
      "source": [
        "def create_table(dbname):\r\n",
        "  conn = sqlite3.connect(dbname)\r\n",
        "  cur = conn.cursor()\r\n",
        "  cur.execute(\"CREATE TABLE IF NOT EXISTS store(item TEXT, quantity INTEGER, price REAL)\")\r\n",
        "  conn.commit()\r\n",
        "  conn.close()\r\n",
        "\r\n",
        "def view(dbname,tabname):\r\n",
        "  conn = sqlite3.connect(dbname)\r\n",
        "  cur = conn.cursor()\r\n",
        "  command = \"SELECT * FROM \"+tabname\r\n",
        "  cur.execute(command)\r\n",
        "  rows = cur.fetchall()\r\n",
        "  conn.close()\r\n",
        "  return rows\r\n",
        "\r\n",
        "def insert(dbname, tabname, item, quantity, price):\r\n",
        "  conn = sqlite3.connect(dbname)\r\n",
        "  cur = conn.cursor()\r\n",
        "  command = \"INSERT INTO \"+tabname+\" VALUES(?,?,?)\"\r\n",
        "  cur.execute(command,(item, quantity, price))\r\n",
        "  conn.commit()\r\n",
        "  conn.close()"
      ],
      "execution_count": 36,
      "outputs": []
    },
    {
      "cell_type": "code",
      "metadata": {
        "colab": {
          "base_uri": "https://localhost:8080/"
        },
        "id": "zuvJiOGrkHCt",
        "outputId": "9182dcd6-8c18-4be5-a3c5-297141c2540d"
      },
      "source": [
        "create_table(\"lite2.db\")\r\n",
        "insert(\"lite2.db\",\"store\",\"Wine Glass\", 10, 5)\r\n",
        "print(view(\"lite2.db\",\"store\"))"
      ],
      "execution_count": 37,
      "outputs": [
        {
          "output_type": "stream",
          "text": [
            "[('Wine Glass', 10, 5.0)]\n"
          ],
          "name": "stdout"
        }
      ]
    },
    {
      "cell_type": "code",
      "metadata": {
        "colab": {
          "base_uri": "https://localhost:8080/"
        },
        "id": "dulZrVDgn2SK",
        "outputId": "3239482f-c855-4995-dccc-2b1c31ce0b3e"
      },
      "source": [
        "!pwd\r\n",
        "!ls"
      ],
      "execution_count": 38,
      "outputs": [
        {
          "output_type": "stream",
          "text": [
            "/content\n",
            "lite2.db  sample_data\n"
          ],
          "name": "stdout"
        }
      ]
    },
    {
      "cell_type": "code",
      "metadata": {
        "id": "5K2PW8aQpmyB"
      },
      "source": [
        "import pandas as pd"
      ],
      "execution_count": 39,
      "outputs": []
    },
    {
      "cell_type": "code",
      "metadata": {
        "id": "LiuHQZkpoCVL"
      },
      "source": [
        "def tab2df(dbname, tabname):\r\n",
        "  conn = sqlite3.connect(dbname)\r\n",
        "  command = \"SELECT * FROM \" + tabname\r\n",
        "  df = pd.read_sql_query(command, conn)\r\n",
        "  conn.close()\r\n",
        "  return df"
      ],
      "execution_count": 40,
      "outputs": []
    },
    {
      "cell_type": "code",
      "metadata": {
        "colab": {
          "base_uri": "https://localhost:8080/",
          "height": 80
        },
        "id": "x8kQI96lpSAF",
        "outputId": "221c35c2-0ec7-4ded-a86e-c4a471ca40b4"
      },
      "source": [
        "df1 = tab2df('lite2.db', 'store')\r\n",
        "df1"
      ],
      "execution_count": 41,
      "outputs": [
        {
          "output_type": "execute_result",
          "data": {
            "text/html": [
              "<div>\n",
              "<style scoped>\n",
              "    .dataframe tbody tr th:only-of-type {\n",
              "        vertical-align: middle;\n",
              "    }\n",
              "\n",
              "    .dataframe tbody tr th {\n",
              "        vertical-align: top;\n",
              "    }\n",
              "\n",
              "    .dataframe thead th {\n",
              "        text-align: right;\n",
              "    }\n",
              "</style>\n",
              "<table border=\"1\" class=\"dataframe\">\n",
              "  <thead>\n",
              "    <tr style=\"text-align: right;\">\n",
              "      <th></th>\n",
              "      <th>item</th>\n",
              "      <th>quantity</th>\n",
              "      <th>price</th>\n",
              "    </tr>\n",
              "  </thead>\n",
              "  <tbody>\n",
              "    <tr>\n",
              "      <th>0</th>\n",
              "      <td>Wine Glass</td>\n",
              "      <td>10</td>\n",
              "      <td>5.0</td>\n",
              "    </tr>\n",
              "  </tbody>\n",
              "</table>\n",
              "</div>"
            ],
            "text/plain": [
              "         item  quantity  price\n",
              "0  Wine Glass        10    5.0"
            ]
          },
          "metadata": {
            "tags": []
          },
          "execution_count": 41
        }
      ]
    },
    {
      "cell_type": "code",
      "metadata": {
        "id": "gNjmUXSiqTC-"
      },
      "source": [
        "def addData(df1):\r\n",
        "  products = ['Sakê', 'Pinga']\r\n",
        "  quantity = [20, 100]\r\n",
        "  price = [50.0, 20.0]\r\n",
        "  \r\n",
        "  cont = 0\r\n",
        "  for i,j,k in zip(products,quantity,price):\r\n",
        "    df1.loc[cont] = [i, j, k]\r\n",
        "    cont += 1\r\n",
        "  \r\n",
        "  return df1"
      ],
      "execution_count": 42,
      "outputs": []
    },
    {
      "cell_type": "code",
      "metadata": {
        "colab": {
          "base_uri": "https://localhost:8080/",
          "height": 111
        },
        "id": "389FRrdlrhqh",
        "outputId": "df2649ea-8a3a-4515-eea2-7953a7aabb28"
      },
      "source": [
        "addData(df1)"
      ],
      "execution_count": 43,
      "outputs": [
        {
          "output_type": "execute_result",
          "data": {
            "text/html": [
              "<div>\n",
              "<style scoped>\n",
              "    .dataframe tbody tr th:only-of-type {\n",
              "        vertical-align: middle;\n",
              "    }\n",
              "\n",
              "    .dataframe tbody tr th {\n",
              "        vertical-align: top;\n",
              "    }\n",
              "\n",
              "    .dataframe thead th {\n",
              "        text-align: right;\n",
              "    }\n",
              "</style>\n",
              "<table border=\"1\" class=\"dataframe\">\n",
              "  <thead>\n",
              "    <tr style=\"text-align: right;\">\n",
              "      <th></th>\n",
              "      <th>item</th>\n",
              "      <th>quantity</th>\n",
              "      <th>price</th>\n",
              "    </tr>\n",
              "  </thead>\n",
              "  <tbody>\n",
              "    <tr>\n",
              "      <th>0</th>\n",
              "      <td>Sakê</td>\n",
              "      <td>20</td>\n",
              "      <td>50.0</td>\n",
              "    </tr>\n",
              "    <tr>\n",
              "      <th>1</th>\n",
              "      <td>Pinga</td>\n",
              "      <td>100</td>\n",
              "      <td>20.0</td>\n",
              "    </tr>\n",
              "  </tbody>\n",
              "</table>\n",
              "</div>"
            ],
            "text/plain": [
              "    item  quantity  price\n",
              "0   Sakê        20   50.0\n",
              "1  Pinga       100   20.0"
            ]
          },
          "metadata": {
            "tags": []
          },
          "execution_count": 43
        }
      ]
    }
  ]
}