{
  "nbformat": 4,
  "nbformat_minor": 0,
  "metadata": {
    "colab": {
      "name": "Módulo07Aula05.ipynb",
      "provenance": [],
      "collapsed_sections": [],
      "authorship_tag": "ABX9TyN3518HfUJztEQve7Juq85K",
      "include_colab_link": true
    },
    "kernelspec": {
      "name": "python3",
      "display_name": "Python 3"
    }
  },
  "cells": [
    {
      "cell_type": "markdown",
      "metadata": {
        "id": "view-in-github",
        "colab_type": "text"
      },
      "source": [
        "<a href=\"https://colab.research.google.com/github/julianovale/pythonparatodos/blob/main/M%C3%B3dulo07Aula05.ipynb\" target=\"_parent\"><img src=\"https://colab.research.google.com/assets/colab-badge.svg\" alt=\"Open In Colab\"/></a>"
      ]
    },
    {
      "cell_type": "code",
      "metadata": {
        "id": "FiiMm-Bcc0RW"
      },
      "source": [
        "def bprint(men, simb = '*', n = 10): # valores default \r\n",
        "  for i in range(1,n+1,1):\r\n",
        "    print(simb,end='')\r\n",
        "  print()\r\n",
        "  print(men)\r\n",
        "  for i in range(1,n+1,1):\r\n",
        "    print(simb,end='')\r\n",
        "  print()"
      ],
      "execution_count": 3,
      "outputs": []
    },
    {
      "cell_type": "code",
      "metadata": {
        "colab": {
          "base_uri": "https://localhost:8080/"
        },
        "id": "Ri63K-h1eChW",
        "outputId": "c40c3bb8-6060-424d-ef74-48eaf5ecd131"
      },
      "source": [
        "m = 'Mensagem'\r\n",
        "s = '*'\r\n",
        "n = 10\r\n",
        "bprint(m,s,n)"
      ],
      "execution_count": 4,
      "outputs": [
        {
          "output_type": "stream",
          "text": [
            "**********\n",
            "Mensagem\n",
            "**********\n"
          ],
          "name": "stdout"
        }
      ]
    },
    {
      "cell_type": "code",
      "metadata": {
        "colab": {
          "base_uri": "https://localhost:8080/"
        },
        "id": "seMnyRA8fTd9",
        "outputId": "efdcdcdb-d585-41e7-b63e-445701b70662"
      },
      "source": [
        "bprint('lalala')"
      ],
      "execution_count": 8,
      "outputs": [
        {
          "output_type": "stream",
          "text": [
            "**********\n",
            "lalala\n",
            "**********\n"
          ],
          "name": "stdout"
        }
      ]
    },
    {
      "cell_type": "code",
      "metadata": {
        "colab": {
          "base_uri": "https://localhost:8080/"
        },
        "id": "XXjghESjfkQk",
        "outputId": "025143a3-5181-4eba-fcba-23db143be1e9"
      },
      "source": [
        "bprint('lalalalal','-',50)"
      ],
      "execution_count": 9,
      "outputs": [
        {
          "output_type": "stream",
          "text": [
            "--------------------------------------------------\n",
            "lalalalal\n",
            "--------------------------------------------------\n"
          ],
          "name": "stdout"
        }
      ]
    }
  ]
}