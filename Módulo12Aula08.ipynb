{
  "nbformat": 4,
  "nbformat_minor": 0,
  "metadata": {
    "colab": {
      "name": "Módulo12Aula08.ipynb",
      "provenance": [],
      "collapsed_sections": [],
      "authorship_tag": "ABX9TyNVnp88Kz6MOllOM81pTEHb",
      "include_colab_link": true
    },
    "kernelspec": {
      "name": "python3",
      "display_name": "Python 3"
    }
  },
  "cells": [
    {
      "cell_type": "markdown",
      "metadata": {
        "id": "view-in-github",
        "colab_type": "text"
      },
      "source": [
        "<a href=\"https://colab.research.google.com/github/julianovale/pythonparatodos/blob/main/M%C3%B3dulo12Aula08.ipynb\" target=\"_parent\"><img src=\"https://colab.research.google.com/assets/colab-badge.svg\" alt=\"Open In Colab\"/></a>"
      ]
    },
    {
      "cell_type": "code",
      "metadata": {
        "id": "560-Kp0JJ-Bc"
      },
      "source": [
        "class A:\r\n",
        "  def __init__(self,x):\r\n",
        "    self.__x = x\r\n",
        "  \r\n",
        "  def fun(self):\r\n",
        "    print('Public: Método A: fun, x = ', self.__x)\r\n",
        "\r\n",
        "  def _fun(self):\r\n",
        "    print('Protected: Método A: _fun, x = ', self.__x)\r\n",
        "\r\n",
        "  def __fun(self):\r\n",
        "    print('Private: Método A: __fun, x = ', self.__x)\r\n",
        "\r\n",
        "  def mPrivate(self):\r\n",
        "    self.__fun()"
      ],
      "execution_count": 27,
      "outputs": []
    },
    {
      "cell_type": "code",
      "metadata": {
        "id": "KA76FhoHKpg5"
      },
      "source": [
        "obj = A(1)"
      ],
      "execution_count": 28,
      "outputs": []
    },
    {
      "cell_type": "code",
      "metadata": {
        "colab": {
          "base_uri": "https://localhost:8080/"
        },
        "id": "_xfWGfI1Lsmg",
        "outputId": "d8928e3f-0a58-4f72-c6cc-e52d0de8b679"
      },
      "source": [
        "# Método public\r\n",
        "obj.fun()"
      ],
      "execution_count": 29,
      "outputs": [
        {
          "output_type": "stream",
          "text": [
            "Public: Método A: fun, x =  1\n"
          ],
          "name": "stdout"
        }
      ]
    },
    {
      "cell_type": "code",
      "metadata": {
        "colab": {
          "base_uri": "https://localhost:8080/"
        },
        "id": "nbT-Sj7VLzZO",
        "outputId": "e824ff11-aff2-44cb-b49b-da66bd3262dc"
      },
      "source": [
        "# Método protected\r\n",
        "obj._fun()"
      ],
      "execution_count": 30,
      "outputs": [
        {
          "output_type": "stream",
          "text": [
            "Protected: Método A: _fun, x =  1\n"
          ],
          "name": "stdout"
        }
      ]
    },
    {
      "cell_type": "code",
      "metadata": {
        "colab": {
          "base_uri": "https://localhost:8080/",
          "height": 180
        },
        "id": "fRbFxWtPL3Io",
        "outputId": "763cd05f-ed24-43ca-9fd9-bf7b2512d413"
      },
      "source": [
        "# Método private\r\n",
        "obj.__fun() # não posso chamar aqui... só um método dentro da classe pode chamá-lo"
      ],
      "execution_count": 31,
      "outputs": [
        {
          "output_type": "error",
          "ename": "AttributeError",
          "evalue": "ignored",
          "traceback": [
            "\u001b[0;31m---------------------------------------------------------------------------\u001b[0m",
            "\u001b[0;31mAttributeError\u001b[0m                            Traceback (most recent call last)",
            "\u001b[0;32m<ipython-input-31-1a0ce664ee80>\u001b[0m in \u001b[0;36m<module>\u001b[0;34m()\u001b[0m\n\u001b[1;32m      1\u001b[0m \u001b[0;31m# Método private\u001b[0m\u001b[0;34m\u001b[0m\u001b[0;34m\u001b[0m\u001b[0;34m\u001b[0m\u001b[0m\n\u001b[0;32m----> 2\u001b[0;31m \u001b[0mobj\u001b[0m\u001b[0;34m.\u001b[0m\u001b[0m__fun\u001b[0m\u001b[0;34m(\u001b[0m\u001b[0;34m)\u001b[0m \u001b[0;31m# não posso chamar aqui... só um método dentro da classe pode chamá-lo\u001b[0m\u001b[0;34m\u001b[0m\u001b[0;34m\u001b[0m\u001b[0m\n\u001b[0m",
            "\u001b[0;31mAttributeError\u001b[0m: 'A' object has no attribute '__fun'"
          ]
        }
      ]
    },
    {
      "cell_type": "code",
      "metadata": {
        "colab": {
          "base_uri": "https://localhost:8080/"
        },
        "id": "xa886Ax9Md_H",
        "outputId": "4915accc-c4ba-445b-9369-943f4817fca1"
      },
      "source": [
        "obj.mPrivate()"
      ],
      "execution_count": 32,
      "outputs": [
        {
          "output_type": "stream",
          "text": [
            "Private: Método A: __fun, x =  1\n"
          ],
          "name": "stdout"
        }
      ]
    }
  ]
}