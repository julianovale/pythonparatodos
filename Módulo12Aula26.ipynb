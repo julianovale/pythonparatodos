{
  "nbformat": 4,
  "nbformat_minor": 0,
  "metadata": {
    "colab": {
      "name": "Módulo12Aula26.ipynb",
      "provenance": [],
      "collapsed_sections": [],
      "authorship_tag": "ABX9TyOvlsbstbpR39/O+Y4ET+hk",
      "include_colab_link": true
    },
    "kernelspec": {
      "name": "python3",
      "display_name": "Python 3"
    }
  },
  "cells": [
    {
      "cell_type": "markdown",
      "metadata": {
        "id": "view-in-github",
        "colab_type": "text"
      },
      "source": [
        "<a href=\"https://colab.research.google.com/github/julianovale/pythonparatodos/blob/main/M%C3%B3dulo12Aula26.ipynb\" target=\"_parent\"><img src=\"https://colab.research.google.com/assets/colab-badge.svg\" alt=\"Open In Colab\"/></a>"
      ]
    },
    {
      "cell_type": "code",
      "metadata": {
        "id": "y_JCk91qJ8sh"
      },
      "source": [
        "import sys"
      ],
      "execution_count": 3,
      "outputs": []
    },
    {
      "cell_type": "code",
      "metadata": {
        "colab": {
          "base_uri": "https://localhost:8080/"
        },
        "id": "hDXbl3ADJakI",
        "outputId": "465a250c-760d-43c2-fb50-cfe336231041"
      },
      "source": [
        "def linux():\r\n",
        "  assert('linux' in sys.platform), \"Esta função só funciona em linux\"\r\n",
        "\r\n",
        "try:\r\n",
        "  linux()\r\n",
        "  print(\"Sucesso: estamos no linux\")\r\n",
        "except AssertionError as error:\r\n",
        "  print(error)\r\n",
        "  print(\"A função linux() não funcionou\")\r\n",
        "else:\r\n",
        "  try:\r\n",
        "    print('Tentando operação de divisão')\r\n",
        "    print(0/0)\r\n",
        "  except ZeroDivisionError as error:\r\n",
        "    print(\"Erro de divisão por zero\")\r\n",
        "  finally:\r\n",
        "    print('Operação de divisão')\r\n",
        "finally:\r\n",
        "    print(\"Sempre é executado\")"
      ],
      "execution_count": 11,
      "outputs": [
        {
          "output_type": "stream",
          "text": [
            "Sucesso: estamos no linux\n",
            "Tentando operação de divisão\n",
            "Erro de divisão por zero\n",
            "Operação de divisão\n",
            "Sempre é executado\n"
          ],
          "name": "stdout"
        }
      ]
    },
    {
      "cell_type": "code",
      "metadata": {
        "id": "pqoubKx0J4u7"
      },
      "source": [
        "linux()"
      ],
      "execution_count": 6,
      "outputs": []
    }
  ]
}