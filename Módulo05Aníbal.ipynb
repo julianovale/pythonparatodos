{
  "nbformat": 4,
  "nbformat_minor": 0,
  "metadata": {
    "colab": {
      "name": "Módulo05Aníbal.ipynb",
      "provenance": [],
      "collapsed_sections": [],
      "include_colab_link": true
    },
    "kernelspec": {
      "name": "python3",
      "display_name": "Python 3"
    }
  },
  "cells": [
    {
      "cell_type": "markdown",
      "metadata": {
        "id": "view-in-github",
        "colab_type": "text"
      },
      "source": [
        "<a href=\"https://colab.research.google.com/github/julianovale/pythonparatodos/blob/main/M%C3%B3dulo05An%C3%ADbal.ipynb\" target=\"_parent\"><img src=\"https://colab.research.google.com/assets/colab-badge.svg\" alt=\"Open In Colab\"/></a>"
      ]
    },
    {
      "cell_type": "markdown",
      "metadata": {
        "id": "IE2ZIxrvbaVU",
        "colab_type": "toc"
      },
      "source": [
        ">[Verificando seu conhecimento](#scrollTo=9mRyclIUbclb)\n",
        "\n",
        ">[Tipos lógicos](#scrollTo=XmA7413rHrXv)\n",
        "\n",
        ">[Utilizando tipos lógicos para controlar o fluxo do programa](#scrollTo=5-7xpXCALF2W)\n",
        "\n",
        ">[Utilizando os comandos if e else](#scrollTo=EJNJ5scxNC3T)\n",
        "\n",
        ">[If-else encadeados: Elif](#scrollTo=TnxfpZ2CCja5)\n",
        "\n",
        ">[Combinando entrada de dados com if-else](#scrollTo=2jwQqLiRHhTu)\n",
        "\n",
        ">[Combinando condições lógicas](#scrollTo=G3-gWaGjCa_J)\n",
        "\n",
        ">[Mini-projeto: Calcule seu imposto de renda com if-else e dicionários](#scrollTo=hxDn8LeAQVYS)\n",
        "\n",
        ">[Resumo desta Seção](#scrollTo=ta6LkEpNAxkX)\n",
        "\n"
      ]
    },
    {
      "cell_type": "markdown",
      "metadata": {
        "id": "9mRyclIUbclb"
      },
      "source": [
        "# 0. Verificando seu conhecimento\n",
        "\n",
        "Se conseguir realizar o Mini-projeto de cálculo de imposto de renda para pessoa física, então, você pode ignorar o conteúdo dessa seção."
      ]
    },
    {
      "cell_type": "markdown",
      "metadata": {
        "id": "XmA7413rHrXv"
      },
      "source": [
        "# 1. Tipos lógicos\n",
        "\n",
        "Existe um tipo básico que pode assumir apenas dois valores: **'True'** ou **'False'**. Esse tipo pode aparecer como resultado da avaliação de um **sentença lógica**. Exemplos de sentença lógica são:\n",
        "\n",
        "1. Verificar se o valor contido em x1 é maior que o valor contido em x2: **(x1 > x2)**;\n",
        "2. Verificar se o valor contido em x1 é menor que o valor contido em x2: **(x1 < x2)**;\n",
        "3. Verificar se o valor contido em x1 é maior ou igual que o valor contido em x2: **(x1 >= x2)**;\n",
        "4. Verificar se o valor contido em x1 é maior ou igual que o valor contido em x2: **(x1 >= x2)**;\n",
        "5. Verificar se o valor contido em x1 é igual ao valor contido em x2: **(x1 == x2)**;\n",
        "6. Verificar se o valor contido em x1 é diferente do valor contido em x2: **(x1 != x2)**;\n"
      ]
    },
    {
      "cell_type": "code",
      "metadata": {
        "id": "-RyGX6OXHn5t",
        "colab": {
          "base_uri": "https://localhost:8080/",
          "height": 85
        },
        "outputId": "36257274-5e76-499c-a395-5195ff01d0fa"
      },
      "source": [
        "x1 = 1\n",
        "x2 = 2\n",
        "\n",
        "print(\"x1 > x2: \" +str(x1 > x2))\n",
        "print(\"x1 < x2: \" +str(x1 < x2))\n",
        "print(\"x1 == x2: \" +str(x1 == x2))\n",
        "print(\"x1 != x2: \" +str(x1 != x2))"
      ],
      "execution_count": null,
      "outputs": [
        {
          "output_type": "stream",
          "text": [
            "x1 > x2: False\n",
            "x1 < x2: True\n",
            "x1 == x2: False\n",
            "x1 != x2: True\n"
          ],
          "name": "stdout"
        }
      ]
    },
    {
      "cell_type": "markdown",
      "metadata": {
        "id": "5-7xpXCALF2W"
      },
      "source": [
        "# 2. Utilizando tipos lógicos para controlar o fluxo do programa\n",
        "\n",
        "A avaliação de expressões lógicas é útil para permitir que um programa de computador seja capaz de tomar ações diferentes de acordo com o valor contido em uma variável. \n",
        "\n",
        "Por exemplo, imagine que uma **variável mede a temperatura de um ambiente** e que o **ar-condicionado** deverá ser **ligado** ou **desligado** de acordo com o valor obtido. \n",
        "\n",
        "O **primeiro passo** para realizar um programa que faça um controle adequado é utilizar a **avaliação de expressões lógicas**.\n",
        "\n",
        "O **segundo passo** é utilizar um **comando** que **modifica** o **fluxo** de execução das **instruções** a serem realizadas a partir do resultado da **avaliação** da expressão **lógica**. Esse comando é o comando **if**. O comando **if** segue a seguinte estrutura:\n",
        "\n",
        "**if** (expressao_logica):\n",
        "\n",
        "   * comando1\n",
        "\n",
        "   * comando2  \n",
        "\n",
        "**Importante**: ressaltar que após a expressão lógica deverá haver o símbolo ':'. Além disso, os comandos após o **if** deverão ter um recuo para indicar que só serão executados caso a expressão lógica seja verdadeira, isto é, estão no escopo do comando **if**."
      ]
    },
    {
      "cell_type": "code",
      "metadata": {
        "id": "1hyVuHfaMBR0",
        "colab": {
          "base_uri": "https://localhost:8080/",
          "height": 51
        },
        "outputId": "ce8a54dd-5300-4055-e7c5-ca07b4a445f1"
      },
      "source": [
        "temperatura = 30\n",
        "\n",
        "# Obtendo o resultado do teste lógico e armazenando na variável teste.\n",
        "teste = (temperatura > 25)\n",
        "if (teste == True):\n",
        "  print('1: Ligar o ar-condicionado')\n",
        "\n",
        "# Forma mais compacta de avaliação da expressão lógica.\n",
        "if (temperatura > 25):\n",
        "  print('2: Ligar o ar-condicionado')"
      ],
      "execution_count": null,
      "outputs": [
        {
          "output_type": "stream",
          "text": [
            "1: Ligar o ar-condicionado\n",
            "2: Ligar o ar-condicionado\n"
          ],
          "name": "stdout"
        }
      ]
    },
    {
      "cell_type": "markdown",
      "metadata": {
        "id": "EJNJ5scxNC3T"
      },
      "source": [
        "# 3. Utilizando os comandos **if** e **else**\n",
        "\n",
        "O comando **if** sempre supõe a execução dos comandos subsequentes dentro do seu escopo caso a expressão lógica seja verdadeira. Para o caso no qual a expressão lógica é falsa, e deseja-se executar outros comandos, usa-se o comando **else**. Um exemplo de estrutura é dado por:\n",
        "\n",
        "**if** (expressao_logica):\n",
        "* comando1\n",
        "* comando2\n",
        "\n",
        "**else**: **#subentende-se que a expressão lógica avaliada pelo if é falsa**\n",
        "* comando3\n",
        "* comando4"
      ]
    },
    {
      "cell_type": "code",
      "metadata": {
        "id": "jTSMGC_8PdQV",
        "colab": {
          "base_uri": "https://localhost:8080/",
          "height": 68
        },
        "outputId": "4ae8d08b-5de6-444e-8507-e76b56e22749"
      },
      "source": [
        "temperatura = 30\n",
        "\n",
        "if (temperatura > 25):\n",
        "  print(\"1: Ar-condicionado ligado\")\n",
        "  temperatura = 20\n",
        "else:\n",
        "  print(\"1: Temperatura = \" + str(temperatura))\n",
        "  print(\"1: Ar-condicionado desligado\")\n",
        "\n",
        "if (temperatura > 25):\n",
        "  print(\"2: Ar-condicionado ligado\")\n",
        "  temperatura = 20\n",
        "else:\n",
        "  print(\"2: Temperatura = \" + str(temperatura))\n",
        "  print(\"2: Ar-condicionado desligado\")"
      ],
      "execution_count": null,
      "outputs": [
        {
          "output_type": "stream",
          "text": [
            "1: Ar-condicionado ligado\n",
            "2: Temperatura = 20\n",
            "2: Ar-condicionado desligado\n"
          ],
          "name": "stdout"
        }
      ]
    },
    {
      "cell_type": "markdown",
      "metadata": {
        "id": "TnxfpZ2CCja5"
      },
      "source": [
        "# 4. If-else encadeados: Elif\n",
        "\n",
        "A partir de uma expressão lógica podem ocorrer múltiplos casos de valores e para cada um, uma ação diferente pode ser necessária. Por exemplo, seja o exemplo do ar-condicionado dado anteriormente. Deseja-se criar uma espécie de controle dependente da temperatura ambiente de acordo com a Tabela 1:\n",
        "\n",
        "> Temperatura | Ação\n",
        ">--- | ---\n",
        ">  20  | desligar\n",
        ">  25  | ligar potência fraca \n",
        ">  30  | ligar na potência máxima\n",
        "Tabela 1: Resumo temperaturas e ações.\n",
        "\n",
        "O comando **elif** funciona de modo a eliminar a necessidade de **if-else** aninhados. Por exemplo, o código dado por:\n",
        "\n",
        ">**if** (cond1):\n",
        "\n",
        ">**else**:\n",
        ">>**if** (cond2):\n",
        "\n",
        ">>**else**: \n",
        "\n",
        "Pode ser trocado por:\n",
        "\n",
        ">**if** (cond1):\n",
        "\n",
        ">**elif** (cond2):\n",
        "\n",
        ">**else**: \n",
        "\n"
      ]
    },
    {
      "cell_type": "code",
      "metadata": {
        "id": "KRgPj_qpGG4H",
        "colab": {
          "base_uri": "https://localhost:8080/",
          "height": 34
        },
        "outputId": "6859d6fd-ad88-4631-a8f1-89ab731fd183"
      },
      "source": [
        "temp = 20\n",
        "\n",
        "if (temp <= 20):\n",
        "  acao = \"desligar\"\n",
        "elif (temp <= 25):\n",
        "  acao = \"ligar na potência fraca\"\n",
        "else:\n",
        "  acao = \"ligar na potência máxima\"\n",
        "\n",
        "print(acao)"
      ],
      "execution_count": null,
      "outputs": [
        {
          "output_type": "stream",
          "text": [
            "desligar\n"
          ],
          "name": "stdout"
        }
      ]
    },
    {
      "cell_type": "markdown",
      "metadata": {
        "id": "2jwQqLiRHhTu"
      },
      "source": [
        "# 5. Combinando entrada de dados com if-else\n",
        "\n",
        "Os comandos **if-else** podem ser combinados com o comando de leitura de dados **input** gerando programas que exibem comportamentos diferentes e de acorco com o dado fornecido. Como exemplo, execute o programa dado a seguir fornecendo os seguintes valores de temperatura: 20, 25 e 30."
      ]
    },
    {
      "cell_type": "code",
      "metadata": {
        "id": "abSgV6HdH2S-",
        "colab": {
          "base_uri": "https://localhost:8080/",
          "height": 51
        },
        "outputId": "1f571ab5-18da-4809-8d1a-683416e86076"
      },
      "source": [
        "temp = input(\"Entre com a temperatura: \") \n",
        "temp = float(temp)\n",
        "\n",
        "if (temp <= 20):\n",
        "  acao = \"desligar\"\n",
        "elif (temp <= 25):\n",
        "  acao = \"ligar na potência fraca\"\n",
        "else:\n",
        "  acao = \"ligar na potência máxima\"\n",
        "\n",
        "print(acao)"
      ],
      "execution_count": null,
      "outputs": [
        {
          "output_type": "stream",
          "text": [
            "Entre com a temperatura: 30\n",
            "ligar na potência máxima\n"
          ],
          "name": "stdout"
        }
      ]
    },
    {
      "cell_type": "markdown",
      "metadata": {
        "id": "G3-gWaGjCa_J"
      },
      "source": [
        "# 6. Combinando condições lógicas\n",
        "\n",
        "É possível combinar duas ou mais condições lógicas através dos conectivos lógicos **and** e **or** que evitam o aninhamento de comandos **if-else**. \n",
        "Por exemplo, seja condição1 e (**and**) condição2, então, ação 1.\n",
        "\n",
        "* Usando apenas **ifs** aninhados:\n",
        "\n",
        "> **if** (condição1):\n",
        ">> **if** (condição2):\n",
        ">>> ação1\n",
        "\n",
        "* Usando **if** e **and**:\n",
        "\n",
        "> **if** (condição1 **and** condição2):\n",
        ">> ação1\n",
        "\n",
        "O mesmo pode ser realizado com o conectivo lógico **or**. Deve ser observado, porém, os resultados da aplicação dos conectivos é diferente para cada um. As tabelas 2 e 3 fornecem os resultados para os conectivos **and** e **or**, respectivamente.\n",
        "\n",
        "> Condição 1 | Condição 2 | C1 AND C2\n",
        ">--- | --- | ---\n",
        ">  True   | True  | True\n",
        ">  True   | False | False\n",
        ">  False  | True  | False\n",
        ">  False  | False | False\n",
        "Tabela 2: AND.\n",
        "\n",
        "> Condição 1 | Condição 2 | C1 AND C2\n",
        ">--- | --- | ---\n",
        ">  True   | True  | True\n",
        ">  True   | False | True\n",
        ">  False  | True  | True\n",
        ">  False  | False | False\n",
        "Tabela 3: OR.\n",
        "\n",
        "\n",
        "O programa a seguir busca seguir um procedimento que combina o uso de temperatura e umidade em um ambiente para saber se é necessário ligar, e em qual potência, os aparelhos de ar-condicionado e umidificador de acordo com a Tabela 4.\n",
        "\n",
        "> Temperatura | Umidade | Ação\n",
        ">--- | ---   | ---\n",
        ">  <= 20     | <= 20    | Ligar umidificador\n",
        ">  (20,30)   | >= 60    | Ligar ar-condicionado leve\n",
        ">  30 >=     | Qualquer | Ligar ar-condicionado max.\n",
        "Tabela 4: Temperatura e umidade.\n"
      ]
    },
    {
      "cell_type": "code",
      "metadata": {
        "id": "GNwm7sSVP62F",
        "colab": {
          "base_uri": "https://localhost:8080/",
          "height": 68
        },
        "outputId": "c96800b8-fa74-44f8-d723-8c3dcd54bed7"
      },
      "source": [
        "temp = input('Digite a temperatura: ')\n",
        "temp = float(temp)\n",
        "umid = input('Digite a umidade: ')\n",
        "umid = float(umid)\n",
        "\n",
        "if ((temp <= 20)and(umid <= 20)):\n",
        "  acao = \"Ligar umidificador\"\n",
        "elif (((temp > 20)and(temp < 30))and(umid >= 60)):\n",
        "  acao = \"Ligar ar-condicionado leve\"\n",
        "elif (temp >= 30):\n",
        "  acao = \"Ligar ar-condicionado max.\"\n",
        "else:\n",
        "  acao = \"Nenhum ação definida\"  \n",
        "\n",
        "mensagem = \"Temperatura = %4.2f e Umidade = %4.2f - Ação: %s\" % (temp,umid,acao)\n",
        "print(mensagem)"
      ],
      "execution_count": null,
      "outputs": [
        {
          "output_type": "stream",
          "text": [
            "Digite a temperatura: 21\n",
            "Digite a umidade: 40\n",
            "Temperatura = 21.00 e Umidade = 40.00 - Ação: Nenhum ação definida\n"
          ],
          "name": "stdout"
        }
      ]
    },
    {
      "cell_type": "markdown",
      "metadata": {
        "id": "hxDn8LeAQVYS"
      },
      "source": [
        "# 7. Mini-projeto: Calcule seu imposto de renda com **if-else** e dicionários\n",
        "\n",
        "Fonte: https://blog.convenia.com.br/como-calcular-irrf-na-folha-de-pagamento/\n",
        "\n",
        "**Tabela de IRRF**:\n",
        "\n",
        "Conhecendo a base real do imposto, pode-se identificar a faixa de percentual em que o funcionário se encaixa. As faixas atualizadas são:\n",
        "\n",
        "* até R\\$ 1.903,98: isenção;\n",
        "\n",
        "* 1ª faixa: 7,5\\% para bases de R\\$ 1.903,99 a R\\$ 2.826,65;\n",
        "\n",
        "* 2ª faixa: 15\\% para bases de R\\$ 2.826,66 a R\\$ 3.751,05;\n",
        "\n",
        "* 3ª faixa: 22,5\\% para bases de R\\$ 3.751,06 a R\\$ 4.664,68;\n",
        "\n",
        "* 4ª faixa: 27,5\\% para bases a partir de R\\$ 4.664,69.\n",
        "\n",
        "\n",
        "Após verificado o imposto de acordo com a alíquota da sua base de cálculo, é deduzido um valor padrão, o que permite obter o valor final do imposto. Cada faixa de tributação tem uma dedução definida, da seguinte forma:\n",
        "\n",
        "* 1ª faixa: R\\$ 142,80;\n",
        "\n",
        "* 2ª faixa: R\\$ 354,80;\n",
        "\n",
        "* 3ª faixa: R\\$ 636,13;\n",
        "\n",
        "* 4ª faixa: R\\$ 869,36.\n",
        "\n",
        "Abaixo é mostrada a contabilização do imposto no caso de um exemplo:\n",
        "\n",
        "* R\\$ 2.250,41 x 7,5\\% = R\\$ 168,78;\n",
        "* R\\$ 168,78 – R\\$ 142,80 = R\\$ 25,98 de IR a ser retido na fonte.\n",
        "\n",
        "Crie um programa que dado um salário bruto digitado fornece:\n",
        "\n",
        "* Salário bruto;\n",
        "\n",
        "* Faixa de IR (em percentual);\n",
        "\n",
        "* Imposto de renda a pagar (antes do desconto do valor padrão);\n",
        "\n",
        "* Valor padrão (de acordo com a faixa de IR);\n",
        "\n",
        "* Imposto retido na fonte;\n",
        "\n",
        "* Salário líquido."
      ]
    },
    {
      "cell_type": "code",
      "metadata": {
        "id": "yf4vp6G8Vx8h",
        "colab": {
          "base_uri": "https://localhost:8080/",
          "height": 68
        },
        "outputId": "8d2e453e-eb0d-4fe5-b88a-7aa6f5d8f1d9"
      },
      "source": [
        "salario = input('Digite o salário bruto: ')\n",
        "salario = float(salario)\n",
        "\n",
        "# Dicionário faixa -> percentual de desconto.\n",
        "fDesc = {0: 0.0, 1: 7.5, 2: 15.0, 3: 22.5, 4: 27.5}\n",
        "\n",
        "# Dicionário faixa -> valor padrão.\n",
        "fVPad = {0: 0, 1: 142.80, 2: 354.80, 3: 636.13, 4: 869.36}\n",
        "\n",
        "# Verificando em qual faixa de imposto se enquadra o salário bruto.\n",
        "if (salario <= 1903.98):\n",
        "  faixa = 0\n",
        "elif (salario >= 1903.99)and(salario <= 2826.65):  \n",
        "  faixa = 1\n",
        "elif (salario >= 2826.66)and(salario <= 3751.05):     \n",
        "  faixa = 2\n",
        "elif (salario >= 3751.06)and(salario <= 4664.68):     \n",
        "  faixa = 3\n",
        "else:   # implícito salario >= 4664.69          \n",
        "  faixa = 4\n",
        "\n",
        "imposto = salario*(fDesc[faixa]/100)\n",
        "vpad    = fVPad[faixa]\n",
        "impagar = imposto - vpad\n",
        "liquido = salario - impagar\n",
        "\n",
        "mensagem1 = \"Bruto: %10.2f, Faixa: %d, Imposto: %5.2f\" % (salario, faixa, imposto)\n",
        "mensagem2 = \"Padrão: %5.2f, Pagar: %5.2f, Liquido: %5.2f\" % (vpad, impagar, liquido)\n",
        "print(mensagem1)\n",
        "print(mensagem2)\n",
        "\n"
      ],
      "execution_count": null,
      "outputs": [
        {
          "output_type": "stream",
          "text": [
            "Digite o salário bruto: 7199\n",
            "Bruto:    7199.00, Faixa: 4, Imposto: 1979.73\n",
            "Padrão: 869.36, Pagar: 1110.37, Liquido: 6088.64\n"
          ],
          "name": "stdout"
        }
      ]
    },
    {
      "cell_type": "markdown",
      "metadata": {
        "id": "ta6LkEpNAxkX"
      },
      "source": [
        "#9. Resumo desta Seção\n",
        "\n",
        "* Tipos lógicos podem ser obtidos a partir da avaliação de expressões\n",
        "lógicas como (x1 > x2);\n",
        "* Um tipo lógico pode assumir dois valores possíveis: True ou False;\n",
        "* O comando **if** utiliza resultado de uma expressão lógica para \n",
        "modificar o fluxo de um programa. A instrução subquente ao if deverá\n",
        "ter um recuo indicar que só será executada se \n",
        "a condição lógica associada ao **if** for verdadeira. Diz-se neste \n",
        "caso, a instrução está no escopo do **if**. Exemplo: \n",
        "\n",
        "> if (temperatura > 20): \n",
        "\n",
        ">print('Ligar');\n",
        "\n",
        "* O comando **if** pode ser acompanhado de **else**. Se isto ocorrer,\n",
        "o else é sempre executado caso a expressão lógica avaliada no **if**\n",
        "retorne False;\n",
        "\n",
        "* O comando **elif** pode ser empregado para simplificar a avaliação \n",
        "de expressões lógicas;\n",
        "\n",
        "* O comando **input** pode ser empregado com **if-elif-else** gerando\n",
        "múltiplos comportamento possíveis para um mesmo programa;\n",
        "\n",
        "* Os conectores lógicos **and** e **or** podem ser combinados para \n",
        "criar expressões lógicas compostas de duas ou mais condições;\n",
        "\n",
        "* dicionários podem ser empregados em conjuntos com **if-elif-else**\n",
        "para facilitar a obtenção de informações relacionadas a uma determinada\n",
        "faixa ou categoria associada ao valor de uma variável."
      ]
    }
  ]
}