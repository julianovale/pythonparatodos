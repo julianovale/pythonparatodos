{
  "nbformat": 4,
  "nbformat_minor": 0,
  "metadata": {
    "colab": {
      "name": "Módulo06Aula09.ipynb",
      "provenance": [],
      "authorship_tag": "ABX9TyPrZ30rhtPV0uv6z9oUsUtJ",
      "include_colab_link": true
    },
    "kernelspec": {
      "name": "python3",
      "display_name": "Python 3"
    }
  },
  "cells": [
    {
      "cell_type": "markdown",
      "metadata": {
        "id": "view-in-github",
        "colab_type": "text"
      },
      "source": [
        "<a href=\"https://colab.research.google.com/github/julianovale/pythonparatodos/blob/main/M%C3%B3dulo06Aula09.ipynb\" target=\"_parent\"><img src=\"https://colab.research.google.com/assets/colab-badge.svg\" alt=\"Open In Colab\"/></a>"
      ]
    },
    {
      "cell_type": "code",
      "metadata": {
        "colab": {
          "base_uri": "https://localhost:8080/"
        },
        "id": "xEP0x148tvdO",
        "outputId": "8e507fd5-3e8f-4093-aded-68d227d8e0c0"
      },
      "source": [
        "lista1 = ['a','g','t','c']\r\n",
        "\r\n",
        "print('Lista 1')\r\n",
        "for i in lista1: # iterador\r\n",
        "  print(i)"
      ],
      "execution_count": 1,
      "outputs": [
        {
          "output_type": "stream",
          "text": [
            "Lista 1\n",
            "a\n",
            "g\n",
            "t\n",
            "c\n"
          ],
          "name": "stdout"
        }
      ]
    }
  ]
}