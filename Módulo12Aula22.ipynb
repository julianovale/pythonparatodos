{
  "nbformat": 4,
  "nbformat_minor": 0,
  "metadata": {
    "colab": {
      "name": "Módulo12Aula22.ipynb",
      "provenance": [],
      "collapsed_sections": [],
      "authorship_tag": "ABX9TyPsgr1nwjNbhy+UODy2TqQ7",
      "include_colab_link": true
    },
    "kernelspec": {
      "name": "python3",
      "display_name": "Python 3"
    }
  },
  "cells": [
    {
      "cell_type": "markdown",
      "metadata": {
        "id": "view-in-github",
        "colab_type": "text"
      },
      "source": [
        "<a href=\"https://colab.research.google.com/github/julianovale/pythonparatodos/blob/main/M%C3%B3dulo12Aula22.ipynb\" target=\"_parent\"><img src=\"https://colab.research.google.com/assets/colab-badge.svg\" alt=\"Open In Colab\"/></a>"
      ]
    },
    {
      "cell_type": "code",
      "metadata": {
        "id": "F3NFBxBTmen_"
      },
      "source": [
        "from abc import ABC, abstractmethod"
      ],
      "execution_count": 1,
      "outputs": []
    },
    {
      "cell_type": "code",
      "metadata": {
        "id": "ArxjiR7woEyb"
      },
      "source": [
        "class A(ABC): # torna a classe A abstract\r\n",
        "\r\n",
        "  def __init__(self):\r\n",
        "    pass\r\n",
        "\r\n",
        "  @abstractmethod # método abstrato\r\n",
        "  def foo(self, s):\r\n",
        "    return\r\n",
        "\r\n",
        "class B(A):\r\n",
        "  def __init__(self):\r\n",
        "    super(B, self).__init__()\r\n",
        "    pass\r\n",
        "\r\n",
        "  def foo(self):\r\n",
        "    print('Foo method in Class B')\r\n",
        "\r\n",
        "class C(B):\r\n",
        "  def bar(self):\r\n",
        "    print('Bar method in Class C')\r\n",
        "  "
      ],
      "execution_count": 2,
      "outputs": []
    },
    {
      "cell_type": "code",
      "metadata": {
        "colab": {
          "base_uri": "https://localhost:8080/"
        },
        "id": "3MnPQuCrpi7r",
        "outputId": "a885fe78-9fe1-487c-aad5-210ea1ca6a37"
      },
      "source": [
        "objB = B()\r\n",
        "objB.foo()\r\n",
        "objC = C()\r\n",
        "objC.foo()\r\n",
        "objC.bar()"
      ],
      "execution_count": 5,
      "outputs": [
        {
          "output_type": "stream",
          "text": [
            "Foo method in Class B\n",
            "Foo method in Class B\n",
            "Bar method in Class C\n"
          ],
          "name": "stdout"
        }
      ]
    }
  ]
}