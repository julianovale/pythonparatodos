{
  "nbformat": 4,
  "nbformat_minor": 0,
  "metadata": {
    "colab": {
      "name": "Módulo12Aníbal.ipynb",
      "provenance": [],
      "collapsed_sections": [],
      "include_colab_link": true
    },
    "kernelspec": {
      "name": "python3",
      "display_name": "Python 3"
    }
  },
  "cells": [
    {
      "cell_type": "markdown",
      "metadata": {
        "id": "view-in-github",
        "colab_type": "text"
      },
      "source": [
        "<a href=\"https://colab.research.google.com/github/julianovale/pythonparatodos/blob/main/M%C3%B3dulo12An%C3%ADbal.ipynb\" target=\"_parent\"><img src=\"https://colab.research.google.com/assets/colab-badge.svg\" alt=\"Open In Colab\"/></a>"
      ]
    },
    {
      "cell_type": "markdown",
      "metadata": {
        "id": "nt1DcgDkePsM"
      },
      "source": [
        "#1. Classes e objetos\n",
        "\n",
        "É possível criar **novos tipos** em uma linguagem através do conceito de **classes**. Cada variável criada a partir da classe é denominada de **objeto** ou **instância de classe**.\n"
      ]
    },
    {
      "cell_type": "markdown",
      "metadata": {
        "id": "k1WnNlethQvT"
      },
      "source": [
        "## 1.1. Campos de uma classe\r\n",
        "\r\n",
        "É possível associar ao objeto da classe **variáveis básicas** e **coleções**. Essas variáveis são denominadas de **campos de classe** e podem ter um valor inicial. Um exemplo de sintaxe é dado por:\r\n",
        "\r\n",
        "> **class** Nome_da_Classe\r\n",
        "\r\n",
        "> **campo1** = valor1\r\n",
        "\r\n",
        "> **campo2** = valor2\r\n",
        "\r\n",
        "Um exemplo é a criação da classe **Retangulo** que pode ser relacionada com duas variáveis básicas **x** e **y** associadas aos lados de um retângulo.\r\n",
        "\r\n",
        "Para se criar um objeto de um dada classe usa-se a seguinte sintaxe:\r\n",
        "\r\n",
        "> **objeto1** = **Nome_da_Classe()**\r\n",
        "\r\n",
        "\r\n",
        "Após a criação de um objeto, é possível acessar os campos da classe utilizando o operador **'.'** através da seguinte sintaxe:\r\n",
        "\r\n",
        "> **objeto.nome_campo**\r\n",
        "\r\n",
        "O exemplo a seguir ilustra a criação de uma **classe Retangulo** cujos objetos terão campos de classe **x** e **y**. Após a criação do objeto **r1** é verificado quais são os valores contidos nos campos de classe desse objeto."
      ]
    },
    {
      "cell_type": "code",
      "metadata": {
        "id": "LDVfX60eToRj",
        "colab": {
          "base_uri": "https://localhost:8080/",
          "height": 52
        },
        "outputId": "66a99a76-e239-4c31-d05a-9d83c4083b91"
      },
      "source": [
        "# Criação do novo tipo: retangulo.\n",
        "class Retangulo:\n",
        "  x = 1.1\n",
        "  y = 2.2\n",
        "\n",
        "\n",
        "# Criação de um objeto r1 da classe (tipo) retangulo.\n",
        "r1 = Retangulo()\n",
        "# Variáveis x e y relacionadas ao objeto r1.\n",
        "print(\"r1.x = \",r1.x)\n",
        "print(\"r1.y = \",r1.y)"
      ],
      "execution_count": null,
      "outputs": [
        {
          "output_type": "stream",
          "text": [
            "r1.x =  1.1\n",
            "r1.y =  2.2\n"
          ],
          "name": "stdout"
        }
      ]
    },
    {
      "cell_type": "markdown",
      "metadata": {
        "id": "2cF9Xo4MhfCD"
      },
      "source": [
        "## 1.2. Métodos de uma classe\r\n",
        "\r\n",
        "É possível relacionar **funções específicas** para **todas** as **instâncias** de uma classe. Essas funções são denominadas de **métodos** de uma **classe**.\r\n",
        "\r\n",
        "O exemplo a seguir fornece **dois métodos** para os objetos da **classe Imp**: \r\n",
        "\r\n",
        "1. **print()**: método que imprime a mensagem 'Método print acionado';\r\n",
        "\r\n",
        "2. **printE(var)**: método que retorna uma **string** com uma mensagem mais o contéudo de uma variável **var**.\r\n",
        "\r\n",
        "Após a definição das funções, existem duas linhas de código para acionar os métodos elaborados para a classe. Assim, ao se criar um objeto da classe, automaticamente os métodos serão acionados.\r\n"
      ]
    },
    {
      "cell_type": "code",
      "metadata": {
        "colab": {
          "base_uri": "https://localhost:8080/"
        },
        "id": "W7tjXVBvizKi",
        "outputId": "f5319252-976b-4e99-da13-e1352020f7db"
      },
      "source": [
        "def Imp(): # definição da classe\r\n",
        "    def printV(): # definição do método\r\n",
        "        print(\"Método print acionado\")\r\n",
        "\r\n",
        "    def printE(var): # outro método   \r\n",
        "        return \"Var = \"+str(var)\r\n",
        "\r\n",
        "    printV()  # Início da sequência de ações\r\n",
        "    print(\"Após printE: \",printE(2.0))\r\n",
        "\r\n",
        "i = Imp() # Criando um objeto i da classe Imp"
      ],
      "execution_count": null,
      "outputs": [
        {
          "output_type": "stream",
          "text": [
            "Método print acionado\n",
            "Após printE:  Var = 2.0\n"
          ],
          "name": "stdout"
        }
      ]
    },
    {
      "cell_type": "markdown",
      "metadata": {
        "id": "aBuxKn96kq7M"
      },
      "source": [
        "# 2. Construtores: Inicialização dos campos de uma classe\n",
        "\n",
        "Ao se criar uma instância de uma classe é importante fornecer valores iniciais para os campos da classe. A isto é chamado de **inicialização dos campos de uma instância da classe**.\n",
        "\n",
        "Ao se criar um objeto de uma classe, implicitamente é chamada a função interna denominada **\\_\\_init\\_\\_** para realizar a inicialização dos campos de classe. Essa função também pode ser denominada de **construtor da classe**. \n",
        "\n",
        "A partir do **construtor** também é possível fornecer **parâmetros** que podem ser empregados para **inicializar** os **campos** de uma instância da classe. Para tanto a seguinte sintaxe deverá ser empregado no momento de criação de uma instância (ou objeto) da classe:\n",
        "\n",
        "> **obj = Nome_da_Classe(parâmetros)**\n",
        "\n",
        "A palavra-chave **self** permite que se tenha acesso aos **valores** contidos nos **campos** de classe da **instância atual**, utilizando a seguinte sintaxe:\n",
        "\n",
        ">**self.campo_de_classe**\n",
        "\n",
        "Após a inicialização é posição acessar os campos da classe utilizando o operador **'.'** através da seguinte sintaxe:\n",
        "\n",
        "> **objeto.nome_campo**\n",
        "\n",
        "No exemplo a seguir, a classe **Retangulo** é modificada de modo a empregar um construtor tal como dado a seguir. Depois é criado um **objeto** da classe com **parâmetros** para **inicializar** os campos de classe. Por último, os valores contidos nos campos de classe são acessados através do operador **'.'**."
      ]
    },
    {
      "cell_type": "code",
      "metadata": {
        "id": "ufNRDyu2JoPv",
        "colab": {
          "base_uri": "https://localhost:8080/",
          "height": 52
        },
        "outputId": "a7fe0bdf-50fc-4e24-f43c-d1470df51662"
      },
      "source": [
        "class Retangulo:\n",
        "  # Construtor da classe: valores iniciais para os campos.\n",
        "  def __init__(self, x, y):\n",
        "    self.x = x\n",
        "    self.y = y\n",
        "\n",
        "# Criação de um objeto r1 da classe (tipo) retangulo.\n",
        "r1 = Retangulo(1.1,2.2)\n",
        "# Variáveis x e y relacionadas ao objeto r1.\n",
        "print(\"r1.x = \",r1.x)\n",
        "print(\"r1.y = \",r1.y)"
      ],
      "execution_count": null,
      "outputs": [
        {
          "output_type": "stream",
          "text": [
            "r1.x =  1.1\n",
            "r1.y =  2.2\n"
          ],
          "name": "stdout"
        }
      ]
    },
    {
      "cell_type": "markdown",
      "metadata": {
        "id": "KZ7q4UhwpwKh"
      },
      "source": [
        "# 3. Métodos com valores padrão\r\n",
        "\r\n",
        "É possível definir **qualquer método** para que seus **parâmetros** tenham **valores padrão**, ou seja, caso o método seja invocado, mas nenhum valor seja fornecido para o parâmetros, valores padrão serão empregados.\r\n",
        "\r\n",
        "Isso pode ser realizado inclusive para os métodos que inicializam os valores dos campos de uma classe, isto é, os **construtores**."
      ]
    },
    {
      "cell_type": "code",
      "metadata": {
        "colab": {
          "base_uri": "https://localhost:8080/"
        },
        "id": "a49tnl8jsDKu",
        "outputId": "08d60342-d99a-4fa5-9ce2-e2a1a17c89eb"
      },
      "source": [
        "class Retangulo:\r\n",
        "  # Construtor da classe: valores iniciais para os campos.\r\n",
        "  def __init__(self, x = 0.0, y = 0.0):\r\n",
        "    self.x = x\r\n",
        "    self.y = y\r\n",
        "\r\n",
        "# Criação de um objeto r1 da classe (tipo) retangulo.\r\n",
        "r1 = Retangulo(y = 2.2)\r\n",
        "# Variáveis x e y relacionadas ao objeto r1.\r\n",
        "print(\"r1.x = \",r1.x)\r\n",
        "print(\"r1.y = \",r1.y)"
      ],
      "execution_count": null,
      "outputs": [
        {
          "output_type": "stream",
          "text": [
            "r1.x =  0.0\n",
            "r1.y =  2.2\n"
          ],
          "name": "stdout"
        }
      ]
    },
    {
      "cell_type": "markdown",
      "metadata": {
        "id": "Ih1kwHSZjjAP"
      },
      "source": [
        "# 4. Motivo para utilizar objetos e classes, campos e métodos\n",
        "\n",
        "\n",
        "É importante reforçar que, além dos construtores, é possível associar a todos os objetos de uma dada classe, outras funções que estão relacionadas às possíveis operações que podem ser realizadas para aquela classe. Estas funções são denominadas de forma geral como **métodos**.\n",
        "\n",
        "De um ponto de vista mais geral, a **programação orientada a objetos** (**POO**) tem por objetivo estabelecer a visão de que **dados** e **funções** devem conjugados em novos tipos (**classes**) que servirão para gerar variáveis (**objetos**) de acordo com uma estrutura padrão.  \n",
        "\n",
        "Assim, ao se criar um objeto de uma classe já se sabe de antemão quais dados (**campos**) e funções (**métodos**) devem fornecidos ou podem ser empregados, respectivamente.\n",
        "\n",
        "Uma outra característica é que a **abstração** fornecida através de **classes** possibilita uma melhor organização de um programa de computador para modelar o **comportamento de objetos do mundo real**.\n",
        "\n",
        "Um ponto comum a todos os métodos da classe é que elas tem sempre como parâmetro de entrada a palavra-chave **self**.  Com isso todos os métodos podem obter acesso aos **valores** contidos nos **campos** de classe da **instância atual**, utilizando a seguinte sintaxe:\n",
        "\n",
        "> **self.campo_de_classe**\n",
        "\n",
        "Para o caso da classe **Retangulo** é possível associar funções como **calculoPerimetro** e **calculoArea** aos objetos da classe **Retangulo**. Também é possível definir uma função **print** que imprime os conteúdos dos campos de classe.\n",
        "\n"
      ]
    },
    {
      "cell_type": "code",
      "metadata": {
        "id": "kxWuLwiFjXxo",
        "colab": {
          "base_uri": "https://localhost:8080/",
          "height": 70
        },
        "outputId": "13b77a5b-e1b5-49b1-d67f-35e429d3abe3"
      },
      "source": [
        "# Criação do novo tipo: retangulo.\n",
        "class Retangulo:\n",
        "\n",
        "  # Construtor da classe\n",
        "  def __init__(self, x, y):\n",
        "    self.x = x\n",
        "    self.y = y\n",
        "\n",
        "  # Método para cálculo do perímetro usando\n",
        "  # os valores contidos nos campos de classe\n",
        "  def calculoPerimetro(self):\n",
        "    return 2*self.x + 2*self.y\n",
        "\n",
        "  # Cálculo da área\n",
        "  def calculoArea(self):\n",
        "    return self.x*self.y\n",
        "\n",
        "  # Método para retorno dos conteúdos dos \n",
        "  # campos de classe\n",
        "  def print(self):\n",
        "    s = \"x = \" + str(self.x) + \" y = \" + str(self.y)\n",
        "    return s \n",
        "\n",
        "# Criação de um objeto r1 da classe (tipo) retangulo.\n",
        "r1 = Retangulo(1.1,2.2)\n",
        "# Variáveis x e y relacionadas ao objeto r1.\n",
        "print(\"Perimetro = \",r1.calculoPerimetro())\n",
        "print(\"Area = \",r1.calculoArea())\n",
        "print(\"r1 = \",r1.print())"
      ],
      "execution_count": null,
      "outputs": [
        {
          "output_type": "stream",
          "text": [
            "Perimetro =  6.6000000000000005\n",
            "Area =  2.4200000000000004\n",
            "r1 =  x = 1.1 y = 2.2\n"
          ],
          "name": "stdout"
        }
      ]
    },
    {
      "cell_type": "markdown",
      "metadata": {
        "id": "fG5IQDXgRjIe"
      },
      "source": [
        "# 5. Acesso direto aos valores dos campos\n",
        "\n",
        "No exemplo anterior, o acesso aos valores dos campos do objeto foi realizado apenas através de funções. Essa essa seja uma prática comum quando do uso do paradigma de orientação a objetos (**POO**). Porém, a linguagem de programação Python assume que os programadores são responsáveis e sabem o que estão fazendo, sendo uma prática comum a realização do acesso direto aos valores contidos nos campos dos objetos de uma classe. \n",
        "\n",
        "Um exemplo dessa sintaxe é dado por:\n",
        "\n",
        "> **objeto1.campo1**\n",
        "\n",
        "Para reforçar como esse acesso direto pode ser realizado é dado o exemplo a seguir.\n",
        "\n",
        "Cabe porém destacar que em **POO** podem existir diferentes níveis de permissão de acesso aos campos de uma classe. Esses níveis serão descritos mais adiante."
      ]
    },
    {
      "cell_type": "code",
      "metadata": {
        "id": "1KaBLnSvR5iI",
        "colab": {
          "base_uri": "https://localhost:8080/",
          "height": 52
        },
        "outputId": "a677c0f1-ec1b-44ab-9a86-2765abf62ca3"
      },
      "source": [
        "# Criação de um objeto r2 da classe (tipo) retangulo.\n",
        "r2 = Retangulo(1.1,2.2)\n",
        "# Variáveis x e y relacionadas ao objeto r2.\n",
        "print(\"r2.x = \",r2.x)\n",
        "print(\"r2.y = \",r2.y)\n"
      ],
      "execution_count": null,
      "outputs": [
        {
          "output_type": "stream",
          "text": [
            "r2.x =  1.1\n",
            "r2.y =  2.2\n"
          ],
          "name": "stdout"
        }
      ]
    },
    {
      "cell_type": "markdown",
      "metadata": {
        "id": "rhx01WnaQpUF"
      },
      "source": [
        "# 6. Apagando objetos ou campos de classe\n",
        "\n",
        "O acesso direto aos campos de uma classe também possibilita apagar um objeto ou um campo de um objeto de uma classe através das seguintes sintaxes:\n",
        "\n",
        "* Apagando um campo de um objeto:\n",
        "> **del** objeto.campo\n",
        "\n",
        "* Apagando um objeto:\n",
        "> **del** objeto"
      ]
    },
    {
      "cell_type": "code",
      "metadata": {
        "id": "-yV0weCPRUVd",
        "colab": {
          "base_uri": "https://localhost:8080/",
          "height": 52
        },
        "outputId": "bfe44425-b534-4101-a197-e51f3bf98e23"
      },
      "source": [
        "# Criação de um objeto r1 da classe (tipo) retangulo.\n",
        "r3 = Retangulo(1.1,2.2)\n",
        "# Variáveis x e y relacionadas ao objeto r3.\n",
        "print(\"r3.x = \",r3.x)\n",
        "del r3.x\n",
        "print(\"r3.y = \",r3.y)"
      ],
      "execution_count": null,
      "outputs": [
        {
          "output_type": "stream",
          "text": [
            "r3.x =  1.1\n",
            "r3.y =  2.2\n"
          ],
          "name": "stdout"
        }
      ]
    },
    {
      "cell_type": "markdown",
      "metadata": {
        "id": "OOiep1NYHf96"
      },
      "source": [
        "# 7. Modificadores de acesso: public, private e protected\r\n",
        "\r\n",
        "Tantos os **métodos** quanto os **campos** de uma classe podem sua permissão de acesso modificada de modo a definir quais elementos podem ter acesso aos mesmos. Os **modificadores de acesso** podem ser de três tipos:\r\n",
        "\r\n",
        "* **private** - Apenas a classe atual (classe na qual o método ou campo foi definido) terá acesso: usa-se o operador **__**;\r\n",
        "\r\n",
        "* **protected** - Apenas a classe atual e suas subclasses (classes geradas a partir do mecanismo de **herança**) ou classes no mesmo pacote terão acesso: usa-se o operador **_** ;\r\n",
        "\r\n",
        "* **public** - Qualquer classe pode se referir ao método ou campo da classe: não é necessário usar nenhum operador.\r\n",
        "\r\n",
        "Observações importantes:\r\n",
        "\r\n",
        "1. o **mecanismo de geração de classes** a partir de outras classes, conhecido como **herança**, será discutido mais a frente; \r\n",
        "\r\n",
        "2. Os **modificadores de acesso** são palavra-chaves que devem ser empregadas como parte da declaração do campo ou do método ao se definir a classe;\r\n",
        "\r\n",
        "3. Os modificadores são importantes para se implementar o conceito de **encapsulamento**. \r\n",
        "\r\n",
        "\r\n",
        "**Encapsulamento** é uma forma de proteger os dados de modificações indesejadas ao se obrigar que os mesmos só sejam acessíveis através de um conjunto de funções da classe (**métodos**).\r\n",
        "\r\n",
        "Pode-se dizer que o **encapsulamento** está intimamente relacionado com o conceito de classe tendo em vista que a classe busca reunir dados e funções em uma única estrutura. Ao fazer isso, a classe permite que certos valores só sejam acessíveis através do uso de funções específicas. Com isso, busca-se eliminar o acesso indevido aos dados por funções que não o poderiam fazer como pode ocorrer na **programação procedural**.\r\n"
      ]
    },
    {
      "cell_type": "markdown",
      "metadata": {
        "id": "_7w1LP4ncKuT"
      },
      "source": [
        "## 7.1. Modificador de acesso: campos da classe\r\n",
        "\r\n",
        "O código a seguir ilustra o uso de modificador de acesso para **campos de uma classe**.\r\n",
        "\r\n",
        "No código a classe retângulo possui dois campos: x que é **privated** (uso do operador \"__x\" antes do nome **x**) e y que é **protected** (uso do operador '_y' antes do nome **y**).\r\n",
        "\r\n",
        "Os valores contidos nos campos **x** e **y**, transformados em **string** só podem ser acessados através das funções **printX** e **printY**, respectivamente. \r\n",
        "\r\n",
        "Observados que o valor de **x** não pode ser modificado a menos que seja através de um método apropriado. Porém, **y** pode ser acessado e modificado diretamente. \r\n",
        "\r\n",
        "Observar que o comando **r.__x** não acessa o valor do campo **x** de **r** que é **private**, e sim apenas cria uma variável de nome **r.__x**. Assim, apenas **printX()** exibe o valor desse campo.\r\n",
        "\r\n",
        "Para ilustrar esse conceito uma variável de nome **r.__z** é criada e seu conteúdo é exibido."
      ]
    },
    {
      "cell_type": "code",
      "metadata": {
        "colab": {
          "base_uri": "https://localhost:8080/"
        },
        "id": "-Aqn_4YDTRmK",
        "outputId": "a123e234-3f66-48e4-8e72-fd129cf9f847"
      },
      "source": [
        "class Retangulo:\r\n",
        "  # Construtor da classe: valores iniciais para os campos.\r\n",
        "  def __init__(self, x, y):\r\n",
        "    self.__x = x\r\n",
        "    self._y = y\r\n",
        "\r\n",
        "  def printX(self):\r\n",
        "    s = ''+str(self.__x)\r\n",
        "    return s   \r\n",
        "\r\n",
        "  def printY(self):\r\n",
        "    s = ''+str(self._y)\r\n",
        "    return s  \r\n",
        "\r\n",
        "# Criação de um objeto r1 da classe (tipo) retangulo.\r\n",
        "r = Retangulo(1.1,2.2)\r\n",
        "# Variáveis x e y relacionadas ao objeto r1.\r\n",
        "print(\"r1.x = \",r.printX())\r\n",
        "print(\"r1.y = \",r.printY())\r\n",
        "r._y = 4.4\r\n",
        "print('r.y = ',r.printY())\r\n",
        "print(\"r1.y = \",r._y)\r\n",
        "r.__x = 7\r\n",
        "print('r.x = ',r.printX())\r\n",
        "print('r.__x = ',r.__x)\r\n",
        "r.__z = 8\r\n",
        "print('r.__z = ',r.__z)"
      ],
      "execution_count": null,
      "outputs": [
        {
          "output_type": "stream",
          "text": [
            "r1.x =  1.1\n",
            "r1.y =  2.2\n",
            "r.y =  4.4\n",
            "r1.y =  4.4\n",
            "r.x =  1.1\n",
            "r.__x =  7\n",
            "r.__z =  8\n"
          ],
          "name": "stdout"
        }
      ]
    },
    {
      "cell_type": "markdown",
      "metadata": {
        "id": "pSdYIoLbcTFA"
      },
      "source": [
        "## 7.2. Modificador de acesso: Métodos\r\n",
        "\r\n",
        "O código a seguir ilustra o uso de modificador de acesso para **métodos de uma classe**.\r\n",
        "\r\n",
        "No código a **classe A** possui um campo x que é **privated** (uso do operador \"__x\" antes do nome **x**).\r\n",
        "\r\n",
        "Os métodos **fun** e **_fun** podem ser acionados através do objeto **obj1** funções **printX** e **printY**, respectivamente. Já o método '__fun' se for utilizado irá gerar um erro de compilação, isto é, o programa será impedido de ser executado.  Neste sentido, irá aparecer a mensagem de que a função não existe, mas na verdade ela não é acessível para métodos fora da classe."
      ]
    },
    {
      "cell_type": "code",
      "metadata": {
        "colab": {
          "base_uri": "https://localhost:8080/"
        },
        "id": "aoWcd5ULcZH7",
        "outputId": "32b3fdfd-e3a3-4d12-b49f-6f1433f0b37c"
      },
      "source": [
        "class A:  \r\n",
        "   def __init__(self, x):\r\n",
        "     self.__x = x\r\n",
        "\r\n",
        "   def fun(self): \r\n",
        "        print(\"Public: Método A:fun, x = \",self.__x)\r\n",
        "  \r\n",
        "   def _fun(self): \r\n",
        "        print(\"Protected: Método A:fun, x = \",self.__x) \r\n",
        "    \r\n",
        "   def __fun(self): \r\n",
        "        print(\"Privated: Método A:fun x = \",self.__x) \r\n",
        "  \r\n",
        "obj1 = A(1.0) \r\n",
        "obj1.fun() \r\n",
        "obj1._fun()\r\n",
        "#Erro: obj1.__fun()"
      ],
      "execution_count": null,
      "outputs": [
        {
          "output_type": "stream",
          "text": [
            "Public: Método A:fun, x =  1.0\n",
            "Protected: Método A:fun, x =  1.0\n"
          ],
          "name": "stdout"
        }
      ]
    },
    {
      "cell_type": "markdown",
      "metadata": {
        "id": "NuyZtOe3fEuj"
      },
      "source": [
        "## 7.3. Burlando o acesso privated\r\n",
        "\r\n",
        "É possível burlar o acesso **privated** seja para acessar os dados de um campo ou de um método privados por meio do operador \"**obj._(nome_da_classe)**\":\r\n",
        "\r\n",
        ">\"**objeto._(nome_da_classe)__campo**\"\r\n",
        "\r\n",
        "ou\r\n",
        "\r\n",
        ">\"**objeto._(nome_da_classe)__método(parâmetros_método)**\"\r\n",
        "\r\n",
        "O código a seguir exemplifica o uso do operador descrito anteriormente.\r\n"
      ]
    },
    {
      "cell_type": "code",
      "metadata": {
        "colab": {
          "base_uri": "https://localhost:8080/"
        },
        "id": "v0tNOQjvfJOW",
        "outputId": "38986c10-8c72-4118-877a-3a747fcb2773"
      },
      "source": [
        "obj1 = A(2.0) \r\n",
        "obj1._A__fun()\r\n",
        "print(\"A.x = \",obj1._A__x)"
      ],
      "execution_count": null,
      "outputs": [
        {
          "output_type": "stream",
          "text": [
            "Privated: Método A:fun\n",
            "A.x =  2.0\n"
          ],
          "name": "stdout"
        }
      ]
    },
    {
      "cell_type": "markdown",
      "metadata": {
        "id": "P_rcgoeSstqp"
      },
      "source": [
        "# 8. Modificador *static*: campos e métodos\r\n",
        "\r\n",
        "Muitas vezes deseja-se criar uma **variável** ou **método** que seja **único** para **todas instâncias** de uma **classe**.  Nesse caso, diz-se que o campo ou método são estáticos ou **static**.\r\n",
        "\r\n",
        "Para os campos basta criar fora do escopo de qualquer método uma variável sem menção a palavra-chave **self**. Por exemplo:\r\n",
        "\r\n",
        "> **class** Exemplo:\r\n",
        ">> variavel_estatica\r\n",
        "\r\n",
        "No exemplo dado a seguir é interessante ter uma única variável que contabiliza o número de instâncias de classe que foram criadas.\r\n",
        "\r\n",
        "\r\n",
        "\r\n",
        "\r\n"
      ]
    },
    {
      "cell_type": "markdown",
      "metadata": {
        "id": "Xh2KfJbqtr36"
      },
      "source": [
        "# 8.1. Modificador *static*: campos\r\n",
        "\r\n",
        "O exemplo a seguir fornece uma classe **Aviao** que contém um campo **num_avioes**. Esse campo controla o número de instâncias criadas da classe **Aviao**. "
      ]
    },
    {
      "cell_type": "code",
      "metadata": {
        "colab": {
          "base_uri": "https://localhost:8080/"
        },
        "id": "zTBTiixnn54w",
        "outputId": "2b506958-33ae-4bc6-be8b-8be9711bc4ec"
      },
      "source": [
        "class Aviao:\r\n",
        "    _counter = 0\r\n",
        "\r\n",
        "    def __init__(self):\r\n",
        "        Aviao._counter += 1\r\n",
        "\r\n",
        "    def __del__(self):\r\n",
        "        Aviao._counter -= 1\r\n",
        "\r\n",
        "a1 = Aviao()\r\n",
        "print(\"counter = \",a1._counter)\r\n",
        "a2 = Aviao()\r\n",
        "print(\"counter = \",a2._counter)\r\n",
        "del a1\r\n",
        "print(\"counter = \",Aviao._counter)\r\n",
        "del a2\r\n",
        "print(\"counter = \",Aviao._counter)"
      ],
      "execution_count": null,
      "outputs": [
        {
          "output_type": "stream",
          "text": [
            "counter =  1\n",
            "counter =  2\n",
            "counter =  1\n",
            "counter =  0\n"
          ],
          "name": "stdout"
        }
      ]
    },
    {
      "cell_type": "markdown",
      "metadata": {
        "id": "dqm0dwTHtqON"
      },
      "source": [
        "# 8.2. Modificador *static*: métodos\r\n",
        "\r\n",
        "Para os métodos usa-se a palavra-chave **@staticmethod**. Por exemplo:\r\n",
        "\r\n",
        "> **class** Exemplo:\r\n",
        ">>    nome = \"Exemplo\"\r\n",
        "\r\n",
        ">>    **@staticmethod**\r\n",
        "\r\n",
        ">>    **def** metodo_estatico():\r\n",
        "\r\n",
        "\r\n",
        "O exemplo a seguir fornece uma classe **Complexo** que contém dois campos: x e y referentes a parte real e a parte imaginária de um número complexo. \r\n",
        "\r\n",
        "São declarados dois tipos de métodos: **não-estáticos** e **estáticos**.\r\n",
        "\r\n",
        "Os métodos **não-estáticos** são: **print**, **soma** e **somaR**. Ou seja, cada objeto da classe que for criado terá uma cópia desses métodos.\r\n",
        "\r\n",
        "O método **print** apenas imprime o conteúdo dos campos **x** (parte real) e **y** (parte imaginária) de um dado objeto da classe **Complexo**.\r\n",
        "\r\n",
        "O **método soma** irá retornar o resultado de uma soma de números complexos no próprio objeto que invocou o método. A sintaxe para utilizar esse método é:\r\n",
        "\r\n",
        "> **c1.soma(c2)**\r\n",
        "\r\n",
        "onde **c1** e **c2** são objetos da classe **Complexo** e o método **soma** deve ser sempre chamado por um objeto da classe **Complexo** e o parâmetro de entrada será um segundo objeto de mesma classe. \r\n",
        "\r\n",
        "\r\n",
        "O **método somaR** irá retornar o resultado de uma soma de números complexos como um novo objeto da classe **Complexo**. A sintaxe será:\r\n",
        "\r\n",
        "> **c3 = c1.somaR(c2)**\r\n",
        "\r\n",
        "onde **c1** e **c2** são objetos da classe **Complexo** e o método **somaR** deve ser sempre chamado por um objeto da classe **Complexo** e o parâmetro de entrada será um segundo objeto de mesma classe. O resultado final será armazenado em um terceiro objeto também da mesma classe.\r\n",
        "\r\n",
        "O método **estático** é **somaE**. Qualquer instância dessa classe irá compartilhar o mesmo único método **somaE** para realizar a soma de dois números complexos. \r\n",
        "\r\n",
        "O método **somaE** representa um método estático da classe **Complexo** e só poderá ser chamado a partir da classe com a sintaxe:\r\n",
        "\r\n",
        "> **Complexo.SomaE(c1, c2)**\r\n",
        "\r\n",
        "É importante observar que neste caso os parâmetros **c1** e **c2** são instâncias da classe **Complexo**.\r\n",
        "\r\n"
      ]
    },
    {
      "cell_type": "code",
      "metadata": {
        "colab": {
          "base_uri": "https://localhost:8080/"
        },
        "id": "cUvI1ttb58tn",
        "outputId": "3ad8ff22-0869-4020-82da-59ba81404585"
      },
      "source": [
        "class Complexo:\r\n",
        "    def __init__(self,x,y):\r\n",
        "        self.x = x\r\n",
        "        self.y = y\r\n",
        "\r\n",
        "    def print(self):\r\n",
        "      print(\" \",self.x,\" + \",self.y,\"*i\")\r\n",
        "\r\n",
        "    def soma(self,c):\r\n",
        "        self.x = self.x+c.x\r\n",
        "        self.y = self.y+c.y\r\n",
        "  \r\n",
        "    def somaR(self,c):\r\n",
        "        return Complexo(self.x+c.x,self.y+c.y)\r\n",
        "\r\n",
        "    @staticmethod\r\n",
        "    def somaE(c1,c2):\r\n",
        "      return Complexo(c1.x + c2.x, c1.y + c2.y) \r\n",
        "\r\n",
        "c1 = Complexo(1.0,2.0)\r\n",
        "c1.print()\r\n",
        "c2 = Complexo(3.0,4.0)\r\n",
        "c2.print()\r\n",
        "c2.soma(c1)\r\n",
        "c2.print()\r\n",
        "c3 = c2.somaR(c1)\r\n",
        "c3.print()\r\n",
        "c4 = Complexo.somaE(c1,c2)\r\n",
        "c4.print()"
      ],
      "execution_count": null,
      "outputs": [
        {
          "output_type": "stream",
          "text": [
            "  1.0  +  2.0 *i\n",
            "  3.0  +  4.0 *i\n",
            "  4.0  +  6.0 *i\n",
            "  5.0  +  8.0 *i\n",
            "  5.0  +  8.0 *i\n"
          ],
          "name": "stdout"
        }
      ]
    },
    {
      "cell_type": "markdown",
      "metadata": {
        "id": "tPcAKVFo-Qa_"
      },
      "source": [
        "## 8.3 Métodos de classe:\r\n",
        "\r\n",
        "São similares aos métodos **static** com a diferença importante de que:\r\n",
        "\r\n",
        "* Métodos **static** não sabem nada acerca da classe e apenas lidam com os parâmetros fornecidos;\r\n",
        "\r\n",
        "* Métodos **class** trabalham com a classe, pois seu parâmetro é a sempre a própria classe. \r\n",
        "\r\n",
        "A diferença apontada anteriormente é particularmente importante quando o mecanismo de **Herança** é utilizado. \r\n",
        "\r\n",
        "Portanto, antes de entrar em detalhes sobre esse modificador, será abordado o tópico sobre o mecanismo de **Herança**."
      ]
    },
    {
      "cell_type": "markdown",
      "metadata": {
        "id": "DLJVkvX2JMsq"
      },
      "source": [
        "# 9. Herança\r\n",
        "\r\n",
        "Trata-se de um **mecanismo** de **reutilização de código** da classe no qual **deriva-se** uma **nova classe**, denominada **subclasse**, classe derivada, ou classe filha, a partir de uma classe, denominada superclasse ou classe mãe. A **subclasse herda** todos os **métodos e campos da superclasse**, bem como pode **definir novos métodos e campos**.\r\n"
      ]
    },
    {
      "cell_type": "markdown",
      "metadata": {
        "id": "ykb_3yrjAXuw"
      },
      "source": [
        "## 9.1. Aplicando o mecanismo de Herança\r\n",
        "\r\n",
        "No código a seguir a **classe B** herda o construtor e os métodos **fun**, **_fun** e **__fun** da **classe A**. \r\n",
        "\r\n",
        "Novos métodos são criados na **classe B** e estes métodos empregam os métodos herdados da **classe A**.\r\n",
        "\r\n",
        "Depois todos os métodos, menos o método **privated**, são invocados fora da classe pelo objeto obj2."
      ]
    },
    {
      "cell_type": "code",
      "metadata": {
        "id": "dXWJ8gIkhNeP",
        "colab": {
          "base_uri": "https://localhost:8080/"
        },
        "outputId": "435af047-60bc-44ec-b73f-cae40ace3fcc"
      },
      "source": [
        "class B(A):  \r\n",
        "    def __init__(self,x): \r\n",
        "        # Chamando construtor da superclasse \r\n",
        "        A.__init__(self,x)  \r\n",
        "          \r\n",
        "    def call_public(self):     \r\n",
        "        # Chamando método pública da superclasse \r\n",
        "        print(\"\\nPublic: Dentro da subclasse B\") \r\n",
        "        self.fun() \r\n",
        "    \r\n",
        "    def call_protected(self): \r\n",
        "        # Chamando método protected da superclasse \r\n",
        "        print(\"\\nProtected: Dentro da subclasse B\") \r\n",
        "        self._fun() \r\n",
        "          \r\n",
        "    def call_private(self): \r\n",
        "        # Chamando método privado da superclasse \r\n",
        "        print(\"\\nPrivated: Dentro da subclasse B\") \r\n",
        "        self.__fun() \r\n",
        "  \r\n",
        "obj2 = B(5.5) \r\n",
        "obj2.call_public() \r\n",
        "obj2.call_protected() \r\n",
        "#Erro: obj2.call_private() "
      ],
      "execution_count": null,
      "outputs": [
        {
          "output_type": "stream",
          "text": [
            "\n",
            "Public: Dentro da subclasse B\n",
            "Public: Método A:fun, x =  5.5\n",
            "\n",
            "Protected: Dentro da subclasse B\n",
            "Protected: Método A:fun, x =  5.5\n"
          ],
          "name": "stdout"
        }
      ]
    },
    {
      "cell_type": "markdown",
      "metadata": {
        "id": "XfMdle2J_2wS"
      },
      "source": [
        "## 9.2 Herança: métodos de classe (**class**) x métodos estáticos (**static**)\r\n",
        "\r\n",
        "O código a seguir ilustra três conceitos interessantes:\r\n",
        "\r\n",
        "1. O uso de métodos da classe sem necessidade de se criar objetos através da seguinte sintaxe:\r\n",
        "\r\n",
        "> **Nome_da_classe.metodo**\r\n",
        "\r\n",
        "2. Métodos **static** não sabem nada acerca da classe e apenas lidam com os parâmetros fornecidos. Isto fica evidente no primeiro código no qual a classe **Filha1** irá imprimir a mesma mensagem da classe **Exemplo**, pois o parâmetro **nome** tem escopo de classe. Somente quando a classe **Filha2** redefine o método **static**, herdado da classe **Exemplo**, é que é possível imprimir o valor atualizado do campo **nome**. \r\n",
        "\r\n",
        "3. Métodos **class** trabalham com a classe, pois seu parâmetro é a sempre a própria classe.  No segundo código, o método **static** é declarado com método **classmethod** e não como **staticmethod**. Isto permite que seja empregada a palavra-chave **cls** como parâmetro deste método. Esse parâmetro **cls** permite extrair o campo **nome** qualquer que seja a classe. Dessa forma, o método **static** torna-se sensível aos valores da classe na qual ela está sendo empregada. A redefinição do método **static** na classe **Filha2** não é necessária, mas permaneceu para mostrar que ela irá funcionar também para **classmethod**. \r\n",
        "\r\n",
        "Uma observação importante é que para:\r\n",
        "\r\n",
        "> * Declarar um método **static** usa-se **@staticmethod** antes da declaração do método;\r\n",
        "\r\n",
        "> * Declarar um método **class** usa-se **@classmethod** antes da declaração do método."
      ]
    },
    {
      "cell_type": "markdown",
      "metadata": {
        "id": "YqvZNZHp7u41"
      },
      "source": [
        "9.2.1. Exemplo com Método estático\r\n",
        "\r\n",
        "Neste exemplo ilustra-se o uso da palavra-chave **@staticmethod**."
      ]
    },
    {
      "cell_type": "code",
      "metadata": {
        "colab": {
          "base_uri": "https://localhost:8080/"
        },
        "id": "OM4fwLiz_73q",
        "outputId": "c4afcebe-4cbb-4548-dab9-99578a2a9486"
      },
      "source": [
        "class Exemplo:\r\n",
        "    nome = \"Exemplo\"\r\n",
        "\r\n",
        "    @staticmethod\r\n",
        "    def static():\r\n",
        "        print(\"%s static() chamada Exemplo\" % Exemplo.nome)\r\n",
        "\r\n",
        "class Filha1(Exemplo):\r\n",
        "    nome = \"Filha1\"\r\n",
        "\r\n",
        "class Filha2(Exemplo):\r\n",
        "    nome = \"Filha2\"\r\n",
        "\r\n",
        "    @staticmethod\r\n",
        "    def static():\r\n",
        "        print(\"%s static() chamada Filha2\" % Filha2.nome)\r\n",
        "\r\n",
        "Exemplo.static() # imprime Exemplo\r\n",
        "Filha1.static()  # imprime Exemplo\r\n",
        "Filha2.static()  # imprime Filha2"
      ],
      "execution_count": null,
      "outputs": [
        {
          "output_type": "stream",
          "text": [
            "Exemplo static() chamada Exemplo\n",
            "Exemplo static() chamada Exemplo\n",
            "Filha2 static() chamada Filha2\n"
          ],
          "name": "stdout"
        }
      ]
    },
    {
      "cell_type": "markdown",
      "metadata": {
        "id": "kyXd9CkA70qr"
      },
      "source": [
        "9.2.2. Exemplo com Método de classe\r\n",
        "\r\n",
        "Neste exemplo ilustra-se o uso da palavra-chave **@classmethod**."
      ]
    },
    {
      "cell_type": "code",
      "metadata": {
        "id": "7R1n3-mZAGuz",
        "colab": {
          "base_uri": "https://localhost:8080/"
        },
        "outputId": "7479e915-661d-427c-a88a-779ec33e8d3c"
      },
      "source": [
        "class Exemplo:\r\n",
        "    nome = \"Exemplo\"\r\n",
        "\r\n",
        "    @classmethod\r\n",
        "    def static(cls):\r\n",
        "        print(\"%s static() chamada Exemplo\" % cls.nome)\r\n",
        "\r\n",
        "class Filha1(Exemplo):\r\n",
        "    nome = \"Filha1\"\r\n",
        "    pass\r\n",
        "\r\n",
        "class Filha2(Exemplo):\r\n",
        "    nome = \"Filha2\"\r\n",
        "\r\n",
        "    @classmethod\r\n",
        "    def static(cls):\r\n",
        "        print(\"%s static() chamada Filha 2\" % cls.nome)\r\n",
        "\r\n",
        "Exemplo.static() # imprime Exemplo\r\n",
        "Filha1.static()  # imprime Filha1\r\n",
        "Filha2.static()  # imprime Filha2"
      ],
      "execution_count": null,
      "outputs": [
        {
          "output_type": "stream",
          "text": [
            "Exemplo static() chamada Exemplo\n",
            "Filha1 static() chamada Exemplo\n",
            "Filha2 static() chamada Filha 2\n"
          ],
          "name": "stdout"
        }
      ]
    },
    {
      "cell_type": "markdown",
      "metadata": {
        "id": "Cj_5bgKmezW5"
      },
      "source": [
        "# 10. Métodos da superclasse: super\r\n",
        "\r\n",
        "A palavra-chave **super** pode ser empregada por **subclasses** que desejam utilizar **implementação de métodos** da **superclasses** imediatamente superiores.\r\n",
        "\r\n",
        "Esse princípio é válido até mesmo para os **métodos construtores**.\r\n",
        "\r\n",
        "O exemplo a seguir aplica esse conceito. \r\n",
        "\r\n",
        "Primeiro uma **classe A** é criada com campos **public** **x** e **y** e um método **print** que imprime os valores contidos nesses dois campos.\r\n",
        "\r\n",
        "Depois uma **classe B** herda os campos e métodos da **classe A** e uso tanto o construtor quanto o método **print** da classe **A** empregando a palavra-chave **super** nos comandos **super().\\_\\_init\\_\\_** e **super().print()** dentro dos métodos **\\_\\_init\\_\\_(self, x, y, z=0)** e **print(self)** da **classe B**.\r\n",
        "\r\n",
        "\r\n",
        "Vale observar que o construtor da **classe B** possui três parâmetros e o último deles atribui um padrão **z = 0**. Assim, o terceiro parâmetro não for informado, automaticamente o **campo z** irá receber o valor padrão zero.\r\n",
        "\r\n",
        "Observar também que na forma como foi estruturada a **classe B** inicializa os valores nos campos **x** e **y**, **herdados da classe A**, através da chamada ao construtor da **classe A**. Já para o campo z ou seu valor é atribuído pelo usuário ou o valor padrão fornecido na definição do método será empregado. \r\n",
        "\r\n",
        "Na parte do código a ser executado, um objeto **obj1** da **classe B** é criado com os seguintes valores em seus campos **x = 1**, **y = 2**, e **z = 0**. Por último, esses valores são impressos através do método **print** da **classe B**.\r\n"
      ]
    },
    {
      "cell_type": "code",
      "metadata": {
        "colab": {
          "base_uri": "https://localhost:8080/"
        },
        "id": "-csJaR4voO18",
        "outputId": "aca3c9dc-c89b-4c3a-892a-4d735ccb5299"
      },
      "source": [
        "class A():\r\n",
        "    def __init__(self, x, y):\r\n",
        "        self.x = x\r\n",
        "        self.y = y\r\n",
        "    \r\n",
        "    def print(self):\r\n",
        "      print(\"x = \", self.x,\" y = \", self.y)\r\n",
        "\r\n",
        "class B(A):\r\n",
        "    def __init__(self, x, y, z=0):\r\n",
        "        super().__init__(x,y)\r\n",
        "        self.z = z\r\n",
        "\r\n",
        "    def print(self):\r\n",
        "      super().print()\r\n",
        "      print(\" z = \",self.z)\r\n",
        "\r\n",
        "obj1 = B(1,2)\r\n",
        "obj1.print()  "
      ],
      "execution_count": null,
      "outputs": [
        {
          "output_type": "stream",
          "text": [
            "x =  1  y =  2\n",
            " z =  0\n"
          ],
          "name": "stdout"
        }
      ]
    },
    {
      "cell_type": "markdown",
      "metadata": {
        "id": "Twz5L2cweCHV"
      },
      "source": [
        "# 11. Herança Múltipla\r\n",
        "\r\n",
        "A linguagem de programação Python permite herança múltipla, isto é, uma classe pode herdar campos e métodos de múltiplas classes ao mesmo tempo.\r\n",
        "\r\n"
      ]
    },
    {
      "cell_type": "markdown",
      "metadata": {
        "id": "p3n1917kin2m"
      },
      "source": [
        "## 11.1 Herança múltipla: usando diferentes construtores\r\n",
        "\r\n",
        "No exemplo a seguir são criadas as classes **A** e **B** e a classe **AB** herda simultaneamente campos e métodos dessas duas classes. \r\n",
        "\r\n",
        "É interessante verificar que todas as classes usam construtores com valores valores padrão. Além disso, a classe **AB** chama explicitamente os dois construtores das **classes A** e **B** através dos comandos seguintes comandos:\r\n",
        "\r\n",
        "1. **A.\\_\\_init\\_\\_(self, x, y)**\r\n",
        "2. **B.\\_\\_init\\_\\_(self, z)**\r\n",
        "\r\n",
        "Dessa forma, a classe **AB** consegue inicializar os valores nos campos herdados dessas duas classes."
      ]
    },
    {
      "cell_type": "code",
      "metadata": {
        "id": "7ir8c-jYn65N",
        "colab": {
          "base_uri": "https://localhost:8080/"
        },
        "outputId": "792574c8-7ba0-42f7-dd0a-b8922b6fbd71"
      },
      "source": [
        "class A():\r\n",
        "    def __init__( self, x = 1, y = 2):\r\n",
        "        self.x = x\r\n",
        "        self.y = y\r\n",
        "        print('x = ',self.x,' y = ',self.y)\r\n",
        "\r\n",
        "class B():\r\n",
        "    def __init__( self, z=0):\r\n",
        "        self.z = z  \r\n",
        "        print('z = ',self.z)\r\n",
        "\r\n",
        "class AB(A, B):\r\n",
        "    def __init__(self, x, y, z=0):\r\n",
        "        A.__init__(self, x, y)\r\n",
        "        B.__init__(self, z)\r\n",
        "\r\n",
        "print(\"\\n Obj1:\")\r\n",
        "obj1 = A(4,5)\r\n",
        "print(\"\\n Obj2:\")\r\n",
        "obj2 = B(3)\r\n",
        "print(\"\\n Obj3:\")\r\n",
        "obj3 = AB(7,9)"
      ],
      "execution_count": null,
      "outputs": [
        {
          "output_type": "stream",
          "text": [
            "\n",
            " Obj1:\n",
            "x =  4  y =  5\n",
            "\n",
            " Obj2:\n",
            "z =  3\n",
            "\n",
            " Obj3:\n",
            "x =  7  y =  9\n",
            "z =  0\n"
          ],
          "name": "stdout"
        }
      ]
    },
    {
      "cell_type": "markdown",
      "metadata": {
        "id": "-yrY9p1di22_"
      },
      "source": [
        "## 11.2 Herança múltipla: usando método super\r\n",
        "\r\n",
        "O exemplo a seguir mostra que a **classe B** herda campos e métodos da **classe A**. \r\n",
        "\r\n",
        "Para inicializar o campo x herdado, a **classe B** usa o método **super** que implica no uso do construtor da **classe A**, e logo depois inicializa o campo y. \r\n",
        "\r\n",
        "A **classe AB** herda os campos e métodos das **classes A** e **B** e utiliza o método **super** da **classe B** para inicializar os campos x e y. \r\n",
        "\r\n",
        "Aqui cabe observar que, para a **classe AB** embora exista uma redundância no campo x, pois ambos existem nas **classes A** e **B**, apenas um campo x será criado.\r\n",
        "\r\n",
        "Eventualmente o exemplo a seguir ilustra que a ordem com que os construtores das classes serão chamados para este caso será: \r\n",
        "\r\n",
        "* AB $\\rightarrow$ B $\\rightarrow$ A, A \r\n",
        "\r\n",
        "Simplificando têm-se:\r\n",
        "\r\n",
        "* AB $\\rightarrow$ B $\\rightarrow$ A\r\n",
        "\r\n",
        "Então, pelo **método de resolução de ordem (MRO ou Method Resolution Order)**, primeiro será chamado o construtor da **classe A**, e depois o construtor da classe **B**. Note que o construtor da **classe A** é chamado apenas uma única vez, tal que o seguinte código seria equivalente ao uso de construtor com **super**:\r\n",
        "\r\n",
        "> B.__init__(self,2,y)\r\n",
        "\r\n",
        "Deve ser destacado que a chamada redudante ao construtor da **classe A** é automaticamente eliminada. Um exemplo de chamada redudante e explícita ao construtor da **classe A** é dado por:\r\n",
        "\r\n",
        "> A.__init__(self,x)\r\n",
        "\r\n",
        "> B.__init__(self,2,y)\r\n",
        "\r\n",
        "\r\n",
        "Nesse caso, é importante frisar que a inicialização fornecida pela **classe B** é a que prevaleceria.\r\n"
      ]
    },
    {
      "cell_type": "code",
      "metadata": {
        "id": "X4XnnwqDvT6f",
        "colab": {
          "base_uri": "https://localhost:8080/"
        },
        "outputId": "ae0e216e-08ec-4669-e8c8-2e995109df03"
      },
      "source": [
        "class A():\r\n",
        "    def __init__(self, x):\r\n",
        "        self.x = x\r\n",
        "        print(\"A:x = \",self.x)\r\n",
        "\r\n",
        "\r\n",
        "class B(A):\r\n",
        "    def __init__(self, x = 4.0, y = 5.0): \r\n",
        "        super().__init__(x)\r\n",
        "        print(\"B(A):x = \",self.x)\r\n",
        "        self.y = y\r\n",
        "        print(\"B:y = \",self.y)\r\n",
        "\r\n",
        "class AB(B, A):\r\n",
        "    def __init__(self, x = 1, y = 2):\r\n",
        "        super().__init__(x,y)\r\n",
        "        A.__init__(self,x)\r\n",
        "        print(\"x = \",self.x)\r\n",
        "        B.__init__(self,2,y)\r\n",
        "        print(\"x = \",self.x,\" y = \",self.y)\r\n",
        "        \r\n",
        "print(\"\\n Obj1:\")\r\n",
        "ob1 = A(1.0)\r\n",
        "print(\"\\n Obj2:\")\r\n",
        "ob2 = B(y = 2.0)\r\n",
        "print(\"\\n Obj3:\")\r\n",
        "ob3 = AB()"
      ],
      "execution_count": null,
      "outputs": [
        {
          "output_type": "stream",
          "text": [
            "\n",
            " Obj1:\n",
            "A:x =  1.0\n",
            "\n",
            " Obj2:\n",
            "A:x =  4.0\n",
            "B(A):x =  4.0\n",
            "B:y =  2.0\n",
            "\n",
            " Obj3:\n",
            "A:x =  1\n",
            "B(A):x =  1\n",
            "B:y =  2\n",
            "A:x =  1\n",
            "x =  1\n",
            "A:x =  2\n",
            "B(A):x =  2\n",
            "B:y =  2\n",
            "x =  2  y =  2\n"
          ],
          "name": "stdout"
        }
      ]
    },
    {
      "cell_type": "markdown",
      "metadata": {
        "id": "Rq0ayh5HgARH"
      },
      "source": [
        "# 12. Polimorfismo\r\n",
        "\r\n",
        "Polimorfismo significa **muitas formas**.\r\n",
        "\r\n",
        "O **polimorfismo** em **POO** ocorre quando **duas ou mais classes** têm **métodos de mesmo nome**, mas os métodos exibem **comportamentos diferentes** e em acordo com o que é definido para cada classe.\r\n",
        "\r\n",
        "Normalmente essas classes estão vinculadas através do mecanismo de **herança** para garantir que os **parâmetros** de **entrada** e **saída** dos métodos **polimórficos** sejam **idênticos**. Assim, garante-se que a mesma chamada a um método irá funcionar para objetos de diferentes classes.\r\n",
        "\r\n",
        "Para ilustrar o conceito de **polimorfismo** serão criadas duas classes: classe **ponto** e classe **círculo**. Ambas as classes têm o método **desenha**, porém seus comportamentos irão produzir resultados diferentes em termos de desenhos a serem exibidos."
      ]
    },
    {
      "cell_type": "markdown",
      "metadata": {
        "id": "9AgiQPIAZAjC"
      },
      "source": [
        "## 12.1. Desenhando com poliforfismo: classe ponto\r\n",
        "\r\n",
        "A classe **ponto** tem como campos:\r\n",
        "\r\n",
        "> * as coordenadas x e y de um ponto: **x**, **y**; \r\n",
        "\r\n",
        "> * o símbolo para desenhar o ponto: **symbol**;\r\n",
        "\r\n",
        "> * as cores para desenhar o ponto: **color**;\r\n",
        "\r\n",
        "> * a figura e o eixo no qual será realizado o desenho: **plt.figure()**, **plt.axes()**.\r\n",
        "\r\n",
        "Os valores desses campos são inicializados no construtor com destaque para os valores padrão para o campo **symbol** (**o**) e para o campo **color** (**red**).\r\n",
        "\r\n",
        "O método desenha além de empregar o comando no **plot** no eixo inicializado no construtor (**self.ax**), utiliza um comando de grade (**grid()**) e para exibir gráfico (**show()**) em uma figura (**self.fig**).\r\n",
        "\r\n",
        "Para testar a classe usa-se o método **desenha** de um objeto **p1** da classe **ponto**. "
      ]
    },
    {
      "cell_type": "code",
      "metadata": {
        "colab": {
          "base_uri": "https://localhost:8080/",
          "height": 265
        },
        "id": "6AVA18sqfIYP",
        "outputId": "f0d2290f-a1c5-45c2-9dd2-fe2528570639"
      },
      "source": [
        "import matplotlib.pyplot as plt\r\n",
        "\r\n",
        "class ponto:\r\n",
        "  def __init__(self,x=1.0,y=1.0,symbol='o',color='blue'):\r\n",
        "    self.x = x\r\n",
        "    self.y = y\r\n",
        "    self.symbol = symbol\r\n",
        "    self.color  = color\r\n",
        "    self.fig  = plt.figure()\r\n",
        "    self.ax   = plt.axes()\r\n",
        "\r\n",
        "  def desenha(self):\r\n",
        "    self.ax.plot(self.x,self.y,self.symbol,color=self.color)\r\n",
        "    self.ax.grid()\r\n",
        "    self.fig.show()\r\n",
        "\r\n",
        "\r\n",
        "p1 = ponto()\r\n",
        "p1.desenha()\r\n"
      ],
      "execution_count": null,
      "outputs": [
        {
          "output_type": "display_data",
          "data": {
            "image/png": "[encoded data removed]",
            "text/plain": [
              "<Figure size 432x288 with 1 Axes>"
            ]
          },
          "metadata": {
            "tags": [],
            "needs_background": "light"
          }
        }
      ]
    },
    {
      "cell_type": "markdown",
      "metadata": {
        "id": "nPuBj3vyY-P-"
      },
      "source": [
        "## 12.2. Desenhando com poliforfismo: classe círculo\r\n",
        "\r\n",
        "A classe **circulo** herda todos os campos da classe **ponto** e adiciona um novo campo **raio** referente ao raio de um círculo e **ccolor** para indicar a cor do círculo.\r\n",
        "\r\n",
        "O método **construtor** da **classe círculo** usa o construtor da **classe ponto**, bem como usa **valores padrão** para todos os parâmetros. Também inicializa os campos novos específicos da classe.\r\n",
        "\r\n",
        "O método **desenha** da **classe circulo** emprega uma implementação diferente daquela utilizada na **classe ponto**. Observar o código do método **desenha** dessa classe sobrescreve, isto é, redefine as operações definidas na **classe ponto**. A principal modificação é empregar o comando **plt.Circle** no lugar de **plot**. Além disso, para adicionar o desenho do círculo é necessário adicionar o elemento gerado e salvo na variável **draw_circle** nos eixos do campo **self.fig** através do comando **gca().add_artist** (adicionar aos eixo corrente uma figura).\r\n",
        "\r\n",
        "Também é necessário configurar os eixos para que a figura resultante apareça centralizada nos eixos atuais **self.ax**. Isto é feito por meio do comando **self.ax.set()**. \r\n",
        "\r\n",
        "Seria possível usar em conjunto a implementação da **classe ponto** se o comentário do comando **super().desenha** fosse removido."
      ]
    },
    {
      "cell_type": "code",
      "metadata": {
        "colab": {
          "base_uri": "https://localhost:8080/",
          "height": 265
        },
        "id": "2Ai7QvkJb1G8",
        "outputId": "1071a4ef-05e9-4646-afd9-a1ffd1c7be12"
      },
      "source": [
        "import matplotlib.pyplot as plt\r\n",
        "\r\n",
        "class circulo(ponto):\r\n",
        "  def __init__(self,x=1.0,y=1.0,symbol='o',ccolor='red',raio=0.25):\r\n",
        "    super().__init__(x,y,symbol)\r\n",
        "    self.raio = raio\r\n",
        "    self.ccolor = ccolor\r\n",
        "   \r\n",
        "  def desenha(self):\r\n",
        "    #super().desenha()\r\n",
        "    draw_circle = plt.Circle((self.x, self.y), self.raio, fill=True, \r\n",
        "                             color=self.ccolor)\r\n",
        "    self.fig.gca().add_artist(draw_circle)\r\n",
        "    x = self.x\r\n",
        "    y = self.y\r\n",
        "    r = self.raio\r\n",
        "    xmin = x - 2*r\r\n",
        "    xmax = x + 2*r\r\n",
        "    ymin = y - 2*r\r\n",
        "    ymax = y + 2*r\r\n",
        "    self.ax.set(xlim=(xmin, xmax), ylim=(ymin, ymax))\r\n",
        "    self.ax.grid()\r\n",
        "    self.fig.show()\r\n",
        "\r\n",
        "c1 = circulo()\r\n",
        "c1.desenha()"
      ],
      "execution_count": null,
      "outputs": [
        {
          "output_type": "display_data",
          "data": {
            "image/png": "[encoded data removed]",
            "text/plain": [
              "<Figure size 432x288 with 1 Axes>"
            ]
          },
          "metadata": {
            "tags": [],
            "needs_background": "light"
          }
        }
      ]
    },
    {
      "cell_type": "markdown",
      "metadata": {
        "id": "-j87m5RdflgS"
      },
      "source": [
        "## 12.3 Criando uma lista de objetos geométricos"
      ]
    },
    {
      "cell_type": "code",
      "metadata": {
        "colab": {
          "base_uri": "https://localhost:8080/",
          "height": 1000
        },
        "id": "2goi88D8fp4F",
        "outputId": "a03592da-e3d8-438f-e5c6-aa2af3f33b2f"
      },
      "source": [
        "from random import seed\r\n",
        "from random import randint\r\n",
        "seed(1)\r\n",
        "\r\n",
        "L = []\r\n",
        "cdic = {1:'red',2:'blue',3:'yellow',4:'green'}\r\n",
        "\r\n",
        "for i in range(1,5):\r\n",
        "  x = randint(0, 10)\r\n",
        "  y = randint(0, 10)\r\n",
        "  L.append(ponto(x,y,color=cdic[i]))\r\n",
        "  L.append(circulo(x,y,ccolor=cdic[i]))\r\n",
        "\r\n",
        "for g in L:\r\n",
        "  g.desenha()"
      ],
      "execution_count": null,
      "outputs": [
        {
          "output_type": "display_data",
          "data": {
            "image/png": "[encoded data removed]",
            "text/plain": [
              "<Figure size 432x288 with 1 Axes>"
            ]
          },
          "metadata": {
            "tags": [],
            "needs_background": "light"
          }
        },
        {
          "output_type": "display_data",
          "data": {
            "image/png": "[encoded data removed]",
            "text/plain": [
              "<Figure size 432x288 with 1 Axes>"
            ]
          },
          "metadata": {
            "tags": [],
            "needs_background": "light"
          }
        },
        {
          "output_type": "display_data",
          "data": {
            "image/png": "[encoded data removed]",
            "text/plain": [
              "<Figure size 432x288 with 1 Axes>"
            ]
          },
          "metadata": {
            "tags": [],
            "needs_background": "light"
          }
        },
        {
          "output_type": "display_data",
          "data": {
            "image/png": "[encoded data removed]",
            "text/plain": [
              "<Figure size 432x288 with 1 Axes>"
            ]
          },
          "metadata": {
            "tags": [],
            "needs_background": "light"
          }
        },
        {
          "output_type": "display_data",
          "data": {
            "image/png": "[encoded data removed]",
            "text/plain": [
              "<Figure size 432x288 with 1 Axes>"
            ]
          },
          "metadata": {
            "tags": [],
            "needs_background": "light"
          }
        },
        {
          "output_type": "display_data",
          "data": {
            "image/png": "[encoded data removed]",
            "text/plain": [
              "<Figure size 432x288 with 1 Axes>"
            ]
          },
          "metadata": {
            "tags": [],
            "needs_background": "light"
          }
        },
        {
          "output_type": "display_data",
          "data": {
            "image/png": "[encoded data removed]",
            "text/plain": [
              "<Figure size 432x288 with 1 Axes>"
            ]
          },
          "metadata": {
            "tags": [],
            "needs_background": "light"
          }
        },
        {
          "output_type": "display_data",
          "data": {
            "image/png": "[encoded data removed]",
            "text/plain": [
              "<Figure size 432x288 with 1 Axes>"
            ]
          },
          "metadata": {
            "tags": [],
            "needs_background": "light"
          }
        }
      ]
    },
    {
      "cell_type": "markdown",
      "metadata": {
        "id": "YqdnSh4DjCZb"
      },
      "source": [
        "# 13. Classes Abstratas\r\n",
        "\r\n",
        "O **polimorfismo** pode ser obtido ao se definir uma **classe abstrata**, isto é, uma classe tal que existe pelo menos um **método abstrato**. Métodos abstratos são aqueles que são **declarados**, mas **não são definidos**. \r\n",
        "\r\n",
        "Para declarar um **método abstract** basta utilizar a palavra-chave **@abstractmethod** antes da declaração do método.\r\n",
        "\r\n",
        "Depois que uma classe abstrata é criada, **classes** que **herdam** os **métodos abstratos** da **classe abstrata**, mas que **definem** as **operações** a serem realizadas por esses métodos, são criadas. Essas classes são chamadas de **classes concretas**.\r\n"
      ]
    },
    {
      "cell_type": "markdown",
      "metadata": {
        "id": "wQiwammY3H7B"
      },
      "source": [
        "## 13.1 Exemplo de classe abstrata\r\n",
        "\r\n",
        "O código a seguir ilustra como criar uma **classe abstrata ABC** cujo construtor não tem implementação e possui o **método abstrato foo**. \r\n",
        "\r\n",
        "A **classe B** herda a **classe ABC** e implementa o **método foo**, tornando-se uma classe **concreta**, isto é, uma classe para a qual pode-se criar uma instância da mesma.\r\n",
        "\r\n",
        "A **classe C** herda a **classe B**, bem como define e implementa um novo **método bar** que é específico apenas dessa classe.\r\n",
        "\r\n",
        "> Bloco com recuo\r\n",
        "\r\n"
      ]
    },
    {
      "cell_type": "code",
      "metadata": {
        "colab": {
          "base_uri": "https://localhost:8080/"
        },
        "id": "xUalKO0_Smm3",
        "outputId": "b49f8207-00c7-46fd-d740-fe92ff586105"
      },
      "source": [
        "from abc import ABC, abstractmethod\r\n",
        "\r\n",
        "\r\n",
        "class A(ABC): # torna a classe A abstrata\r\n",
        "\r\n",
        "    def __init__(self):\r\n",
        "        pass # não tem implementação, mas deverá ter no futuro.\r\n",
        "\r\n",
        "    @abstractmethod  # torna o método abstrato.\r\n",
        "    def foo(self,s):\r\n",
        "        return\r\n",
        "\r\n",
        "class B(A):  # a classe B herda de A e implementa o método foo.\r\n",
        "    def __init__(self):\r\n",
        "        super(B, self).__init__()\r\n",
        "        pass \r\n",
        "\r\n",
        "    def foo(self):\r\n",
        "        print('Foo method in class B')\r\n",
        "\r\n",
        "\r\n",
        "class C(B):  # a classe C herda de B e implementa novo método bar.\r\n",
        "    def bar(self):\r\n",
        "        print('Bar method in class C')\r\n",
        "\r\n",
        "class_b = B()\r\n",
        "class_b.foo()\r\n",
        "class_c = C()\r\n",
        "class_c.foo()\r\n",
        "class_c.bar()"
      ],
      "execution_count": null,
      "outputs": [
        {
          "output_type": "stream",
          "text": [
            "Foo method in class B\n",
            "Foo method in class B\n",
            "Bar method in class C\n"
          ],
          "name": "stdout"
        }
      ]
    },
    {
      "cell_type": "markdown",
      "metadata": {
        "id": "-0UocTKO1TUe"
      },
      "source": [
        "## 13.2 Classes abstratas e isinstance\r\n",
        "\r\n",
        "A partir do código anterior é possível criar uma **lista de objetos** das **classes B e C** e depois invocar o **método foo** para qualquer objeto. O porém é que para o caso do objeto ser da **classe C** deseja-se também **invocar** um método exclusivo desta classe, o **método bar**.\r\n",
        "\r\n",
        "Para tanto, pode-se empregar a função **isinstance** que verifica se um dado objeto é de uma dada classe (retorna **True**) ou não (retorna **False**). Caso o objeto seja da **classe C**, então, será invocado o **método bar**.\r\n",
        "\r\n"
      ]
    },
    {
      "cell_type": "code",
      "metadata": {
        "colab": {
          "base_uri": "https://localhost:8080/"
        },
        "id": "O2J_NVJO1YHc",
        "outputId": "94b5f875-5d65-4a44-ca17-fd3145e3d936"
      },
      "source": [
        "lista = [] \r\n",
        "lista.append(B())\r\n",
        "lista.append(C())\r\n",
        "\r\n",
        "for obj in lista:\r\n",
        "  obj.foo()\r\n",
        "  if isinstance(obj, C):\r\n",
        "    obj.bar()"
      ],
      "execution_count": null,
      "outputs": [
        {
          "output_type": "stream",
          "text": [
            "Foo method in class B\n",
            "Foo method in class B\n",
            "Bar method in class C\n"
          ],
          "name": "stdout"
        }
      ]
    },
    {
      "cell_type": "markdown",
      "metadata": {
        "id": "DocCibYCjLjn"
      },
      "source": [
        "# 14. Interface\r\n",
        "\r\n",
        "Toda **classe abstrata** que só possua métodos abstratos é denominada de **Interface**. O propósito das **Interfaces** é garantir que certas **classes usem e implementem métodos** que são **comuns entre elas**, mas que **não** o **é possível** fazer isso através do mecanismo de **Herança única**. \r\n",
        "\r\n",
        "**Iterfaces** são necessárias para linguagens de programação que não permitem herança múltipla, mas no caso do Python é possível empregar esse recurso e, portanto, não existe uma palavra-chave específica para se criar formalmente uma interface."
      ]
    },
    {
      "cell_type": "markdown",
      "metadata": {
        "id": "s5-ZGEqFgDYm"
      },
      "source": [
        "# 15. Tratamento de exceções\r\n",
        "\r\n",
        "Na linguagem de programação Python para o caso de um erro de uma operação, a linguagem oferece o lançamento de uma mensagem de erro ou exceção.\r\n",
        "\r\n",
        "O código a seguir ilustra esse mecanismo ao se tentar realizar a operação 0/0. Como a operação matemática não pode ser realizada, a linguagem envia uma mensagem para o usuário indicando o erro ocorrido. Esse erro é dito **erro de exceção**."
      ]
    },
    {
      "cell_type": "code",
      "metadata": {
        "colab": {
          "base_uri": "https://localhost:8080/",
          "height": 166
        },
        "id": "lhfeYQrCYDNC",
        "outputId": "ef6bfef5-aecf-4451-8be1-cb522b0df6d2"
      },
      "source": [
        "print( 0 / 0)"
      ],
      "execution_count": null,
      "outputs": [
        {
          "output_type": "error",
          "ename": "ZeroDivisionError",
          "evalue": "ignored",
          "traceback": [
            "\u001b[0;31m---------------------------------------------------------------------------\u001b[0m",
            "\u001b[0;31mZeroDivisionError\u001b[0m                         Traceback (most recent call last)",
            "\u001b[0;32m<ipython-input-14-b7f65c155a3b>\u001b[0m in \u001b[0;36m<module>\u001b[0;34m()\u001b[0m\n\u001b[0;32m----> 1\u001b[0;31m \u001b[0mprint\u001b[0m\u001b[0;34m(\u001b[0m \u001b[0;36m0\u001b[0m \u001b[0;34m/\u001b[0m \u001b[0;36m0\u001b[0m\u001b[0;34m)\u001b[0m\u001b[0;34m\u001b[0m\u001b[0;34m\u001b[0m\u001b[0m\n\u001b[0m",
            "\u001b[0;31mZeroDivisionError\u001b[0m: division by zero"
          ]
        }
      ]
    },
    {
      "cell_type": "markdown",
      "metadata": {
        "id": "pdWsY1AjbC8H"
      },
      "source": [
        "É possível definir suas próprias mensagens de erro de exceção através dos comandos **raise** e **Exception**. A palavra **raise** significa levantar e **Exception** significa exceção. A combinação dessas duas palavras-chaves irá fornecer o tipo de mensagem que deverá aparecer para o usuário no console caso alguma condição seja atingida pelo programa. "
      ]
    },
    {
      "cell_type": "code",
      "metadata": {
        "colab": {
          "base_uri": "https://localhost:8080/",
          "height": 200
        },
        "id": "CZnsgt2ibQp2",
        "outputId": "dfc7d275-2d5f-4e53-d886-808e1b57a937"
      },
      "source": [
        "x = -10\r\n",
        "if x < 0:\r\n",
        "    raise Exception('x não pode ser negativo. O valor atual de x é: {}'.format(x))"
      ],
      "execution_count": null,
      "outputs": [
        {
          "output_type": "error",
          "ename": "Exception",
          "evalue": "ignored",
          "traceback": [
            "\u001b[0;31m---------------------------------------------------------------------------\u001b[0m",
            "\u001b[0;31mException\u001b[0m                                 Traceback (most recent call last)",
            "\u001b[0;32m<ipython-input-18-4b34d3e15415>\u001b[0m in \u001b[0;36m<module>\u001b[0;34m()\u001b[0m\n\u001b[1;32m      1\u001b[0m \u001b[0mx\u001b[0m \u001b[0;34m=\u001b[0m \u001b[0;34m-\u001b[0m\u001b[0;36m10\u001b[0m\u001b[0;34m\u001b[0m\u001b[0;34m\u001b[0m\u001b[0m\n\u001b[1;32m      2\u001b[0m \u001b[0;32mif\u001b[0m \u001b[0mx\u001b[0m \u001b[0;34m<\u001b[0m \u001b[0;36m0\u001b[0m\u001b[0;34m:\u001b[0m\u001b[0;34m\u001b[0m\u001b[0;34m\u001b[0m\u001b[0m\n\u001b[0;32m----> 3\u001b[0;31m     \u001b[0;32mraise\u001b[0m \u001b[0mException\u001b[0m\u001b[0;34m(\u001b[0m\u001b[0;34m'x não pode ser negativo. O valor atual de x é: {}'\u001b[0m\u001b[0;34m.\u001b[0m\u001b[0mformat\u001b[0m\u001b[0;34m(\u001b[0m\u001b[0mx\u001b[0m\u001b[0;34m)\u001b[0m\u001b[0;34m)\u001b[0m\u001b[0;34m\u001b[0m\u001b[0;34m\u001b[0m\u001b[0m\n\u001b[0m",
            "\u001b[0;31mException\u001b[0m: x não pode ser negativo. O valor atual de x é: -10"
          ]
        }
      ]
    },
    {
      "cell_type": "markdown",
      "metadata": {
        "id": "-iS0h_w4eNPF"
      },
      "source": [
        "Ao invés de se utilizar um **if** para verificar o atendimento de uma dada condição, pode-se empregar o comando **assert**. A vantagem em que em caso de erro será possível definir como lidar com o mesmo, como será visto mais a frente.\r\n",
        "\r\n",
        "O código a seguir verifica se a plataforma utilizada pelo Google Colab é linux. Se de fato for, então, nenhuma mensagem de erro irá ocorrer."
      ]
    },
    {
      "cell_type": "code",
      "metadata": {
        "id": "VJTksIqJdFbG"
      },
      "source": [
        "import sys\r\n",
        "assert ('linux' in sys.platform)"
      ],
      "execution_count": null,
      "outputs": []
    },
    {
      "cell_type": "markdown",
      "metadata": {
        "id": "LZL8yHOEetsQ"
      },
      "source": [
        "O código dado a seguir introduz 4 comandos que devem ser aplicados em sequência: **try**, **except**, **else**, e **finally**.\r\n",
        "\r\n",
        "1. **try**: tenta executar um comando. Para o caso do comando levantar alguma exceção será verificado se foi um erro de **assert**. \r\n",
        "\r\n",
        "2. Para o caso do erro em **assert**, o mesmo será tratado no bloco definido em **except AssertionError as error:**.\r\n",
        "\r\n",
        "3. Caso não ocorra erro, então, o fluxo do programa será direcionado para o **else** do **try**.\r\n",
        "\r\n",
        "4. O comando **finally** é sempre executado não importando quais exceções ocorreram."
      ]
    },
    {
      "cell_type": "code",
      "metadata": {
        "colab": {
          "base_uri": "https://localhost:8080/"
        },
        "id": "W22Cn9lKdXbo",
        "outputId": "2a2437c1-6be2-432a-ae4c-f7e37504e078"
      },
      "source": [
        "def linux():\r\n",
        "    assert ('linux' in sys.platform), \"Esta função só funciona em linux.\"\r\n",
        "    \r\n",
        "try:\r\n",
        "    linux()\r\n",
        "except AssertionError as error:\r\n",
        "    print(error)\r\n",
        "    print('A função linux() não funcionou')\r\n",
        "else:\r\n",
        "    try:\r\n",
        "      print('Tentando operação aritmética...')\r\n",
        "      print(0/0)\r\n",
        "    except ZeroDivisionError as error:\r\n",
        "      print('Erro de divisão por zero!')\r\n",
        "finally:\r\n",
        "  print(\"Sempre é executado!\")"
      ],
      "execution_count": null,
      "outputs": [
        {
          "output_type": "stream",
          "text": [
            "Tentando operação aritmética...\n",
            "Erro de divisão por zero!\n",
            "Sempre é executado!\n"
          ],
          "name": "stdout"
        }
      ]
    }
  ]
}