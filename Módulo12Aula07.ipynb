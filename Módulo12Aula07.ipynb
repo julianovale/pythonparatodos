{
  "nbformat": 4,
  "nbformat_minor": 0,
  "metadata": {
    "colab": {
      "name": "Módulo12Aula07.ipynb",
      "provenance": [],
      "collapsed_sections": [],
      "authorship_tag": "ABX9TyP93x6ihMESHwKFBwbhQ19b",
      "include_colab_link": true
    },
    "kernelspec": {
      "name": "python3",
      "display_name": "Python 3"
    }
  },
  "cells": [
    {
      "cell_type": "markdown",
      "metadata": {
        "id": "view-in-github",
        "colab_type": "text"
      },
      "source": [
        "<a href=\"https://colab.research.google.com/github/julianovale/pythonparatodos/blob/main/M%C3%B3dulo12Aula07.ipynb\" target=\"_parent\"><img src=\"https://colab.research.google.com/assets/colab-badge.svg\" alt=\"Open In Colab\"/></a>"
      ]
    },
    {
      "cell_type": "code",
      "metadata": {
        "id": "NYcB9TLDXeSq"
      },
      "source": [
        "# public, protected, private\r\n",
        "class Retangulo:\r\n",
        "  def __init__(self, x, y):\r\n",
        "    self.__x = x # (dois underscore) nível de permissão: private: ou seja, só posso ter acesso através de uma método dentro da classe\r\n",
        "    self._y = y # (um underscore) nível de permissão: protected.\r\n",
        "    #self.z = z # seria public\r\n",
        "\r\n",
        "  def printX(self):\r\n",
        "    s = ''+str(self.__x)\r\n",
        "    return s\r\n",
        "\r\n",
        "  def printY(self):\r\n",
        "    s = ''+str(self._y)\r\n",
        "    return s\r\n",
        "\r\n",
        "  def mudaY(self, y):\r\n",
        "    if (y > 0):\r\n",
        "      self._y = y\r\n"
      ],
      "execution_count": 34,
      "outputs": []
    },
    {
      "cell_type": "code",
      "metadata": {
        "colab": {
          "base_uri": "https://localhost:8080/"
        },
        "id": "0NJh02WCZSeI",
        "outputId": "9ed27a31-0d1e-4714-d1eb-162a334cfb8e"
      },
      "source": [
        "r = Retangulo(4,5)\r\n",
        "print('r.x =',r.printX())\r\n",
        "print('r.y =',r.printY())\r\n",
        "r._y = 6\r\n",
        "print('r.y =',r.printY())\r\n",
        "r.mudaY(-20)\r\n",
        "print('r.y =',r.printY())\r\n",
        "r.mudaY(1)\r\n",
        "print('r.y =',r.printY())\r\n",
        "r._y = -8\r\n",
        "print('r.y =',r.printY())\r\n",
        "r.__x = 7 # cuidado pois foi criada uma variável com o nome \"r.__x\", não é a mesma coisa do método...\r\n",
        "print('r.x =',r.printX()) # aqui está o print do método (como é private, não altera)\r\n",
        "print(r.__x) # aqui é o print da variável"
      ],
      "execution_count": 36,
      "outputs": [
        {
          "output_type": "stream",
          "text": [
            "r.x = 4\n",
            "r.y = 5\n",
            "r.y = 6\n",
            "r.y = 6\n",
            "r.y = 1\n",
            "r.y = -8\n",
            "r.x = 4\n",
            "7\n"
          ],
          "name": "stdout"
        }
      ]
    }
  ]
}