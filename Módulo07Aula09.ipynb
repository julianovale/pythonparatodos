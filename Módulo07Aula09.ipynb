{
  "nbformat": 4,
  "nbformat_minor": 0,
  "metadata": {
    "colab": {
      "name": "Módulo07Aula09.ipynb",
      "provenance": [],
      "collapsed_sections": [],
      "authorship_tag": "ABX9TyMIWbsrjLpZJk0QsqtvVN+U",
      "include_colab_link": true
    },
    "kernelspec": {
      "name": "python3",
      "display_name": "Python 3"
    }
  },
  "cells": [
    {
      "cell_type": "markdown",
      "metadata": {
        "id": "view-in-github",
        "colab_type": "text"
      },
      "source": [
        "<a href=\"https://colab.research.google.com/github/julianovale/pythonparatodos/blob/main/M%C3%B3dulo07Aula09.ipynb\" target=\"_parent\"><img src=\"https://colab.research.google.com/assets/colab-badge.svg\" alt=\"Open In Colab\"/></a>"
      ]
    },
    {
      "cell_type": "code",
      "metadata": {
        "id": "5NprUUTa9x7X"
      },
      "source": [
        "def embaralha(**men):\r\n",
        "  print(men['p2']+men['p1']+men['p3'])\r\n"
      ],
      "execution_count": 1,
      "outputs": []
    },
    {
      "cell_type": "code",
      "metadata": {
        "colab": {
          "base_uri": "https://localhost:8080/"
        },
        "id": "qGj-hTuSCPlQ",
        "outputId": "c6158361-8d06-4b5f-f697-d85f007d7945"
      },
      "source": [
        "embaralha(p1 = \"usar\", p2 = \"chave\", p3 = \"vermelha\")"
      ],
      "execution_count": 2,
      "outputs": [
        {
          "output_type": "stream",
          "text": [
            "chaveusarvermelha\n"
          ],
          "name": "stdout"
        }
      ]
    }
  ]
}