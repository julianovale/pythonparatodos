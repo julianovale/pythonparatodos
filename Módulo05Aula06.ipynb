{
  "nbformat": 4,
  "nbformat_minor": 0,
  "metadata": {
    "colab": {
      "name": "Módulo05Aula06.ipynb",
      "provenance": [],
      "collapsed_sections": [],
      "authorship_tag": "ABX9TyMHq/8g401h2szf7St7nNF3",
      "include_colab_link": true
    },
    "kernelspec": {
      "name": "python3",
      "display_name": "Python 3"
    }
  },
  "cells": [
    {
      "cell_type": "markdown",
      "metadata": {
        "id": "view-in-github",
        "colab_type": "text"
      },
      "source": [
        "<a href=\"https://colab.research.google.com/github/julianovale/pythonparatodos/blob/main/M%C3%B3dulo05Aula06.ipynb\" target=\"_parent\"><img src=\"https://colab.research.google.com/assets/colab-badge.svg\" alt=\"Open In Colab\"/></a>"
      ]
    },
    {
      "cell_type": "code",
      "metadata": {
        "id": "wU1eCuiOFUlr",
        "colab": {
          "base_uri": "https://localhost:8080/"
        },
        "outputId": "b75e60fd-c52c-4b80-bb2b-ad7ac461ca47"
      },
      "source": [
        "temp = 25\r\n",
        "if temp <= 20:\r\n",
        "  acao = \"1\"\r\n",
        "elif temp <= 25:\r\n",
        "  acao = '2'\r\n",
        "elif temp <= 30:\r\n",
        "  acao = '3'\r\n",
        "else:\r\n",
        "  acao = '4'\r\n",
        "\r\n",
        "print(acao)"
      ],
      "execution_count": 3,
      "outputs": [
        {
          "output_type": "stream",
          "text": [
            "2\n"
          ],
          "name": "stdout"
        }
      ]
    },
    {
      "cell_type": "code",
      "metadata": {
        "colab": {
          "base_uri": "https://localhost:8080/"
        },
        "id": "lwwLwaurHYdQ",
        "outputId": "6700740e-5cb3-4e1f-aaa1-19da323816e5"
      },
      "source": [
        "temp = 24\r\n",
        "umid = 0.36\r\n",
        "\r\n",
        "if temp >= 25:\r\n",
        "  acao = \"1\"\r\n",
        "else:\r\n",
        "  if umid <= 0.2:\r\n",
        "    acao = \"2\"\r\n",
        "  elif umid <= 0.4:\r\n",
        "    acao = \"3\"\r\n",
        "  else:\r\n",
        "    acao = \"4\"\r\n",
        "\r\n",
        "print(acao)"
      ],
      "execution_count": 1,
      "outputs": [
        {
          "output_type": "stream",
          "text": [
            "3\n"
          ],
          "name": "stdout"
        }
      ]
    }
  ]
}