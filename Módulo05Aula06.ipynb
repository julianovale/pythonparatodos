{
  "nbformat": 4,
  "nbformat_minor": 0,
  "metadata": {
    "colab": {
      "name": "Módulo05Aula06.ipynb",
      "provenance": [],
      "collapsed_sections": [],
      "authorship_tag": "ABX9TyNA0E9y/LAI8VW78lJNVqTX",
      "include_colab_link": true
    },
    "kernelspec": {
      "name": "python3",
      "display_name": "Python 3"
    }
  },
  "cells": [
    {
      "cell_type": "markdown",
      "metadata": {
        "id": "view-in-github",
        "colab_type": "text"
      },
      "source": [
        "<a href=\"https://colab.research.google.com/github/julianovale/pythonparatodos/blob/main/M%C3%B3dulo05Aula06.ipynb\" target=\"_parent\"><img src=\"https://colab.research.google.com/assets/colab-badge.svg\" alt=\"Open In Colab\"/></a>"
      ]
    },
    {
      "cell_type": "markdown",
      "metadata": {
        "id": "QM_fogE7IzPk"
      },
      "source": [
        "Slides:\r\n",
        "\r\n",
        "https://www.youtube.com/redirect?redir_token=QUFFLUhqa255UDdodEhPVndCRWRLbEVZT2x6S2VmWWlIQXxBQ3Jtc0ttbFhHWGd0WWtxZUFvNUx2RFBuYU1qdmZnRnZULWQ4X1VQUkxvNHFpRmc2c1M0cm4tVmV2R2h3blYzRGtsLTlMWmVZRHBNNHRmNFA2NkZ1VzBiMXNyRGpMMTNNY21YRjZobE9HRlhzYk5RT1k4aHpidw%3D%3D&v=ah0SdTNNDSg&q=https%3A%2F%2Fdrive.google.com%2Ffile%2Fd%2F10FOuBPT6EI50YH0DYpcZgugxpQHeTLCv%2Fview%3Fusp%3Dsharing&event=video_description\r\n",
        "\r\n"
      ]
    },
    {
      "cell_type": "code",
      "metadata": {
        "id": "wU1eCuiOFUlr",
        "colab": {
          "base_uri": "https://localhost:8080/"
        },
        "outputId": "b75e60fd-c52c-4b80-bb2b-ad7ac461ca47"
      },
      "source": [
        "temp = 25\r\n",
        "if temp <= 20:\r\n",
        "  acao = \"1\"\r\n",
        "elif temp <= 25:\r\n",
        "  acao = '2'\r\n",
        "elif temp <= 30:\r\n",
        "  acao = '3'\r\n",
        "else:\r\n",
        "  acao = '4'\r\n",
        "\r\n",
        "print(acao)"
      ],
      "execution_count": null,
      "outputs": [
        {
          "output_type": "stream",
          "text": [
            "2\n"
          ],
          "name": "stdout"
        }
      ]
    },
    {
      "cell_type": "code",
      "metadata": {
        "colab": {
          "base_uri": "https://localhost:8080/"
        },
        "id": "lwwLwaurHYdQ",
        "outputId": "6700740e-5cb3-4e1f-aaa1-19da323816e5"
      },
      "source": [
        "temp = 24\r\n",
        "umid = 0.36\r\n",
        "\r\n",
        "if temp >= 25:\r\n",
        "  acao = \"1\"\r\n",
        "else:\r\n",
        "  if umid <= 0.2:\r\n",
        "    acao = \"2\"\r\n",
        "  elif umid <= 0.4:\r\n",
        "    acao = \"3\"\r\n",
        "  else:\r\n",
        "    acao = \"4\"\r\n",
        "\r\n",
        "print(acao)"
      ],
      "execution_count": null,
      "outputs": [
        {
          "output_type": "stream",
          "text": [
            "3\n"
          ],
          "name": "stdout"
        }
      ]
    }
  ]
}