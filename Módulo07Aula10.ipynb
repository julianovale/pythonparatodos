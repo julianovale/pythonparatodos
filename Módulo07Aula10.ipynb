{
  "nbformat": 4,
  "nbformat_minor": 0,
  "metadata": {
    "colab": {
      "name": "Módulo07Aula10.ipynb",
      "provenance": [],
      "collapsed_sections": [],
      "authorship_tag": "ABX9TyOslwpeQ1QThCTOgOgd0iwa",
      "include_colab_link": true
    },
    "kernelspec": {
      "name": "python3",
      "display_name": "Python 3"
    }
  },
  "cells": [
    {
      "cell_type": "markdown",
      "metadata": {
        "id": "view-in-github",
        "colab_type": "text"
      },
      "source": [
        "<a href=\"https://colab.research.google.com/github/julianovale/pythonparatodos/blob/main/M%C3%B3dulo07Aula10.ipynb\" target=\"_parent\"><img src=\"https://colab.research.google.com/assets/colab-badge.svg\" alt=\"Open In Colab\"/></a>"
      ]
    },
    {
      "cell_type": "code",
      "metadata": {
        "id": "m7f4bnp_Dkax"
      },
      "source": [
        "def somaL(lista1):\r\n",
        "  soma = 0\r\n",
        "  for i in lista1:\r\n",
        "    soma = soma+i\r\n",
        "  return soma"
      ],
      "execution_count": 5,
      "outputs": []
    },
    {
      "cell_type": "code",
      "metadata": {
        "colab": {
          "base_uri": "https://localhost:8080/"
        },
        "id": "5NprUUTa9x7X",
        "outputId": "bd838479-1f90-4d21-8c5a-d651e7d95b37"
      },
      "source": [
        "lista1 = [2, -6, 7, 8]\r\n",
        "soma = somaL(lista1)\r\n",
        "print(lista1)\r\n",
        "print(\"Soma dos elementos = {0:.2f}\".format(soma))"
      ],
      "execution_count": 6,
      "outputs": [
        {
          "output_type": "stream",
          "text": [
            "[2, -6, 7, 8]\n",
            "Soma dos elementos = 11.00\n"
          ],
          "name": "stdout"
        }
      ]
    }
  ]
}