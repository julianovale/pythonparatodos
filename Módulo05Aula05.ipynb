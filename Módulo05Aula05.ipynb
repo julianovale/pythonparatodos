{
  "nbformat": 4,
  "nbformat_minor": 0,
  "metadata": {
    "colab": {
      "name": "Módulo05Aula05.ipynb",
      "provenance": [],
      "authorship_tag": "ABX9TyNG5TW4aKsn9/qq2zxSuK4J",
      "include_colab_link": true
    },
    "kernelspec": {
      "name": "python3",
      "display_name": "Python 3"
    }
  },
  "cells": [
    {
      "cell_type": "markdown",
      "metadata": {
        "id": "view-in-github",
        "colab_type": "text"
      },
      "source": [
        "<a href=\"https://colab.research.google.com/github/julianovale/pythonparatodos/blob/main/M%C3%B3dulo05Aula05.ipynb\" target=\"_parent\"><img src=\"https://colab.research.google.com/assets/colab-badge.svg\" alt=\"Open In Colab\"/></a>"
      ]
    },
    {
      "cell_type": "code",
      "metadata": {
        "colab": {
          "base_uri": "https://localhost:8080/"
        },
        "id": "asUdE70b5xLw",
        "outputId": "05ef3d30-742a-46bf-e828-fba1f3acf276"
      },
      "source": [
        "temp = 24\r\n",
        "umid = 0.36\r\n",
        "\r\n",
        "if temp >= 25:\r\n",
        "  temp -= 5\r\n",
        "else:\r\n",
        "  if umid <= 0.2:\r\n",
        "    umid += 0.4\r\n",
        "  elif umid <= 0.4:\r\n",
        "    umid += 0.1\r\n",
        "  else:\r\n",
        "    umid += 0.01\r\n",
        "  temp -= 1\r\n",
        "\r\n",
        "print('temperatura = ',str(temp))\r\n",
        "print('umidade = ',str(umid))\r\n"
      ],
      "execution_count": 3,
      "outputs": [
        {
          "output_type": "stream",
          "text": [
            "temperatura =  23\n",
            "umidade =  0.45999999999999996\n"
          ],
          "name": "stdout"
        }
      ]
    }
  ]
}