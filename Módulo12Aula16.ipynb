{
  "nbformat": 4,
  "nbformat_minor": 0,
  "metadata": {
    "colab": {
      "name": "Módulo12Aula16.ipynb",
      "provenance": [],
      "collapsed_sections": [],
      "authorship_tag": "ABX9TyMcvURuQ20ab5A/doexmp0u",
      "include_colab_link": true
    },
    "kernelspec": {
      "name": "python3",
      "display_name": "Python 3"
    }
  },
  "cells": [
    {
      "cell_type": "markdown",
      "metadata": {
        "id": "view-in-github",
        "colab_type": "text"
      },
      "source": [
        "<a href=\"https://colab.research.google.com/github/julianovale/pythonparatodos/blob/main/M%C3%B3dulo12Aula16.ipynb\" target=\"_parent\"><img src=\"https://colab.research.google.com/assets/colab-badge.svg\" alt=\"Open In Colab\"/></a>"
      ]
    },
    {
      "cell_type": "code",
      "metadata": {
        "id": "iSDFj_6YMM8E"
      },
      "source": [
        "class A:\r\n",
        "  def __init__(self, x, y):\r\n",
        "    self.x = x\r\n",
        "    self.y = y\r\n",
        "\r\n",
        "  def print(self):\r\n",
        "    print('x = ', self.x, \"& y = \", self.y)\r\n",
        "\r\n",
        "class B(A):\r\n",
        "  def __init__(self, x, y, z = 0):\r\n",
        "    super().__init__(x,y)\r\n",
        "    self.z = z\r\n",
        "\r\n",
        "  def print(self):\r\n",
        "    super().print()\r\n",
        "    print(\"z =\", self.z)\r\n"
      ],
      "execution_count": 14,
      "outputs": []
    },
    {
      "cell_type": "code",
      "metadata": {
        "colab": {
          "base_uri": "https://localhost:8080/"
        },
        "id": "DMOeMVOiMr69",
        "outputId": "a3312ee5-7e7c-4e1d-c553-b6773ea8df24"
      },
      "source": [
        "obj = A(2,3)\r\n",
        "obj.print()"
      ],
      "execution_count": 15,
      "outputs": [
        {
          "output_type": "stream",
          "text": [
            "x =  2 & y =  3\n"
          ],
          "name": "stdout"
        }
      ]
    },
    {
      "cell_type": "code",
      "metadata": {
        "colab": {
          "base_uri": "https://localhost:8080/"
        },
        "id": "n0vxtKuLN47T",
        "outputId": "cc8bee33-7472-4ad8-8815-c38a98a6b409"
      },
      "source": [
        "obj = B(4,8)\r\n",
        "obj.print()"
      ],
      "execution_count": 16,
      "outputs": [
        {
          "output_type": "stream",
          "text": [
            "x =  4 & y =  8\n",
            "z = 0\n"
          ],
          "name": "stdout"
        }
      ]
    },
    {
      "cell_type": "code",
      "metadata": {
        "colab": {
          "base_uri": "https://localhost:8080/"
        },
        "id": "_I-YRMakOIbK",
        "outputId": "3d848ae9-c649-48af-9ce4-82cc31eab717"
      },
      "source": [
        "obj = B(4,8,-1)\r\n",
        "obj.print()"
      ],
      "execution_count": 17,
      "outputs": [
        {
          "output_type": "stream",
          "text": [
            "x =  4 & y =  8\n",
            "z = -1\n"
          ],
          "name": "stdout"
        }
      ]
    }
  ]
}