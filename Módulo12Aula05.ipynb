{
  "nbformat": 4,
  "nbformat_minor": 0,
  "metadata": {
    "colab": {
      "name": "Módulo12Aula05.ipynb",
      "provenance": [],
      "collapsed_sections": [],
      "authorship_tag": "ABX9TyM5Lc8wnvIsZKbZ6H40V77h",
      "include_colab_link": true
    },
    "kernelspec": {
      "name": "python3",
      "display_name": "Python 3"
    }
  },
  "cells": [
    {
      "cell_type": "markdown",
      "metadata": {
        "id": "view-in-github",
        "colab_type": "text"
      },
      "source": [
        "<a href=\"https://colab.research.google.com/github/julianovale/pythonparatodos/blob/main/M%C3%B3dulo12Aula05.ipynb\" target=\"_parent\"><img src=\"https://colab.research.google.com/assets/colab-badge.svg\" alt=\"Open In Colab\"/></a>"
      ]
    },
    {
      "cell_type": "code",
      "metadata": {
        "id": "pK_F_ghrpCYP"
      },
      "source": [
        "class Retangulo:\r\n",
        "  \r\n",
        "  # construtor\r\n",
        "  \r\n",
        "  def __init__(self, x = 0.0 , y = 0.0): # valores padrão\r\n",
        "    self.x = x\r\n",
        "    self.y = y\r\n",
        "  \r\n",
        "  # métodos\r\n",
        "\r\n",
        "  def printa(self): \r\n",
        "    print(\"x = \", self.x)\r\n",
        "    print(\"y = \", self.y)\r\n",
        "\r\n",
        "  def Perimetro(self):\r\n",
        "    return 2*self.x + 2*self.y\r\n",
        "\r\n",
        "  def Area(self):\r\n",
        "    return self.x * self.y"
      ],
      "execution_count": 4,
      "outputs": []
    },
    {
      "cell_type": "code",
      "metadata": {
        "colab": {
          "base_uri": "https://localhost:8080/"
        },
        "id": "sI5eHJEBpkRc",
        "outputId": "cefffb5a-81bb-4ca0-af5f-540a5917e1c0"
      },
      "source": [
        "ra = Retangulo(4, 5)\r\n",
        "ra.printa()\r\n",
        "print()\r\n",
        "print(\"Perimetro = \", ra.Perimetro())\r\n",
        "print()\r\n",
        "print(\"Área = \",ra.Area())\r\n"
      ],
      "execution_count": 8,
      "outputs": [
        {
          "output_type": "stream",
          "text": [
            "x =  4\n",
            "y =  5\n",
            "\n",
            "Perimetro =  18\n",
            "\n",
            "Área =  20\n"
          ],
          "name": "stdout"
        }
      ]
    },
    {
      "cell_type": "code",
      "metadata": {
        "colab": {
          "base_uri": "https://localhost:8080/"
        },
        "id": "wzg6Of3TzSss",
        "outputId": "374d0749-0d91-4369-b23d-9b7f015eb045"
      },
      "source": [
        "Retangulo(4,5).Area()"
      ],
      "execution_count": 9,
      "outputs": [
        {
          "output_type": "execute_result",
          "data": {
            "text/plain": [
              "20"
            ]
          },
          "metadata": {
            "tags": []
          },
          "execution_count": 9
        }
      ]
    }
  ]
}