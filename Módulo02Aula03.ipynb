{
  "nbformat": 4,
  "nbformat_minor": 0,
  "metadata": {
    "colab": {
      "name": "Módulo02Aula03.ipynb",
      "provenance": [],
      "collapsed_sections": [],
      "authorship_tag": "ABX9TyOXI5tGWOEiy3OgJ80JdiRJ",
      "include_colab_link": true
    },
    "kernelspec": {
      "name": "python3",
      "display_name": "Python 3"
    }
  },
  "cells": [
    {
      "cell_type": "markdown",
      "metadata": {
        "id": "view-in-github",
        "colab_type": "text"
      },
      "source": [
        "<a href=\"https://colab.research.google.com/github/julianovale/pythonparatodos/blob/main/M%C3%B3dulo02Aula03.ipynb\" target=\"_parent\"><img src=\"https://colab.research.google.com/assets/colab-badge.svg\" alt=\"Open In Colab\"/></a>"
      ]
    },
    {
      "cell_type": "code",
      "metadata": {
        "colab": {
          "base_uri": "https://localhost:8080/"
        },
        "id": "fjDz7Cm3FK0x",
        "outputId": "302d7f84-8698-424c-d425-168996f4693f"
      },
      "source": [
        "x = list(range(1,11,1))\n",
        "print(x)"
      ],
      "execution_count": 5,
      "outputs": [
        {
          "output_type": "stream",
          "text": [
            "[1, 2, 3, 4, 5, 6, 7, 8, 9, 10]\n"
          ],
          "name": "stdout"
        }
      ]
    },
    {
      "cell_type": "code",
      "metadata": {
        "colab": {
          "base_uri": "https://localhost:8080/"
        },
        "id": "SSxiV4u7Fxa-",
        "outputId": "cf3aefd1-6fb0-4dff-c109-4f134401e95a"
      },
      "source": [
        "y = list(range(12,1,-2))\n",
        "print(y)"
      ],
      "execution_count": 6,
      "outputs": [
        {
          "output_type": "stream",
          "text": [
            "[12, 10, 8, 6, 4, 2]\n"
          ],
          "name": "stdout"
        }
      ]
    },
    {
      "cell_type": "code",
      "metadata": {
        "colab": {
          "base_uri": "https://localhost:8080/"
        },
        "id": "4RLuX3yNGC9d",
        "outputId": "05f858ae-3db8-44f7-ec1f-e0952bb8354d"
      },
      "source": [
        "print(\"a soma é: \", sum(x))"
      ],
      "execution_count": 7,
      "outputs": [
        {
          "output_type": "stream",
          "text": [
            "a soma é:  55\n"
          ],
          "name": "stdout"
        }
      ]
    },
    {
      "cell_type": "code",
      "metadata": {
        "colab": {
          "base_uri": "https://localhost:8080/"
        },
        "id": "Ew3c3FXsGLg8",
        "outputId": "2f7ec81b-dbe3-4a94-f1dd-6e760aeac4ed"
      },
      "source": [
        "print(\"o náximo é: \", max(x))"
      ],
      "execution_count": 8,
      "outputs": [
        {
          "output_type": "stream",
          "text": [
            "o náximo é:  10\n"
          ],
          "name": "stdout"
        }
      ]
    },
    {
      "cell_type": "code",
      "metadata": {
        "colab": {
          "base_uri": "https://localhost:8080/"
        },
        "id": "e4TYaNU3GQDV",
        "outputId": "74b87149-a3e7-4c12-88a9-aa994d49d7b6"
      },
      "source": [
        "print(\"o mínimo é: \", min(x))"
      ],
      "execution_count": 9,
      "outputs": [
        {
          "output_type": "stream",
          "text": [
            "o mínimo é:  1\n"
          ],
          "name": "stdout"
        }
      ]
    },
    {
      "cell_type": "code",
      "metadata": {
        "colab": {
          "base_uri": "https://localhost:8080/"
        },
        "id": "IAgp_twxGb61",
        "outputId": "2620e138-6f5d-4f3a-d226-8bbd90a861c6"
      },
      "source": [
        "count = x.count(8)\n",
        "print(\"Count = \", count)"
      ],
      "execution_count": 10,
      "outputs": [
        {
          "output_type": "stream",
          "text": [
            "Count =  1\n"
          ],
          "name": "stdout"
        }
      ]
    },
    {
      "cell_type": "code",
      "metadata": {
        "colab": {
          "base_uri": "https://localhost:8080/"
        },
        "id": "6Q2QzszSITh1",
        "outputId": "5cda8142-0174-4214-eca4-a58fea65d4e1"
      },
      "source": [
        "count2 = y.count(15)\n",
        "print(count2)"
      ],
      "execution_count": 11,
      "outputs": [
        {
          "output_type": "stream",
          "text": [
            "0\n"
          ],
          "name": "stdout"
        }
      ]
    },
    {
      "cell_type": "code",
      "metadata": {
        "colab": {
          "base_uri": "https://localhost:8080/"
        },
        "id": "uLOLzTm3Ig7n",
        "outputId": "ed834f3b-3bc5-4111-8442-4fcc30ac1224"
      },
      "source": [
        "x.sort(reverse = True)\n",
        "print(x)\n",
        "x.sort(reverse= False)\n",
        "print(x)\n"
      ],
      "execution_count": 18,
      "outputs": [
        {
          "output_type": "stream",
          "text": [
            "[10, 9, 8, 7, 6, 5, 4, 3, 2, 1]\n",
            "[1, 2, 3, 4, 5, 6, 7, 8, 9, 10]\n"
          ],
          "name": "stdout"
        }
      ]
    }
  ]
}