{
  "nbformat": 4,
  "nbformat_minor": 0,
  "metadata": {
    "colab": {
      "name": "Módulo11Aula13.ipynb",
      "provenance": [],
      "collapsed_sections": [],
      "authorship_tag": "ABX9TyN5Zl+7beUIvc6JsRP97p8V",
      "include_colab_link": true
    },
    "kernelspec": {
      "name": "python3",
      "display_name": "Python 3"
    }
  },
  "cells": [
    {
      "cell_type": "markdown",
      "metadata": {
        "id": "view-in-github",
        "colab_type": "text"
      },
      "source": [
        "<a href=\"https://colab.research.google.com/github/julianovale/pythonparatodos/blob/main/M%C3%B3dulo11Aula13.ipynb\" target=\"_parent\"><img src=\"https://colab.research.google.com/assets/colab-badge.svg\" alt=\"Open In Colab\"/></a>"
      ]
    },
    {
      "cell_type": "code",
      "metadata": {
        "id": "5M-DP1n-il83"
      },
      "source": [
        "import sqlite3"
      ],
      "execution_count": 30,
      "outputs": []
    },
    {
      "cell_type": "code",
      "metadata": {
        "id": "s0oNJEfgirHX"
      },
      "source": [
        "def create_table(dbname):\r\n",
        "  conn = sqlite3.connect(dbname)\r\n",
        "  cur = conn.cursor()\r\n",
        "  cur.execute(\"CREATE TABLE IF NOT EXISTS store(item TEXT, quantity INTEGER, price REAL)\")\r\n",
        "  conn.commit()\r\n",
        "  conn.close()\r\n",
        "\r\n",
        "def view(dbname,tabname):\r\n",
        "  conn = sqlite3.connect(dbname)\r\n",
        "  cur = conn.cursor()\r\n",
        "  command = \"SELECT * FROM \"+tabname\r\n",
        "  cur.execute(command)\r\n",
        "  rows = cur.fetchall()\r\n",
        "  conn.close()\r\n",
        "  return rows\r\n",
        "\r\n",
        "def insert(dbname, tabname, item, quantity, price):\r\n",
        "  conn = sqlite3.connect(dbname)\r\n",
        "  cur = conn.cursor()\r\n",
        "  command = \"INSERT INTO \"+tabname+\" VALUES(?,?,?)\"\r\n",
        "  cur.execute(command,(item, quantity, price))\r\n",
        "  conn.commit()\r\n",
        "  conn.close()"
      ],
      "execution_count": 31,
      "outputs": []
    },
    {
      "cell_type": "code",
      "metadata": {
        "colab": {
          "base_uri": "https://localhost:8080/"
        },
        "id": "zuvJiOGrkHCt",
        "outputId": "60b3a8f3-627e-46b1-e369-e93e54e3bd71"
      },
      "source": [
        "create_table(\"lite2.db\")\r\n",
        "insert(\"lite2.db\",\"store\",\"Wine Glass\", 10, 5)\r\n",
        "print(view(\"lite2.db\",\"store\"))"
      ],
      "execution_count": 32,
      "outputs": [
        {
          "output_type": "stream",
          "text": [
            "[('Wine Glass', 10, 5.0)]\n"
          ],
          "name": "stdout"
        }
      ]
    },
    {
      "cell_type": "code",
      "metadata": {
        "colab": {
          "base_uri": "https://localhost:8080/"
        },
        "id": "dulZrVDgn2SK",
        "outputId": "646beb6d-0038-4d18-c7d1-76699a4ebfd0"
      },
      "source": [
        "!pwd\r\n",
        "!ls"
      ],
      "execution_count": 33,
      "outputs": [
        {
          "output_type": "stream",
          "text": [
            "/content\n",
            "lite2.db  sample_data\n"
          ],
          "name": "stdout"
        }
      ]
    },
    {
      "cell_type": "code",
      "metadata": {
        "id": "5K2PW8aQpmyB"
      },
      "source": [
        "import pandas as pd"
      ],
      "execution_count": 34,
      "outputs": []
    },
    {
      "cell_type": "code",
      "metadata": {
        "id": "LiuHQZkpoCVL"
      },
      "source": [
        "def tab2df(dbname, tabname):\r\n",
        "  conn = sqlite3.connect(dbname)\r\n",
        "  command = \"SELECT * FROM \" + tabname\r\n",
        "  df = pd.read_sql_query(command, conn)\r\n",
        "  conn.close()\r\n",
        "  return df"
      ],
      "execution_count": 35,
      "outputs": []
    },
    {
      "cell_type": "code",
      "metadata": {
        "colab": {
          "base_uri": "https://localhost:8080/",
          "height": 80
        },
        "id": "x8kQI96lpSAF",
        "outputId": "343ca419-3c7e-4735-d27e-458d595ddec2"
      },
      "source": [
        "df1 = tab2df('lite2.db', 'store')\r\n",
        "df1"
      ],
      "execution_count": 36,
      "outputs": [
        {
          "output_type": "execute_result",
          "data": {
            "text/html": [
              "<div>\n",
              "<style scoped>\n",
              "    .dataframe tbody tr th:only-of-type {\n",
              "        vertical-align: middle;\n",
              "    }\n",
              "\n",
              "    .dataframe tbody tr th {\n",
              "        vertical-align: top;\n",
              "    }\n",
              "\n",
              "    .dataframe thead th {\n",
              "        text-align: right;\n",
              "    }\n",
              "</style>\n",
              "<table border=\"1\" class=\"dataframe\">\n",
              "  <thead>\n",
              "    <tr style=\"text-align: right;\">\n",
              "      <th></th>\n",
              "      <th>item</th>\n",
              "      <th>quantity</th>\n",
              "      <th>price</th>\n",
              "    </tr>\n",
              "  </thead>\n",
              "  <tbody>\n",
              "    <tr>\n",
              "      <th>0</th>\n",
              "      <td>Wine Glass</td>\n",
              "      <td>10</td>\n",
              "      <td>5.0</td>\n",
              "    </tr>\n",
              "  </tbody>\n",
              "</table>\n",
              "</div>"
            ],
            "text/plain": [
              "         item  quantity  price\n",
              "0  Wine Glass        10    5.0"
            ]
          },
          "metadata": {
            "tags": []
          },
          "execution_count": 36
        }
      ]
    },
    {
      "cell_type": "code",
      "metadata": {
        "id": "gNjmUXSiqTC-"
      },
      "source": [
        "def addData(df1):\r\n",
        "  products = ['Sakê', 'Pinga']\r\n",
        "  quantity = [20, 100]\r\n",
        "  price = [50.0, 20.0]\r\n",
        "  \r\n",
        "  cont = 0\r\n",
        "  for i,j,k in zip(products,quantity,price):\r\n",
        "    df1.loc[cont] = [i, j, k]\r\n",
        "    cont += 1\r\n",
        "  \r\n",
        "  return df1"
      ],
      "execution_count": 37,
      "outputs": []
    },
    {
      "cell_type": "code",
      "metadata": {
        "id": "389FRrdlrhqh"
      },
      "source": [
        "df2 = addData(df1)"
      ],
      "execution_count": 38,
      "outputs": []
    },
    {
      "cell_type": "code",
      "metadata": {
        "colab": {
          "base_uri": "https://localhost:8080/"
        },
        "id": "RcqnFAdIsdIN",
        "outputId": "acaf7bcf-d045-4fa7-f5eb-235a2a35b7d8"
      },
      "source": [
        "def df2db(dbname, tabname, df):\r\n",
        "  conn = sqlite3.connect(dbname)\r\n",
        "  # df.to_sql(tabname, conn, index = False, if_exists = 'replace')\r\n",
        "  df.to_sql(tabname, conn, index = False, if_exists = 'append')\r\n",
        "  conn.close()\r\n",
        "\r\n",
        "print(view('lite2.db','store'))\r\n",
        "df2db('lite2.db', 'store', df1)\r\n",
        "print(view('lite2.db','store'))"
      ],
      "execution_count": 39,
      "outputs": [
        {
          "output_type": "stream",
          "text": [
            "[('Wine Glass', 10, 5.0)]\n",
            "[('Wine Glass', 10, 5.0), ('Sakê', 20, 50.0), ('Pinga', 100, 20.0)]\n"
          ],
          "name": "stdout"
        }
      ]
    }
  ]
}