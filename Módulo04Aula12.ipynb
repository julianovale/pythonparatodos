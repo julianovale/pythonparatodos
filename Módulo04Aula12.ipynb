{
  "nbformat": 4,
  "nbformat_minor": 0,
  "metadata": {
    "colab": {
      "name": "Módulo04Aula12.ipynb",
      "provenance": [],
      "collapsed_sections": [],
      "authorship_tag": "ABX9TyPfVznEB8n45u7Et1XQG3ff",
      "include_colab_link": true
    },
    "kernelspec": {
      "name": "python3",
      "display_name": "Python 3"
    }
  },
  "cells": [
    {
      "cell_type": "markdown",
      "metadata": {
        "id": "view-in-github",
        "colab_type": "text"
      },
      "source": [
        "<a href=\"https://colab.research.google.com/github/julianovale/pythonparatodos/blob/main/M%C3%B3dulo04Aula12.ipynb\" target=\"_parent\"><img src=\"https://colab.research.google.com/assets/colab-badge.svg\" alt=\"Open In Colab\"/></a>"
      ]
    },
    {
      "cell_type": "code",
      "metadata": {
        "id": "Xn47SdQbv6HA"
      },
      "source": [
        "import pandas as pd"
      ],
      "execution_count": 1,
      "outputs": []
    },
    {
      "cell_type": "code",
      "metadata": {
        "id": "knJ2wW70wFmp"
      },
      "source": [
        "dado_hist = {\r\n",
        "    'Empresa 1': [4,9,6,5],\r\n",
        "    'Empresa 2': [9,6,4,15],\r\n",
        "    'Empresa 3': [6,4,2,25],\r\n",
        "    'Empresa 4': [4,2,4,35],\r\n",
        "    'Empresa 5': [2,4,9,45]\r\n",
        "} \r\n",
        "\r\n",
        "df = pd.DataFrame(dado_hist)"
      ],
      "execution_count": 2,
      "outputs": []
    },
    {
      "cell_type": "code",
      "metadata": {
        "colab": {
          "base_uri": "https://localhost:8080/"
        },
        "id": "vArkkLTswsIX",
        "outputId": "72fe8d67-05c8-42cf-baf8-46fc0768f97f"
      },
      "source": [
        "print(df)"
      ],
      "execution_count": 3,
      "outputs": [
        {
          "output_type": "stream",
          "text": [
            "   Empresa 1  Empresa 2  Empresa 3  Empresa 4  Empresa 5\n",
            "0          4          9          6          4          2\n",
            "1          9          6          4          2          4\n",
            "2          6          4          2          4          9\n",
            "3          5         15         25         35         45\n"
          ],
          "name": "stdout"
        }
      ]
    },
    {
      "cell_type": "code",
      "metadata": {
        "colab": {
          "base_uri": "https://localhost:8080/",
          "height": 361
        },
        "id": "Oz1YN6M6wr_B",
        "outputId": "ebeaf30a-8c9d-4c03-f775-0b3324f97b5b"
      },
      "source": [
        "from IPython.display import display, HTML\r\n",
        "\r\n",
        "display(HTML(df.to_html()))\r\n",
        "dfa = df.head(2)\r\n",
        "display(HTML(dfa.to_html()))\r\n",
        "dft = df.tail(2)\r\n",
        "display(HTML(dft.to_html()))"
      ],
      "execution_count": 4,
      "outputs": [
        {
          "output_type": "display_data",
          "data": {
            "text/html": [
              "<table border=\"1\" class=\"dataframe\">\n",
              "  <thead>\n",
              "    <tr style=\"text-align: right;\">\n",
              "      <th></th>\n",
              "      <th>Empresa 1</th>\n",
              "      <th>Empresa 2</th>\n",
              "      <th>Empresa 3</th>\n",
              "      <th>Empresa 4</th>\n",
              "      <th>Empresa 5</th>\n",
              "    </tr>\n",
              "  </thead>\n",
              "  <tbody>\n",
              "    <tr>\n",
              "      <th>0</th>\n",
              "      <td>4</td>\n",
              "      <td>9</td>\n",
              "      <td>6</td>\n",
              "      <td>4</td>\n",
              "      <td>2</td>\n",
              "    </tr>\n",
              "    <tr>\n",
              "      <th>1</th>\n",
              "      <td>9</td>\n",
              "      <td>6</td>\n",
              "      <td>4</td>\n",
              "      <td>2</td>\n",
              "      <td>4</td>\n",
              "    </tr>\n",
              "    <tr>\n",
              "      <th>2</th>\n",
              "      <td>6</td>\n",
              "      <td>4</td>\n",
              "      <td>2</td>\n",
              "      <td>4</td>\n",
              "      <td>9</td>\n",
              "    </tr>\n",
              "    <tr>\n",
              "      <th>3</th>\n",
              "      <td>5</td>\n",
              "      <td>15</td>\n",
              "      <td>25</td>\n",
              "      <td>35</td>\n",
              "      <td>45</td>\n",
              "    </tr>\n",
              "  </tbody>\n",
              "</table>"
            ],
            "text/plain": [
              "<IPython.core.display.HTML object>"
            ]
          },
          "metadata": {
            "tags": []
          }
        },
        {
          "output_type": "display_data",
          "data": {
            "text/html": [
              "<table border=\"1\" class=\"dataframe\">\n",
              "  <thead>\n",
              "    <tr style=\"text-align: right;\">\n",
              "      <th></th>\n",
              "      <th>Empresa 1</th>\n",
              "      <th>Empresa 2</th>\n",
              "      <th>Empresa 3</th>\n",
              "      <th>Empresa 4</th>\n",
              "      <th>Empresa 5</th>\n",
              "    </tr>\n",
              "  </thead>\n",
              "  <tbody>\n",
              "    <tr>\n",
              "      <th>0</th>\n",
              "      <td>4</td>\n",
              "      <td>9</td>\n",
              "      <td>6</td>\n",
              "      <td>4</td>\n",
              "      <td>2</td>\n",
              "    </tr>\n",
              "    <tr>\n",
              "      <th>1</th>\n",
              "      <td>9</td>\n",
              "      <td>6</td>\n",
              "      <td>4</td>\n",
              "      <td>2</td>\n",
              "      <td>4</td>\n",
              "    </tr>\n",
              "  </tbody>\n",
              "</table>"
            ],
            "text/plain": [
              "<IPython.core.display.HTML object>"
            ]
          },
          "metadata": {
            "tags": []
          }
        },
        {
          "output_type": "display_data",
          "data": {
            "text/html": [
              "<table border=\"1\" class=\"dataframe\">\n",
              "  <thead>\n",
              "    <tr style=\"text-align: right;\">\n",
              "      <th></th>\n",
              "      <th>Empresa 1</th>\n",
              "      <th>Empresa 2</th>\n",
              "      <th>Empresa 3</th>\n",
              "      <th>Empresa 4</th>\n",
              "      <th>Empresa 5</th>\n",
              "    </tr>\n",
              "  </thead>\n",
              "  <tbody>\n",
              "    <tr>\n",
              "      <th>2</th>\n",
              "      <td>6</td>\n",
              "      <td>4</td>\n",
              "      <td>2</td>\n",
              "      <td>4</td>\n",
              "      <td>9</td>\n",
              "    </tr>\n",
              "    <tr>\n",
              "      <th>3</th>\n",
              "      <td>5</td>\n",
              "      <td>15</td>\n",
              "      <td>25</td>\n",
              "      <td>35</td>\n",
              "      <td>45</td>\n",
              "    </tr>\n",
              "  </tbody>\n",
              "</table>"
            ],
            "text/plain": [
              "<IPython.core.display.HTML object>"
            ]
          },
          "metadata": {
            "tags": []
          }
        }
      ]
    },
    {
      "cell_type": "code",
      "metadata": {
        "colab": {
          "base_uri": "https://localhost:8080/",
          "height": 124
        },
        "id": "u3x9R_8i18PW",
        "outputId": "ececf581-f714-4ac3-f6b3-5368b243c715"
      },
      "source": [
        "import seaborn as sns\r\n",
        "cm = sns.light_palette('green', as_cmap = True)\r\n",
        "s = df.style.background_gradient(cmap=cm) # escala de cores (por coluna)\r\n",
        "s"
      ],
      "execution_count": 5,
      "outputs": [
        {
          "output_type": "execute_result",
          "data": {
            "text/html": [
              "<style  type=\"text/css\" >\n",
              "#T_d3e197aa_3a4f_11eb_8246_0242ac1c0002row0_col0,#T_d3e197aa_3a4f_11eb_8246_0242ac1c0002row0_col4,#T_d3e197aa_3a4f_11eb_8246_0242ac1c0002row1_col3,#T_d3e197aa_3a4f_11eb_8246_0242ac1c0002row2_col1,#T_d3e197aa_3a4f_11eb_8246_0242ac1c0002row2_col2{\n",
              "            background-color:  #ebf3eb;\n",
              "            color:  #000000;\n",
              "        }#T_d3e197aa_3a4f_11eb_8246_0242ac1c0002row0_col1{\n",
              "            background-color:  #80bf80;\n",
              "            color:  #000000;\n",
              "        }#T_d3e197aa_3a4f_11eb_8246_0242ac1c0002row0_col2{\n",
              "            background-color:  #c2dfc2;\n",
              "            color:  #000000;\n",
              "        }#T_d3e197aa_3a4f_11eb_8246_0242ac1c0002row0_col3,#T_d3e197aa_3a4f_11eb_8246_0242ac1c0002row2_col3{\n",
              "            background-color:  #ddecdd;\n",
              "            color:  #000000;\n",
              "        }#T_d3e197aa_3a4f_11eb_8246_0242ac1c0002row1_col0,#T_d3e197aa_3a4f_11eb_8246_0242ac1c0002row3_col1,#T_d3e197aa_3a4f_11eb_8246_0242ac1c0002row3_col2,#T_d3e197aa_3a4f_11eb_8246_0242ac1c0002row3_col3,#T_d3e197aa_3a4f_11eb_8246_0242ac1c0002row3_col4{\n",
              "            background-color:  #008000;\n",
              "            color:  #f1f1f1;\n",
              "        }#T_d3e197aa_3a4f_11eb_8246_0242ac1c0002row1_col1{\n",
              "            background-color:  #c0dec0;\n",
              "            color:  #000000;\n",
              "        }#T_d3e197aa_3a4f_11eb_8246_0242ac1c0002row1_col2{\n",
              "            background-color:  #d6e9d6;\n",
              "            color:  #000000;\n",
              "        }#T_d3e197aa_3a4f_11eb_8246_0242ac1c0002row1_col4{\n",
              "            background-color:  #e0eee0;\n",
              "            color:  #000000;\n",
              "        }#T_d3e197aa_3a4f_11eb_8246_0242ac1c0002row2_col0{\n",
              "            background-color:  #8dc58d;\n",
              "            color:  #000000;\n",
              "        }#T_d3e197aa_3a4f_11eb_8246_0242ac1c0002row2_col4{\n",
              "            background-color:  #c5e0c5;\n",
              "            color:  #000000;\n",
              "        }#T_d3e197aa_3a4f_11eb_8246_0242ac1c0002row3_col0{\n",
              "            background-color:  #bcdcbc;\n",
              "            color:  #000000;\n",
              "        }</style><table id=\"T_d3e197aa_3a4f_11eb_8246_0242ac1c0002\" ><thead>    <tr>        <th class=\"blank level0\" ></th>        <th class=\"col_heading level0 col0\" >Empresa 1</th>        <th class=\"col_heading level0 col1\" >Empresa 2</th>        <th class=\"col_heading level0 col2\" >Empresa 3</th>        <th class=\"col_heading level0 col3\" >Empresa 4</th>        <th class=\"col_heading level0 col4\" >Empresa 5</th>    </tr></thead><tbody>\n",
              "                <tr>\n",
              "                        <th id=\"T_d3e197aa_3a4f_11eb_8246_0242ac1c0002level0_row0\" class=\"row_heading level0 row0\" >0</th>\n",
              "                        <td id=\"T_d3e197aa_3a4f_11eb_8246_0242ac1c0002row0_col0\" class=\"data row0 col0\" >4</td>\n",
              "                        <td id=\"T_d3e197aa_3a4f_11eb_8246_0242ac1c0002row0_col1\" class=\"data row0 col1\" >9</td>\n",
              "                        <td id=\"T_d3e197aa_3a4f_11eb_8246_0242ac1c0002row0_col2\" class=\"data row0 col2\" >6</td>\n",
              "                        <td id=\"T_d3e197aa_3a4f_11eb_8246_0242ac1c0002row0_col3\" class=\"data row0 col3\" >4</td>\n",
              "                        <td id=\"T_d3e197aa_3a4f_11eb_8246_0242ac1c0002row0_col4\" class=\"data row0 col4\" >2</td>\n",
              "            </tr>\n",
              "            <tr>\n",
              "                        <th id=\"T_d3e197aa_3a4f_11eb_8246_0242ac1c0002level0_row1\" class=\"row_heading level0 row1\" >1</th>\n",
              "                        <td id=\"T_d3e197aa_3a4f_11eb_8246_0242ac1c0002row1_col0\" class=\"data row1 col0\" >9</td>\n",
              "                        <td id=\"T_d3e197aa_3a4f_11eb_8246_0242ac1c0002row1_col1\" class=\"data row1 col1\" >6</td>\n",
              "                        <td id=\"T_d3e197aa_3a4f_11eb_8246_0242ac1c0002row1_col2\" class=\"data row1 col2\" >4</td>\n",
              "                        <td id=\"T_d3e197aa_3a4f_11eb_8246_0242ac1c0002row1_col3\" class=\"data row1 col3\" >2</td>\n",
              "                        <td id=\"T_d3e197aa_3a4f_11eb_8246_0242ac1c0002row1_col4\" class=\"data row1 col4\" >4</td>\n",
              "            </tr>\n",
              "            <tr>\n",
              "                        <th id=\"T_d3e197aa_3a4f_11eb_8246_0242ac1c0002level0_row2\" class=\"row_heading level0 row2\" >2</th>\n",
              "                        <td id=\"T_d3e197aa_3a4f_11eb_8246_0242ac1c0002row2_col0\" class=\"data row2 col0\" >6</td>\n",
              "                        <td id=\"T_d3e197aa_3a4f_11eb_8246_0242ac1c0002row2_col1\" class=\"data row2 col1\" >4</td>\n",
              "                        <td id=\"T_d3e197aa_3a4f_11eb_8246_0242ac1c0002row2_col2\" class=\"data row2 col2\" >2</td>\n",
              "                        <td id=\"T_d3e197aa_3a4f_11eb_8246_0242ac1c0002row2_col3\" class=\"data row2 col3\" >4</td>\n",
              "                        <td id=\"T_d3e197aa_3a4f_11eb_8246_0242ac1c0002row2_col4\" class=\"data row2 col4\" >9</td>\n",
              "            </tr>\n",
              "            <tr>\n",
              "                        <th id=\"T_d3e197aa_3a4f_11eb_8246_0242ac1c0002level0_row3\" class=\"row_heading level0 row3\" >3</th>\n",
              "                        <td id=\"T_d3e197aa_3a4f_11eb_8246_0242ac1c0002row3_col0\" class=\"data row3 col0\" >5</td>\n",
              "                        <td id=\"T_d3e197aa_3a4f_11eb_8246_0242ac1c0002row3_col1\" class=\"data row3 col1\" >15</td>\n",
              "                        <td id=\"T_d3e197aa_3a4f_11eb_8246_0242ac1c0002row3_col2\" class=\"data row3 col2\" >25</td>\n",
              "                        <td id=\"T_d3e197aa_3a4f_11eb_8246_0242ac1c0002row3_col3\" class=\"data row3 col3\" >35</td>\n",
              "                        <td id=\"T_d3e197aa_3a4f_11eb_8246_0242ac1c0002row3_col4\" class=\"data row3 col4\" >45</td>\n",
              "            </tr>\n",
              "    </tbody></table>"
            ],
            "text/plain": [
              "<pandas.io.formats.style.Styler at 0x7f4e65dd63c8>"
            ]
          },
          "metadata": {
            "tags": []
          },
          "execution_count": 5
        }
      ]
    },
    {
      "cell_type": "code",
      "metadata": {
        "colab": {
          "base_uri": "https://localhost:8080/",
          "height": 124
        },
        "id": "nFGdlsq92vgI",
        "outputId": "ffdcafff-5432-4510-c515-7d0b6e7545b8"
      },
      "source": [
        "cm = sns.light_palette('blue', as_cmap = True)\r\n",
        "s = df.style.background_gradient(cmap=cm) # escala de cores (por coluna)\r\n",
        "s"
      ],
      "execution_count": 6,
      "outputs": [
        {
          "output_type": "execute_result",
          "data": {
            "text/html": [
              "<style  type=\"text/css\" >\n",
              "#T_059eba8e_3a50_11eb_8246_0242ac1c0002row0_col0,#T_059eba8e_3a50_11eb_8246_0242ac1c0002row0_col4,#T_059eba8e_3a50_11eb_8246_0242ac1c0002row1_col3,#T_059eba8e_3a50_11eb_8246_0242ac1c0002row2_col1,#T_059eba8e_3a50_11eb_8246_0242ac1c0002row2_col2{\n",
              "            background-color:  #f0f0f3;\n",
              "            color:  #000000;\n",
              "        }#T_059eba8e_3a50_11eb_8246_0242ac1c0002row0_col1{\n",
              "            background-color:  #8383f8;\n",
              "            color:  #000000;\n",
              "        }#T_059eba8e_3a50_11eb_8246_0242ac1c0002row0_col2{\n",
              "            background-color:  #c7c7f5;\n",
              "            color:  #000000;\n",
              "        }#T_059eba8e_3a50_11eb_8246_0242ac1c0002row0_col3,#T_059eba8e_3a50_11eb_8246_0242ac1c0002row2_col3{\n",
              "            background-color:  #e2e2f3;\n",
              "            color:  #000000;\n",
              "        }#T_059eba8e_3a50_11eb_8246_0242ac1c0002row1_col0,#T_059eba8e_3a50_11eb_8246_0242ac1c0002row3_col1,#T_059eba8e_3a50_11eb_8246_0242ac1c0002row3_col2,#T_059eba8e_3a50_11eb_8246_0242ac1c0002row3_col3,#T_059eba8e_3a50_11eb_8246_0242ac1c0002row3_col4{\n",
              "            background-color:  #0000ff;\n",
              "            color:  #f1f1f1;\n",
              "        }#T_059eba8e_3a50_11eb_8246_0242ac1c0002row1_col1{\n",
              "            background-color:  #c5c5f5;\n",
              "            color:  #000000;\n",
              "        }#T_059eba8e_3a50_11eb_8246_0242ac1c0002row1_col2{\n",
              "            background-color:  #dcdcf4;\n",
              "            color:  #000000;\n",
              "        }#T_059eba8e_3a50_11eb_8246_0242ac1c0002row1_col4{\n",
              "            background-color:  #e6e6f3;\n",
              "            color:  #000000;\n",
              "        }#T_059eba8e_3a50_11eb_8246_0242ac1c0002row2_col0{\n",
              "            background-color:  #9090f8;\n",
              "            color:  #000000;\n",
              "        }#T_059eba8e_3a50_11eb_8246_0242ac1c0002row2_col4{\n",
              "            background-color:  #cacaf5;\n",
              "            color:  #000000;\n",
              "        }#T_059eba8e_3a50_11eb_8246_0242ac1c0002row3_col0{\n",
              "            background-color:  #c0c0f5;\n",
              "            color:  #000000;\n",
              "        }</style><table id=\"T_059eba8e_3a50_11eb_8246_0242ac1c0002\" ><thead>    <tr>        <th class=\"blank level0\" ></th>        <th class=\"col_heading level0 col0\" >Empresa 1</th>        <th class=\"col_heading level0 col1\" >Empresa 2</th>        <th class=\"col_heading level0 col2\" >Empresa 3</th>        <th class=\"col_heading level0 col3\" >Empresa 4</th>        <th class=\"col_heading level0 col4\" >Empresa 5</th>    </tr></thead><tbody>\n",
              "                <tr>\n",
              "                        <th id=\"T_059eba8e_3a50_11eb_8246_0242ac1c0002level0_row0\" class=\"row_heading level0 row0\" >0</th>\n",
              "                        <td id=\"T_059eba8e_3a50_11eb_8246_0242ac1c0002row0_col0\" class=\"data row0 col0\" >4</td>\n",
              "                        <td id=\"T_059eba8e_3a50_11eb_8246_0242ac1c0002row0_col1\" class=\"data row0 col1\" >9</td>\n",
              "                        <td id=\"T_059eba8e_3a50_11eb_8246_0242ac1c0002row0_col2\" class=\"data row0 col2\" >6</td>\n",
              "                        <td id=\"T_059eba8e_3a50_11eb_8246_0242ac1c0002row0_col3\" class=\"data row0 col3\" >4</td>\n",
              "                        <td id=\"T_059eba8e_3a50_11eb_8246_0242ac1c0002row0_col4\" class=\"data row0 col4\" >2</td>\n",
              "            </tr>\n",
              "            <tr>\n",
              "                        <th id=\"T_059eba8e_3a50_11eb_8246_0242ac1c0002level0_row1\" class=\"row_heading level0 row1\" >1</th>\n",
              "                        <td id=\"T_059eba8e_3a50_11eb_8246_0242ac1c0002row1_col0\" class=\"data row1 col0\" >9</td>\n",
              "                        <td id=\"T_059eba8e_3a50_11eb_8246_0242ac1c0002row1_col1\" class=\"data row1 col1\" >6</td>\n",
              "                        <td id=\"T_059eba8e_3a50_11eb_8246_0242ac1c0002row1_col2\" class=\"data row1 col2\" >4</td>\n",
              "                        <td id=\"T_059eba8e_3a50_11eb_8246_0242ac1c0002row1_col3\" class=\"data row1 col3\" >2</td>\n",
              "                        <td id=\"T_059eba8e_3a50_11eb_8246_0242ac1c0002row1_col4\" class=\"data row1 col4\" >4</td>\n",
              "            </tr>\n",
              "            <tr>\n",
              "                        <th id=\"T_059eba8e_3a50_11eb_8246_0242ac1c0002level0_row2\" class=\"row_heading level0 row2\" >2</th>\n",
              "                        <td id=\"T_059eba8e_3a50_11eb_8246_0242ac1c0002row2_col0\" class=\"data row2 col0\" >6</td>\n",
              "                        <td id=\"T_059eba8e_3a50_11eb_8246_0242ac1c0002row2_col1\" class=\"data row2 col1\" >4</td>\n",
              "                        <td id=\"T_059eba8e_3a50_11eb_8246_0242ac1c0002row2_col2\" class=\"data row2 col2\" >2</td>\n",
              "                        <td id=\"T_059eba8e_3a50_11eb_8246_0242ac1c0002row2_col3\" class=\"data row2 col3\" >4</td>\n",
              "                        <td id=\"T_059eba8e_3a50_11eb_8246_0242ac1c0002row2_col4\" class=\"data row2 col4\" >9</td>\n",
              "            </tr>\n",
              "            <tr>\n",
              "                        <th id=\"T_059eba8e_3a50_11eb_8246_0242ac1c0002level0_row3\" class=\"row_heading level0 row3\" >3</th>\n",
              "                        <td id=\"T_059eba8e_3a50_11eb_8246_0242ac1c0002row3_col0\" class=\"data row3 col0\" >5</td>\n",
              "                        <td id=\"T_059eba8e_3a50_11eb_8246_0242ac1c0002row3_col1\" class=\"data row3 col1\" >15</td>\n",
              "                        <td id=\"T_059eba8e_3a50_11eb_8246_0242ac1c0002row3_col2\" class=\"data row3 col2\" >25</td>\n",
              "                        <td id=\"T_059eba8e_3a50_11eb_8246_0242ac1c0002row3_col3\" class=\"data row3 col3\" >35</td>\n",
              "                        <td id=\"T_059eba8e_3a50_11eb_8246_0242ac1c0002row3_col4\" class=\"data row3 col4\" >45</td>\n",
              "            </tr>\n",
              "    </tbody></table>"
            ],
            "text/plain": [
              "<pandas.io.formats.style.Styler at 0x7f4e663a9e80>"
            ]
          },
          "metadata": {
            "tags": []
          },
          "execution_count": 6
        }
      ]
    },
    {
      "cell_type": "code",
      "metadata": {
        "colab": {
          "base_uri": "https://localhost:8080/",
          "height": 124
        },
        "id": "gA0HQSOZ2zst",
        "outputId": "55f39d7e-2e1b-4185-f1bb-bca530e87dc4"
      },
      "source": [
        "cm = sns.light_palette('red', as_cmap = True)\r\n",
        "s = df.style.background_gradient(cmap=cm) # escala de cores (por coluna)\r\n",
        "s"
      ],
      "execution_count": 7,
      "outputs": [
        {
          "output_type": "execute_result",
          "data": {
            "text/html": [
              "<style  type=\"text/css\" >\n",
              "#T_0f225eda_3a50_11eb_8246_0242ac1c0002row0_col0,#T_0f225eda_3a50_11eb_8246_0242ac1c0002row0_col4,#T_0f225eda_3a50_11eb_8246_0242ac1c0002row1_col3,#T_0f225eda_3a50_11eb_8246_0242ac1c0002row2_col1,#T_0f225eda_3a50_11eb_8246_0242ac1c0002row2_col2{\n",
              "            background-color:  #f3f0f0;\n",
              "            color:  #000000;\n",
              "        }#T_0f225eda_3a50_11eb_8246_0242ac1c0002row0_col1{\n",
              "            background-color:  #f88383;\n",
              "            color:  #000000;\n",
              "        }#T_0f225eda_3a50_11eb_8246_0242ac1c0002row0_col2{\n",
              "            background-color:  #f5c7c7;\n",
              "            color:  #000000;\n",
              "        }#T_0f225eda_3a50_11eb_8246_0242ac1c0002row0_col3,#T_0f225eda_3a50_11eb_8246_0242ac1c0002row2_col3{\n",
              "            background-color:  #f4e2e2;\n",
              "            color:  #000000;\n",
              "        }#T_0f225eda_3a50_11eb_8246_0242ac1c0002row1_col0,#T_0f225eda_3a50_11eb_8246_0242ac1c0002row3_col1,#T_0f225eda_3a50_11eb_8246_0242ac1c0002row3_col2,#T_0f225eda_3a50_11eb_8246_0242ac1c0002row3_col3,#T_0f225eda_3a50_11eb_8246_0242ac1c0002row3_col4{\n",
              "            background-color:  #ff0000;\n",
              "            color:  #f1f1f1;\n",
              "        }#T_0f225eda_3a50_11eb_8246_0242ac1c0002row1_col1{\n",
              "            background-color:  #f5c5c5;\n",
              "            color:  #000000;\n",
              "        }#T_0f225eda_3a50_11eb_8246_0242ac1c0002row1_col2{\n",
              "            background-color:  #f4dbdb;\n",
              "            color:  #000000;\n",
              "        }#T_0f225eda_3a50_11eb_8246_0242ac1c0002row1_col4{\n",
              "            background-color:  #f3e6e6;\n",
              "            color:  #000000;\n",
              "        }#T_0f225eda_3a50_11eb_8246_0242ac1c0002row2_col0{\n",
              "            background-color:  #f89090;\n",
              "            color:  #000000;\n",
              "        }#T_0f225eda_3a50_11eb_8246_0242ac1c0002row2_col4{\n",
              "            background-color:  #f5c9c9;\n",
              "            color:  #000000;\n",
              "        }#T_0f225eda_3a50_11eb_8246_0242ac1c0002row3_col0{\n",
              "            background-color:  #f5c0c0;\n",
              "            color:  #000000;\n",
              "        }</style><table id=\"T_0f225eda_3a50_11eb_8246_0242ac1c0002\" ><thead>    <tr>        <th class=\"blank level0\" ></th>        <th class=\"col_heading level0 col0\" >Empresa 1</th>        <th class=\"col_heading level0 col1\" >Empresa 2</th>        <th class=\"col_heading level0 col2\" >Empresa 3</th>        <th class=\"col_heading level0 col3\" >Empresa 4</th>        <th class=\"col_heading level0 col4\" >Empresa 5</th>    </tr></thead><tbody>\n",
              "                <tr>\n",
              "                        <th id=\"T_0f225eda_3a50_11eb_8246_0242ac1c0002level0_row0\" class=\"row_heading level0 row0\" >0</th>\n",
              "                        <td id=\"T_0f225eda_3a50_11eb_8246_0242ac1c0002row0_col0\" class=\"data row0 col0\" >4</td>\n",
              "                        <td id=\"T_0f225eda_3a50_11eb_8246_0242ac1c0002row0_col1\" class=\"data row0 col1\" >9</td>\n",
              "                        <td id=\"T_0f225eda_3a50_11eb_8246_0242ac1c0002row0_col2\" class=\"data row0 col2\" >6</td>\n",
              "                        <td id=\"T_0f225eda_3a50_11eb_8246_0242ac1c0002row0_col3\" class=\"data row0 col3\" >4</td>\n",
              "                        <td id=\"T_0f225eda_3a50_11eb_8246_0242ac1c0002row0_col4\" class=\"data row0 col4\" >2</td>\n",
              "            </tr>\n",
              "            <tr>\n",
              "                        <th id=\"T_0f225eda_3a50_11eb_8246_0242ac1c0002level0_row1\" class=\"row_heading level0 row1\" >1</th>\n",
              "                        <td id=\"T_0f225eda_3a50_11eb_8246_0242ac1c0002row1_col0\" class=\"data row1 col0\" >9</td>\n",
              "                        <td id=\"T_0f225eda_3a50_11eb_8246_0242ac1c0002row1_col1\" class=\"data row1 col1\" >6</td>\n",
              "                        <td id=\"T_0f225eda_3a50_11eb_8246_0242ac1c0002row1_col2\" class=\"data row1 col2\" >4</td>\n",
              "                        <td id=\"T_0f225eda_3a50_11eb_8246_0242ac1c0002row1_col3\" class=\"data row1 col3\" >2</td>\n",
              "                        <td id=\"T_0f225eda_3a50_11eb_8246_0242ac1c0002row1_col4\" class=\"data row1 col4\" >4</td>\n",
              "            </tr>\n",
              "            <tr>\n",
              "                        <th id=\"T_0f225eda_3a50_11eb_8246_0242ac1c0002level0_row2\" class=\"row_heading level0 row2\" >2</th>\n",
              "                        <td id=\"T_0f225eda_3a50_11eb_8246_0242ac1c0002row2_col0\" class=\"data row2 col0\" >6</td>\n",
              "                        <td id=\"T_0f225eda_3a50_11eb_8246_0242ac1c0002row2_col1\" class=\"data row2 col1\" >4</td>\n",
              "                        <td id=\"T_0f225eda_3a50_11eb_8246_0242ac1c0002row2_col2\" class=\"data row2 col2\" >2</td>\n",
              "                        <td id=\"T_0f225eda_3a50_11eb_8246_0242ac1c0002row2_col3\" class=\"data row2 col3\" >4</td>\n",
              "                        <td id=\"T_0f225eda_3a50_11eb_8246_0242ac1c0002row2_col4\" class=\"data row2 col4\" >9</td>\n",
              "            </tr>\n",
              "            <tr>\n",
              "                        <th id=\"T_0f225eda_3a50_11eb_8246_0242ac1c0002level0_row3\" class=\"row_heading level0 row3\" >3</th>\n",
              "                        <td id=\"T_0f225eda_3a50_11eb_8246_0242ac1c0002row3_col0\" class=\"data row3 col0\" >5</td>\n",
              "                        <td id=\"T_0f225eda_3a50_11eb_8246_0242ac1c0002row3_col1\" class=\"data row3 col1\" >15</td>\n",
              "                        <td id=\"T_0f225eda_3a50_11eb_8246_0242ac1c0002row3_col2\" class=\"data row3 col2\" >25</td>\n",
              "                        <td id=\"T_0f225eda_3a50_11eb_8246_0242ac1c0002row3_col3\" class=\"data row3 col3\" >35</td>\n",
              "                        <td id=\"T_0f225eda_3a50_11eb_8246_0242ac1c0002row3_col4\" class=\"data row3 col4\" >45</td>\n",
              "            </tr>\n",
              "    </tbody></table>"
            ],
            "text/plain": [
              "<pandas.io.formats.style.Styler at 0x7f4e5c557be0>"
            ]
          },
          "metadata": {
            "tags": []
          },
          "execution_count": 7
        }
      ]
    },
    {
      "cell_type": "code",
      "metadata": {
        "colab": {
          "base_uri": "https://localhost:8080/",
          "height": 124
        },
        "id": "3mIOl-QF23uL",
        "outputId": "fdf8d48e-d17d-4c6b-8a11-39244874f1d6"
      },
      "source": [
        "cm = sns.light_palette('black', as_cmap = True)\r\n",
        "s = df.style.background_gradient(cmap=cm) # escala de cores (por coluna)\r\n",
        "s"
      ],
      "execution_count": 8,
      "outputs": [
        {
          "output_type": "execute_result",
          "data": {
            "text/html": [
              "<style  type=\"text/css\" >\n",
              "#T_193e50a4_3a50_11eb_8246_0242ac1c0002row0_col0,#T_193e50a4_3a50_11eb_8246_0242ac1c0002row0_col4,#T_193e50a4_3a50_11eb_8246_0242ac1c0002row1_col3,#T_193e50a4_3a50_11eb_8246_0242ac1c0002row2_col1,#T_193e50a4_3a50_11eb_8246_0242ac1c0002row2_col2{\n",
              "            background-color:  #f1f1f1;\n",
              "            color:  #000000;\n",
              "        }#T_193e50a4_3a50_11eb_8246_0242ac1c0002row0_col1{\n",
              "            background-color:  #838383;\n",
              "            color:  #000000;\n",
              "        }#T_193e50a4_3a50_11eb_8246_0242ac1c0002row0_col2{\n",
              "            background-color:  #c7c7c7;\n",
              "            color:  #000000;\n",
              "        }#T_193e50a4_3a50_11eb_8246_0242ac1c0002row0_col3,#T_193e50a4_3a50_11eb_8246_0242ac1c0002row2_col3{\n",
              "            background-color:  #e2e2e2;\n",
              "            color:  #000000;\n",
              "        }#T_193e50a4_3a50_11eb_8246_0242ac1c0002row1_col0,#T_193e50a4_3a50_11eb_8246_0242ac1c0002row3_col1,#T_193e50a4_3a50_11eb_8246_0242ac1c0002row3_col2,#T_193e50a4_3a50_11eb_8246_0242ac1c0002row3_col3,#T_193e50a4_3a50_11eb_8246_0242ac1c0002row3_col4{\n",
              "            background-color:  #000000;\n",
              "            color:  #f1f1f1;\n",
              "        }#T_193e50a4_3a50_11eb_8246_0242ac1c0002row1_col1{\n",
              "            background-color:  #c5c5c5;\n",
              "            color:  #000000;\n",
              "        }#T_193e50a4_3a50_11eb_8246_0242ac1c0002row1_col2{\n",
              "            background-color:  #dcdcdc;\n",
              "            color:  #000000;\n",
              "        }#T_193e50a4_3a50_11eb_8246_0242ac1c0002row1_col4{\n",
              "            background-color:  #e6e6e6;\n",
              "            color:  #000000;\n",
              "        }#T_193e50a4_3a50_11eb_8246_0242ac1c0002row2_col0{\n",
              "            background-color:  #909090;\n",
              "            color:  #000000;\n",
              "        }#T_193e50a4_3a50_11eb_8246_0242ac1c0002row2_col4{\n",
              "            background-color:  #cacaca;\n",
              "            color:  #000000;\n",
              "        }#T_193e50a4_3a50_11eb_8246_0242ac1c0002row3_col0{\n",
              "            background-color:  #c0c0c0;\n",
              "            color:  #000000;\n",
              "        }</style><table id=\"T_193e50a4_3a50_11eb_8246_0242ac1c0002\" ><thead>    <tr>        <th class=\"blank level0\" ></th>        <th class=\"col_heading level0 col0\" >Empresa 1</th>        <th class=\"col_heading level0 col1\" >Empresa 2</th>        <th class=\"col_heading level0 col2\" >Empresa 3</th>        <th class=\"col_heading level0 col3\" >Empresa 4</th>        <th class=\"col_heading level0 col4\" >Empresa 5</th>    </tr></thead><tbody>\n",
              "                <tr>\n",
              "                        <th id=\"T_193e50a4_3a50_11eb_8246_0242ac1c0002level0_row0\" class=\"row_heading level0 row0\" >0</th>\n",
              "                        <td id=\"T_193e50a4_3a50_11eb_8246_0242ac1c0002row0_col0\" class=\"data row0 col0\" >4</td>\n",
              "                        <td id=\"T_193e50a4_3a50_11eb_8246_0242ac1c0002row0_col1\" class=\"data row0 col1\" >9</td>\n",
              "                        <td id=\"T_193e50a4_3a50_11eb_8246_0242ac1c0002row0_col2\" class=\"data row0 col2\" >6</td>\n",
              "                        <td id=\"T_193e50a4_3a50_11eb_8246_0242ac1c0002row0_col3\" class=\"data row0 col3\" >4</td>\n",
              "                        <td id=\"T_193e50a4_3a50_11eb_8246_0242ac1c0002row0_col4\" class=\"data row0 col4\" >2</td>\n",
              "            </tr>\n",
              "            <tr>\n",
              "                        <th id=\"T_193e50a4_3a50_11eb_8246_0242ac1c0002level0_row1\" class=\"row_heading level0 row1\" >1</th>\n",
              "                        <td id=\"T_193e50a4_3a50_11eb_8246_0242ac1c0002row1_col0\" class=\"data row1 col0\" >9</td>\n",
              "                        <td id=\"T_193e50a4_3a50_11eb_8246_0242ac1c0002row1_col1\" class=\"data row1 col1\" >6</td>\n",
              "                        <td id=\"T_193e50a4_3a50_11eb_8246_0242ac1c0002row1_col2\" class=\"data row1 col2\" >4</td>\n",
              "                        <td id=\"T_193e50a4_3a50_11eb_8246_0242ac1c0002row1_col3\" class=\"data row1 col3\" >2</td>\n",
              "                        <td id=\"T_193e50a4_3a50_11eb_8246_0242ac1c0002row1_col4\" class=\"data row1 col4\" >4</td>\n",
              "            </tr>\n",
              "            <tr>\n",
              "                        <th id=\"T_193e50a4_3a50_11eb_8246_0242ac1c0002level0_row2\" class=\"row_heading level0 row2\" >2</th>\n",
              "                        <td id=\"T_193e50a4_3a50_11eb_8246_0242ac1c0002row2_col0\" class=\"data row2 col0\" >6</td>\n",
              "                        <td id=\"T_193e50a4_3a50_11eb_8246_0242ac1c0002row2_col1\" class=\"data row2 col1\" >4</td>\n",
              "                        <td id=\"T_193e50a4_3a50_11eb_8246_0242ac1c0002row2_col2\" class=\"data row2 col2\" >2</td>\n",
              "                        <td id=\"T_193e50a4_3a50_11eb_8246_0242ac1c0002row2_col3\" class=\"data row2 col3\" >4</td>\n",
              "                        <td id=\"T_193e50a4_3a50_11eb_8246_0242ac1c0002row2_col4\" class=\"data row2 col4\" >9</td>\n",
              "            </tr>\n",
              "            <tr>\n",
              "                        <th id=\"T_193e50a4_3a50_11eb_8246_0242ac1c0002level0_row3\" class=\"row_heading level0 row3\" >3</th>\n",
              "                        <td id=\"T_193e50a4_3a50_11eb_8246_0242ac1c0002row3_col0\" class=\"data row3 col0\" >5</td>\n",
              "                        <td id=\"T_193e50a4_3a50_11eb_8246_0242ac1c0002row3_col1\" class=\"data row3 col1\" >15</td>\n",
              "                        <td id=\"T_193e50a4_3a50_11eb_8246_0242ac1c0002row3_col2\" class=\"data row3 col2\" >25</td>\n",
              "                        <td id=\"T_193e50a4_3a50_11eb_8246_0242ac1c0002row3_col3\" class=\"data row3 col3\" >35</td>\n",
              "                        <td id=\"T_193e50a4_3a50_11eb_8246_0242ac1c0002row3_col4\" class=\"data row3 col4\" >45</td>\n",
              "            </tr>\n",
              "    </tbody></table>"
            ],
            "text/plain": [
              "<pandas.io.formats.style.Styler at 0x7f4e5c557e10>"
            ]
          },
          "metadata": {
            "tags": []
          },
          "execution_count": 8
        }
      ]
    },
    {
      "cell_type": "code",
      "metadata": {
        "colab": {
          "base_uri": "https://localhost:8080/",
          "height": 124
        },
        "id": "RrPbJ3zG29Tc",
        "outputId": "8fc0245c-f2c6-4a98-84ff-7ac9f8ae74dc"
      },
      "source": [
        "cm = sns.light_palette('gray', as_cmap = True)\r\n",
        "s = df.style.background_gradient(cmap=cm) # escala de cores (por coluna)\r\n",
        "s"
      ],
      "execution_count": 9,
      "outputs": [
        {
          "output_type": "execute_result",
          "data": {
            "text/html": [
              "<style  type=\"text/css\" >\n",
              "#T_24df2b86_3a50_11eb_8246_0242ac1c0002row0_col0,#T_24df2b86_3a50_11eb_8246_0242ac1c0002row0_col4,#T_24df2b86_3a50_11eb_8246_0242ac1c0002row1_col3,#T_24df2b86_3a50_11eb_8246_0242ac1c0002row2_col1,#T_24df2b86_3a50_11eb_8246_0242ac1c0002row2_col2{\n",
              "            background-color:  #f1f1f1;\n",
              "            color:  #000000;\n",
              "        }#T_24df2b86_3a50_11eb_8246_0242ac1c0002row0_col1{\n",
              "            background-color:  #bdbdbd;\n",
              "            color:  #000000;\n",
              "        }#T_24df2b86_3a50_11eb_8246_0242ac1c0002row0_col2{\n",
              "            background-color:  #dddddd;\n",
              "            color:  #000000;\n",
              "        }#T_24df2b86_3a50_11eb_8246_0242ac1c0002row0_col3,#T_24df2b86_3a50_11eb_8246_0242ac1c0002row2_col3{\n",
              "            background-color:  #eaeaea;\n",
              "            color:  #000000;\n",
              "        }#T_24df2b86_3a50_11eb_8246_0242ac1c0002row1_col0,#T_24df2b86_3a50_11eb_8246_0242ac1c0002row3_col1,#T_24df2b86_3a50_11eb_8246_0242ac1c0002row3_col2,#T_24df2b86_3a50_11eb_8246_0242ac1c0002row3_col3,#T_24df2b86_3a50_11eb_8246_0242ac1c0002row3_col4{\n",
              "            background-color:  #808080;\n",
              "            color:  #000000;\n",
              "        }#T_24df2b86_3a50_11eb_8246_0242ac1c0002row1_col1{\n",
              "            background-color:  #dcdcdc;\n",
              "            color:  #000000;\n",
              "        }#T_24df2b86_3a50_11eb_8246_0242ac1c0002row1_col2{\n",
              "            background-color:  #e7e7e7;\n",
              "            color:  #000000;\n",
              "        }#T_24df2b86_3a50_11eb_8246_0242ac1c0002row1_col4{\n",
              "            background-color:  #ececec;\n",
              "            color:  #000000;\n",
              "        }#T_24df2b86_3a50_11eb_8246_0242ac1c0002row2_col0{\n",
              "            background-color:  #c4c4c4;\n",
              "            color:  #000000;\n",
              "        }#T_24df2b86_3a50_11eb_8246_0242ac1c0002row2_col4{\n",
              "            background-color:  #dedede;\n",
              "            color:  #000000;\n",
              "        }#T_24df2b86_3a50_11eb_8246_0242ac1c0002row3_col0{\n",
              "            background-color:  #dadada;\n",
              "            color:  #000000;\n",
              "        }</style><table id=\"T_24df2b86_3a50_11eb_8246_0242ac1c0002\" ><thead>    <tr>        <th class=\"blank level0\" ></th>        <th class=\"col_heading level0 col0\" >Empresa 1</th>        <th class=\"col_heading level0 col1\" >Empresa 2</th>        <th class=\"col_heading level0 col2\" >Empresa 3</th>        <th class=\"col_heading level0 col3\" >Empresa 4</th>        <th class=\"col_heading level0 col4\" >Empresa 5</th>    </tr></thead><tbody>\n",
              "                <tr>\n",
              "                        <th id=\"T_24df2b86_3a50_11eb_8246_0242ac1c0002level0_row0\" class=\"row_heading level0 row0\" >0</th>\n",
              "                        <td id=\"T_24df2b86_3a50_11eb_8246_0242ac1c0002row0_col0\" class=\"data row0 col0\" >4</td>\n",
              "                        <td id=\"T_24df2b86_3a50_11eb_8246_0242ac1c0002row0_col1\" class=\"data row0 col1\" >9</td>\n",
              "                        <td id=\"T_24df2b86_3a50_11eb_8246_0242ac1c0002row0_col2\" class=\"data row0 col2\" >6</td>\n",
              "                        <td id=\"T_24df2b86_3a50_11eb_8246_0242ac1c0002row0_col3\" class=\"data row0 col3\" >4</td>\n",
              "                        <td id=\"T_24df2b86_3a50_11eb_8246_0242ac1c0002row0_col4\" class=\"data row0 col4\" >2</td>\n",
              "            </tr>\n",
              "            <tr>\n",
              "                        <th id=\"T_24df2b86_3a50_11eb_8246_0242ac1c0002level0_row1\" class=\"row_heading level0 row1\" >1</th>\n",
              "                        <td id=\"T_24df2b86_3a50_11eb_8246_0242ac1c0002row1_col0\" class=\"data row1 col0\" >9</td>\n",
              "                        <td id=\"T_24df2b86_3a50_11eb_8246_0242ac1c0002row1_col1\" class=\"data row1 col1\" >6</td>\n",
              "                        <td id=\"T_24df2b86_3a50_11eb_8246_0242ac1c0002row1_col2\" class=\"data row1 col2\" >4</td>\n",
              "                        <td id=\"T_24df2b86_3a50_11eb_8246_0242ac1c0002row1_col3\" class=\"data row1 col3\" >2</td>\n",
              "                        <td id=\"T_24df2b86_3a50_11eb_8246_0242ac1c0002row1_col4\" class=\"data row1 col4\" >4</td>\n",
              "            </tr>\n",
              "            <tr>\n",
              "                        <th id=\"T_24df2b86_3a50_11eb_8246_0242ac1c0002level0_row2\" class=\"row_heading level0 row2\" >2</th>\n",
              "                        <td id=\"T_24df2b86_3a50_11eb_8246_0242ac1c0002row2_col0\" class=\"data row2 col0\" >6</td>\n",
              "                        <td id=\"T_24df2b86_3a50_11eb_8246_0242ac1c0002row2_col1\" class=\"data row2 col1\" >4</td>\n",
              "                        <td id=\"T_24df2b86_3a50_11eb_8246_0242ac1c0002row2_col2\" class=\"data row2 col2\" >2</td>\n",
              "                        <td id=\"T_24df2b86_3a50_11eb_8246_0242ac1c0002row2_col3\" class=\"data row2 col3\" >4</td>\n",
              "                        <td id=\"T_24df2b86_3a50_11eb_8246_0242ac1c0002row2_col4\" class=\"data row2 col4\" >9</td>\n",
              "            </tr>\n",
              "            <tr>\n",
              "                        <th id=\"T_24df2b86_3a50_11eb_8246_0242ac1c0002level0_row3\" class=\"row_heading level0 row3\" >3</th>\n",
              "                        <td id=\"T_24df2b86_3a50_11eb_8246_0242ac1c0002row3_col0\" class=\"data row3 col0\" >5</td>\n",
              "                        <td id=\"T_24df2b86_3a50_11eb_8246_0242ac1c0002row3_col1\" class=\"data row3 col1\" >15</td>\n",
              "                        <td id=\"T_24df2b86_3a50_11eb_8246_0242ac1c0002row3_col2\" class=\"data row3 col2\" >25</td>\n",
              "                        <td id=\"T_24df2b86_3a50_11eb_8246_0242ac1c0002row3_col3\" class=\"data row3 col3\" >35</td>\n",
              "                        <td id=\"T_24df2b86_3a50_11eb_8246_0242ac1c0002row3_col4\" class=\"data row3 col4\" >45</td>\n",
              "            </tr>\n",
              "    </tbody></table>"
            ],
            "text/plain": [
              "<pandas.io.formats.style.Styler at 0x7f4e5be07e80>"
            ]
          },
          "metadata": {
            "tags": []
          },
          "execution_count": 9
        }
      ]
    }
  ]
}