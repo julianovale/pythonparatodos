{
  "nbformat": 4,
  "nbformat_minor": 0,
  "metadata": {
    "colab": {
      "name": "Módulo04Aula15.ipynb",
      "provenance": [],
      "collapsed_sections": [],
      "authorship_tag": "ABX9TyNAYuF/b7EZfOUTkWmMMDiB",
      "include_colab_link": true
    },
    "kernelspec": {
      "name": "python3",
      "display_name": "Python 3"
    }
  },
  "cells": [
    {
      "cell_type": "markdown",
      "metadata": {
        "id": "view-in-github",
        "colab_type": "text"
      },
      "source": [
        "<a href=\"https://colab.research.google.com/github/julianovale/pythonparatodos/blob/main/M%C3%B3dulo04Aula15.ipynb\" target=\"_parent\"><img src=\"https://colab.research.google.com/assets/colab-badge.svg\" alt=\"Open In Colab\"/></a>"
      ]
    },
    {
      "cell_type": "code",
      "metadata": {
        "id": "Xn47SdQbv6HA"
      },
      "source": [
        "import pandas as pd"
      ],
      "execution_count": 2,
      "outputs": []
    },
    {
      "cell_type": "code",
      "metadata": {
        "id": "3zvJ6YcgOeG7"
      },
      "source": [
        "dado_hist = {\r\n",
        "    'Empresa 1': [4,9,6,5],\r\n",
        "    'Empresa 2': [9,6,4,15],\r\n",
        "    'Empresa 3': [6,4,2,25],\r\n",
        "    'Empresa 4': [4,2,4,35],\r\n",
        "    'Empresa 5': [2,4,9,45]\r\n",
        "}\r\n",
        "\r\n",
        "df = pd.DataFrame(dado_hist)"
      ],
      "execution_count": 3,
      "outputs": []
    },
    {
      "cell_type": "code",
      "metadata": {
        "colab": {
          "base_uri": "https://localhost:8080/",
          "height": 173
        },
        "id": "it8trUMtO-m6",
        "outputId": "aa053910-43ed-4db0-d95f-99f3c419d792"
      },
      "source": [
        "df"
      ],
      "execution_count": 4,
      "outputs": [
        {
          "output_type": "execute_result",
          "data": {
            "text/html": [
              "<div>\n",
              "<style scoped>\n",
              "    .dataframe tbody tr th:only-of-type {\n",
              "        vertical-align: middle;\n",
              "    }\n",
              "\n",
              "    .dataframe tbody tr th {\n",
              "        vertical-align: top;\n",
              "    }\n",
              "\n",
              "    .dataframe thead th {\n",
              "        text-align: right;\n",
              "    }\n",
              "</style>\n",
              "<table border=\"1\" class=\"dataframe\">\n",
              "  <thead>\n",
              "    <tr style=\"text-align: right;\">\n",
              "      <th></th>\n",
              "      <th>Empresa 1</th>\n",
              "      <th>Empresa 2</th>\n",
              "      <th>Empresa 3</th>\n",
              "      <th>Empresa 4</th>\n",
              "      <th>Empresa 5</th>\n",
              "    </tr>\n",
              "  </thead>\n",
              "  <tbody>\n",
              "    <tr>\n",
              "      <th>0</th>\n",
              "      <td>4</td>\n",
              "      <td>9</td>\n",
              "      <td>6</td>\n",
              "      <td>4</td>\n",
              "      <td>2</td>\n",
              "    </tr>\n",
              "    <tr>\n",
              "      <th>1</th>\n",
              "      <td>9</td>\n",
              "      <td>6</td>\n",
              "      <td>4</td>\n",
              "      <td>2</td>\n",
              "      <td>4</td>\n",
              "    </tr>\n",
              "    <tr>\n",
              "      <th>2</th>\n",
              "      <td>6</td>\n",
              "      <td>4</td>\n",
              "      <td>2</td>\n",
              "      <td>4</td>\n",
              "      <td>9</td>\n",
              "    </tr>\n",
              "    <tr>\n",
              "      <th>3</th>\n",
              "      <td>5</td>\n",
              "      <td>15</td>\n",
              "      <td>25</td>\n",
              "      <td>35</td>\n",
              "      <td>45</td>\n",
              "    </tr>\n",
              "  </tbody>\n",
              "</table>\n",
              "</div>"
            ],
            "text/plain": [
              "   Empresa 1  Empresa 2  Empresa 3  Empresa 4  Empresa 5\n",
              "0          4          9          6          4          2\n",
              "1          9          6          4          2          4\n",
              "2          6          4          2          4          9\n",
              "3          5         15         25         35         45"
            ]
          },
          "metadata": {
            "tags": []
          },
          "execution_count": 4
        }
      ]
    },
    {
      "cell_type": "code",
      "metadata": {
        "id": "M_lNpVdlPJaj"
      },
      "source": [
        "df.loc[0, 'Empresa 2'] = -9\r\n",
        "df.loc[1, 'Empresa 2'] = df.loc[1, 'Empresa 2'] * -1\r\n",
        "df.loc[2, 'Empresa 2'] = -df.loc[2, 'Empresa 2']"
      ],
      "execution_count": 5,
      "outputs": []
    },
    {
      "cell_type": "code",
      "metadata": {
        "colab": {
          "base_uri": "https://localhost:8080/",
          "height": 173
        },
        "id": "qPeR_mN2Prfi",
        "outputId": "2894f7a4-a783-4d87-b2e2-c9de94628ee6"
      },
      "source": [
        "df"
      ],
      "execution_count": 6,
      "outputs": [
        {
          "output_type": "execute_result",
          "data": {
            "text/html": [
              "<div>\n",
              "<style scoped>\n",
              "    .dataframe tbody tr th:only-of-type {\n",
              "        vertical-align: middle;\n",
              "    }\n",
              "\n",
              "    .dataframe tbody tr th {\n",
              "        vertical-align: top;\n",
              "    }\n",
              "\n",
              "    .dataframe thead th {\n",
              "        text-align: right;\n",
              "    }\n",
              "</style>\n",
              "<table border=\"1\" class=\"dataframe\">\n",
              "  <thead>\n",
              "    <tr style=\"text-align: right;\">\n",
              "      <th></th>\n",
              "      <th>Empresa 1</th>\n",
              "      <th>Empresa 2</th>\n",
              "      <th>Empresa 3</th>\n",
              "      <th>Empresa 4</th>\n",
              "      <th>Empresa 5</th>\n",
              "    </tr>\n",
              "  </thead>\n",
              "  <tbody>\n",
              "    <tr>\n",
              "      <th>0</th>\n",
              "      <td>4</td>\n",
              "      <td>-9</td>\n",
              "      <td>6</td>\n",
              "      <td>4</td>\n",
              "      <td>2</td>\n",
              "    </tr>\n",
              "    <tr>\n",
              "      <th>1</th>\n",
              "      <td>9</td>\n",
              "      <td>-6</td>\n",
              "      <td>4</td>\n",
              "      <td>2</td>\n",
              "      <td>4</td>\n",
              "    </tr>\n",
              "    <tr>\n",
              "      <th>2</th>\n",
              "      <td>6</td>\n",
              "      <td>-4</td>\n",
              "      <td>2</td>\n",
              "      <td>4</td>\n",
              "      <td>9</td>\n",
              "    </tr>\n",
              "    <tr>\n",
              "      <th>3</th>\n",
              "      <td>5</td>\n",
              "      <td>15</td>\n",
              "      <td>25</td>\n",
              "      <td>35</td>\n",
              "      <td>45</td>\n",
              "    </tr>\n",
              "  </tbody>\n",
              "</table>\n",
              "</div>"
            ],
            "text/plain": [
              "   Empresa 1  Empresa 2  Empresa 3  Empresa 4  Empresa 5\n",
              "0          4         -9          6          4          2\n",
              "1          9         -6          4          2          4\n",
              "2          6         -4          2          4          9\n",
              "3          5         15         25         35         45"
            ]
          },
          "metadata": {
            "tags": []
          },
          "execution_count": 6
        }
      ]
    },
    {
      "cell_type": "code",
      "metadata": {
        "colab": {
          "base_uri": "https://localhost:8080/",
          "height": 124
        },
        "id": "jMzK5Bf2PzfB",
        "outputId": "80d32185-c4d4-4b86-b83a-494ddcdad3c0"
      },
      "source": [
        "df.style.bar(subset=['Empresa 1', 'Empresa 2'], align='mid', color=['#d65f5f','#5fba7d'])"
      ],
      "execution_count": 9,
      "outputs": [
        {
          "output_type": "execute_result",
          "data": {
            "text/html": [
              "<style  type=\"text/css\" >\n",
              "#T_d2083080_3d45_11eb_82a1_0242ac1c0002row0_col0{\n",
              "            width:  10em;\n",
              "             height:  80%;\n",
              "            background:  linear-gradient(90deg,#5fba7d 44.4%, transparent 44.4%);\n",
              "        }#T_d2083080_3d45_11eb_82a1_0242ac1c0002row0_col1{\n",
              "            width:  10em;\n",
              "             height:  80%;\n",
              "            background:  linear-gradient(90deg,#d65f5f 37.5%, transparent 37.5%);\n",
              "        }#T_d2083080_3d45_11eb_82a1_0242ac1c0002row1_col0{\n",
              "            width:  10em;\n",
              "             height:  80%;\n",
              "            background:  linear-gradient(90deg,#5fba7d 100.0%, transparent 100.0%);\n",
              "        }#T_d2083080_3d45_11eb_82a1_0242ac1c0002row1_col1{\n",
              "            width:  10em;\n",
              "             height:  80%;\n",
              "            background:  linear-gradient(90deg, transparent 12.5%, #d65f5f 12.5%, #d65f5f 37.5%, transparent 37.5%);\n",
              "        }#T_d2083080_3d45_11eb_82a1_0242ac1c0002row2_col0{\n",
              "            width:  10em;\n",
              "             height:  80%;\n",
              "            background:  linear-gradient(90deg,#5fba7d 66.7%, transparent 66.7%);\n",
              "        }#T_d2083080_3d45_11eb_82a1_0242ac1c0002row2_col1{\n",
              "            width:  10em;\n",
              "             height:  80%;\n",
              "            background:  linear-gradient(90deg, transparent 20.8%, #d65f5f 20.8%, #d65f5f 37.5%, transparent 37.5%);\n",
              "        }#T_d2083080_3d45_11eb_82a1_0242ac1c0002row3_col0{\n",
              "            width:  10em;\n",
              "             height:  80%;\n",
              "            background:  linear-gradient(90deg,#5fba7d 55.6%, transparent 55.6%);\n",
              "        }#T_d2083080_3d45_11eb_82a1_0242ac1c0002row3_col1{\n",
              "            width:  10em;\n",
              "             height:  80%;\n",
              "            background:  linear-gradient(90deg, transparent 37.5%, #5fba7d 37.5%, #5fba7d 100.0%, transparent 100.0%);\n",
              "        }</style><table id=\"T_d2083080_3d45_11eb_82a1_0242ac1c0002\" ><thead>    <tr>        <th class=\"blank level0\" ></th>        <th class=\"col_heading level0 col0\" >Empresa 1</th>        <th class=\"col_heading level0 col1\" >Empresa 2</th>        <th class=\"col_heading level0 col2\" >Empresa 3</th>        <th class=\"col_heading level0 col3\" >Empresa 4</th>        <th class=\"col_heading level0 col4\" >Empresa 5</th>    </tr></thead><tbody>\n",
              "                <tr>\n",
              "                        <th id=\"T_d2083080_3d45_11eb_82a1_0242ac1c0002level0_row0\" class=\"row_heading level0 row0\" >0</th>\n",
              "                        <td id=\"T_d2083080_3d45_11eb_82a1_0242ac1c0002row0_col0\" class=\"data row0 col0\" >4</td>\n",
              "                        <td id=\"T_d2083080_3d45_11eb_82a1_0242ac1c0002row0_col1\" class=\"data row0 col1\" >-9</td>\n",
              "                        <td id=\"T_d2083080_3d45_11eb_82a1_0242ac1c0002row0_col2\" class=\"data row0 col2\" >6</td>\n",
              "                        <td id=\"T_d2083080_3d45_11eb_82a1_0242ac1c0002row0_col3\" class=\"data row0 col3\" >4</td>\n",
              "                        <td id=\"T_d2083080_3d45_11eb_82a1_0242ac1c0002row0_col4\" class=\"data row0 col4\" >2</td>\n",
              "            </tr>\n",
              "            <tr>\n",
              "                        <th id=\"T_d2083080_3d45_11eb_82a1_0242ac1c0002level0_row1\" class=\"row_heading level0 row1\" >1</th>\n",
              "                        <td id=\"T_d2083080_3d45_11eb_82a1_0242ac1c0002row1_col0\" class=\"data row1 col0\" >9</td>\n",
              "                        <td id=\"T_d2083080_3d45_11eb_82a1_0242ac1c0002row1_col1\" class=\"data row1 col1\" >-6</td>\n",
              "                        <td id=\"T_d2083080_3d45_11eb_82a1_0242ac1c0002row1_col2\" class=\"data row1 col2\" >4</td>\n",
              "                        <td id=\"T_d2083080_3d45_11eb_82a1_0242ac1c0002row1_col3\" class=\"data row1 col3\" >2</td>\n",
              "                        <td id=\"T_d2083080_3d45_11eb_82a1_0242ac1c0002row1_col4\" class=\"data row1 col4\" >4</td>\n",
              "            </tr>\n",
              "            <tr>\n",
              "                        <th id=\"T_d2083080_3d45_11eb_82a1_0242ac1c0002level0_row2\" class=\"row_heading level0 row2\" >2</th>\n",
              "                        <td id=\"T_d2083080_3d45_11eb_82a1_0242ac1c0002row2_col0\" class=\"data row2 col0\" >6</td>\n",
              "                        <td id=\"T_d2083080_3d45_11eb_82a1_0242ac1c0002row2_col1\" class=\"data row2 col1\" >-4</td>\n",
              "                        <td id=\"T_d2083080_3d45_11eb_82a1_0242ac1c0002row2_col2\" class=\"data row2 col2\" >2</td>\n",
              "                        <td id=\"T_d2083080_3d45_11eb_82a1_0242ac1c0002row2_col3\" class=\"data row2 col3\" >4</td>\n",
              "                        <td id=\"T_d2083080_3d45_11eb_82a1_0242ac1c0002row2_col4\" class=\"data row2 col4\" >9</td>\n",
              "            </tr>\n",
              "            <tr>\n",
              "                        <th id=\"T_d2083080_3d45_11eb_82a1_0242ac1c0002level0_row3\" class=\"row_heading level0 row3\" >3</th>\n",
              "                        <td id=\"T_d2083080_3d45_11eb_82a1_0242ac1c0002row3_col0\" class=\"data row3 col0\" >5</td>\n",
              "                        <td id=\"T_d2083080_3d45_11eb_82a1_0242ac1c0002row3_col1\" class=\"data row3 col1\" >15</td>\n",
              "                        <td id=\"T_d2083080_3d45_11eb_82a1_0242ac1c0002row3_col2\" class=\"data row3 col2\" >25</td>\n",
              "                        <td id=\"T_d2083080_3d45_11eb_82a1_0242ac1c0002row3_col3\" class=\"data row3 col3\" >35</td>\n",
              "                        <td id=\"T_d2083080_3d45_11eb_82a1_0242ac1c0002row3_col4\" class=\"data row3 col4\" >45</td>\n",
              "            </tr>\n",
              "    </tbody></table>"
            ],
            "text/plain": [
              "<pandas.io.formats.style.Styler at 0x7fbc246359e8>"
            ]
          },
          "metadata": {
            "tags": []
          },
          "execution_count": 9
        }
      ]
    }
  ]
}