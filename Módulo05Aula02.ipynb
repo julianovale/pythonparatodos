{
  "nbformat": 4,
  "nbformat_minor": 0,
  "metadata": {
    "colab": {
      "name": "Módulo05Aula02.ipynb",
      "provenance": [],
      "collapsed_sections": [],
      "authorship_tag": "ABX9TyM0SAVTE9cSd0ICjB0jRKbV",
      "include_colab_link": true
    },
    "kernelspec": {
      "name": "python3",
      "display_name": "Python 3"
    }
  },
  "cells": [
    {
      "cell_type": "markdown",
      "metadata": {
        "id": "view-in-github",
        "colab_type": "text"
      },
      "source": [
        "<a href=\"https://colab.research.google.com/github/julianovale/pythonparatodos/blob/main/M%C3%B3dulo05Aula02.ipynb\" target=\"_parent\"><img src=\"https://colab.research.google.com/assets/colab-badge.svg\" alt=\"Open In Colab\"/></a>"
      ]
    },
    {
      "cell_type": "code",
      "metadata": {
        "colab": {
          "base_uri": "https://localhost:8080/"
        },
        "id": "Dw6KKdE2wcIQ",
        "outputId": "15fa4e97-76f9-4a48-da5f-c39c0a0f5068"
      },
      "source": [
        "temperatura = input('Entre com a temperatura: ') # isso entre como string\r\n",
        "temperatura = float(temperatura) # necessário transformar\r\n",
        "teste = (temperatura > 25)\r\n",
        "if (teste == True):\r\n",
        "  print('1: Ligar o ar-condicionado')\r\n",
        "else:\r\n",
        "  print('2: Desligar o ar-condicionado')"
      ],
      "execution_count": 9,
      "outputs": [
        {
          "output_type": "stream",
          "text": [
            "Entre com a temperatura: 35\n",
            "1: Ligar o ar-condicionado\n"
          ],
          "name": "stdout"
        }
      ]
    }
  ]
}