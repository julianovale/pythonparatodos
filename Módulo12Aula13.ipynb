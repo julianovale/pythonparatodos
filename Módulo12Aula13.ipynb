{
  "nbformat": 4,
  "nbformat_minor": 0,
  "metadata": {
    "colab": {
      "name": "Módulo12Aula13.ipynb",
      "provenance": [],
      "collapsed_sections": [],
      "authorship_tag": "ABX9TyO+i9UeHeg018YlRPkAmi0Z",
      "include_colab_link": true
    },
    "kernelspec": {
      "name": "python3",
      "display_name": "Python 3"
    }
  },
  "cells": [
    {
      "cell_type": "markdown",
      "metadata": {
        "id": "view-in-github",
        "colab_type": "text"
      },
      "source": [
        "<a href=\"https://colab.research.google.com/github/julianovale/pythonparatodos/blob/main/M%C3%B3dulo12Aula13.ipynb\" target=\"_parent\"><img src=\"https://colab.research.google.com/assets/colab-badge.svg\" alt=\"Open In Colab\"/></a>"
      ]
    },
    {
      "cell_type": "code",
      "metadata": {
        "id": "WL1qdwWuHjNN"
      },
      "source": [
        "class A:\r\n",
        "  def __init__(self,x):\r\n",
        "    self.__x = x\r\n",
        "\r\n",
        "  def fun(self):\r\n",
        "    print(\"Public: Método A: x =\", self.__x)\r\n",
        "\r\n",
        "  def _fun(self):\r\n",
        "    print(\"Protectec: Método A: x =\", self.__x)\r\n",
        "\r\n",
        "  def __fun(self):\r\n",
        "    print(\"Private: Método A: x =\", self.__x)\r\n",
        "\r\n",
        "class B(A):\r\n",
        "  def __init__(self,x):\r\n",
        "    A.__init__(self,x)\r\n",
        "\r\n",
        "  def call_public(self):\r\n",
        "    print(\"Public: chamada na Classe B\")\r\n",
        "    self.fun()\r\n",
        "\r\n",
        "  def call_protected(self):\r\n",
        "    print(\"Protected: chamada na Classe B\")\r\n",
        "    self._fun()\r\n",
        "\r\n",
        "  def call_private(self):\r\n",
        "    print(\"Private: chamada na Classe B\")\r\n",
        "    self.__fun()\r\n"
      ],
      "execution_count": 6,
      "outputs": []
    },
    {
      "cell_type": "code",
      "metadata": {
        "colab": {
          "base_uri": "https://localhost:8080/"
        },
        "id": "v30Ex0ZxLixr",
        "outputId": "acace6fc-aadf-407f-b5d0-72302c7a1440"
      },
      "source": [
        "obj = B(5)\r\n",
        "obj.fun()\r\n",
        "print(\"\")\r\n",
        "obj.call_public()\r\n",
        "print(\"\")\r\n",
        "obj.call_protected()"
      ],
      "execution_count": 7,
      "outputs": [
        {
          "output_type": "stream",
          "text": [
            "Public: Método A: x = 5\n",
            "\n",
            "Public: chamada na Classe B\n",
            "Public: Método A: x = 5\n",
            "\n",
            "Protected: chamada na Classe B\n",
            "Protectec: Método A: x = 5\n"
          ],
          "name": "stdout"
        }
      ]
    },
    {
      "cell_type": "code",
      "metadata": {
        "colab": {
          "base_uri": "https://localhost:8080/",
          "height": 163
        },
        "id": "iWEzn762MgKx",
        "outputId": "402ae203-9421-40f4-d2a7-2aeff0889bbf"
      },
      "source": [
        "obj.__fun() # não pode ser chamado de fora da classe A"
      ],
      "execution_count": 8,
      "outputs": [
        {
          "output_type": "error",
          "ename": "AttributeError",
          "evalue": "ignored",
          "traceback": [
            "\u001b[0;31m---------------------------------------------------------------------------\u001b[0m",
            "\u001b[0;31mAttributeError\u001b[0m                            Traceback (most recent call last)",
            "\u001b[0;32m<ipython-input-8-4134760ea821>\u001b[0m in \u001b[0;36m<module>\u001b[0;34m()\u001b[0m\n\u001b[0;32m----> 1\u001b[0;31m \u001b[0mobj\u001b[0m\u001b[0;34m.\u001b[0m\u001b[0m__fun\u001b[0m\u001b[0;34m(\u001b[0m\u001b[0;34m)\u001b[0m\u001b[0;34m\u001b[0m\u001b[0;34m\u001b[0m\u001b[0m\n\u001b[0m",
            "\u001b[0;31mAttributeError\u001b[0m: 'B' object has no attribute '__fun'"
          ]
        }
      ]
    },
    {
      "cell_type": "code",
      "metadata": {
        "colab": {
          "base_uri": "https://localhost:8080/",
          "height": 265
        },
        "id": "dZ415bIHMkXH",
        "outputId": "c06cd06b-c406-46df-8842-08f65b94e654"
      },
      "source": [
        "obj.call_private() # não pode ser chamado de fora da classe A"
      ],
      "execution_count": 9,
      "outputs": [
        {
          "output_type": "stream",
          "text": [
            "Private: chamada na Classe B\n"
          ],
          "name": "stdout"
        },
        {
          "output_type": "error",
          "ename": "AttributeError",
          "evalue": "ignored",
          "traceback": [
            "\u001b[0;31m---------------------------------------------------------------------------\u001b[0m",
            "\u001b[0;31mAttributeError\u001b[0m                            Traceback (most recent call last)",
            "\u001b[0;32m<ipython-input-9-1d5dee92102d>\u001b[0m in \u001b[0;36m<module>\u001b[0;34m()\u001b[0m\n\u001b[0;32m----> 1\u001b[0;31m \u001b[0mobj\u001b[0m\u001b[0;34m.\u001b[0m\u001b[0mcall_private\u001b[0m\u001b[0;34m(\u001b[0m\u001b[0;34m)\u001b[0m\u001b[0;34m\u001b[0m\u001b[0;34m\u001b[0m\u001b[0m\n\u001b[0m",
            "\u001b[0;32m<ipython-input-6-1d6720d82465>\u001b[0m in \u001b[0;36mcall_private\u001b[0;34m(self)\u001b[0m\n\u001b[1;32m     26\u001b[0m   \u001b[0;32mdef\u001b[0m \u001b[0mcall_private\u001b[0m\u001b[0;34m(\u001b[0m\u001b[0mself\u001b[0m\u001b[0;34m)\u001b[0m\u001b[0;34m:\u001b[0m\u001b[0;34m\u001b[0m\u001b[0;34m\u001b[0m\u001b[0m\n\u001b[1;32m     27\u001b[0m     \u001b[0mprint\u001b[0m\u001b[0;34m(\u001b[0m\u001b[0;34m\"Private: chamada na Classe B\"\u001b[0m\u001b[0;34m)\u001b[0m\u001b[0;34m\u001b[0m\u001b[0;34m\u001b[0m\u001b[0m\n\u001b[0;32m---> 28\u001b[0;31m     \u001b[0mself\u001b[0m\u001b[0;34m.\u001b[0m\u001b[0m__fun\u001b[0m\u001b[0;34m(\u001b[0m\u001b[0;34m)\u001b[0m\u001b[0;34m\u001b[0m\u001b[0;34m\u001b[0m\u001b[0m\n\u001b[0m",
            "\u001b[0;31mAttributeError\u001b[0m: 'B' object has no attribute '_B__fun'"
          ]
        }
      ]
    }
  ]
}