{
  "nbformat": 4,
  "nbformat_minor": 0,
  "metadata": {
    "colab": {
      "name": "Módulo06Aula05.ipynb",
      "provenance": [],
      "authorship_tag": "ABX9TyOgBwXiYa3ar8mIyrLmLUn8",
      "include_colab_link": true
    },
    "kernelspec": {
      "name": "python3",
      "display_name": "Python 3"
    }
  },
  "cells": [
    {
      "cell_type": "markdown",
      "metadata": {
        "id": "view-in-github",
        "colab_type": "text"
      },
      "source": [
        "<a href=\"https://colab.research.google.com/github/julianovale/pythonparatodos/blob/main/M%C3%B3dulo06Aula05.ipynb\" target=\"_parent\"><img src=\"https://colab.research.google.com/assets/colab-badge.svg\" alt=\"Open In Colab\"/></a>"
      ]
    },
    {
      "cell_type": "code",
      "metadata": {
        "colab": {
          "base_uri": "https://localhost:8080/"
        },
        "id": "sClREWtWiLUD",
        "outputId": "88e54906-2a1b-4c0f-f014-fb54f6821540"
      },
      "source": [
        "i = 0\r\n",
        "while (i <= 10):\r\n",
        "  i += 1\r\n",
        "  if (i > 10):\r\n",
        "    break\r\n",
        "  if (i % 2 == 0):\r\n",
        "    continue\r\n",
        "  else:\r\n",
        "    print(i)"
      ],
      "execution_count": 6,
      "outputs": [
        {
          "output_type": "stream",
          "text": [
            "1\n",
            "3\n",
            "5\n",
            "7\n",
            "9\n"
          ],
          "name": "stdout"
        }
      ]
    }
  ]
}