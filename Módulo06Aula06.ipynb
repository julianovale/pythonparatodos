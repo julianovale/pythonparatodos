{
  "nbformat": 4,
  "nbformat_minor": 0,
  "metadata": {
    "colab": {
      "name": "Módulo06Aula06.ipynb",
      "provenance": [],
      "authorship_tag": "ABX9TyOEzDdhv5WLqhLzZU1Zw0da",
      "include_colab_link": true
    },
    "kernelspec": {
      "name": "python3",
      "display_name": "Python 3"
    }
  },
  "cells": [
    {
      "cell_type": "markdown",
      "metadata": {
        "id": "view-in-github",
        "colab_type": "text"
      },
      "source": [
        "<a href=\"https://colab.research.google.com/github/julianovale/pythonparatodos/blob/main/M%C3%B3dulo06Aula06.ipynb\" target=\"_parent\"><img src=\"https://colab.research.google.com/assets/colab-badge.svg\" alt=\"Open In Colab\"/></a>"
      ]
    },
    {
      "cell_type": "code",
      "metadata": {
        "colab": {
          "base_uri": "https://localhost:8080/"
        },
        "id": "qSX7Lmi4jb5W",
        "outputId": "31b24576-660e-467d-c013-e4abd65561a4"
      },
      "source": [
        "lista1 = ['a','b','c','d','e','f']\r\n",
        "\r\n",
        "i = 0\r\n",
        "while (i < len(lista1)):\r\n",
        "  print(lista1[i])\r\n",
        "  i += 1"
      ],
      "execution_count": 4,
      "outputs": [
        {
          "output_type": "stream",
          "text": [
            "a\n",
            "b\n",
            "c\n",
            "d\n",
            "e\n",
            "f\n"
          ],
          "name": "stdout"
        }
      ]
    },
    {
      "cell_type": "code",
      "metadata": {
        "colab": {
          "base_uri": "https://localhost:8080/"
        },
        "id": "0n6ewgQBkU5K",
        "outputId": "37b2e0b0-9154-4aab-9012-7b769f6dd4a6"
      },
      "source": [
        "lista1 = ['a','b','c','d','e','f','g']\r\n",
        "\r\n",
        "i = 0\r\n",
        "n = len(lista1)\r\n",
        "while (i < n):\r\n",
        "  elem = 'lista1[%i]=%s'%(i,lista1[i])\r\n",
        "  print(elem)\r\n",
        "  i += 1"
      ],
      "execution_count": 6,
      "outputs": [
        {
          "output_type": "stream",
          "text": [
            "lista1[0]=a\n",
            "lista1[1]=b\n",
            "lista1[2]=c\n",
            "lista1[3]=d\n",
            "lista1[4]=e\n",
            "lista1[5]=f\n",
            "lista1[6]=g\n"
          ],
          "name": "stdout"
        }
      ]
    }
  ]
}