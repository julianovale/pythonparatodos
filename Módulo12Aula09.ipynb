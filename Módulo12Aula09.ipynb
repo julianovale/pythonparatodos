{
  "nbformat": 4,
  "nbformat_minor": 0,
  "metadata": {
    "colab": {
      "name": "Módulo12Aula09.ipynb",
      "provenance": [],
      "collapsed_sections": [],
      "authorship_tag": "ABX9TyN+msljMc+pYSKehklIBXRb",
      "include_colab_link": true
    },
    "kernelspec": {
      "name": "python3",
      "display_name": "Python 3"
    }
  },
  "cells": [
    {
      "cell_type": "markdown",
      "metadata": {
        "id": "view-in-github",
        "colab_type": "text"
      },
      "source": [
        "<a href=\"https://colab.research.google.com/github/julianovale/pythonparatodos/blob/main/M%C3%B3dulo12Aula09.ipynb\" target=\"_parent\"><img src=\"https://colab.research.google.com/assets/colab-badge.svg\" alt=\"Open In Colab\"/></a>"
      ]
    },
    {
      "cell_type": "code",
      "metadata": {
        "id": "560-Kp0JJ-Bc"
      },
      "source": [
        "class A:\r\n",
        "  def __init__(self,x):\r\n",
        "    self.__x = x\r\n",
        "  \r\n",
        "  def fun(self):\r\n",
        "    print('Public: Método A: fun, x = ', self.__x)\r\n",
        "\r\n",
        "  def _fun(self):\r\n",
        "    print('Protected: Método A: _fun, x = ', self.__x)\r\n",
        "\r\n",
        "  def __fun(self):\r\n",
        "    print('Private: Método A: __fun, x = ', self.__x)\r\n",
        "\r\n",
        "  def mPrivate(self):\r\n",
        "    self.__fun()"
      ],
      "execution_count": 15,
      "outputs": []
    },
    {
      "cell_type": "code",
      "metadata": {
        "id": "KA76FhoHKpg5"
      },
      "source": [
        "obj = A(1.0)"
      ],
      "execution_count": 16,
      "outputs": []
    },
    {
      "cell_type": "code",
      "metadata": {
        "colab": {
          "base_uri": "https://localhost:8080/"
        },
        "id": "_xfWGfI1Lsmg",
        "outputId": "8f94ea63-1374-424b-e8c7-42aa3cef2315"
      },
      "source": [
        "# Método public\r\n",
        "obj.fun()"
      ],
      "execution_count": 17,
      "outputs": [
        {
          "output_type": "stream",
          "text": [
            "Public: Método A: fun, x =  1.0\n"
          ],
          "name": "stdout"
        }
      ]
    },
    {
      "cell_type": "code",
      "metadata": {
        "colab": {
          "base_uri": "https://localhost:8080/"
        },
        "id": "nbT-Sj7VLzZO",
        "outputId": "6d57bc62-fbc8-483a-e405-7c4105f2664a"
      },
      "source": [
        "# Método protected\r\n",
        "obj._fun()"
      ],
      "execution_count": 18,
      "outputs": [
        {
          "output_type": "stream",
          "text": [
            "Protected: Método A: _fun, x =  1.0\n"
          ],
          "name": "stdout"
        }
      ]
    },
    {
      "cell_type": "code",
      "metadata": {
        "colab": {
          "base_uri": "https://localhost:8080/"
        },
        "id": "xa886Ax9Md_H",
        "outputId": "3d506959-323d-4a61-cd49-ac9eae13b30d"
      },
      "source": [
        "obj.mPrivate()"
      ],
      "execution_count": 19,
      "outputs": [
        {
          "output_type": "stream",
          "text": [
            "Private: Método A: __fun, x =  1.0\n"
          ],
          "name": "stdout"
        }
      ]
    },
    {
      "cell_type": "code",
      "metadata": {
        "colab": {
          "base_uri": "https://localhost:8080/"
        },
        "id": "65CFEuVWPNyO",
        "outputId": "578bec58-e5e0-43fc-fd32-6dd555cad261"
      },
      "source": [
        "# Burlando o acesso private (campo e método)\r\n",
        "\r\n",
        "obj._A__fun()\r\n",
        "print(\"A.x = \", obj._A__x)"
      ],
      "execution_count": 21,
      "outputs": [
        {
          "output_type": "stream",
          "text": [
            "Private: Método A: __fun, x =  1.0\n",
            "A.x =  1.0\n"
          ],
          "name": "stdout"
        }
      ]
    }
  ]
}