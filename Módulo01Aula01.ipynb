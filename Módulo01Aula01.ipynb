{
  "nbformat": 4,
  "nbformat_minor": 0,
  "metadata": {
    "colab": {
      "name": "Módulo01Aula01.ipynb",
      "provenance": [],
      "collapsed_sections": [],
      "authorship_tag": "ABX9TyOdpTZUDF71b8+pB2Eg0pDZ",
      "include_colab_link": true
    },
    "kernelspec": {
      "name": "python3",
      "display_name": "Python 3"
    }
  },
  "cells": [
    {
      "cell_type": "markdown",
      "metadata": {
        "id": "view-in-github",
        "colab_type": "text"
      },
      "source": [
        "<a href=\"https://colab.research.google.com/github/julianovale/pythonparatodos/blob/main/M%C3%B3dulo01Aula01.ipynb\" target=\"_parent\"><img src=\"https://colab.research.google.com/assets/colab-badge.svg\" alt=\"Open In Colab\"/></a>"
      ]
    },
    {
      "cell_type": "code",
      "metadata": {
        "colab": {
          "base_uri": "https://localhost:8080/"
        },
        "id": "eN7p1uY4XuTF",
        "outputId": "77ea0efe-389f-412a-dba9-9efc1c41572f"
      },
      "source": [
        "nome = \"Juliano\"\n",
        "var = 45\n",
        "var1 = 2\n",
        "var2 = var + var1\n",
        "VariavelMaiuscula = \"maiúscula\"\n",
        "variavelmaiuscula = \"minúscula\"\n",
        "somapalavras = VariavelMaiuscula + variavelmaiuscula\n",
        "print(VariavelMaiuscula)\n",
        "print(variavelmaiuscula)\n",
        "print(var2)\n",
        "print(somapalavras)\n"
      ],
      "execution_count": 7,
      "outputs": [
        {
          "output_type": "stream",
          "text": [
            "maiúscula\n",
            "minúscula\n",
            "47\n",
            "maiúsculaminúscula\n"
          ],
          "name": "stdout"
        }
      ]
    }
  ]
}