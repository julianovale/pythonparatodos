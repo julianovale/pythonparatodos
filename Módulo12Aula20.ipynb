{
  "nbformat": 4,
  "nbformat_minor": 0,
  "metadata": {
    "colab": {
      "name": "Módulo12Aula20.ipynb",
      "provenance": [],
      "collapsed_sections": [],
      "authorship_tag": "ABX9TyMzv+Pei/19os7iRTfNwKHX",
      "include_colab_link": true
    },
    "kernelspec": {
      "name": "python3",
      "display_name": "Python 3"
    }
  },
  "cells": [
    {
      "cell_type": "markdown",
      "metadata": {
        "id": "view-in-github",
        "colab_type": "text"
      },
      "source": [
        "<a href=\"https://colab.research.google.com/github/julianovale/pythonparatodos/blob/main/M%C3%B3dulo12Aula20.ipynb\" target=\"_parent\"><img src=\"https://colab.research.google.com/assets/colab-badge.svg\" alt=\"Open In Colab\"/></a>"
      ]
    },
    {
      "cell_type": "code",
      "metadata": {
        "id": "aNZsMkr_TGtL"
      },
      "source": [
        "import matplotlib.pyplot as plt"
      ],
      "execution_count": 1,
      "outputs": []
    },
    {
      "cell_type": "code",
      "metadata": {
        "id": "Dvb3MWVTThg6"
      },
      "source": [
        "class Ponto:\r\n",
        "  def __init__(self, x = 1.0, y = 1.0, symbol = 'o', color = 'blue'):\r\n",
        "    self.x = x\r\n",
        "    self.y = y\r\n",
        "    self.symbol = symbol\r\n",
        "    self.color = color\r\n",
        "    self.fig = plt.figure()\r\n",
        "    self.ax = plt.axes()\r\n",
        "\r\n",
        "  def desenha(self):\r\n",
        "    self.ax.plot(self.x, self.y, self.symbol, color = self.color)\r\n",
        "    self.ax.grid()\r\n",
        "    self.fig.show()"
      ],
      "execution_count": 2,
      "outputs": []
    },
    {
      "cell_type": "code",
      "metadata": {
        "colab": {
          "base_uri": "https://localhost:8080/",
          "height": 265
        },
        "id": "8SBatBVIUxFx",
        "outputId": "febd253b-3062-4131-cd05-2420d8c4bea8"
      },
      "source": [
        "p = Ponto()\r\n",
        "p.desenha()\r\n"
      ],
      "execution_count": 3,
      "outputs": [
        {
          "output_type": "display_data",
          "data": {
            "image/png": "[encoded data removed]",
            "text/plain": [
              "<Figure size 432x288 with 1 Axes>"
            ]
          },
          "metadata": {
            "tags": [],
            "needs_background": "light"
          }
        }
      ]
    },
    {
      "cell_type": "code",
      "metadata": {
        "colab": {
          "base_uri": "https://localhost:8080/",
          "height": 265
        },
        "id": "uLTnYcBoVAEv",
        "outputId": "1328f8e6-be91-4d68-c3fb-0bd8332169d7"
      },
      "source": [
        "g = Ponto(4, 8, \"*\", 'red')\r\n",
        "g.desenha()"
      ],
      "execution_count": 4,
      "outputs": [
        {
          "output_type": "display_data",
          "data": {
            "image/png": "[encoded data removed]",
            "text/plain": [
              "<Figure size 432x288 with 1 Axes>"
            ]
          },
          "metadata": {
            "tags": [],
            "needs_background": "light"
          }
        }
      ]
    },
    {
      "cell_type": "code",
      "metadata": {
        "id": "BzIzuKZyV2Mr"
      },
      "source": [
        "class Circulo(Ponto):\r\n",
        "  def __init__(self, x = 1.0, y = 1.0, symbol = '.', ccolor = 'red', raio = 0.25):\r\n",
        "    super().__init__(x, y, symbol)\r\n",
        "    self.raio = raio\r\n",
        "    self.ccolor = ccolor\r\n",
        "\r\n",
        "  def desenha(self):\r\n",
        "    draw_circle = plt.Circle((self.x, self.y), self.raio, \r\n",
        "                             fill = True, color=self.ccolor)\r\n",
        "    self.fig.gca().add_artist(draw_circle)\r\n",
        "    x = self.x\r\n",
        "    y = self.y\r\n",
        "    r = self.raio\r\n",
        "    xmin = x - 1.5*r\r\n",
        "    xmax = x + 1.5*r\r\n",
        "    ymin = y - 1.5*r\r\n",
        "    ymax = y + 1.5*r\r\n",
        "    self.ax.set(xlim=(xmin, xmax),ylim=(ymin, ymax))\r\n",
        "    self.ax.grid()\r\n",
        "    self.fig.show()"
      ],
      "execution_count": 17,
      "outputs": []
    },
    {
      "cell_type": "code",
      "metadata": {
        "colab": {
          "base_uri": "https://localhost:8080/",
          "height": 265
        },
        "id": "B2aNGFaeb8J7",
        "outputId": "b9d8fa37-19a1-42aa-fdb5-78b7fd7e8b8b"
      },
      "source": [
        "c = Circulo(ccolor = 'green')\r\n",
        "c.desenha()"
      ],
      "execution_count": 19,
      "outputs": [
        {
          "output_type": "display_data",
          "data": {
            "image/png": "[encoded data removed]",
            "text/plain": [
              "<Figure size 432x288 with 1 Axes>"
            ]
          },
          "metadata": {
            "tags": [],
            "needs_background": "light"
          }
        }
      ]
    }
  ]
}