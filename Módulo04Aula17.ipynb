{
  "nbformat": 4,
  "nbformat_minor": 0,
  "metadata": {
    "colab": {
      "name": "Módulo04Aula17.ipynb",
      "provenance": [],
      "collapsed_sections": [],
      "authorship_tag": "ABX9TyOTZeJXYGCqXgWyhpA+0Z0C",
      "include_colab_link": true
    },
    "kernelspec": {
      "name": "python3",
      "display_name": "Python 3"
    }
  },
  "cells": [
    {
      "cell_type": "markdown",
      "metadata": {
        "id": "view-in-github",
        "colab_type": "text"
      },
      "source": [
        "<a href=\"https://colab.research.google.com/github/julianovale/pythonparatodos/blob/main/M%C3%B3dulo04Aula17.ipynb\" target=\"_parent\"><img src=\"https://colab.research.google.com/assets/colab-badge.svg\" alt=\"Open In Colab\"/></a>"
      ]
    },
    {
      "cell_type": "code",
      "metadata": {
        "id": "Xn47SdQbv6HA"
      },
      "source": [
        "import pandas as pd"
      ],
      "execution_count": 1,
      "outputs": []
    },
    {
      "cell_type": "code",
      "metadata": {
        "id": "3zvJ6YcgOeG7"
      },
      "source": [
        "dado_hist = {\r\n",
        "    'Empresa 1': [4,9,6,5],\r\n",
        "    'Empresa 2': [9,6,4,15],\r\n",
        "    'Empresa 3': [6,4,2,25],\r\n",
        "    'Empresa 4': [4,2,4,35],\r\n",
        "    'Empresa 5': [2,4,9,45]\r\n",
        "}\r\n",
        "\r\n",
        "df = pd.DataFrame(dado_hist)"
      ],
      "execution_count": 2,
      "outputs": []
    },
    {
      "cell_type": "code",
      "metadata": {
        "colab": {
          "base_uri": "https://localhost:8080/",
          "height": 173
        },
        "id": "uKUAQgDDSfRi",
        "outputId": "9acf4a1e-cc0f-43be-c183-da0e103c2497"
      },
      "source": [
        "df"
      ],
      "execution_count": 3,
      "outputs": [
        {
          "output_type": "execute_result",
          "data": {
            "text/html": [
              "<div>\n",
              "<style scoped>\n",
              "    .dataframe tbody tr th:only-of-type {\n",
              "        vertical-align: middle;\n",
              "    }\n",
              "\n",
              "    .dataframe tbody tr th {\n",
              "        vertical-align: top;\n",
              "    }\n",
              "\n",
              "    .dataframe thead th {\n",
              "        text-align: right;\n",
              "    }\n",
              "</style>\n",
              "<table border=\"1\" class=\"dataframe\">\n",
              "  <thead>\n",
              "    <tr style=\"text-align: right;\">\n",
              "      <th></th>\n",
              "      <th>Empresa 1</th>\n",
              "      <th>Empresa 2</th>\n",
              "      <th>Empresa 3</th>\n",
              "      <th>Empresa 4</th>\n",
              "      <th>Empresa 5</th>\n",
              "    </tr>\n",
              "  </thead>\n",
              "  <tbody>\n",
              "    <tr>\n",
              "      <th>0</th>\n",
              "      <td>4</td>\n",
              "      <td>9</td>\n",
              "      <td>6</td>\n",
              "      <td>4</td>\n",
              "      <td>2</td>\n",
              "    </tr>\n",
              "    <tr>\n",
              "      <th>1</th>\n",
              "      <td>9</td>\n",
              "      <td>6</td>\n",
              "      <td>4</td>\n",
              "      <td>2</td>\n",
              "      <td>4</td>\n",
              "    </tr>\n",
              "    <tr>\n",
              "      <th>2</th>\n",
              "      <td>6</td>\n",
              "      <td>4</td>\n",
              "      <td>2</td>\n",
              "      <td>4</td>\n",
              "      <td>9</td>\n",
              "    </tr>\n",
              "    <tr>\n",
              "      <th>3</th>\n",
              "      <td>5</td>\n",
              "      <td>15</td>\n",
              "      <td>25</td>\n",
              "      <td>35</td>\n",
              "      <td>45</td>\n",
              "    </tr>\n",
              "  </tbody>\n",
              "</table>\n",
              "</div>"
            ],
            "text/plain": [
              "   Empresa 1  Empresa 2  Empresa 3  Empresa 4  Empresa 5\n",
              "0          4          9          6          4          2\n",
              "1          9          6          4          2          4\n",
              "2          6          4          2          4          9\n",
              "3          5         15         25         35         45"
            ]
          },
          "metadata": {
            "tags": []
          },
          "execution_count": 3
        }
      ]
    },
    {
      "cell_type": "code",
      "metadata": {
        "colab": {
          "base_uri": "https://localhost:8080/"
        },
        "id": "2Xjpo_D6VtaB",
        "outputId": "40e33d79-b16d-4ca0-af01-dd0d007881e5"
      },
      "source": [
        "variancia = df.loc[:,'Empresa 1'].var(ddof=0) # variancia da população = ddof=0; da amostra = ddof=1\r\n",
        "print('Variancia - Empresa 1: ', variancia)\r\n",
        "desvpad = df.loc[:,'Empresa 1'].std(ddof=0) # desvio padrão da população = ddof=0; da amostra = ddof=1\r\n",
        "print('Desvio padrao - Empresa 1: ', desvpad)\r\n",
        "media = df.loc[:,'Empresa 2'].mean()\r\n",
        "mediana = df.loc[:,'Empresa 2'].median()\r\n",
        "moda = df.loc[:,'Empresa 2'].mode()\r\n",
        "max = df.loc[:,'Empresa 2'].max()\r\n",
        "min = df.loc[:,'Empresa 2'].min()\r\n",
        "print('var: ', variancia, 'dp: ', desvpad, 'media: ', media, 'mediana: ', mediana,'moda: ', moda,'max: ', max,'min: ', min)"
      ],
      "execution_count": 13,
      "outputs": [
        {
          "output_type": "stream",
          "text": [
            "Variancia - Empresa 1:  3.5\n",
            "Desvio padrao - Empresa 1:  1.8708286933869707\n",
            "var:  3.5 dp:  1.8708286933869707 media:  8.5 mediana:  7.5 moda:  0     4\n",
            "1     6\n",
            "2     9\n",
            "3    15\n",
            "dtype: int64 max:  15 min:  4\n"
          ],
          "name": "stdout"
        }
      ]
    }
  ]
}