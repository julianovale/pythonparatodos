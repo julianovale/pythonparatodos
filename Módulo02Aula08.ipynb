{
  "nbformat": 4,
  "nbformat_minor": 0,
  "metadata": {
    "colab": {
      "name": "Módulo02Aula08.ipynb",
      "provenance": [],
      "collapsed_sections": [],
      "authorship_tag": "ABX9TyNykcaGEs+uZpNDGx0/8NH3",
      "include_colab_link": true
    },
    "kernelspec": {
      "name": "python3",
      "display_name": "Python 3"
    }
  },
  "cells": [
    {
      "cell_type": "markdown",
      "metadata": {
        "id": "view-in-github",
        "colab_type": "text"
      },
      "source": [
        "<a href=\"https://colab.research.google.com/github/julianovale/pythonparatodos/blob/main/M%C3%B3dulo02Aula08.ipynb\" target=\"_parent\"><img src=\"https://colab.research.google.com/assets/colab-badge.svg\" alt=\"Open In Colab\"/></a>"
      ]
    },
    {
      "cell_type": "markdown",
      "metadata": {
        "id": "Ul0P9e-II-CB"
      },
      "source": [
        "# Conjunto\n",
        "\n"
      ]
    },
    {
      "cell_type": "code",
      "metadata": {
        "colab": {
          "base_uri": "https://localhost:8080/"
        },
        "id": "fmN3tKIuI41t",
        "outputId": "5e3e1290-8be3-4bd0-adba-3305369831a9"
      },
      "source": [
        "set1 = {\"maca\",\"banana\",\"mamao\"}\n",
        "set2 = {'red','green','blue'}\n",
        "print('banana' in set1)\n"
      ],
      "execution_count": 13,
      "outputs": [
        {
          "output_type": "stream",
          "text": [
            "True\n"
          ],
          "name": "stdout"
        }
      ]
    },
    {
      "cell_type": "code",
      "metadata": {
        "colab": {
          "base_uri": "https://localhost:8080/"
        },
        "id": "e890uqmCJfRO",
        "outputId": "a05ff47f-f94e-4753-9a6e-2e5ef157ed00"
      },
      "source": [
        "print(set1)\n",
        "print(set2)"
      ],
      "execution_count": 14,
      "outputs": [
        {
          "output_type": "stream",
          "text": [
            "{'maca', 'mamao', 'banana'}\n",
            "{'green', 'blue', 'red'}\n"
          ],
          "name": "stdout"
        }
      ]
    },
    {
      "cell_type": "code",
      "metadata": {
        "colab": {
          "base_uri": "https://localhost:8080/"
        },
        "id": "JTysUPqXKgvg",
        "outputId": "f65dd3ee-072a-4788-bfbe-063eb645c88a"
      },
      "source": [
        "set1.add('jaca')\n",
        "print(set1)"
      ],
      "execution_count": 15,
      "outputs": [
        {
          "output_type": "stream",
          "text": [
            "{'maca', 'jaca', 'mamao', 'banana'}\n"
          ],
          "name": "stdout"
        }
      ]
    },
    {
      "cell_type": "code",
      "metadata": {
        "colab": {
          "base_uri": "https://localhost:8080/"
        },
        "id": "emRtvK3WK2Tf",
        "outputId": "3c115f3e-41dd-4ae8-ee44-ad5f4d4bb632"
      },
      "source": [
        "set2.update(['pink','magenta'])\n",
        "print(set2)"
      ],
      "execution_count": 16,
      "outputs": [
        {
          "output_type": "stream",
          "text": [
            "{'pink', 'red', 'green', 'blue', 'magenta'}\n"
          ],
          "name": "stdout"
        }
      ]
    },
    {
      "cell_type": "code",
      "metadata": {
        "colab": {
          "base_uri": "https://localhost:8080/"
        },
        "id": "l2O_BEW1LGmQ",
        "outputId": "5e9a39b6-1367-4112-e8b5-646bdc7e52ab"
      },
      "source": [
        "set2.remove('blue')\n",
        "print(set2)"
      ],
      "execution_count": 17,
      "outputs": [
        {
          "output_type": "stream",
          "text": [
            "{'pink', 'red', 'green', 'magenta'}\n"
          ],
          "name": "stdout"
        }
      ]
    },
    {
      "cell_type": "code",
      "metadata": {
        "colab": {
          "base_uri": "https://localhost:8080/"
        },
        "id": "2gdk9uqbLLxH",
        "outputId": "1ac11634-d3c4-413d-a618-1f8e8a172e7f"
      },
      "source": [
        "set2.discard('red')\n",
        "print(set2)"
      ],
      "execution_count": 18,
      "outputs": [
        {
          "output_type": "stream",
          "text": [
            "{'pink', 'green', 'magenta'}\n"
          ],
          "name": "stdout"
        }
      ]
    },
    {
      "cell_type": "markdown",
      "metadata": {
        "id": "oQUJiUPWLV1V"
      },
      "source": [
        "A noção matemática de conjunto vale aqui"
      ]
    },
    {
      "cell_type": "code",
      "metadata": {
        "colab": {
          "base_uri": "https://localhost:8080/"
        },
        "id": "KvBkbPwtLUJG",
        "outputId": "a9032325-920d-4588-af81-4c0b826641c9"
      },
      "source": [
        "set3 = set1.union(set2)\n",
        "print(set3)"
      ],
      "execution_count": 19,
      "outputs": [
        {
          "output_type": "stream",
          "text": [
            "{'maca', 'mamao', 'jaca', 'pink', 'magenta', 'green', 'banana'}\n"
          ],
          "name": "stdout"
        }
      ]
    },
    {
      "cell_type": "code",
      "metadata": {
        "colab": {
          "base_uri": "https://localhost:8080/"
        },
        "id": "k6ca1VXXLyAd",
        "outputId": "966dc014-8243-4d80-e03b-a76b4965a899"
      },
      "source": [
        "res = set1.issubset(set3)\n",
        "print(res)"
      ],
      "execution_count": 20,
      "outputs": [
        {
          "output_type": "stream",
          "text": [
            "True\n"
          ],
          "name": "stdout"
        }
      ]
    },
    {
      "cell_type": "code",
      "metadata": {
        "colab": {
          "base_uri": "https://localhost:8080/"
        },
        "id": "xGxGolJ4L6H-",
        "outputId": "f7ce5912-888f-4563-fe4d-13e6d82b2968"
      },
      "source": [
        "set4 = set3.intersection(set1)\n",
        "print(set4)"
      ],
      "execution_count": 22,
      "outputs": [
        {
          "output_type": "stream",
          "text": [
            "{'maca', 'jaca', 'mamao', 'banana'}\n"
          ],
          "name": "stdout"
        }
      ]
    }
  ]
}