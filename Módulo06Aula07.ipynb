{
  "nbformat": 4,
  "nbformat_minor": 0,
  "metadata": {
    "colab": {
      "name": "Módulo06Aula07.ipynb",
      "provenance": [],
      "collapsed_sections": [],
      "authorship_tag": "ABX9TyN6dRe7sJb1WY/ZtElZubC+",
      "include_colab_link": true
    },
    "kernelspec": {
      "name": "python3",
      "display_name": "Python 3"
    }
  },
  "cells": [
    {
      "cell_type": "markdown",
      "metadata": {
        "id": "view-in-github",
        "colab_type": "text"
      },
      "source": [
        "<a href=\"https://colab.research.google.com/github/julianovale/pythonparatodos/blob/main/M%C3%B3dulo06Aula07.ipynb\" target=\"_parent\"><img src=\"https://colab.research.google.com/assets/colab-badge.svg\" alt=\"Open In Colab\"/></a>"
      ]
    },
    {
      "cell_type": "code",
      "metadata": {
        "colab": {
          "base_uri": "https://localhost:8080/"
        },
        "id": "GCUFACI5nztq",
        "outputId": "6d5dad44-65f5-469f-a3cd-442b789cc008"
      },
      "source": [
        "lista1 = ['a', 'b','c','d','e','f','d','d','g','h','d']\r\n",
        "\r\n",
        "valor = 'd'\r\n",
        "vc = []\r\n",
        "i = 0\r\n",
        "while (i < len(lista1)):\r\n",
        "  if (lista1[i]==valor):\r\n",
        "    print('elemento encontrado na posição: '+str(i))\r\n",
        "    vc.append(i)\r\n",
        "  i += 1\r\n",
        "\r\n",
        "print(vc)\r\n",
        "\r\n",
        "print('Primeira ocorrência: '+str(vc[0]))\r\n",
        "print('Última ocorrência: '+str(vc[-1]))\r\n"
      ],
      "execution_count": 6,
      "outputs": [
        {
          "output_type": "stream",
          "text": [
            "elemento encontrado na posição: 3\n",
            "elemento encontrado na posição: 6\n",
            "elemento encontrado na posição: 7\n",
            "elemento encontrado na posição: 10\n",
            "[3, 6, 7, 10]\n",
            "Primeira ocorrência: 3\n",
            "Última ocorrência: 10\n"
          ],
          "name": "stdout"
        }
      ]
    }
  ]
}