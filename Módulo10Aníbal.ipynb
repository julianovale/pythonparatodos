{
  "nbformat": 4,
  "nbformat_minor": 0,
  "metadata": {
    "colab": {
      "name": "Módulo10Aníbal.ipynb",
      "provenance": [],
      "collapsed_sections": [],
      "include_colab_link": true
    },
    "kernelspec": {
      "name": "python3",
      "display_name": "Python 3"
    }
  },
  "cells": [
    {
      "cell_type": "markdown",
      "metadata": {
        "id": "view-in-github",
        "colab_type": "text"
      },
      "source": [
        "<a href=\"https://colab.research.google.com/github/julianovale/pythonparatodos/blob/main/M%C3%B3dulo10An%C3%ADbal.ipynb\" target=\"_parent\"><img src=\"https://colab.research.google.com/assets/colab-badge.svg\" alt=\"Open In Colab\"/></a>"
      ]
    },
    {
      "cell_type": "markdown",
      "metadata": {
        "id": "dSrIAidSLGo2",
        "colab_type": "toc"
      },
      "source": [
        ">[Roteiro do Projeto 3 - Aprendendo a construir mapas](#scrollTo=j1IqvVyEHJ6T)\n",
        "\n",
        ">[Mapas georeferenciados com pontos coloridos para os municípios do Estado de São Paulo](#scrollTo=Gq2eGpnwI8QW)\n",
        "\n",
        ">[Mapa cloroplético com contorno dos estados dos EUA](#scrollTo=ytAtQw27cXJd)\n",
        "\n",
        ">[Mapa cloroplético dos municípios do Estado de São Paulo](#scrollTo=upFx14HgJlDA)\n",
        "\n",
        ">[Fusão de dados - Mapa de Calor](#scrollTo=QHlnZAaVKMl2)\n",
        "\n",
        ">[Fusão de dados - Mapa cloroplético](#scrollTo=WXq2fRJN4_4V)\n",
        "\n"
      ]
    },
    {
      "cell_type": "markdown",
      "metadata": {
        "id": "j1IqvVyEHJ6T"
      },
      "source": [
        "# **Roteiro do Projeto 3 - Aprendendo a construir mapas**\n",
        "\n",
        "Este projeto irá ensinar a conjugar 4 importantes habilidades para a construção de mapas: \n",
        "\n",
        "1.   Leitura de dados: \n",
        "*   De arquivos na internet; \n",
        "*   De páginas da internet; e \n",
        "*   De arquivos locais.\n",
        "\n",
        "2. Uso da biblioteca Pandas nos dados para:\n",
        "\n",
        "* Tratamento; \n",
        "* Filtragem; e\n",
        "* Reorganização.\n",
        "\n",
        "3. Uso da biblioteca Folium para a construção de mapas com:\n",
        "\n",
        "* Pontos;\n",
        "* Contorno dos municípios.\n",
        "\n",
        "4. Fusão de dados com incorporação de características nas unidades georeferenciadas nos mapas:\n",
        "\n",
        "* Por pontos;\n",
        "* Por contorno."
      ]
    },
    {
      "cell_type": "markdown",
      "metadata": {
        "id": "Gq2eGpnwI8QW"
      },
      "source": [
        "# 1. Mapas georeferenciados com pontos coloridos para os municípios do Estado de São Paulo\n",
        "\n",
        "Os passos da leitura de dados para a construção de mapas com pontos das capitais de cada município é dado no seguinte notebook:\n",
        "\n",
        "https://colab.research.google.com/drive/1XXHSEcBJfDA9yyKZfhY2oNfDEFBYlPZp?usp=sharing\n"
      ]
    },
    {
      "cell_type": "markdown",
      "metadata": {
        "id": "ytAtQw27cXJd"
      },
      "source": [
        "# 2. Mapa cloroplético com contorno dos estados dos EUA\n",
        "\n",
        "Os passos de leitura de dados e construção de um mapa cloroplético com dados de emprego dos EUA é dado no seguinte notebook:\n",
        "\n",
        "https://colab.research.google.com/drive/1-qH6Gwxxkem4q7qun7NgXFR1EGiloNa3?usp=sharing"
      ]
    },
    {
      "cell_type": "markdown",
      "metadata": {
        "id": "upFx14HgJlDA"
      },
      "source": [
        "# 3. Mapa cloroplético dos municípios do Estado de São Paulo\n",
        "\n",
        "Os passos da leitura de dados para a construção de mapas com os contornos de cada município é dado no seguinte notebook:\n",
        "\n",
        "https://colab.research.google.com/drive/1HA4UfdUN_sGvYz04V-nZknSrWYMhlLPl?usp=sharing\n"
      ]
    },
    {
      "cell_type": "markdown",
      "metadata": {
        "id": "QHlnZAaVKMl2"
      },
      "source": [
        "# 4. Fusão de dados - Mapa de Calor\n",
        "\n",
        "Os passos da leitura de dados para a construção de mapas com pontos das capitais e obtenção de um mapa de calor em acordo com o valor de uma determinada característica são fornecidos no seguinte notebook:\n",
        "\n",
        "https://colab.research.google.com/drive/1iyMm7CH7_pwwEYy5Vb2nbqYO7JFz6b8O?usp=sharing\n",
        "\n"
      ]
    },
    {
      "cell_type": "markdown",
      "metadata": {
        "id": "WXq2fRJN4_4V"
      },
      "source": [
        "# 5. Fusão de dados - Mapa cloroplético\n",
        "\n",
        "Os passos da leitura de dados para a construção de mapas de contorno de cada município com cores diferentes de acordo com o valor de uma determinada característica são fornecidos no seguinte notebook:\n",
        "\n",
        "https://colab.research.google.com/drive/1gvMRCs_wYmSMFE6fi_kGPmLW5vrlxZMt?usp=sharing\n",
        "\n"
      ]
    }
  ]
}