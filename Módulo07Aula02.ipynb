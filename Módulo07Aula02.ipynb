{
  "nbformat": 4,
  "nbformat_minor": 0,
  "metadata": {
    "colab": {
      "name": "Módulo07Aula02.ipynb",
      "provenance": [],
      "collapsed_sections": [],
      "authorship_tag": "ABX9TyO2Lriutraw5sbR8qQBAFXn",
      "include_colab_link": true
    },
    "kernelspec": {
      "name": "python3",
      "display_name": "Python 3"
    }
  },
  "cells": [
    {
      "cell_type": "markdown",
      "metadata": {
        "id": "view-in-github",
        "colab_type": "text"
      },
      "source": [
        "<a href=\"https://colab.research.google.com/github/julianovale/pythonparatodos/blob/main/M%C3%B3dulo07Aula02.ipynb\" target=\"_parent\"><img src=\"https://colab.research.google.com/assets/colab-badge.svg\" alt=\"Open In Colab\"/></a>"
      ]
    },
    {
      "cell_type": "markdown",
      "metadata": {
        "id": "_Lk3j3T4yPHg"
      },
      "source": [
        "Pdf da apresentação:\r\n",
        "\r\n",
        "https://www.youtube.com/redirect?redir_token=QUFFLUhqbk5OcTVCQkFsYTJwQmh1Tl93dThaRGFPN2pld3xBQ3Jtc0tsb19SRU5RMjFzOE16TlZWTkJqblZzOF9iOVNwQm0xTXMyaTZKbFpTSGVBVDR5TVJFaV9LaUhlLUc0WVV2YUFBOXhzdHBhUXVyOTBoMUtPbDZ5c1FhWVVLaS1fQ0cwa3BKODE2aDZtaUdlbE9hS1kwYw%3D%3D&v=L5o1QulFdrI&q=https%3A%2F%2Fdrive.google.com%2Ffile%2Fd%2F1EIH4wk0TbWqcx5QzWgbzEIYBf8AskgZE%2Fview%3Fusp%3Dsharing&event=video_description\r\n"
      ]
    },
    {
      "cell_type": "code",
      "metadata": {
        "id": "GcIGDL4JvIbl"
      },
      "source": [
        "def bprint(mens):\r\n",
        "  str(mens)\r\n",
        "  print()\r\n",
        "  print('-*-*-*-*-*-*-*-*-*-')\r\n",
        "  print(mens)\r\n",
        "  print('-*-*-*-*-*-*-*-*-*-')"
      ],
      "execution_count": 9,
      "outputs": []
    },
    {
      "cell_type": "code",
      "metadata": {
        "colab": {
          "base_uri": "https://localhost:8080/"
        },
        "id": "vTUZmOBMxq7m",
        "outputId": "efa2ef8b-c898-44be-cea9-df91dc4d94c3"
      },
      "source": [
        "x = input('Digite uma mensagem: ')\r\n",
        "bprint(x)"
      ],
      "execution_count": 10,
      "outputs": [
        {
          "output_type": "stream",
          "text": [
            "Digite uma mensagem: lalalalala\n",
            "\n",
            "-*-*-*-*-*-*-*-*-*-\n",
            "lalalalala\n",
            "-*-*-*-*-*-*-*-*-*-\n"
          ],
          "name": "stdout"
        }
      ]
    }
  ]
}