{
  "nbformat": 4,
  "nbformat_minor": 0,
  "metadata": {
    "colab": {
      "name": "Módulo07Aula30.ipynb",
      "provenance": [],
      "collapsed_sections": [],
      "authorship_tag": "ABX9TyOX5qdp0SLbG67dXqSPita+",
      "include_colab_link": true
    },
    "kernelspec": {
      "name": "python3",
      "display_name": "Python 3"
    }
  },
  "cells": [
    {
      "cell_type": "markdown",
      "metadata": {
        "id": "view-in-github",
        "colab_type": "text"
      },
      "source": [
        "<a href=\"https://colab.research.google.com/github/julianovale/pythonparatodos/blob/main/M%C3%B3dulo07Aula30.ipynb\" target=\"_parent\"><img src=\"https://colab.research.google.com/assets/colab-badge.svg\" alt=\"Open In Colab\"/></a>"
      ]
    },
    {
      "cell_type": "markdown",
      "metadata": {
        "id": "9na5ajitQ8rU"
      },
      "source": [
        "\r\n",
        "Slides da aula: Bubble sort\r\n",
        "\r\n",
        "https://drive.google.com/file/d/1mpkQGOr8kjlI4f5u5G5Vn3U79ux8XU_X/view\r\n"
      ]
    },
    {
      "cell_type": "code",
      "metadata": {
        "id": "4dQ5wcnYXrqC"
      },
      "source": [
        "def troca(b,c):\r\n",
        "  return (c,b)\r\n",
        "\r\n",
        "def bubble_sort(a, crit):\r\n",
        "  n = len(crit)\r\n",
        "  for j in range(1,n):\r\n",
        "    for i in range(0,n-1):\r\n",
        "      if (crit[i] < crit[i+1]): # se quiser do menor para o maior: if (crit[i] > crit[i+1]):\r\n",
        "        crit[i],crit[i+1] = troca(crit[i],crit[i+1])\r\n",
        "        a[i],a[i+1] = troca(a[i],a[i+1])\r\n",
        "  return a, crit\r\n"
      ],
      "execution_count": 32,
      "outputs": []
    },
    {
      "cell_type": "code",
      "metadata": {
        "colab": {
          "base_uri": "https://localhost:8080/"
        },
        "id": "Hk-5WiXsZDGx",
        "outputId": "abb79b62-5c10-491b-bb1f-a72632b9f374"
      },
      "source": [
        "idade = [37, 41, 12]\r\n",
        "nome = ['Andrea','Juliano','Luiza']\r\n",
        "print(nome)\r\n",
        "print(idade)\r\n",
        "nome, idade = bubble_sort(nome, idade)\r\n",
        "print(nome)\r\n",
        "print(idade)"
      ],
      "execution_count": 34,
      "outputs": [
        {
          "output_type": "stream",
          "text": [
            "['Andrea', 'Juliano', 'Luiza']\n",
            "[37, 41, 12]\n",
            "['Juliano', 'Andrea', 'Luiza']\n",
            "[41, 37, 12]\n"
          ],
          "name": "stdout"
        }
      ]
    }
  ]
}